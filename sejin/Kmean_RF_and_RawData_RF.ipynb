{
 "cells": [
  {
   "cell_type": "markdown",
   "metadata": {},
   "source": [
    "# K-Mean Ver. with 10 new labels"
   ]
  },
  {
   "cell_type": "code",
   "execution_count": 1,
   "metadata": {},
   "outputs": [],
   "source": [
    "import numpy as np\n",
    "import pandas as pd\n",
    "from sklearn.preprocessing import LabelEncoder, OneHotEncoder\n",
    "from sklearn.preprocessing import RobustScaler\n",
    "import seaborn as sns\n",
    "import statsmodels.api as sm\n",
    "from sklearn.model_selection import train_test_split\n",
    "\n",
    "from sklearn.cluster import KMeans\n",
    "\n",
    "from sklearn.linear_model import LinearRegression\n",
    "from sklearn import metrics\n",
    "\n",
    "import matplotlib.pyplot as plt"
   ]
  },
  {
   "cell_type": "markdown",
   "metadata": {},
   "source": [
    "## >> import DF <<"
   ]
  },
  {
   "cell_type": "code",
   "execution_count": 3,
   "metadata": {},
   "outputs": [
    {
     "data": {
      "text/html": [
       "<div>\n",
       "<style scoped>\n",
       "    .dataframe tbody tr th:only-of-type {\n",
       "        vertical-align: middle;\n",
       "    }\n",
       "\n",
       "    .dataframe tbody tr th {\n",
       "        vertical-align: top;\n",
       "    }\n",
       "\n",
       "    .dataframe thead th {\n",
       "        text-align: right;\n",
       "    }\n",
       "</style>\n",
       "<table border=\"1\" class=\"dataframe\">\n",
       "  <thead>\n",
       "    <tr style=\"text-align: right;\">\n",
       "      <th></th>\n",
       "      <th>year</th>\n",
       "      <th>district</th>\n",
       "      <th>code</th>\n",
       "      <th>sales_total</th>\n",
       "      <th>s_store_no_of_store</th>\n",
       "      <th>s_store_no_of_opening</th>\n",
       "      <th>s_store_no_of_closing</th>\n",
       "      <th>s_work_female</th>\n",
       "      <th>s_float_male</th>\n",
       "      <th>s_float_female</th>\n",
       "      <th>...</th>\n",
       "      <th>b_apt_avg_price</th>\n",
       "      <th>b_income_avg_monthly_inc</th>\n",
       "      <th>sales_weekday</th>\n",
       "      <th>sales_female</th>\n",
       "      <th>sales_2030s</th>\n",
       "      <th>sales_06_11</th>\n",
       "      <th>sales_11_14</th>\n",
       "      <th>sales_14_17</th>\n",
       "      <th>sales_17_21</th>\n",
       "      <th>sales_21_24</th>\n",
       "    </tr>\n",
       "  </thead>\n",
       "  <tbody>\n",
       "    <tr>\n",
       "      <td>113260</td>\n",
       "      <td>2019</td>\n",
       "      <td>1001010</td>\n",
       "      <td>CS300008</td>\n",
       "      <td>1.441360e+08</td>\n",
       "      <td>2.0</td>\n",
       "      <td>0</td>\n",
       "      <td>0</td>\n",
       "      <td>230</td>\n",
       "      <td>164052</td>\n",
       "      <td>179007</td>\n",
       "      <td>...</td>\n",
       "      <td>154040746.0</td>\n",
       "      <td>3256684.0</td>\n",
       "      <td>0.881982</td>\n",
       "      <td>0.513650</td>\n",
       "      <td>0.083578</td>\n",
       "      <td>0.108358</td>\n",
       "      <td>0.346493</td>\n",
       "      <td>0.395632</td>\n",
       "      <td>0.149517</td>\n",
       "      <td>0.0</td>\n",
       "    </tr>\n",
       "    <tr>\n",
       "      <td>113261</td>\n",
       "      <td>2019</td>\n",
       "      <td>1001010</td>\n",
       "      <td>CS300009</td>\n",
       "      <td>3.067237e+09</td>\n",
       "      <td>2.0</td>\n",
       "      <td>0</td>\n",
       "      <td>0</td>\n",
       "      <td>230</td>\n",
       "      <td>164052</td>\n",
       "      <td>179007</td>\n",
       "      <td>...</td>\n",
       "      <td>154040746.0</td>\n",
       "      <td>3256684.0</td>\n",
       "      <td>0.931167</td>\n",
       "      <td>0.474928</td>\n",
       "      <td>0.128200</td>\n",
       "      <td>0.262188</td>\n",
       "      <td>0.297561</td>\n",
       "      <td>0.325539</td>\n",
       "      <td>0.114712</td>\n",
       "      <td>0.0</td>\n",
       "    </tr>\n",
       "    <tr>\n",
       "      <td>113262</td>\n",
       "      <td>2019</td>\n",
       "      <td>1001010</td>\n",
       "      <td>CS300011</td>\n",
       "      <td>1.794132e+07</td>\n",
       "      <td>1.0</td>\n",
       "      <td>0</td>\n",
       "      <td>1</td>\n",
       "      <td>230</td>\n",
       "      <td>164052</td>\n",
       "      <td>179007</td>\n",
       "      <td>...</td>\n",
       "      <td>154040746.0</td>\n",
       "      <td>3256684.0</td>\n",
       "      <td>0.640979</td>\n",
       "      <td>0.320036</td>\n",
       "      <td>0.046238</td>\n",
       "      <td>0.006346</td>\n",
       "      <td>0.508613</td>\n",
       "      <td>0.275612</td>\n",
       "      <td>0.209429</td>\n",
       "      <td>0.0</td>\n",
       "    </tr>\n",
       "    <tr>\n",
       "      <td>113263</td>\n",
       "      <td>2019</td>\n",
       "      <td>1001010</td>\n",
       "      <td>CS300016</td>\n",
       "      <td>8.942270e+06</td>\n",
       "      <td>3.0</td>\n",
       "      <td>0</td>\n",
       "      <td>0</td>\n",
       "      <td>230</td>\n",
       "      <td>164052</td>\n",
       "      <td>179007</td>\n",
       "      <td>...</td>\n",
       "      <td>154040746.0</td>\n",
       "      <td>3256684.0</td>\n",
       "      <td>0.624137</td>\n",
       "      <td>0.374046</td>\n",
       "      <td>0.322065</td>\n",
       "      <td>0.225009</td>\n",
       "      <td>0.288986</td>\n",
       "      <td>0.227190</td>\n",
       "      <td>0.258815</td>\n",
       "      <td>0.0</td>\n",
       "    </tr>\n",
       "    <tr>\n",
       "      <td>113264</td>\n",
       "      <td>2019</td>\n",
       "      <td>1001010</td>\n",
       "      <td>CS300017</td>\n",
       "      <td>3.687740e+06</td>\n",
       "      <td>6.0</td>\n",
       "      <td>0</td>\n",
       "      <td>0</td>\n",
       "      <td>230</td>\n",
       "      <td>164052</td>\n",
       "      <td>179007</td>\n",
       "      <td>...</td>\n",
       "      <td>154040746.0</td>\n",
       "      <td>3256684.0</td>\n",
       "      <td>0.976623</td>\n",
       "      <td>0.800000</td>\n",
       "      <td>0.371429</td>\n",
       "      <td>0.000000</td>\n",
       "      <td>0.129870</td>\n",
       "      <td>0.166234</td>\n",
       "      <td>0.703896</td>\n",
       "      <td>0.0</td>\n",
       "    </tr>\n",
       "  </tbody>\n",
       "</table>\n",
       "<p>5 rows × 21 columns</p>\n",
       "</div>"
      ],
      "text/plain": [
       "        year  district      code   sales_total  s_store_no_of_store  \\\n",
       "113260  2019   1001010  CS300008  1.441360e+08                  2.0   \n",
       "113261  2019   1001010  CS300009  3.067237e+09                  2.0   \n",
       "113262  2019   1001010  CS300011  1.794132e+07                  1.0   \n",
       "113263  2019   1001010  CS300016  8.942270e+06                  3.0   \n",
       "113264  2019   1001010  CS300017  3.687740e+06                  6.0   \n",
       "\n",
       "        s_store_no_of_opening  s_store_no_of_closing  s_work_female  \\\n",
       "113260                      0                      0            230   \n",
       "113261                      0                      0            230   \n",
       "113262                      0                      1            230   \n",
       "113263                      0                      0            230   \n",
       "113264                      0                      0            230   \n",
       "\n",
       "        s_float_male  s_float_female  ...  b_apt_avg_price  \\\n",
       "113260        164052          179007  ...      154040746.0   \n",
       "113261        164052          179007  ...      154040746.0   \n",
       "113262        164052          179007  ...      154040746.0   \n",
       "113263        164052          179007  ...      154040746.0   \n",
       "113264        164052          179007  ...      154040746.0   \n",
       "\n",
       "        b_income_avg_monthly_inc  sales_weekday  sales_female  sales_2030s  \\\n",
       "113260                 3256684.0       0.881982      0.513650     0.083578   \n",
       "113261                 3256684.0       0.931167      0.474928     0.128200   \n",
       "113262                 3256684.0       0.640979      0.320036     0.046238   \n",
       "113263                 3256684.0       0.624137      0.374046     0.322065   \n",
       "113264                 3256684.0       0.976623      0.800000     0.371429   \n",
       "\n",
       "        sales_06_11  sales_11_14  sales_14_17  sales_17_21  sales_21_24  \n",
       "113260     0.108358     0.346493     0.395632     0.149517          0.0  \n",
       "113261     0.262188     0.297561     0.325539     0.114712          0.0  \n",
       "113262     0.006346     0.508613     0.275612     0.209429          0.0  \n",
       "113263     0.225009     0.288986     0.227190     0.258815          0.0  \n",
       "113264     0.000000     0.129870     0.166234     0.703896          0.0  \n",
       "\n",
       "[5 rows x 21 columns]"
      ]
     },
     "execution_count": 3,
     "metadata": {},
     "output_type": "execute_result"
    }
   ],
   "source": [
    "## 데이터 불러오기\n",
    "df = pd.read_csv('../raw_data/df_grouped_rate.csv')\n",
    "df.tail()"
   ]
  },
  {
   "cell_type": "code",
   "execution_count": 4,
   "metadata": {
    "scrolled": false
   },
   "outputs": [
    {
     "name": "stdout",
     "output_type": "stream",
     "text": [
      "<class 'pandas.core.frame.DataFrame'>\n",
      "RangeIndex: 113265 entries, 0 to 113264\n",
      "Data columns (total 21 columns):\n",
      "year                        113265 non-null int64\n",
      "district                    113265 non-null int64\n",
      "code                        113265 non-null object\n",
      "sales_total                 113265 non-null float64\n",
      "s_store_no_of_store         113265 non-null float64\n",
      "s_store_no_of_opening       113265 non-null int64\n",
      "s_store_no_of_closing       113265 non-null int64\n",
      "s_work_female               113265 non-null int64\n",
      "s_float_male                113265 non-null int64\n",
      "s_float_female              113265 non-null int64\n",
      "b_facil_total               113265 non-null float64\n",
      "b_apt_avg_price             113265 non-null float64\n",
      "b_income_avg_monthly_inc    113265 non-null float64\n",
      "sales_weekday               113265 non-null float64\n",
      "sales_female                113265 non-null float64\n",
      "sales_2030s                 113265 non-null float64\n",
      "sales_06_11                 113265 non-null float64\n",
      "sales_11_14                 113265 non-null float64\n",
      "sales_14_17                 113265 non-null float64\n",
      "sales_17_21                 113265 non-null float64\n",
      "sales_21_24                 113265 non-null float64\n",
      "dtypes: float64(13), int64(7), object(1)\n",
      "memory usage: 18.1+ MB\n"
     ]
    }
   ],
   "source": [
    "df.info()"
   ]
  },
  {
   "cell_type": "code",
   "execution_count": 5,
   "metadata": {},
   "outputs": [
    {
     "data": {
      "text/plain": [
       "(1007, 45)"
      ]
     },
     "execution_count": 5,
     "metadata": {},
     "output_type": "execute_result"
    }
   ],
   "source": [
    "len(np.unique(df['district'])), len(np.unique(df['code']))"
   ]
  },
  {
   "cell_type": "code",
   "execution_count": 6,
   "metadata": {},
   "outputs": [],
   "source": [
    "## 불러온 dataframe에서 상권코드, 연도 제거하기 / 독립 종속 변수 분리하기\n",
    "y = df[['sales_total']]\n",
    "X = df.drop(['sales_total', 'district', 'year', 'code'], axis=1)"
   ]
  },
  {
   "cell_type": "markdown",
   "metadata": {},
   "source": [
    "## >> Train-test Split <<"
   ]
  },
  {
   "cell_type": "code",
   "execution_count": 7,
   "metadata": {},
   "outputs": [],
   "source": [
    "## Train-test split\n",
    "X_train, X_test, y_train, y_test = train_test_split(X, y, test_size=0.2, random_state=0)"
   ]
  },
  {
   "cell_type": "code",
   "execution_count": 8,
   "metadata": {},
   "outputs": [
    {
     "data": {
      "text/plain": [
       "90612"
      ]
     },
     "execution_count": 8,
     "metadata": {},
     "output_type": "execute_result"
    }
   ],
   "source": [
    "len(X_train)"
   ]
  },
  {
   "cell_type": "code",
   "execution_count": 9,
   "metadata": {},
   "outputs": [
    {
     "data": {
      "text/html": [
       "<div>\n",
       "<style scoped>\n",
       "    .dataframe tbody tr th:only-of-type {\n",
       "        vertical-align: middle;\n",
       "    }\n",
       "\n",
       "    .dataframe tbody tr th {\n",
       "        vertical-align: top;\n",
       "    }\n",
       "\n",
       "    .dataframe thead th {\n",
       "        text-align: right;\n",
       "    }\n",
       "</style>\n",
       "<table border=\"1\" class=\"dataframe\">\n",
       "  <thead>\n",
       "    <tr style=\"text-align: right;\">\n",
       "      <th></th>\n",
       "      <th>s_store_no_of_store</th>\n",
       "      <th>s_store_no_of_opening</th>\n",
       "      <th>s_store_no_of_closing</th>\n",
       "      <th>s_work_female</th>\n",
       "      <th>s_float_male</th>\n",
       "      <th>s_float_female</th>\n",
       "      <th>b_facil_total</th>\n",
       "      <th>b_apt_avg_price</th>\n",
       "      <th>b_income_avg_monthly_inc</th>\n",
       "      <th>sales_weekday</th>\n",
       "      <th>sales_female</th>\n",
       "      <th>sales_2030s</th>\n",
       "      <th>sales_06_11</th>\n",
       "      <th>sales_11_14</th>\n",
       "      <th>sales_14_17</th>\n",
       "      <th>sales_17_21</th>\n",
       "      <th>sales_21_24</th>\n",
       "    </tr>\n",
       "  </thead>\n",
       "  <tbody>\n",
       "    <tr>\n",
       "      <td>21243</td>\n",
       "      <td>4.5</td>\n",
       "      <td>1</td>\n",
       "      <td>0</td>\n",
       "      <td>1374</td>\n",
       "      <td>425590</td>\n",
       "      <td>398957</td>\n",
       "      <td>74.0</td>\n",
       "      <td>183091939.0</td>\n",
       "      <td>4535335.0</td>\n",
       "      <td>0.937438</td>\n",
       "      <td>0.653510</td>\n",
       "      <td>0.099016</td>\n",
       "      <td>0.001939</td>\n",
       "      <td>0.243747</td>\n",
       "      <td>0.339160</td>\n",
       "      <td>0.349011</td>\n",
       "      <td>0.066143</td>\n",
       "    </tr>\n",
       "    <tr>\n",
       "      <td>45891</td>\n",
       "      <td>4.0</td>\n",
       "      <td>0</td>\n",
       "      <td>3</td>\n",
       "      <td>1439</td>\n",
       "      <td>388246</td>\n",
       "      <td>418137</td>\n",
       "      <td>139.5</td>\n",
       "      <td>154255612.0</td>\n",
       "      <td>3694881.0</td>\n",
       "      <td>0.772681</td>\n",
       "      <td>0.411837</td>\n",
       "      <td>0.345864</td>\n",
       "      <td>0.096078</td>\n",
       "      <td>0.343058</td>\n",
       "      <td>0.215489</td>\n",
       "      <td>0.317314</td>\n",
       "      <td>0.028061</td>\n",
       "    </tr>\n",
       "    <tr>\n",
       "      <td>42613</td>\n",
       "      <td>1.0</td>\n",
       "      <td>0</td>\n",
       "      <td>0</td>\n",
       "      <td>355</td>\n",
       "      <td>404221</td>\n",
       "      <td>353705</td>\n",
       "      <td>78.5</td>\n",
       "      <td>389307703.0</td>\n",
       "      <td>5351726.0</td>\n",
       "      <td>0.888499</td>\n",
       "      <td>0.116359</td>\n",
       "      <td>0.151496</td>\n",
       "      <td>0.006715</td>\n",
       "      <td>0.174289</td>\n",
       "      <td>0.307938</td>\n",
       "      <td>0.465824</td>\n",
       "      <td>0.045234</td>\n",
       "    </tr>\n",
       "    <tr>\n",
       "      <td>43567</td>\n",
       "      <td>16.0</td>\n",
       "      <td>2</td>\n",
       "      <td>2</td>\n",
       "      <td>1934</td>\n",
       "      <td>635523</td>\n",
       "      <td>685118</td>\n",
       "      <td>163.0</td>\n",
       "      <td>442645701.0</td>\n",
       "      <td>5565767.5</td>\n",
       "      <td>0.893880</td>\n",
       "      <td>0.252188</td>\n",
       "      <td>0.279502</td>\n",
       "      <td>0.020218</td>\n",
       "      <td>0.532598</td>\n",
       "      <td>0.095126</td>\n",
       "      <td>0.244340</td>\n",
       "      <td>0.095236</td>\n",
       "    </tr>\n",
       "    <tr>\n",
       "      <td>68268</td>\n",
       "      <td>2.0</td>\n",
       "      <td>1</td>\n",
       "      <td>0</td>\n",
       "      <td>695</td>\n",
       "      <td>689046</td>\n",
       "      <td>658570</td>\n",
       "      <td>112.0</td>\n",
       "      <td>153669631.0</td>\n",
       "      <td>3172759.0</td>\n",
       "      <td>0.760891</td>\n",
       "      <td>0.881880</td>\n",
       "      <td>0.439548</td>\n",
       "      <td>0.000000</td>\n",
       "      <td>0.166395</td>\n",
       "      <td>0.195750</td>\n",
       "      <td>0.414725</td>\n",
       "      <td>0.223130</td>\n",
       "    </tr>\n",
       "  </tbody>\n",
       "</table>\n",
       "</div>"
      ],
      "text/plain": [
       "       s_store_no_of_store  s_store_no_of_opening  s_store_no_of_closing  \\\n",
       "21243                  4.5                      1                      0   \n",
       "45891                  4.0                      0                      3   \n",
       "42613                  1.0                      0                      0   \n",
       "43567                 16.0                      2                      2   \n",
       "68268                  2.0                      1                      0   \n",
       "\n",
       "       s_work_female  s_float_male  s_float_female  b_facil_total  \\\n",
       "21243           1374        425590          398957           74.0   \n",
       "45891           1439        388246          418137          139.5   \n",
       "42613            355        404221          353705           78.5   \n",
       "43567           1934        635523          685118          163.0   \n",
       "68268            695        689046          658570          112.0   \n",
       "\n",
       "       b_apt_avg_price  b_income_avg_monthly_inc  sales_weekday  sales_female  \\\n",
       "21243      183091939.0                 4535335.0       0.937438      0.653510   \n",
       "45891      154255612.0                 3694881.0       0.772681      0.411837   \n",
       "42613      389307703.0                 5351726.0       0.888499      0.116359   \n",
       "43567      442645701.0                 5565767.5       0.893880      0.252188   \n",
       "68268      153669631.0                 3172759.0       0.760891      0.881880   \n",
       "\n",
       "       sales_2030s  sales_06_11  sales_11_14  sales_14_17  sales_17_21  \\\n",
       "21243     0.099016     0.001939     0.243747     0.339160     0.349011   \n",
       "45891     0.345864     0.096078     0.343058     0.215489     0.317314   \n",
       "42613     0.151496     0.006715     0.174289     0.307938     0.465824   \n",
       "43567     0.279502     0.020218     0.532598     0.095126     0.244340   \n",
       "68268     0.439548     0.000000     0.166395     0.195750     0.414725   \n",
       "\n",
       "       sales_21_24  \n",
       "21243     0.066143  \n",
       "45891     0.028061  \n",
       "42613     0.045234  \n",
       "43567     0.095236  \n",
       "68268     0.223130  "
      ]
     },
     "execution_count": 9,
     "metadata": {},
     "output_type": "execute_result"
    }
   ],
   "source": [
    "X_train.tail()"
   ]
  },
  {
   "cell_type": "code",
   "execution_count": 10,
   "metadata": {},
   "outputs": [],
   "source": [
    "#cl = X_train.iloc[:, 1:]\n",
    "#cl.tail()"
   ]
  },
  {
   "cell_type": "code",
   "execution_count": 11,
   "metadata": {},
   "outputs": [],
   "source": [
    "#len(cl)"
   ]
  },
  {
   "cell_type": "code",
   "execution_count": 12,
   "metadata": {},
   "outputs": [],
   "source": [
    "#%%time\n",
    "#from sklearn.mixture import GaussianMixture\n",
    "#gm = GaussianMixture(n_components=10)\n",
    "#gm.fit(cl)\n",
    "#y_pred = gm.predict(cl)"
   ]
  },
  {
   "cell_type": "markdown",
   "metadata": {},
   "source": [
    "## >> Clustering <<"
   ]
  },
  {
   "cell_type": "code",
   "execution_count": 13,
   "metadata": {
    "scrolled": true
   },
   "outputs": [
    {
     "name": "stdout",
     "output_type": "stream",
     "text": [
      "Wall time: 7.88 s\n"
     ]
    }
   ],
   "source": [
    "%%time\n",
    "kmeans = KMeans(n_clusters=10, random_state=0)\n",
    "kmeans.fit(X_train)\n",
    "train_labels = kmeans.labels_"
   ]
  },
  {
   "cell_type": "code",
   "execution_count": 14,
   "metadata": {},
   "outputs": [
    {
     "data": {
      "text/html": [
       "<div>\n",
       "<style scoped>\n",
       "    .dataframe tbody tr th:only-of-type {\n",
       "        vertical-align: middle;\n",
       "    }\n",
       "\n",
       "    .dataframe tbody tr th {\n",
       "        vertical-align: top;\n",
       "    }\n",
       "\n",
       "    .dataframe thead th {\n",
       "        text-align: right;\n",
       "    }\n",
       "</style>\n",
       "<table border=\"1\" class=\"dataframe\">\n",
       "  <thead>\n",
       "    <tr style=\"text-align: right;\">\n",
       "      <th></th>\n",
       "      <th>labels</th>\n",
       "    </tr>\n",
       "  </thead>\n",
       "  <tbody>\n",
       "    <tr>\n",
       "      <td>21243</td>\n",
       "      <td>6</td>\n",
       "    </tr>\n",
       "    <tr>\n",
       "      <td>45891</td>\n",
       "      <td>1</td>\n",
       "    </tr>\n",
       "    <tr>\n",
       "      <td>42613</td>\n",
       "      <td>3</td>\n",
       "    </tr>\n",
       "    <tr>\n",
       "      <td>43567</td>\n",
       "      <td>2</td>\n",
       "    </tr>\n",
       "    <tr>\n",
       "      <td>68268</td>\n",
       "      <td>1</td>\n",
       "    </tr>\n",
       "  </tbody>\n",
       "</table>\n",
       "</div>"
      ],
      "text/plain": [
       "      labels\n",
       "21243      6\n",
       "45891      1\n",
       "42613      3\n",
       "43567      2\n",
       "68268      1"
      ]
     },
     "execution_count": 14,
     "metadata": {},
     "output_type": "execute_result"
    }
   ],
   "source": [
    "train_lb_df= pd.DataFrame(train_labels, columns=['labels'], index=X_train.index, dtype=str)\n",
    "train_lb_df.tail()"
   ]
  },
  {
   "cell_type": "code",
   "execution_count": 15,
   "metadata": {},
   "outputs": [
    {
     "data": {
      "text/html": [
       "<div>\n",
       "<style scoped>\n",
       "    .dataframe tbody tr th:only-of-type {\n",
       "        vertical-align: middle;\n",
       "    }\n",
       "\n",
       "    .dataframe tbody tr th {\n",
       "        vertical-align: top;\n",
       "    }\n",
       "\n",
       "    .dataframe thead th {\n",
       "        text-align: right;\n",
       "    }\n",
       "</style>\n",
       "<table border=\"1\" class=\"dataframe\">\n",
       "  <thead>\n",
       "    <tr style=\"text-align: right;\">\n",
       "      <th></th>\n",
       "      <th>labels</th>\n",
       "      <th>s_store_no_of_store</th>\n",
       "      <th>s_store_no_of_opening</th>\n",
       "      <th>s_store_no_of_closing</th>\n",
       "      <th>s_work_female</th>\n",
       "      <th>s_float_male</th>\n",
       "      <th>s_float_female</th>\n",
       "      <th>b_facil_total</th>\n",
       "      <th>b_apt_avg_price</th>\n",
       "      <th>b_income_avg_monthly_inc</th>\n",
       "      <th>sales_weekday</th>\n",
       "      <th>sales_female</th>\n",
       "      <th>sales_2030s</th>\n",
       "      <th>sales_06_11</th>\n",
       "      <th>sales_11_14</th>\n",
       "      <th>sales_14_17</th>\n",
       "      <th>sales_17_21</th>\n",
       "      <th>sales_21_24</th>\n",
       "    </tr>\n",
       "  </thead>\n",
       "  <tbody>\n",
       "    <tr>\n",
       "      <td>21243</td>\n",
       "      <td>6</td>\n",
       "      <td>4.5</td>\n",
       "      <td>1</td>\n",
       "      <td>0</td>\n",
       "      <td>1374</td>\n",
       "      <td>425590</td>\n",
       "      <td>398957</td>\n",
       "      <td>74.0</td>\n",
       "      <td>183091939.0</td>\n",
       "      <td>4535335.0</td>\n",
       "      <td>0.937438</td>\n",
       "      <td>0.653510</td>\n",
       "      <td>0.099016</td>\n",
       "      <td>0.001939</td>\n",
       "      <td>0.243747</td>\n",
       "      <td>0.339160</td>\n",
       "      <td>0.349011</td>\n",
       "      <td>0.066143</td>\n",
       "    </tr>\n",
       "    <tr>\n",
       "      <td>45891</td>\n",
       "      <td>1</td>\n",
       "      <td>4.0</td>\n",
       "      <td>0</td>\n",
       "      <td>3</td>\n",
       "      <td>1439</td>\n",
       "      <td>388246</td>\n",
       "      <td>418137</td>\n",
       "      <td>139.5</td>\n",
       "      <td>154255612.0</td>\n",
       "      <td>3694881.0</td>\n",
       "      <td>0.772681</td>\n",
       "      <td>0.411837</td>\n",
       "      <td>0.345864</td>\n",
       "      <td>0.096078</td>\n",
       "      <td>0.343058</td>\n",
       "      <td>0.215489</td>\n",
       "      <td>0.317314</td>\n",
       "      <td>0.028061</td>\n",
       "    </tr>\n",
       "    <tr>\n",
       "      <td>42613</td>\n",
       "      <td>3</td>\n",
       "      <td>1.0</td>\n",
       "      <td>0</td>\n",
       "      <td>0</td>\n",
       "      <td>355</td>\n",
       "      <td>404221</td>\n",
       "      <td>353705</td>\n",
       "      <td>78.5</td>\n",
       "      <td>389307703.0</td>\n",
       "      <td>5351726.0</td>\n",
       "      <td>0.888499</td>\n",
       "      <td>0.116359</td>\n",
       "      <td>0.151496</td>\n",
       "      <td>0.006715</td>\n",
       "      <td>0.174289</td>\n",
       "      <td>0.307938</td>\n",
       "      <td>0.465824</td>\n",
       "      <td>0.045234</td>\n",
       "    </tr>\n",
       "    <tr>\n",
       "      <td>43567</td>\n",
       "      <td>2</td>\n",
       "      <td>16.0</td>\n",
       "      <td>2</td>\n",
       "      <td>2</td>\n",
       "      <td>1934</td>\n",
       "      <td>635523</td>\n",
       "      <td>685118</td>\n",
       "      <td>163.0</td>\n",
       "      <td>442645701.0</td>\n",
       "      <td>5565767.5</td>\n",
       "      <td>0.893880</td>\n",
       "      <td>0.252188</td>\n",
       "      <td>0.279502</td>\n",
       "      <td>0.020218</td>\n",
       "      <td>0.532598</td>\n",
       "      <td>0.095126</td>\n",
       "      <td>0.244340</td>\n",
       "      <td>0.095236</td>\n",
       "    </tr>\n",
       "    <tr>\n",
       "      <td>68268</td>\n",
       "      <td>1</td>\n",
       "      <td>2.0</td>\n",
       "      <td>1</td>\n",
       "      <td>0</td>\n",
       "      <td>695</td>\n",
       "      <td>689046</td>\n",
       "      <td>658570</td>\n",
       "      <td>112.0</td>\n",
       "      <td>153669631.0</td>\n",
       "      <td>3172759.0</td>\n",
       "      <td>0.760891</td>\n",
       "      <td>0.881880</td>\n",
       "      <td>0.439548</td>\n",
       "      <td>0.000000</td>\n",
       "      <td>0.166395</td>\n",
       "      <td>0.195750</td>\n",
       "      <td>0.414725</td>\n",
       "      <td>0.223130</td>\n",
       "    </tr>\n",
       "  </tbody>\n",
       "</table>\n",
       "</div>"
      ],
      "text/plain": [
       "      labels  s_store_no_of_store  s_store_no_of_opening  \\\n",
       "21243      6                  4.5                      1   \n",
       "45891      1                  4.0                      0   \n",
       "42613      3                  1.0                      0   \n",
       "43567      2                 16.0                      2   \n",
       "68268      1                  2.0                      1   \n",
       "\n",
       "       s_store_no_of_closing  s_work_female  s_float_male  s_float_female  \\\n",
       "21243                      0           1374        425590          398957   \n",
       "45891                      3           1439        388246          418137   \n",
       "42613                      0            355        404221          353705   \n",
       "43567                      2           1934        635523          685118   \n",
       "68268                      0            695        689046          658570   \n",
       "\n",
       "       b_facil_total  b_apt_avg_price  b_income_avg_monthly_inc  \\\n",
       "21243           74.0      183091939.0                 4535335.0   \n",
       "45891          139.5      154255612.0                 3694881.0   \n",
       "42613           78.5      389307703.0                 5351726.0   \n",
       "43567          163.0      442645701.0                 5565767.5   \n",
       "68268          112.0      153669631.0                 3172759.0   \n",
       "\n",
       "       sales_weekday  sales_female  sales_2030s  sales_06_11  sales_11_14  \\\n",
       "21243       0.937438      0.653510     0.099016     0.001939     0.243747   \n",
       "45891       0.772681      0.411837     0.345864     0.096078     0.343058   \n",
       "42613       0.888499      0.116359     0.151496     0.006715     0.174289   \n",
       "43567       0.893880      0.252188     0.279502     0.020218     0.532598   \n",
       "68268       0.760891      0.881880     0.439548     0.000000     0.166395   \n",
       "\n",
       "       sales_14_17  sales_17_21  sales_21_24  \n",
       "21243     0.339160     0.349011     0.066143  \n",
       "45891     0.215489     0.317314     0.028061  \n",
       "42613     0.307938     0.465824     0.045234  \n",
       "43567     0.095126     0.244340     0.095236  \n",
       "68268     0.195750     0.414725     0.223130  "
      ]
     },
     "execution_count": 15,
     "metadata": {},
     "output_type": "execute_result"
    }
   ],
   "source": [
    "X_train = pd.concat([train_lb_df, X_train], axis=1)\n",
    "X_train.tail()"
   ]
  },
  {
   "cell_type": "code",
   "execution_count": 16,
   "metadata": {},
   "outputs": [
    {
     "data": {
      "text/plain": [
       "labels\n",
       "0     9623\n",
       "1    26595\n",
       "2     1196\n",
       "3     3652\n",
       "4      193\n",
       "5     6152\n",
       "6    15620\n",
       "7    26937\n",
       "8      544\n",
       "9      100\n",
       "dtype: int64"
      ]
     },
     "execution_count": 16,
     "metadata": {},
     "output_type": "execute_result"
    }
   ],
   "source": [
    "X_train.groupby(by='labels').size()"
   ]
  },
  {
   "cell_type": "markdown",
   "metadata": {},
   "source": [
    "비대칭 데이터 문제 확인 - Under or Over-Sampling"
   ]
  },
  {
   "cell_type": "code",
   "execution_count": 17,
   "metadata": {
    "scrolled": true
   },
   "outputs": [
    {
     "name": "stdout",
     "output_type": "stream",
     "text": [
      "<class 'pandas.core.frame.DataFrame'>\n",
      "Int64Index: 90612 entries, 49907 to 68268\n",
      "Data columns (total 18 columns):\n",
      "labels                      90612 non-null object\n",
      "s_store_no_of_store         90612 non-null float64\n",
      "s_store_no_of_opening       90612 non-null int64\n",
      "s_store_no_of_closing       90612 non-null int64\n",
      "s_work_female               90612 non-null int64\n",
      "s_float_male                90612 non-null int64\n",
      "s_float_female              90612 non-null int64\n",
      "b_facil_total               90612 non-null float64\n",
      "b_apt_avg_price             90612 non-null float64\n",
      "b_income_avg_monthly_inc    90612 non-null float64\n",
      "sales_weekday               90612 non-null float64\n",
      "sales_female                90612 non-null float64\n",
      "sales_2030s                 90612 non-null float64\n",
      "sales_06_11                 90612 non-null float64\n",
      "sales_11_14                 90612 non-null float64\n",
      "sales_14_17                 90612 non-null float64\n",
      "sales_17_21                 90612 non-null float64\n",
      "sales_21_24                 90612 non-null float64\n",
      "dtypes: float64(12), int64(5), object(1)\n",
      "memory usage: 13.1+ MB\n"
     ]
    }
   ],
   "source": [
    "X_train.info()"
   ]
  },
  {
   "cell_type": "code",
   "execution_count": 18,
   "metadata": {},
   "outputs": [],
   "source": [
    "## 더미변수화\n",
    "X_train_dum = pd.get_dummies(X_train)\n",
    "X_train_dum.tail()\n",
    "## Robust Scaling - fit_transform\n",
    "rb = RobustScaler()\n",
    "Xs_train = rb.fit_transform(X_train_dum)"
   ]
  },
  {
   "cell_type": "markdown",
   "metadata": {},
   "source": [
    "## >> Regressor <<"
   ]
  },
  {
   "cell_type": "markdown",
   "metadata": {},
   "source": [
    "### 1) Linear Regressor"
   ]
  },
  {
   "cell_type": "code",
   "execution_count": 20,
   "metadata": {},
   "outputs": [],
   "source": [
    "## Regressor fitting for the train data\n",
    "#regressor = LinearRegression()\n",
    "#model = regressor.fit(Xs_train, y_train)\n",
    "#print(model.score(Xs_train, y_train))"
   ]
  },
  {
   "cell_type": "code",
   "execution_count": 21,
   "metadata": {
    "scrolled": false
   },
   "outputs": [],
   "source": [
    "#from statsmodels.regression.linear_model import OLS\n",
    "#model2 = OLS(y_train, Xs_train)\n",
    "#result = model2.fit()\n",
    "#print(result.summary())"
   ]
  },
  {
   "cell_type": "markdown",
   "metadata": {},
   "source": [
    "### 2) Random Forest"
   ]
  },
  {
   "cell_type": "code",
   "execution_count": 20,
   "metadata": {},
   "outputs": [
    {
     "name": "stdout",
     "output_type": "stream",
     "text": [
      "0.9468630645002112\n"
     ]
    }
   ],
   "source": [
    "from sklearn.ensemble import RandomForestRegressor\n",
    "rf = RandomForestRegressor(n_estimators=100, n_jobs=-1, random_state=0)\n",
    "model = rf.fit(Xs_train, y_train)\n",
    "print(model.score(Xs_train, y_train))"
   ]
  },
  {
   "cell_type": "markdown",
   "metadata": {},
   "source": [
    "## >> Test Data <<"
   ]
  },
  {
   "cell_type": "code",
   "execution_count": 21,
   "metadata": {
    "scrolled": true
   },
   "outputs": [
    {
     "data": {
      "text/html": [
       "<div>\n",
       "<style scoped>\n",
       "    .dataframe tbody tr th:only-of-type {\n",
       "        vertical-align: middle;\n",
       "    }\n",
       "\n",
       "    .dataframe tbody tr th {\n",
       "        vertical-align: top;\n",
       "    }\n",
       "\n",
       "    .dataframe thead th {\n",
       "        text-align: right;\n",
       "    }\n",
       "</style>\n",
       "<table border=\"1\" class=\"dataframe\">\n",
       "  <thead>\n",
       "    <tr style=\"text-align: right;\">\n",
       "      <th></th>\n",
       "      <th>s_store_no_of_store</th>\n",
       "      <th>s_store_no_of_opening</th>\n",
       "      <th>s_store_no_of_closing</th>\n",
       "      <th>s_work_female</th>\n",
       "      <th>s_float_male</th>\n",
       "      <th>s_float_female</th>\n",
       "      <th>b_facil_total</th>\n",
       "      <th>b_apt_avg_price</th>\n",
       "      <th>b_income_avg_monthly_inc</th>\n",
       "      <th>sales_weekday</th>\n",
       "      <th>sales_female</th>\n",
       "      <th>sales_2030s</th>\n",
       "      <th>sales_06_11</th>\n",
       "      <th>sales_11_14</th>\n",
       "      <th>sales_14_17</th>\n",
       "      <th>sales_17_21</th>\n",
       "      <th>sales_21_24</th>\n",
       "    </tr>\n",
       "  </thead>\n",
       "  <tbody>\n",
       "    <tr>\n",
       "      <td>93010</td>\n",
       "      <td>4.0</td>\n",
       "      <td>1</td>\n",
       "      <td>0</td>\n",
       "      <td>215</td>\n",
       "      <td>128632</td>\n",
       "      <td>131642</td>\n",
       "      <td>74.0</td>\n",
       "      <td>312892159.0</td>\n",
       "      <td>4023035.0</td>\n",
       "      <td>0.873483</td>\n",
       "      <td>0.699700</td>\n",
       "      <td>0.416222</td>\n",
       "      <td>0.181142</td>\n",
       "      <td>0.222460</td>\n",
       "      <td>0.365485</td>\n",
       "      <td>0.170012</td>\n",
       "      <td>0.060901</td>\n",
       "    </tr>\n",
       "    <tr>\n",
       "      <td>112628</td>\n",
       "      <td>6.0</td>\n",
       "      <td>1</td>\n",
       "      <td>0</td>\n",
       "      <td>1199</td>\n",
       "      <td>463376</td>\n",
       "      <td>476097</td>\n",
       "      <td>125.0</td>\n",
       "      <td>171771310.0</td>\n",
       "      <td>3834547.0</td>\n",
       "      <td>0.674029</td>\n",
       "      <td>0.692695</td>\n",
       "      <td>0.344597</td>\n",
       "      <td>0.051634</td>\n",
       "      <td>0.182468</td>\n",
       "      <td>0.317755</td>\n",
       "      <td>0.442624</td>\n",
       "      <td>0.003831</td>\n",
       "    </tr>\n",
       "    <tr>\n",
       "      <td>36799</td>\n",
       "      <td>3.0</td>\n",
       "      <td>0</td>\n",
       "      <td>0</td>\n",
       "      <td>83</td>\n",
       "      <td>212469</td>\n",
       "      <td>222032</td>\n",
       "      <td>80.0</td>\n",
       "      <td>82001075.0</td>\n",
       "      <td>2689753.5</td>\n",
       "      <td>0.833129</td>\n",
       "      <td>0.228373</td>\n",
       "      <td>0.272045</td>\n",
       "      <td>0.099142</td>\n",
       "      <td>0.283860</td>\n",
       "      <td>0.341558</td>\n",
       "      <td>0.247559</td>\n",
       "      <td>0.027881</td>\n",
       "    </tr>\n",
       "    <tr>\n",
       "      <td>13565</td>\n",
       "      <td>2.0</td>\n",
       "      <td>1</td>\n",
       "      <td>1</td>\n",
       "      <td>144</td>\n",
       "      <td>319117</td>\n",
       "      <td>361968</td>\n",
       "      <td>108.0</td>\n",
       "      <td>107861894.0</td>\n",
       "      <td>3507002.0</td>\n",
       "      <td>0.584779</td>\n",
       "      <td>0.347458</td>\n",
       "      <td>0.395292</td>\n",
       "      <td>0.033301</td>\n",
       "      <td>0.343452</td>\n",
       "      <td>0.165903</td>\n",
       "      <td>0.449638</td>\n",
       "      <td>0.007706</td>\n",
       "    </tr>\n",
       "    <tr>\n",
       "      <td>41602</td>\n",
       "      <td>2.0</td>\n",
       "      <td>0</td>\n",
       "      <td>0</td>\n",
       "      <td>473</td>\n",
       "      <td>277907</td>\n",
       "      <td>266305</td>\n",
       "      <td>77.0</td>\n",
       "      <td>99981302.0</td>\n",
       "      <td>3725041.0</td>\n",
       "      <td>0.680804</td>\n",
       "      <td>0.599767</td>\n",
       "      <td>0.448524</td>\n",
       "      <td>0.013314</td>\n",
       "      <td>0.150412</td>\n",
       "      <td>0.237413</td>\n",
       "      <td>0.417107</td>\n",
       "      <td>0.113820</td>\n",
       "    </tr>\n",
       "    <tr>\n",
       "      <td>...</td>\n",
       "      <td>...</td>\n",
       "      <td>...</td>\n",
       "      <td>...</td>\n",
       "      <td>...</td>\n",
       "      <td>...</td>\n",
       "      <td>...</td>\n",
       "      <td>...</td>\n",
       "      <td>...</td>\n",
       "      <td>...</td>\n",
       "      <td>...</td>\n",
       "      <td>...</td>\n",
       "      <td>...</td>\n",
       "      <td>...</td>\n",
       "      <td>...</td>\n",
       "      <td>...</td>\n",
       "      <td>...</td>\n",
       "      <td>...</td>\n",
       "    </tr>\n",
       "    <tr>\n",
       "      <td>2471</td>\n",
       "      <td>2.0</td>\n",
       "      <td>0</td>\n",
       "      <td>0</td>\n",
       "      <td>1412</td>\n",
       "      <td>806450</td>\n",
       "      <td>590038</td>\n",
       "      <td>67.0</td>\n",
       "      <td>128059801.0</td>\n",
       "      <td>3243736.0</td>\n",
       "      <td>0.770547</td>\n",
       "      <td>0.305468</td>\n",
       "      <td>0.823097</td>\n",
       "      <td>0.000000</td>\n",
       "      <td>0.000168</td>\n",
       "      <td>0.013441</td>\n",
       "      <td>0.194082</td>\n",
       "      <td>0.578160</td>\n",
       "    </tr>\n",
       "    <tr>\n",
       "      <td>85111</td>\n",
       "      <td>29.0</td>\n",
       "      <td>3</td>\n",
       "      <td>4</td>\n",
       "      <td>2770</td>\n",
       "      <td>203385</td>\n",
       "      <td>149500</td>\n",
       "      <td>55.0</td>\n",
       "      <td>218609516.0</td>\n",
       "      <td>3750772.0</td>\n",
       "      <td>0.784574</td>\n",
       "      <td>0.214415</td>\n",
       "      <td>0.292550</td>\n",
       "      <td>0.006215</td>\n",
       "      <td>0.299116</td>\n",
       "      <td>0.062730</td>\n",
       "      <td>0.366508</td>\n",
       "      <td>0.235049</td>\n",
       "    </tr>\n",
       "    <tr>\n",
       "      <td>32886</td>\n",
       "      <td>2.0</td>\n",
       "      <td>0</td>\n",
       "      <td>1</td>\n",
       "      <td>6765</td>\n",
       "      <td>287627</td>\n",
       "      <td>286541</td>\n",
       "      <td>92.0</td>\n",
       "      <td>136431049.0</td>\n",
       "      <td>3623167.0</td>\n",
       "      <td>0.677072</td>\n",
       "      <td>0.464426</td>\n",
       "      <td>0.407043</td>\n",
       "      <td>0.027080</td>\n",
       "      <td>0.454249</td>\n",
       "      <td>0.259717</td>\n",
       "      <td>0.240663</td>\n",
       "      <td>0.017376</td>\n",
       "    </tr>\n",
       "    <tr>\n",
       "      <td>107501</td>\n",
       "      <td>1.0</td>\n",
       "      <td>0</td>\n",
       "      <td>0</td>\n",
       "      <td>73</td>\n",
       "      <td>53917</td>\n",
       "      <td>48479</td>\n",
       "      <td>196.0</td>\n",
       "      <td>189267175.0</td>\n",
       "      <td>3886485.0</td>\n",
       "      <td>0.779564</td>\n",
       "      <td>0.038538</td>\n",
       "      <td>0.031050</td>\n",
       "      <td>0.000000</td>\n",
       "      <td>0.000000</td>\n",
       "      <td>0.000000</td>\n",
       "      <td>0.073772</td>\n",
       "      <td>0.356750</td>\n",
       "    </tr>\n",
       "    <tr>\n",
       "      <td>86286</td>\n",
       "      <td>1.0</td>\n",
       "      <td>1</td>\n",
       "      <td>0</td>\n",
       "      <td>273</td>\n",
       "      <td>424787</td>\n",
       "      <td>427656</td>\n",
       "      <td>66.0</td>\n",
       "      <td>150020089.0</td>\n",
       "      <td>4208675.0</td>\n",
       "      <td>0.745376</td>\n",
       "      <td>0.568990</td>\n",
       "      <td>0.563879</td>\n",
       "      <td>0.311780</td>\n",
       "      <td>0.266634</td>\n",
       "      <td>0.269138</td>\n",
       "      <td>0.152448</td>\n",
       "      <td>0.000000</td>\n",
       "    </tr>\n",
       "  </tbody>\n",
       "</table>\n",
       "<p>22653 rows × 17 columns</p>\n",
       "</div>"
      ],
      "text/plain": [
       "        s_store_no_of_store  s_store_no_of_opening  s_store_no_of_closing  \\\n",
       "93010                   4.0                      1                      0   \n",
       "112628                  6.0                      1                      0   \n",
       "36799                   3.0                      0                      0   \n",
       "13565                   2.0                      1                      1   \n",
       "41602                   2.0                      0                      0   \n",
       "...                     ...                    ...                    ...   \n",
       "2471                    2.0                      0                      0   \n",
       "85111                  29.0                      3                      4   \n",
       "32886                   2.0                      0                      1   \n",
       "107501                  1.0                      0                      0   \n",
       "86286                   1.0                      1                      0   \n",
       "\n",
       "        s_work_female  s_float_male  s_float_female  b_facil_total  \\\n",
       "93010             215        128632          131642           74.0   \n",
       "112628           1199        463376          476097          125.0   \n",
       "36799              83        212469          222032           80.0   \n",
       "13565             144        319117          361968          108.0   \n",
       "41602             473        277907          266305           77.0   \n",
       "...               ...           ...             ...            ...   \n",
       "2471             1412        806450          590038           67.0   \n",
       "85111            2770        203385          149500           55.0   \n",
       "32886            6765        287627          286541           92.0   \n",
       "107501             73         53917           48479          196.0   \n",
       "86286             273        424787          427656           66.0   \n",
       "\n",
       "        b_apt_avg_price  b_income_avg_monthly_inc  sales_weekday  \\\n",
       "93010       312892159.0                 4023035.0       0.873483   \n",
       "112628      171771310.0                 3834547.0       0.674029   \n",
       "36799        82001075.0                 2689753.5       0.833129   \n",
       "13565       107861894.0                 3507002.0       0.584779   \n",
       "41602        99981302.0                 3725041.0       0.680804   \n",
       "...                 ...                       ...            ...   \n",
       "2471        128059801.0                 3243736.0       0.770547   \n",
       "85111       218609516.0                 3750772.0       0.784574   \n",
       "32886       136431049.0                 3623167.0       0.677072   \n",
       "107501      189267175.0                 3886485.0       0.779564   \n",
       "86286       150020089.0                 4208675.0       0.745376   \n",
       "\n",
       "        sales_female  sales_2030s  sales_06_11  sales_11_14  sales_14_17  \\\n",
       "93010       0.699700     0.416222     0.181142     0.222460     0.365485   \n",
       "112628      0.692695     0.344597     0.051634     0.182468     0.317755   \n",
       "36799       0.228373     0.272045     0.099142     0.283860     0.341558   \n",
       "13565       0.347458     0.395292     0.033301     0.343452     0.165903   \n",
       "41602       0.599767     0.448524     0.013314     0.150412     0.237413   \n",
       "...              ...          ...          ...          ...          ...   \n",
       "2471        0.305468     0.823097     0.000000     0.000168     0.013441   \n",
       "85111       0.214415     0.292550     0.006215     0.299116     0.062730   \n",
       "32886       0.464426     0.407043     0.027080     0.454249     0.259717   \n",
       "107501      0.038538     0.031050     0.000000     0.000000     0.000000   \n",
       "86286       0.568990     0.563879     0.311780     0.266634     0.269138   \n",
       "\n",
       "        sales_17_21  sales_21_24  \n",
       "93010      0.170012     0.060901  \n",
       "112628     0.442624     0.003831  \n",
       "36799      0.247559     0.027881  \n",
       "13565      0.449638     0.007706  \n",
       "41602      0.417107     0.113820  \n",
       "...             ...          ...  \n",
       "2471       0.194082     0.578160  \n",
       "85111      0.366508     0.235049  \n",
       "32886      0.240663     0.017376  \n",
       "107501     0.073772     0.356750  \n",
       "86286      0.152448     0.000000  \n",
       "\n",
       "[22653 rows x 17 columns]"
      ]
     },
     "execution_count": 21,
     "metadata": {},
     "output_type": "execute_result"
    }
   ],
   "source": [
    "X_test"
   ]
  },
  {
   "cell_type": "code",
   "execution_count": 22,
   "metadata": {
    "scrolled": true
   },
   "outputs": [],
   "source": [
    "test_labels = kmeans.predict(X_test)"
   ]
  },
  {
   "cell_type": "code",
   "execution_count": 23,
   "metadata": {},
   "outputs": [
    {
     "data": {
      "text/plain": [
       "10"
      ]
     },
     "execution_count": 23,
     "metadata": {},
     "output_type": "execute_result"
    }
   ],
   "source": [
    "len(np.unique(test_labels))"
   ]
  },
  {
   "cell_type": "code",
   "execution_count": 24,
   "metadata": {},
   "outputs": [],
   "source": [
    "test_lb_df= pd.DataFrame(test_labels, columns=['labels'], index=X_test.index, dtype=str)"
   ]
  },
  {
   "cell_type": "code",
   "execution_count": 25,
   "metadata": {},
   "outputs": [
    {
     "data": {
      "text/html": [
       "<div>\n",
       "<style scoped>\n",
       "    .dataframe tbody tr th:only-of-type {\n",
       "        vertical-align: middle;\n",
       "    }\n",
       "\n",
       "    .dataframe tbody tr th {\n",
       "        vertical-align: top;\n",
       "    }\n",
       "\n",
       "    .dataframe thead th {\n",
       "        text-align: right;\n",
       "    }\n",
       "</style>\n",
       "<table border=\"1\" class=\"dataframe\">\n",
       "  <thead>\n",
       "    <tr style=\"text-align: right;\">\n",
       "      <th></th>\n",
       "      <th>labels</th>\n",
       "      <th>s_store_no_of_store</th>\n",
       "      <th>s_store_no_of_opening</th>\n",
       "      <th>s_store_no_of_closing</th>\n",
       "      <th>s_work_female</th>\n",
       "      <th>s_float_male</th>\n",
       "      <th>s_float_female</th>\n",
       "      <th>b_facil_total</th>\n",
       "      <th>b_apt_avg_price</th>\n",
       "      <th>b_income_avg_monthly_inc</th>\n",
       "      <th>sales_weekday</th>\n",
       "      <th>sales_female</th>\n",
       "      <th>sales_2030s</th>\n",
       "      <th>sales_06_11</th>\n",
       "      <th>sales_11_14</th>\n",
       "      <th>sales_14_17</th>\n",
       "      <th>sales_17_21</th>\n",
       "      <th>sales_21_24</th>\n",
       "    </tr>\n",
       "  </thead>\n",
       "  <tbody>\n",
       "    <tr>\n",
       "      <td>2471</td>\n",
       "      <td>7</td>\n",
       "      <td>2.0</td>\n",
       "      <td>0</td>\n",
       "      <td>0</td>\n",
       "      <td>1412</td>\n",
       "      <td>806450</td>\n",
       "      <td>590038</td>\n",
       "      <td>67.0</td>\n",
       "      <td>128059801.0</td>\n",
       "      <td>3243736.0</td>\n",
       "      <td>0.770547</td>\n",
       "      <td>0.305468</td>\n",
       "      <td>0.823097</td>\n",
       "      <td>0.000000</td>\n",
       "      <td>0.000168</td>\n",
       "      <td>0.013441</td>\n",
       "      <td>0.194082</td>\n",
       "      <td>0.578160</td>\n",
       "    </tr>\n",
       "    <tr>\n",
       "      <td>85111</td>\n",
       "      <td>0</td>\n",
       "      <td>29.0</td>\n",
       "      <td>3</td>\n",
       "      <td>4</td>\n",
       "      <td>2770</td>\n",
       "      <td>203385</td>\n",
       "      <td>149500</td>\n",
       "      <td>55.0</td>\n",
       "      <td>218609516.0</td>\n",
       "      <td>3750772.0</td>\n",
       "      <td>0.784574</td>\n",
       "      <td>0.214415</td>\n",
       "      <td>0.292550</td>\n",
       "      <td>0.006215</td>\n",
       "      <td>0.299116</td>\n",
       "      <td>0.062730</td>\n",
       "      <td>0.366508</td>\n",
       "      <td>0.235049</td>\n",
       "    </tr>\n",
       "    <tr>\n",
       "      <td>32886</td>\n",
       "      <td>1</td>\n",
       "      <td>2.0</td>\n",
       "      <td>0</td>\n",
       "      <td>1</td>\n",
       "      <td>6765</td>\n",
       "      <td>287627</td>\n",
       "      <td>286541</td>\n",
       "      <td>92.0</td>\n",
       "      <td>136431049.0</td>\n",
       "      <td>3623167.0</td>\n",
       "      <td>0.677072</td>\n",
       "      <td>0.464426</td>\n",
       "      <td>0.407043</td>\n",
       "      <td>0.027080</td>\n",
       "      <td>0.454249</td>\n",
       "      <td>0.259717</td>\n",
       "      <td>0.240663</td>\n",
       "      <td>0.017376</td>\n",
       "    </tr>\n",
       "    <tr>\n",
       "      <td>107501</td>\n",
       "      <td>6</td>\n",
       "      <td>1.0</td>\n",
       "      <td>0</td>\n",
       "      <td>0</td>\n",
       "      <td>73</td>\n",
       "      <td>53917</td>\n",
       "      <td>48479</td>\n",
       "      <td>196.0</td>\n",
       "      <td>189267175.0</td>\n",
       "      <td>3886485.0</td>\n",
       "      <td>0.779564</td>\n",
       "      <td>0.038538</td>\n",
       "      <td>0.031050</td>\n",
       "      <td>0.000000</td>\n",
       "      <td>0.000000</td>\n",
       "      <td>0.000000</td>\n",
       "      <td>0.073772</td>\n",
       "      <td>0.356750</td>\n",
       "    </tr>\n",
       "    <tr>\n",
       "      <td>86286</td>\n",
       "      <td>1</td>\n",
       "      <td>1.0</td>\n",
       "      <td>1</td>\n",
       "      <td>0</td>\n",
       "      <td>273</td>\n",
       "      <td>424787</td>\n",
       "      <td>427656</td>\n",
       "      <td>66.0</td>\n",
       "      <td>150020089.0</td>\n",
       "      <td>4208675.0</td>\n",
       "      <td>0.745376</td>\n",
       "      <td>0.568990</td>\n",
       "      <td>0.563879</td>\n",
       "      <td>0.311780</td>\n",
       "      <td>0.266634</td>\n",
       "      <td>0.269138</td>\n",
       "      <td>0.152448</td>\n",
       "      <td>0.000000</td>\n",
       "    </tr>\n",
       "  </tbody>\n",
       "</table>\n",
       "</div>"
      ],
      "text/plain": [
       "       labels  s_store_no_of_store  s_store_no_of_opening  \\\n",
       "2471        7                  2.0                      0   \n",
       "85111       0                 29.0                      3   \n",
       "32886       1                  2.0                      0   \n",
       "107501      6                  1.0                      0   \n",
       "86286       1                  1.0                      1   \n",
       "\n",
       "        s_store_no_of_closing  s_work_female  s_float_male  s_float_female  \\\n",
       "2471                        0           1412        806450          590038   \n",
       "85111                       4           2770        203385          149500   \n",
       "32886                       1           6765        287627          286541   \n",
       "107501                      0             73         53917           48479   \n",
       "86286                       0            273        424787          427656   \n",
       "\n",
       "        b_facil_total  b_apt_avg_price  b_income_avg_monthly_inc  \\\n",
       "2471             67.0      128059801.0                 3243736.0   \n",
       "85111            55.0      218609516.0                 3750772.0   \n",
       "32886            92.0      136431049.0                 3623167.0   \n",
       "107501          196.0      189267175.0                 3886485.0   \n",
       "86286            66.0      150020089.0                 4208675.0   \n",
       "\n",
       "        sales_weekday  sales_female  sales_2030s  sales_06_11  sales_11_14  \\\n",
       "2471         0.770547      0.305468     0.823097     0.000000     0.000168   \n",
       "85111        0.784574      0.214415     0.292550     0.006215     0.299116   \n",
       "32886        0.677072      0.464426     0.407043     0.027080     0.454249   \n",
       "107501       0.779564      0.038538     0.031050     0.000000     0.000000   \n",
       "86286        0.745376      0.568990     0.563879     0.311780     0.266634   \n",
       "\n",
       "        sales_14_17  sales_17_21  sales_21_24  \n",
       "2471       0.013441     0.194082     0.578160  \n",
       "85111      0.062730     0.366508     0.235049  \n",
       "32886      0.259717     0.240663     0.017376  \n",
       "107501     0.000000     0.073772     0.356750  \n",
       "86286      0.269138     0.152448     0.000000  "
      ]
     },
     "execution_count": 25,
     "metadata": {},
     "output_type": "execute_result"
    }
   ],
   "source": [
    "X_test = pd.concat([test_lb_df, X_test], axis=1)\n",
    "X_test.tail()"
   ]
  },
  {
   "cell_type": "code",
   "execution_count": 26,
   "metadata": {},
   "outputs": [
    {
     "data": {
      "text/plain": [
       "labels\n",
       "0    2366\n",
       "1    6728\n",
       "2     333\n",
       "3     854\n",
       "4      46\n",
       "5    1549\n",
       "6    3909\n",
       "7    6730\n",
       "8     117\n",
       "9      21\n",
       "dtype: int64"
      ]
     },
     "execution_count": 26,
     "metadata": {},
     "output_type": "execute_result"
    }
   ],
   "source": [
    "X_test.groupby(by='labels').size()"
   ]
  },
  {
   "cell_type": "code",
   "execution_count": 27,
   "metadata": {},
   "outputs": [],
   "source": [
    "## 더미변수화\n",
    "X_test_dum = pd.get_dummies(X_test)\n",
    "## Robust Scaling - transform\n",
    "Xs_test = rb.transform(X_test_dum)"
   ]
  },
  {
   "cell_type": "code",
   "execution_count": 28,
   "metadata": {},
   "outputs": [
    {
     "name": "stdout",
     "output_type": "stream",
     "text": [
      "0.6081912920843262\n"
     ]
    }
   ],
   "source": [
    "print(model.score(Xs_test, y_test))"
   ]
  },
  {
   "cell_type": "code",
   "execution_count": 29,
   "metadata": {},
   "outputs": [
    {
     "name": "stdout",
     "output_type": "stream",
     "text": [
      "Mean Absolute Error: 491105536.06618464\n",
      "Mean Squared Error: 1.0574016197903447e+18\n",
      "Root Mean Squared Error: 1028300354.8527758\n"
     ]
    }
   ],
   "source": [
    "y_pred = model.predict(Xs_test)\n",
    "print('Mean Absolute Error:', metrics.mean_absolute_error(y_test, y_pred))  \n",
    "print('Mean Squared Error:', metrics.mean_squared_error(y_test, y_pred))  \n",
    "print('Root Mean Squared Error:', np.sqrt(metrics.mean_squared_error(y_test, y_pred)))"
   ]
  },
  {
   "cell_type": "code",
   "execution_count": 30,
   "metadata": {
    "scrolled": true
   },
   "outputs": [
    {
     "data": {
      "text/plain": [
       "array([9.53605369e+08, 8.40209059e+08, 5.06715694e+08, ...,\n",
       "       2.91584316e+08, 5.31899965e+07, 2.55447605e+08])"
      ]
     },
     "execution_count": 30,
     "metadata": {},
     "output_type": "execute_result"
    }
   ],
   "source": [
    "y_pred"
   ]
  },
  {
   "cell_type": "code",
   "execution_count": 31,
   "metadata": {},
   "outputs": [
    {
     "data": {
      "text/html": [
       "<div>\n",
       "<style scoped>\n",
       "    .dataframe tbody tr th:only-of-type {\n",
       "        vertical-align: middle;\n",
       "    }\n",
       "\n",
       "    .dataframe tbody tr th {\n",
       "        vertical-align: top;\n",
       "    }\n",
       "\n",
       "    .dataframe thead th {\n",
       "        text-align: right;\n",
       "    }\n",
       "</style>\n",
       "<table border=\"1\" class=\"dataframe\">\n",
       "  <thead>\n",
       "    <tr style=\"text-align: right;\">\n",
       "      <th></th>\n",
       "      <th>sales_total</th>\n",
       "    </tr>\n",
       "  </thead>\n",
       "  <tbody>\n",
       "    <tr>\n",
       "      <td>93010</td>\n",
       "      <td>4.094017e+06</td>\n",
       "    </tr>\n",
       "    <tr>\n",
       "      <td>112628</td>\n",
       "      <td>1.236764e+09</td>\n",
       "    </tr>\n",
       "    <tr>\n",
       "      <td>36799</td>\n",
       "      <td>5.330413e+07</td>\n",
       "    </tr>\n",
       "    <tr>\n",
       "      <td>13565</td>\n",
       "      <td>3.455657e+07</td>\n",
       "    </tr>\n",
       "    <tr>\n",
       "      <td>41602</td>\n",
       "      <td>1.830000e+08</td>\n",
       "    </tr>\n",
       "    <tr>\n",
       "      <td>...</td>\n",
       "      <td>...</td>\n",
       "    </tr>\n",
       "    <tr>\n",
       "      <td>2471</td>\n",
       "      <td>8.000000e+07</td>\n",
       "    </tr>\n",
       "    <tr>\n",
       "      <td>85111</td>\n",
       "      <td>5.671255e+09</td>\n",
       "    </tr>\n",
       "    <tr>\n",
       "      <td>32886</td>\n",
       "      <td>3.139336e+08</td>\n",
       "    </tr>\n",
       "    <tr>\n",
       "      <td>107501</td>\n",
       "      <td>2.763426e+07</td>\n",
       "    </tr>\n",
       "    <tr>\n",
       "      <td>86286</td>\n",
       "      <td>3.898625e+08</td>\n",
       "    </tr>\n",
       "  </tbody>\n",
       "</table>\n",
       "<p>22653 rows × 1 columns</p>\n",
       "</div>"
      ],
      "text/plain": [
       "         sales_total\n",
       "93010   4.094017e+06\n",
       "112628  1.236764e+09\n",
       "36799   5.330413e+07\n",
       "13565   3.455657e+07\n",
       "41602   1.830000e+08\n",
       "...              ...\n",
       "2471    8.000000e+07\n",
       "85111   5.671255e+09\n",
       "32886   3.139336e+08\n",
       "107501  2.763426e+07\n",
       "86286   3.898625e+08\n",
       "\n",
       "[22653 rows x 1 columns]"
      ]
     },
     "execution_count": 31,
     "metadata": {},
     "output_type": "execute_result"
    }
   ],
   "source": [
    "y_test"
   ]
  },
  {
   "cell_type": "code",
   "execution_count": 32,
   "metadata": {
    "scrolled": true
   },
   "outputs": [],
   "source": [
    "#def MPE(y_true, y_pred): \n",
    "#    return np.mean((y_true - y_pred) / y_true) * 100\n",
    "#print('Mean Percentage Error', MPE(y_test['sales_total'], y_pred))"
   ]
  },
  {
   "cell_type": "code",
   "execution_count": 33,
   "metadata": {},
   "outputs": [
    {
     "data": {
      "text/plain": [
       "array([0.53174497, 0.5341365 , 0.48325948, 0.44353251, 0.4534089 ,\n",
       "       0.47609043, 0.35849913, 0.48404571, 0.41762352, 0.41854089])"
      ]
     },
     "execution_count": 33,
     "metadata": {},
     "output_type": "execute_result"
    }
   ],
   "source": [
    "from sklearn.model_selection import KFold\n",
    "from sklearn.model_selection import cross_val_score\n",
    "\n",
    "cv = KFold(10, shuffle=True, random_state=0)\n",
    "cross_val_score(model, Xs_test, y_test, n_jobs=-1, cv=cv)"
   ]
  },
  {
   "cell_type": "code",
   "execution_count": 34,
   "metadata": {},
   "outputs": [],
   "source": [
    "from sklearn.model_selection import cross_validate\n",
    "import sklearn.metrics\n",
    "cv_results = cross_validate(model, Xs_test, y_test, scoring=('r2', \n",
    "                                                             'neg_mean_squared_error', \n",
    "                                                             'neg_mean_absolute_error'), \n",
    "                            cv=cv, \n",
    "                            n_jobs=-1)"
   ]
  },
  {
   "cell_type": "code",
   "execution_count": 35,
   "metadata": {},
   "outputs": [
    {
     "data": {
      "text/plain": [
       "['accuracy',\n",
       " 'adjusted_mutual_info_score',\n",
       " 'adjusted_rand_score',\n",
       " 'average_precision',\n",
       " 'balanced_accuracy',\n",
       " 'brier_score_loss',\n",
       " 'completeness_score',\n",
       " 'explained_variance',\n",
       " 'f1',\n",
       " 'f1_macro',\n",
       " 'f1_micro',\n",
       " 'f1_samples',\n",
       " 'f1_weighted',\n",
       " 'fowlkes_mallows_score',\n",
       " 'homogeneity_score',\n",
       " 'jaccard',\n",
       " 'jaccard_macro',\n",
       " 'jaccard_micro',\n",
       " 'jaccard_samples',\n",
       " 'jaccard_weighted',\n",
       " 'max_error',\n",
       " 'mutual_info_score',\n",
       " 'neg_log_loss',\n",
       " 'neg_mean_absolute_error',\n",
       " 'neg_mean_squared_error',\n",
       " 'neg_mean_squared_log_error',\n",
       " 'neg_median_absolute_error',\n",
       " 'normalized_mutual_info_score',\n",
       " 'precision',\n",
       " 'precision_macro',\n",
       " 'precision_micro',\n",
       " 'precision_samples',\n",
       " 'precision_weighted',\n",
       " 'r2',\n",
       " 'recall',\n",
       " 'recall_macro',\n",
       " 'recall_micro',\n",
       " 'recall_samples',\n",
       " 'recall_weighted',\n",
       " 'roc_auc',\n",
       " 'v_measure_score']"
      ]
     },
     "execution_count": 35,
     "metadata": {},
     "output_type": "execute_result"
    }
   ],
   "source": [
    "sorted(sk.metrics.SCORERS.keys())"
   ]
  },
  {
   "cell_type": "code",
   "execution_count": 36,
   "metadata": {},
   "outputs": [
    {
     "data": {
      "text/plain": [
       "dict_keys(['fit_time', 'score_time', 'test_r2', 'test_neg_mean_squared_error', 'test_neg_mean_absolute_error'])"
      ]
     },
     "execution_count": 36,
     "metadata": {},
     "output_type": "execute_result"
    }
   ],
   "source": [
    "cv_results.keys()"
   ]
  },
  {
   "cell_type": "code",
   "execution_count": 37,
   "metadata": {},
   "outputs": [
    {
     "name": "stdout",
     "output_type": "stream",
     "text": [
      "[0.53174497 0.5341365  0.48325948 0.44353251 0.4534089  0.47609043\n",
      " 0.35849913 0.48404571 0.41762352 0.41854089]\n"
     ]
    }
   ],
   "source": [
    "print(cv_results['test_r2'])"
   ]
  },
  {
   "cell_type": "code",
   "execution_count": 38,
   "metadata": {},
   "outputs": [
    {
     "name": "stdout",
     "output_type": "stream",
     "text": [
      "0.4600882041622243\n"
     ]
    }
   ],
   "source": [
    "print(cv_results['test_r2'].mean())"
   ]
  },
  {
   "cell_type": "code",
   "execution_count": 39,
   "metadata": {},
   "outputs": [
    {
     "name": "stdout",
     "output_type": "stream",
     "text": [
      "[1.29049569e+18 1.36409641e+18 1.24666414e+18 1.10602551e+18\n",
      " 1.76611566e+18 1.67872553e+18 2.19460286e+18 1.22275709e+18\n",
      " 1.30096483e+18 1.41644446e+18]\n",
      "[5.69799798e+08 5.58883667e+08 5.67267686e+08 5.54386866e+08\n",
      " 5.90250054e+08 5.81412366e+08 5.82451498e+08 5.69139614e+08\n",
      " 5.56307066e+08 5.57254287e+08]\n"
     ]
    }
   ],
   "source": [
    "print(-cv_results['test_neg_mean_squared_error'])\n",
    "print(-cv_results['test_neg_mean_absolute_error'])"
   ]
  },
  {
   "cell_type": "code",
   "execution_count": 40,
   "metadata": {},
   "outputs": [],
   "source": [
    "mse_ls = -cv_results['test_neg_mean_squared_error']"
   ]
  },
  {
   "cell_type": "code",
   "execution_count": 41,
   "metadata": {},
   "outputs": [
    {
     "name": "stdout",
     "output_type": "stream",
     "text": [
      "1.458689218259647e+18\n",
      "568715290.2934637\n",
      "1201471897.5056663\n"
     ]
    }
   ],
   "source": [
    "print(-cv_results['test_neg_mean_squared_error'].mean())\n",
    "print(-cv_results['test_neg_mean_absolute_error'].mean())\n",
    "print(np.sqrt(mse_ls).mean())"
   ]
  },
  {
   "cell_type": "code",
   "execution_count": 42,
   "metadata": {},
   "outputs": [
    {
     "data": {
      "text/plain": [
       "array([1.29049569e+18, 1.36409641e+18, 1.24666414e+18, 1.10602551e+18,\n",
       "       1.76611566e+18, 1.67872553e+18, 2.19460286e+18, 1.22275709e+18,\n",
       "       1.30096483e+18, 1.41644446e+18])"
      ]
     },
     "execution_count": 42,
     "metadata": {},
     "output_type": "execute_result"
    }
   ],
   "source": [
    "-cv_results['test_neg_mean_squared_error']"
   ]
  },
  {
   "cell_type": "code",
   "execution_count": 43,
   "metadata": {},
   "outputs": [
    {
     "data": {
      "text/plain": [
       "array([5.69799798e+08, 5.58883667e+08, 5.67267686e+08, 5.54386866e+08,\n",
       "       5.90250054e+08, 5.81412366e+08, 5.82451498e+08, 5.69139614e+08,\n",
       "       5.56307066e+08, 5.57254287e+08])"
      ]
     },
     "execution_count": 43,
     "metadata": {},
     "output_type": "execute_result"
    }
   ],
   "source": [
    "-cv_results['test_neg_mean_absolute_error']"
   ]
  },
  {
   "cell_type": "code",
   "execution_count": 44,
   "metadata": {},
   "outputs": [
    {
     "data": {
      "text/plain": [
       "array([1.13599986e+09, 1.16794538e+09, 1.11654115e+09, 1.05167748e+09,\n",
       "       1.32895284e+09, 1.29565641e+09, 1.48141920e+09, 1.10578347e+09,\n",
       "       1.14059845e+09, 1.19014472e+09])"
      ]
     },
     "execution_count": 44,
     "metadata": {},
     "output_type": "execute_result"
    }
   ],
   "source": [
    "(-cv_results['test_neg_mean_squared_error'])**0.5"
   ]
  },
  {
   "cell_type": "markdown",
   "metadata": {},
   "source": [
    "# 상권코드 X 업종코드 + RF"
   ]
  },
  {
   "cell_type": "code",
   "execution_count": 146,
   "metadata": {},
   "outputs": [
    {
     "data": {
      "text/plain": [
       "year                          int64\n",
       "district                     object\n",
       "code                         object\n",
       "sales_total                 float64\n",
       "s_store_no_of_store         float64\n",
       "s_store_no_of_opening         int64\n",
       "s_store_no_of_closing         int64\n",
       "s_work_female                 int64\n",
       "s_float_male                  int64\n",
       "s_float_female                int64\n",
       "b_facil_total               float64\n",
       "b_apt_avg_price             float64\n",
       "b_income_avg_monthly_inc    float64\n",
       "sales_weekday               float64\n",
       "sales_female                float64\n",
       "sales_2030s                 float64\n",
       "sales_06_11                 float64\n",
       "sales_11_14                 float64\n",
       "sales_14_17                 float64\n",
       "sales_17_21                 float64\n",
       "sales_21_24                 float64\n",
       "dtype: object"
      ]
     },
     "execution_count": 146,
     "metadata": {},
     "output_type": "execute_result"
    }
   ],
   "source": [
    "df = pd.read_csv('raw_data/df_grouped_rate.csv')\n",
    "df[['district', 'code']] = df[['district', 'code']].astype(str)\n",
    "df.dtypes"
   ]
  },
  {
   "cell_type": "code",
   "execution_count": 147,
   "metadata": {},
   "outputs": [],
   "source": [
    "y = df[['sales_total']]\n",
    "X = df.drop(['sales_total', 'year'], axis=1)"
   ]
  },
  {
   "cell_type": "code",
   "execution_count": 148,
   "metadata": {},
   "outputs": [
    {
     "data": {
      "text/html": [
       "<div>\n",
       "<style scoped>\n",
       "    .dataframe tbody tr th:only-of-type {\n",
       "        vertical-align: middle;\n",
       "    }\n",
       "\n",
       "    .dataframe tbody tr th {\n",
       "        vertical-align: top;\n",
       "    }\n",
       "\n",
       "    .dataframe thead th {\n",
       "        text-align: right;\n",
       "    }\n",
       "</style>\n",
       "<table border=\"1\" class=\"dataframe\">\n",
       "  <thead>\n",
       "    <tr style=\"text-align: right;\">\n",
       "      <th></th>\n",
       "      <th>s_store_no_of_store</th>\n",
       "      <th>s_store_no_of_opening</th>\n",
       "      <th>s_store_no_of_closing</th>\n",
       "      <th>s_work_female</th>\n",
       "      <th>s_float_male</th>\n",
       "      <th>s_float_female</th>\n",
       "      <th>b_facil_total</th>\n",
       "      <th>b_apt_avg_price</th>\n",
       "      <th>b_income_avg_monthly_inc</th>\n",
       "      <th>sales_weekday</th>\n",
       "      <th>...</th>\n",
       "      <th>code_CS300008</th>\n",
       "      <th>code_CS300009</th>\n",
       "      <th>code_CS300010</th>\n",
       "      <th>code_CS300011</th>\n",
       "      <th>code_CS300012</th>\n",
       "      <th>code_CS300013</th>\n",
       "      <th>code_CS300014</th>\n",
       "      <th>code_CS300015</th>\n",
       "      <th>code_CS300016</th>\n",
       "      <th>code_CS300017</th>\n",
       "    </tr>\n",
       "  </thead>\n",
       "  <tbody>\n",
       "    <tr>\n",
       "      <td>113260</td>\n",
       "      <td>2.00</td>\n",
       "      <td>0</td>\n",
       "      <td>0</td>\n",
       "      <td>230</td>\n",
       "      <td>164052</td>\n",
       "      <td>179007</td>\n",
       "      <td>93.00</td>\n",
       "      <td>154040746.00</td>\n",
       "      <td>3256684.00</td>\n",
       "      <td>0.88</td>\n",
       "      <td>...</td>\n",
       "      <td>1</td>\n",
       "      <td>0</td>\n",
       "      <td>0</td>\n",
       "      <td>0</td>\n",
       "      <td>0</td>\n",
       "      <td>0</td>\n",
       "      <td>0</td>\n",
       "      <td>0</td>\n",
       "      <td>0</td>\n",
       "      <td>0</td>\n",
       "    </tr>\n",
       "    <tr>\n",
       "      <td>113261</td>\n",
       "      <td>2.00</td>\n",
       "      <td>0</td>\n",
       "      <td>0</td>\n",
       "      <td>230</td>\n",
       "      <td>164052</td>\n",
       "      <td>179007</td>\n",
       "      <td>93.00</td>\n",
       "      <td>154040746.00</td>\n",
       "      <td>3256684.00</td>\n",
       "      <td>0.93</td>\n",
       "      <td>...</td>\n",
       "      <td>0</td>\n",
       "      <td>1</td>\n",
       "      <td>0</td>\n",
       "      <td>0</td>\n",
       "      <td>0</td>\n",
       "      <td>0</td>\n",
       "      <td>0</td>\n",
       "      <td>0</td>\n",
       "      <td>0</td>\n",
       "      <td>0</td>\n",
       "    </tr>\n",
       "    <tr>\n",
       "      <td>113262</td>\n",
       "      <td>1.00</td>\n",
       "      <td>0</td>\n",
       "      <td>1</td>\n",
       "      <td>230</td>\n",
       "      <td>164052</td>\n",
       "      <td>179007</td>\n",
       "      <td>93.00</td>\n",
       "      <td>154040746.00</td>\n",
       "      <td>3256684.00</td>\n",
       "      <td>0.64</td>\n",
       "      <td>...</td>\n",
       "      <td>0</td>\n",
       "      <td>0</td>\n",
       "      <td>0</td>\n",
       "      <td>1</td>\n",
       "      <td>0</td>\n",
       "      <td>0</td>\n",
       "      <td>0</td>\n",
       "      <td>0</td>\n",
       "      <td>0</td>\n",
       "      <td>0</td>\n",
       "    </tr>\n",
       "    <tr>\n",
       "      <td>113263</td>\n",
       "      <td>3.00</td>\n",
       "      <td>0</td>\n",
       "      <td>0</td>\n",
       "      <td>230</td>\n",
       "      <td>164052</td>\n",
       "      <td>179007</td>\n",
       "      <td>93.00</td>\n",
       "      <td>154040746.00</td>\n",
       "      <td>3256684.00</td>\n",
       "      <td>0.62</td>\n",
       "      <td>...</td>\n",
       "      <td>0</td>\n",
       "      <td>0</td>\n",
       "      <td>0</td>\n",
       "      <td>0</td>\n",
       "      <td>0</td>\n",
       "      <td>0</td>\n",
       "      <td>0</td>\n",
       "      <td>0</td>\n",
       "      <td>1</td>\n",
       "      <td>0</td>\n",
       "    </tr>\n",
       "    <tr>\n",
       "      <td>113264</td>\n",
       "      <td>6.00</td>\n",
       "      <td>0</td>\n",
       "      <td>0</td>\n",
       "      <td>230</td>\n",
       "      <td>164052</td>\n",
       "      <td>179007</td>\n",
       "      <td>93.00</td>\n",
       "      <td>154040746.00</td>\n",
       "      <td>3256684.00</td>\n",
       "      <td>0.98</td>\n",
       "      <td>...</td>\n",
       "      <td>0</td>\n",
       "      <td>0</td>\n",
       "      <td>0</td>\n",
       "      <td>0</td>\n",
       "      <td>0</td>\n",
       "      <td>0</td>\n",
       "      <td>0</td>\n",
       "      <td>0</td>\n",
       "      <td>0</td>\n",
       "      <td>1</td>\n",
       "    </tr>\n",
       "  </tbody>\n",
       "</table>\n",
       "<p>5 rows × 1069 columns</p>\n",
       "</div>"
      ],
      "text/plain": [
       "        s_store_no_of_store  s_store_no_of_opening  s_store_no_of_closing  \\\n",
       "113260                 2.00                      0                      0   \n",
       "113261                 2.00                      0                      0   \n",
       "113262                 1.00                      0                      1   \n",
       "113263                 3.00                      0                      0   \n",
       "113264                 6.00                      0                      0   \n",
       "\n",
       "        s_work_female  s_float_male  s_float_female  b_facil_total  \\\n",
       "113260            230        164052          179007          93.00   \n",
       "113261            230        164052          179007          93.00   \n",
       "113262            230        164052          179007          93.00   \n",
       "113263            230        164052          179007          93.00   \n",
       "113264            230        164052          179007          93.00   \n",
       "\n",
       "        b_apt_avg_price  b_income_avg_monthly_inc  sales_weekday  ...  \\\n",
       "113260     154040746.00                3256684.00           0.88  ...   \n",
       "113261     154040746.00                3256684.00           0.93  ...   \n",
       "113262     154040746.00                3256684.00           0.64  ...   \n",
       "113263     154040746.00                3256684.00           0.62  ...   \n",
       "113264     154040746.00                3256684.00           0.98  ...   \n",
       "\n",
       "        code_CS300008  code_CS300009  code_CS300010  code_CS300011  \\\n",
       "113260              1              0              0              0   \n",
       "113261              0              1              0              0   \n",
       "113262              0              0              0              1   \n",
       "113263              0              0              0              0   \n",
       "113264              0              0              0              0   \n",
       "\n",
       "        code_CS300012  code_CS300013  code_CS300014  code_CS300015  \\\n",
       "113260              0              0              0              0   \n",
       "113261              0              0              0              0   \n",
       "113262              0              0              0              0   \n",
       "113263              0              0              0              0   \n",
       "113264              0              0              0              0   \n",
       "\n",
       "        code_CS300016  code_CS300017  \n",
       "113260              0              0  \n",
       "113261              0              0  \n",
       "113262              0              0  \n",
       "113263              1              0  \n",
       "113264              0              1  \n",
       "\n",
       "[5 rows x 1069 columns]"
      ]
     },
     "execution_count": 148,
     "metadata": {},
     "output_type": "execute_result"
    }
   ],
   "source": [
    "X_dum = pd.get_dummies(X)\n",
    "X_dum.tail()"
   ]
  },
  {
   "cell_type": "code",
   "execution_count": 149,
   "metadata": {},
   "outputs": [
    {
     "name": "stdout",
     "output_type": "stream",
     "text": [
      "<class 'pandas.core.frame.DataFrame'>\n",
      "RangeIndex: 113265 entries, 0 to 113264\n",
      "Columns: 1069 entries, s_store_no_of_store to code_CS300017\n",
      "dtypes: float64(12), int64(5), uint8(1052)\n",
      "memory usage: 128.3 MB\n"
     ]
    }
   ],
   "source": [
    "X_dum.info()"
   ]
  },
  {
   "cell_type": "code",
   "execution_count": 150,
   "metadata": {},
   "outputs": [],
   "source": [
    "## Train-test split\n",
    "X_train, X_test, y_train, y_test = train_test_split(X_dum, y, test_size=0.2, random_state=0)"
   ]
  },
  {
   "cell_type": "code",
   "execution_count": 151,
   "metadata": {},
   "outputs": [],
   "source": [
    "## Robust Scaling - fit_transform\n",
    "rb = RobustScaler()\n",
    "Xs_train = rb.fit_transform(X_train)\n",
    "Xs_test = rb.transform(X_test)"
   ]
  },
  {
   "cell_type": "code",
   "execution_count": 152,
   "metadata": {},
   "outputs": [
    {
     "name": "stdout",
     "output_type": "stream",
     "text": [
      "0.9662886053976625\n",
      "0.7551745929563399\n"
     ]
    }
   ],
   "source": [
    "rf = RandomForestRegressor(n_estimators=100, n_jobs=-1, random_state=0)\n",
    "model = rf.fit(Xs_train, y_train)\n",
    "print(model.score(Xs_train, y_train))\n",
    "print(model.score(Xs_test, y_test))"
   ]
  },
  {
   "cell_type": "code",
   "execution_count": 165,
   "metadata": {},
   "outputs": [
    {
     "data": {
      "text/plain": [
       "array([0.31871495, 0.00747284, 0.00948001, ..., 0.0086383 , 0.00038613,\n",
       "       0.00083226])"
      ]
     },
     "execution_count": 165,
     "metadata": {},
     "output_type": "execute_result"
    }
   ],
   "source": [
    "pd.options.display.float_format = '{:.2g}'.format\n",
    "model.feature_importances_"
   ]
  },
  {
   "cell_type": "code",
   "execution_count": 154,
   "metadata": {},
   "outputs": [
    {
     "data": {
      "text/plain": [
       "Index(['s_store_no_of_store', 's_store_no_of_opening', 's_store_no_of_closing',\n",
       "       's_work_female', 's_float_male', 's_float_female', 'b_facil_total',\n",
       "       'b_apt_avg_price', 'b_income_avg_monthly_inc', 'sales_weekday',\n",
       "       ...\n",
       "       'code_CS300008', 'code_CS300009', 'code_CS300010', 'code_CS300011',\n",
       "       'code_CS300012', 'code_CS300013', 'code_CS300014', 'code_CS300015',\n",
       "       'code_CS300016', 'code_CS300017'],\n",
       "      dtype='object', length=1069)"
      ]
     },
     "execution_count": 154,
     "metadata": {},
     "output_type": "execute_result"
    }
   ],
   "source": [
    "X_dum.columns"
   ]
  },
  {
   "cell_type": "code",
   "execution_count": 166,
   "metadata": {},
   "outputs": [
    {
     "data": {
      "text/plain": [
       "array([0.31871495, 0.00747284, 0.00948001, ..., 0.0086383 , 0.00038613,\n",
       "       0.00083226])"
      ]
     },
     "execution_count": 166,
     "metadata": {},
     "output_type": "execute_result"
    }
   ],
   "source": [
    "model.feature_importances_"
   ]
  },
  {
   "cell_type": "code",
   "execution_count": 156,
   "metadata": {},
   "outputs": [],
   "source": [
    "feat_imp = pd.DataFrame(data=model.feature_importances_)"
   ]
  },
  {
   "cell_type": "code",
   "execution_count": 157,
   "metadata": {},
   "outputs": [],
   "source": [
    "feat_imp.index = list(X_dum.columns)"
   ]
  },
  {
   "cell_type": "code",
   "execution_count": 158,
   "metadata": {},
   "outputs": [
    {
     "data": {
      "text/html": [
       "<div>\n",
       "<style scoped>\n",
       "    .dataframe tbody tr th:only-of-type {\n",
       "        vertical-align: middle;\n",
       "    }\n",
       "\n",
       "    .dataframe tbody tr th {\n",
       "        vertical-align: top;\n",
       "    }\n",
       "\n",
       "    .dataframe thead th {\n",
       "        text-align: right;\n",
       "    }\n",
       "</style>\n",
       "<table border=\"1\" class=\"dataframe\">\n",
       "  <thead>\n",
       "    <tr style=\"text-align: right;\">\n",
       "      <th></th>\n",
       "      <th>feature_importances</th>\n",
       "    </tr>\n",
       "  </thead>\n",
       "  <tbody>\n",
       "    <tr>\n",
       "      <td>code_CS300013</td>\n",
       "      <td>0.00</td>\n",
       "    </tr>\n",
       "    <tr>\n",
       "      <td>code_CS300014</td>\n",
       "      <td>0.00</td>\n",
       "    </tr>\n",
       "    <tr>\n",
       "      <td>code_CS300015</td>\n",
       "      <td>0.01</td>\n",
       "    </tr>\n",
       "    <tr>\n",
       "      <td>code_CS300016</td>\n",
       "      <td>0.00</td>\n",
       "    </tr>\n",
       "    <tr>\n",
       "      <td>code_CS300017</td>\n",
       "      <td>0.00</td>\n",
       "    </tr>\n",
       "  </tbody>\n",
       "</table>\n",
       "</div>"
      ],
      "text/plain": [
       "               feature_importances\n",
       "code_CS300013                 0.00\n",
       "code_CS300014                 0.00\n",
       "code_CS300015                 0.01\n",
       "code_CS300016                 0.00\n",
       "code_CS300017                 0.00"
      ]
     },
     "execution_count": 158,
     "metadata": {},
     "output_type": "execute_result"
    }
   ],
   "source": [
    "feat_imp.columns = ['feature_importances']\n",
    "feat_imp.tail()"
   ]
  },
  {
   "cell_type": "code",
   "execution_count": 159,
   "metadata": {},
   "outputs": [
    {
     "data": {
      "text/html": [
       "<div>\n",
       "<style scoped>\n",
       "    .dataframe tbody tr th:only-of-type {\n",
       "        vertical-align: middle;\n",
       "    }\n",
       "\n",
       "    .dataframe tbody tr th {\n",
       "        vertical-align: top;\n",
       "    }\n",
       "\n",
       "    .dataframe thead th {\n",
       "        text-align: right;\n",
       "    }\n",
       "</style>\n",
       "<table border=\"1\" class=\"dataframe\">\n",
       "  <thead>\n",
       "    <tr style=\"text-align: right;\">\n",
       "      <th></th>\n",
       "      <th>feature_importances</th>\n",
       "    </tr>\n",
       "  </thead>\n",
       "  <tbody>\n",
       "    <tr>\n",
       "      <td>s_store_no_of_closing</td>\n",
       "      <td>0.01</td>\n",
       "    </tr>\n",
       "    <tr>\n",
       "      <td>code_CS300015</td>\n",
       "      <td>0.01</td>\n",
       "    </tr>\n",
       "    <tr>\n",
       "      <td>district_1000935</td>\n",
       "      <td>0.01</td>\n",
       "    </tr>\n",
       "    <tr>\n",
       "      <td>s_store_no_of_opening</td>\n",
       "      <td>0.01</td>\n",
       "    </tr>\n",
       "    <tr>\n",
       "      <td>code_CS300012</td>\n",
       "      <td>0.00</td>\n",
       "    </tr>\n",
       "    <tr>\n",
       "      <td>...</td>\n",
       "      <td>...</td>\n",
       "    </tr>\n",
       "    <tr>\n",
       "      <td>district_1000431</td>\n",
       "      <td>0.00</td>\n",
       "    </tr>\n",
       "    <tr>\n",
       "      <td>district_1000970</td>\n",
       "      <td>0.00</td>\n",
       "    </tr>\n",
       "    <tr>\n",
       "      <td>district_1000330</td>\n",
       "      <td>0.00</td>\n",
       "    </tr>\n",
       "    <tr>\n",
       "      <td>district_1000841</td>\n",
       "      <td>0.00</td>\n",
       "    </tr>\n",
       "    <tr>\n",
       "      <td>district_1000275</td>\n",
       "      <td>0.00</td>\n",
       "    </tr>\n",
       "  </tbody>\n",
       "</table>\n",
       "<p>1047 rows × 1 columns</p>\n",
       "</div>"
      ],
      "text/plain": [
       "                       feature_importances\n",
       "s_store_no_of_closing                 0.01\n",
       "code_CS300015                         0.01\n",
       "district_1000935                      0.01\n",
       "s_store_no_of_opening                 0.01\n",
       "code_CS300012                         0.00\n",
       "...                                    ...\n",
       "district_1000431                      0.00\n",
       "district_1000970                      0.00\n",
       "district_1000330                      0.00\n",
       "district_1000841                      0.00\n",
       "district_1000275                      0.00\n",
       "\n",
       "[1047 rows x 1 columns]"
      ]
     },
     "execution_count": 159,
     "metadata": {},
     "output_type": "execute_result"
    }
   ],
   "source": [
    "feat_imp[feat_imp['feature_importances'] < 0.01].sort_values(by='feature_importances', ascending=False)"
   ]
  },
  {
   "cell_type": "code",
   "execution_count": 160,
   "metadata": {},
   "outputs": [],
   "source": [
    "barchart_df = feat_imp[feat_imp['feature_importances'] >= 0.01].sort_values(by='feature_importances', ascending=False)"
   ]
  },
  {
   "cell_type": "code",
   "execution_count": 161,
   "metadata": {},
   "outputs": [
    {
     "data": {
      "text/plain": [
       "<matplotlib.axes._subplots.AxesSubplot at 0x7fb0642c0b10>"
      ]
     },
     "execution_count": 161,
     "metadata": {},
     "output_type": "execute_result"
    },
    {
     "data": {
      "image/png": "[encoded data removed]",
      "text/plain": [
       "<Figure size 2400x1500 with 1 Axes>"
      ]
     },
     "metadata": {
      "needs_background": "light"
     },
     "output_type": "display_data"
    }
   ],
   "source": [
    "barchart_df.plot.barh()"
   ]
  },
  {
   "cell_type": "code",
   "execution_count": 162,
   "metadata": {},
   "outputs": [
    {
     "name": "stdout",
     "output_type": "stream",
     "text": [
      "Mean Absolute Error: 370127595.3246573\n",
      "Mean Squared Error: 6.607274844680408e+17\n",
      "Root Mean Squared Error: 812851452.8916343\n"
     ]
    }
   ],
   "source": [
    "y_pred = model.predict(Xs_test)\n",
    "print('Mean Absolute Error:', metrics.mean_absolute_error(y_test, y_pred))  \n",
    "print('Mean Squared Error:', metrics.mean_squared_error(y_test, y_pred))  \n",
    "print('Root Mean Squared Error:', np.sqrt(metrics.mean_squared_error(y_test, y_pred)))"
   ]
  },
  {
   "cell_type": "code",
   "execution_count": 163,
   "metadata": {},
   "outputs": [],
   "source": [
    "cv_results = cross_validate(model, Xs_test, y_test, scoring=('r2', \n",
    "                                                             'neg_mean_squared_error', \n",
    "                                                             'neg_mean_absolute_error'), \n",
    "                            cv=cv, \n",
    "                            n_jobs=-1)"
   ]
  },
  {
   "cell_type": "code",
   "execution_count": 164,
   "metadata": {},
   "outputs": [
    {
     "name": "stdout",
     "output_type": "stream",
     "text": [
      "R-Squared 평균: 0.5514172901123027\n",
      "MSE 평균: 1.2173343339772063e+18\n",
      "MAE 평균: 471114734.67388266\n",
      "RMSE 평균: 1095270005.9121509\n"
     ]
    }
   ],
   "source": [
    "print('R-Squared 평균:', cv_results['test_r2'].mean())\n",
    "print('MSE 평균:', -cv_results['test_neg_mean_squared_error'].mean())\n",
    "print('MAE 평균:', -cv_results['test_neg_mean_absolute_error'].mean())\n",
    "print('RMSE 평균:', np.sqrt(-cv_results['test_neg_mean_squared_error']).mean())"
   ]
  },
  {
   "cell_type": "code",
   "execution_count": null,
   "metadata": {},
   "outputs": [],
   "source": []
  },
  {
   "cell_type": "code",
   "execution_count": null,
   "metadata": {},
   "outputs": [],
   "source": []
  },
  {
   "cell_type": "code",
   "execution_count": null,
   "metadata": {},
   "outputs": [],
   "source": []
  },
  {
   "cell_type": "code",
   "execution_count": null,
   "metadata": {},
   "outputs": [],
   "source": []
  }
 ],
 "metadata": {
  "kernelspec": {
   "display_name": "Python 3",
   "language": "python",
   "name": "python3"
  },
  "language_info": {
   "codemirror_mode": {
    "name": "ipython",
    "version": 3
   },
   "file_extension": ".py",
   "mimetype": "text/x-python",
   "name": "python",
   "nbconvert_exporter": "python",
   "pygments_lexer": "ipython3",
   "version": "3.7.4"
  }
 },
 "nbformat": 4,
 "nbformat_minor": 2
}
