{
  "nbformat": 4,
  "nbformat_minor": 0,
  "metadata": {
    "kernelspec": {
      "name": "python3",
      "display_name": "Python 3"
    },
    "language_info": {
      "codemirror_mode": {
        "name": "ipython",
        "version": 3
      },
      "file_extension": ".py",
      "mimetype": "text/x-python",
      "name": "python",
      "nbconvert_exporter": "python",
      "pygments_lexer": "ipython3",
      "version": "3.7.4"
    },
    "colab": {
      "name": "17_random_forest_regression_retry-Copy1.ipynb",
      "provenance": [],
      "machine_shape": "hm"
    },
    "accelerator": "GPU"
  },
  "cells": [
    {
      "cell_type": "markdown",
      "metadata": {
        "id": "65XTbugVq_Vv",
        "colab_type": "text"
      },
      "source": [
        "## Random Forest Regression\n",
        "- 시도1"
      ]
    },
    {
      "cell_type": "code",
      "metadata": {
        "id": "_hYucMq2q_Vy",
        "colab_type": "code",
        "colab": {}
      },
      "source": [
        "import pandas as pd \n",
        "df = pd.read_csv('df_grouped_rate.csv') #폴더 위치는 상이할 수 있음\n"
      ],
      "execution_count": 0,
      "outputs": []
    },
    {
      "cell_type": "code",
      "metadata": {
        "id": "2wyO9eCsq_V3",
        "colab_type": "code",
        "colab": {}
      },
      "source": [
        "y=df.iloc[:,3:4]\n",
        "# y"
      ],
      "execution_count": 0,
      "outputs": []
    },
    {
      "cell_type": "code",
      "metadata": {
        "id": "KKD4GlmXq_V7",
        "colab_type": "code",
        "colab": {}
      },
      "source": [
        "X= df.iloc[:,1:].drop(['sales_total','code'],axis=1)\n",
        "# X"
      ],
      "execution_count": 0,
      "outputs": []
    },
    {
      "cell_type": "code",
      "metadata": {
        "id": "29n5L2A-q_V_",
        "colab_type": "code",
        "colab": {}
      },
      "source": [
        "# 더미변수화\n",
        "X_dum1 = pd.get_dummies(X.iloc[:,0])  #district는 범주형으로 인식 안해서 따로 실시\n",
        "X_dum2 = pd.get_dummies(X.iloc[:,1:])\n",
        "X = pd.concat([X_dum1, X_dum2],axis=1)"
      ],
      "execution_count": 0,
      "outputs": []
    },
    {
      "cell_type": "code",
      "metadata": {
        "id": "zu8U54Bwq_WD",
        "colab_type": "code",
        "colab": {}
      },
      "source": [
        "from sklearn.model_selection import train_test_split\n",
        "from sklearn.preprocessing import RobustScaler\n",
        "# Train-test split\n",
        "X_train, X_test, y_train, y_test = train_test_split(X, y, test_size=0.2, random_state=0) # y 값이 정의되지 않아 df.sales_total 으로 대체하겠습니다.\n",
        "\n",
        "Xs_train = X_train\n",
        "Xs_test = X_test"
      ],
      "execution_count": 0,
      "outputs": []
    },
    {
      "cell_type": "code",
      "metadata": {
        "id": "mYTkMtxn8zq1",
        "colab_type": "code",
        "colab": {
          "base_uri": "https://localhost:8080/",
          "height": 241
        },
        "outputId": "f776ce09-1d3f-4d86-aefe-197b52288fa5"
      },
      "source": [
        "Xs_test.columns"
      ],
      "execution_count": 27,
      "outputs": [
        {
          "output_type": "execute_result",
          "data": {
            "text/plain": [
              "Index([                   1000001,                    1000002,\n",
              "                          1000003,                    1000004,\n",
              "                          1000005,                    1000006,\n",
              "                          1000007,                    1000008,\n",
              "                          1000009,                    1000010,\n",
              "       ...\n",
              "                'b_apt_avg_price', 'b_income_avg_monthly_inc',\n",
              "                  'sales_weekday',             'sales_female',\n",
              "                    'sales_2030s',              'sales_06_11',\n",
              "                    'sales_11_14',              'sales_14_17',\n",
              "                    'sales_17_21',              'sales_21_24'],\n",
              "      dtype='object', length=1024)"
            ]
          },
          "metadata": {
            "tags": []
          },
          "execution_count": 27
        }
      ]
    },
    {
      "cell_type": "code",
      "metadata": {
        "id": "qTTAWShwq_WH",
        "colab_type": "code",
        "colab": {
          "base_uri": "https://localhost:8080/",
          "height": 75
        },
        "outputId": "933ab7ac-a7c7-4feb-bd07-d5a04625beff"
      },
      "source": [
        "\n",
        "from sklearn.ensemble import RandomForestRegressor\n",
        "\n",
        "regr = RandomForestRegressor(n_estimators=50,max_depth=20, random_state=0,n_jobs=-1)\n",
        "model=regr.fit(Xs_train, y_train)\n",
        "y_pred=regr.predict(Xs_test)\n"
      ],
      "execution_count": 28,
      "outputs": [
        {
          "output_type": "stream",
          "text": [
            "/usr/local/lib/python3.6/dist-packages/ipykernel_launcher.py:5: DataConversionWarning: A column-vector y was passed when a 1d array was expected. Please change the shape of y to (n_samples,), for example using ravel().\n",
            "  \"\"\"\n"
          ],
          "name": "stderr"
        }
      ]
    },
    {
      "cell_type": "code",
      "metadata": {
        "id": "T2-XwGl4q_WM",
        "colab_type": "code",
        "colab": {
          "base_uri": "https://localhost:8080/",
          "height": 111
        },
        "outputId": "3aba2bc2-03ee-4f5e-a4f2-475be3527f95"
      },
      "source": [
        "import numpy as np\n",
        "# 정확도 결과값 \n",
        "print(model.score(Xs_train, y_train))\n",
        "print(model.score(Xs_test, y_test))\n",
        "# 오차 결과값\n",
        "\n",
        "from sklearn import metrics\n",
        "y_pred = model.predict(Xs_test)\n",
        "print('Mean Absolute Error:', metrics.mean_absolute_error(y_test, y_pred))  \n",
        "print('Mean Squared Error:', metrics.mean_squared_error(y_test, y_pred))  \n",
        "print('Root Mean Squared Error:', np.sqrt(metrics.mean_squared_error(y_test, y_pred)))"
      ],
      "execution_count": 29,
      "outputs": [
        {
          "output_type": "stream",
          "text": [
            "0.869802188449452\n",
            "0.6621879867968113\n",
            "Mean Absolute Error: 479049182.5763225\n",
            "Mean Squared Error: 9.116769554355263e+17\n",
            "Root Mean Squared Error: 954817760.3268209\n"
          ],
          "name": "stdout"
        }
      ]
    },
    {
      "cell_type": "code",
      "metadata": {
        "id": "_T6jaxNxGByy",
        "colab_type": "code",
        "colab": {}
      },
      "source": [
        "import pandas as pd \n",
        "df = pd.read_csv('df_grouped_rate.csv') #폴더 위치는 상이할 수 있음\n",
        "\n",
        "y=df.sort_values('sales_female')['sales_total']\n",
        "X =df.sort_values('sales_female').drop(['year','code','sales_total'],axis=1)\n",
        "X['district'] = X['district'].astype('object')\n",
        "X_dum = pd.get_dummies(X)\n",
        "y_pred = model.predict(X_dum)"
      ],
      "execution_count": 0,
      "outputs": []
    },
    {
      "cell_type": "code",
      "metadata": {
        "id": "AXkq8OP1Cdx1",
        "colab_type": "code",
        "colab": {
          "base_uri": "https://localhost:8080/",
          "height": 295
        },
        "outputId": "2e172b15-7967-4e17-c7c7-4e101d059858"
      },
      "source": [
        "import matplotlib.pyplot as plt\n",
        "\n",
        "# Visualising the Random Forest Regression results \n",
        "  \n",
        "# arange for creating a range of values \n",
        "# from min value of x to max  \n",
        "# value of x with a difference of 0.01  \n",
        "# between two consecutive values \n",
        "# X_grid = np.arange(min(X.sales_female), max(X.sales_female), 0.01)  \n",
        "  \n",
        "# reshape for reshaping the data into a len(X_grid)*1 array,  \n",
        "# i.e. to make a column out of the X_grid value                   \n",
        "X_grid = np.array(X['sales_female']).reshape((X.shape[0], 1)) \n",
        "  \n",
        "# Scatter plot for original data \n",
        "plt.scatter(X_grid, y_pred, color = 'blue')   \n",
        "  \n",
        "# plot predicted data \n",
        "plt.plot(X_grid, y,  \n",
        "         color = 'green')  \n",
        "plt.title('Random Forest Regression') \n",
        "plt.xlabel('Position level') \n",
        "plt.ylabel('Salary') \n",
        "plt.show()"
      ],
      "execution_count": 61,
      "outputs": [
        {
          "output_type": "display_data",
          "data": {
            "image/png": "[encoded data removed]",
            "text/plain": [
              "<Figure size 432x288 with 1 Axes>"
            ]
          },
          "metadata": {
            "tags": []
          }
        }
      ]
    },
    {
      "cell_type": "code",
      "metadata": {
        "id": "U1jf-q1cCDrN",
        "colab_type": "code",
        "colab": {
          "base_uri": "https://localhost:8080/",
          "height": 251
        },
        "outputId": "a69da1fc-d86f-4826-c5dc-d73021ab5502"
      },
      "source": [
        "from sklearn.externals.six import StringIO  \n",
        "from IPython.display import Image  \n",
        "from sklearn.tree import export_graphviz\n",
        "import pydotplus\n",
        "import os\n",
        "\n",
        "\n",
        "dot_data = StringIO()\n",
        "export_graphviz(model.decision_path.indicatior, out_file=dot_data)\n",
        "graph = pydotplus.graph_from_dot_data(dot_data.getvalue()) \n",
        "Image(graph.create_png())"
      ],
      "execution_count": 37,
      "outputs": [
        {
          "output_type": "error",
          "ename": "AttributeError",
          "evalue": "ignored",
          "traceback": [
            "\u001b[0;31m---------------------------------------------------------------------------\u001b[0m",
            "\u001b[0;31mAttributeError\u001b[0m                            Traceback (most recent call last)",
            "\u001b[0;32m<ipython-input-37-1f96e79ec884>\u001b[0m in \u001b[0;36m<module>\u001b[0;34m()\u001b[0m\n\u001b[1;32m      7\u001b[0m \u001b[0;34m\u001b[0m\u001b[0m\n\u001b[1;32m      8\u001b[0m \u001b[0mdot_data\u001b[0m \u001b[0;34m=\u001b[0m \u001b[0mStringIO\u001b[0m\u001b[0;34m(\u001b[0m\u001b[0;34m)\u001b[0m\u001b[0;34m\u001b[0m\u001b[0;34m\u001b[0m\u001b[0m\n\u001b[0;32m----> 9\u001b[0;31m \u001b[0mexport_graphviz\u001b[0m\u001b[0;34m(\u001b[0m\u001b[0mmodel\u001b[0m\u001b[0;34m.\u001b[0m\u001b[0mdecision_path\u001b[0m\u001b[0;34m.\u001b[0m\u001b[0mindicatior\u001b[0m\u001b[0;34m,\u001b[0m \u001b[0mout_file\u001b[0m\u001b[0;34m=\u001b[0m\u001b[0mdot_data\u001b[0m\u001b[0;34m)\u001b[0m\u001b[0;34m\u001b[0m\u001b[0;34m\u001b[0m\u001b[0m\n\u001b[0m\u001b[1;32m     10\u001b[0m \u001b[0mgraph\u001b[0m \u001b[0;34m=\u001b[0m \u001b[0mpydotplus\u001b[0m\u001b[0;34m.\u001b[0m\u001b[0mgraph_from_dot_data\u001b[0m\u001b[0;34m(\u001b[0m\u001b[0mdot_data\u001b[0m\u001b[0;34m.\u001b[0m\u001b[0mgetvalue\u001b[0m\u001b[0;34m(\u001b[0m\u001b[0;34m)\u001b[0m\u001b[0;34m)\u001b[0m\u001b[0;34m\u001b[0m\u001b[0;34m\u001b[0m\u001b[0m\n\u001b[1;32m     11\u001b[0m \u001b[0mImage\u001b[0m\u001b[0;34m(\u001b[0m\u001b[0mgraph\u001b[0m\u001b[0;34m.\u001b[0m\u001b[0mcreate_png\u001b[0m\u001b[0;34m(\u001b[0m\u001b[0;34m)\u001b[0m\u001b[0;34m)\u001b[0m\u001b[0;34m\u001b[0m\u001b[0;34m\u001b[0m\u001b[0m\n",
            "\u001b[0;31mAttributeError\u001b[0m: 'function' object has no attribute 'indicatior'"
          ]
        }
      ]
    },
    {
      "cell_type": "code",
      "metadata": {
        "id": "jRXKJY-tq_Wb",
        "colab_type": "code",
        "colab": {}
      },
      "source": [
        "plot_forest(20)"
      ],
      "execution_count": 0,
      "outputs": []
    },
    {
      "cell_type": "code",
      "metadata": {
        "id": "23YGA1OMq_We",
        "colab_type": "code",
        "colab": {},
        "outputId": "f4a11c24-2231-42aa-e2e4-831cbe8defd3"
      },
      "source": [
        "from sklearn.metrics import r2_score\n",
        "print(\"R-Squared score:\", r2_score(y_test , y_pred))"
      ],
      "execution_count": 0,
      "outputs": [
        {
          "output_type": "stream",
          "text": [
            "R-Squared score: 0.7151252214520722\n"
          ],
          "name": "stdout"
        }
      ]
    },
    {
      "cell_type": "code",
      "metadata": {
        "id": "7g96YATnq_Wh",
        "colab_type": "code",
        "colab": {}
      },
      "source": [
        "yy_test=np.array(y_test).reshape(-1,)"
      ],
      "execution_count": 0,
      "outputs": []
    },
    {
      "cell_type": "code",
      "metadata": {
        "id": "ha4c3nG5q_Wk",
        "colab_type": "code",
        "colab": {},
        "outputId": "976d2f72-dd3d-475c-ffc3-9eb22d251e6f"
      },
      "source": [
        "%matplotlib inline\n",
        "import seaborn as sns\n",
        "import matplotlib.pyplot as plt\n",
        "\n",
        "sns.kdeplot(y_pred)\n",
        "sns.kdeplot(yy_test)\n",
        "plt.show()"
      ],
      "execution_count": 0,
      "outputs": [
        {
          "output_type": "display_data",
          "data": {
            "image/png": "[encoded data removed]",
            "text/plain": [
              "<Figure size 432x288 with 1 Axes>"
            ]
          },
          "metadata": {
            "tags": [],
            "needs_background": "light"
          }
        }
      ]
    },
    {
      "cell_type": "code",
      "metadata": {
        "id": "bByaM6wRq_Wn",
        "colab_type": "code",
        "colab": {},
        "outputId": "e9221154-3e3b-4a86-a4f3-f84ef7201f0b"
      },
      "source": [
        "from sklearn.model_selection import cross_val_score\n",
        "\n",
        "scores = cross_val_score(model, X, y, cv=5)\n",
        "print(scores.mean())\n",
        "scores\n",
        "    "
      ],
      "execution_count": 0,
      "outputs": [
        {
          "output_type": "stream",
          "text": [
            "C:\\ProgramData\\Anaconda3\\lib\\site-packages\\sklearn\\model_selection\\_validation.py:516: DataConversionWarning: A column-vector y was passed when a 1d array was expected. Please change the shape of y to (n_samples,), for example using ravel().\n",
            "  estimator.fit(X_train, y_train, **fit_params)\n",
            "C:\\ProgramData\\Anaconda3\\lib\\site-packages\\sklearn\\model_selection\\_validation.py:516: DataConversionWarning: A column-vector y was passed when a 1d array was expected. Please change the shape of y to (n_samples,), for example using ravel().\n",
            "  estimator.fit(X_train, y_train, **fit_params)\n",
            "C:\\ProgramData\\Anaconda3\\lib\\site-packages\\sklearn\\model_selection\\_validation.py:516: DataConversionWarning: A column-vector y was passed when a 1d array was expected. Please change the shape of y to (n_samples,), for example using ravel().\n",
            "  estimator.fit(X_train, y_train, **fit_params)\n",
            "C:\\ProgramData\\Anaconda3\\lib\\site-packages\\sklearn\\model_selection\\_validation.py:516: DataConversionWarning: A column-vector y was passed when a 1d array was expected. Please change the shape of y to (n_samples,), for example using ravel().\n",
            "  estimator.fit(X_train, y_train, **fit_params)\n",
            "C:\\ProgramData\\Anaconda3\\lib\\site-packages\\sklearn\\model_selection\\_validation.py:516: DataConversionWarning: A column-vector y was passed when a 1d array was expected. Please change the shape of y to (n_samples,), for example using ravel().\n",
            "  estimator.fit(X_train, y_train, **fit_params)\n"
          ],
          "name": "stderr"
        },
        {
          "output_type": "stream",
          "text": [
            "0.6440405968049462\n"
          ],
          "name": "stdout"
        },
        {
          "output_type": "execute_result",
          "data": {
            "text/plain": [
              "array([0.72461305, 0.78218288, 0.80032656, 0.7133037 , 0.19977679])"
            ]
          },
          "metadata": {
            "tags": []
          },
          "execution_count": 11
        }
      ]
    },
    {
      "cell_type": "markdown",
      "metadata": {
        "id": "QF8GU9zcq_Wr",
        "colab_type": "text"
      },
      "source": [
        "- 시도2"
      ]
    },
    {
      "cell_type": "code",
      "metadata": {
        "id": "qTDwJdtTq_Ws",
        "colab_type": "code",
        "colab": {}
      },
      "source": [
        "from sklearn.model_selection import train_test_split\n",
        "from sklearn.preprocessing import RobustScaler\n",
        "# Train-test split\n",
        "X_train, X_test, y_train, y_test = train_test_split(X, y, test_size=0.4, random_state=0) # y 값이 정의되지 않아 df.sales_total 으로 대체하겠습니다.\n",
        "\n",
        "Xs_train = X_train\n",
        "Xs_test = X_test"
      ],
      "execution_count": 0,
      "outputs": []
    },
    {
      "cell_type": "code",
      "metadata": {
        "id": "qKaAe37Mq_Wv",
        "colab_type": "code",
        "colab": {},
        "outputId": "ea94bf5f-9b14-42da-e998-6dc6f2839e0d"
      },
      "source": [
        "\n",
        "from sklearn.ensemble import RandomForestRegressor\n",
        "\n",
        "regr = RandomForestRegressor(n_estimators=100,max_depth=20, random_state=0,n_jobs=-1)\n",
        "model=regr.fit(Xs_train, y_train)\n",
        "y_pred=regr.predict(Xs_test)"
      ],
      "execution_count": 0,
      "outputs": [
        {
          "output_type": "stream",
          "text": [
            "C:\\ProgramData\\Anaconda3\\lib\\site-packages\\ipykernel_launcher.py:4: DataConversionWarning: A column-vector y was passed when a 1d array was expected. Please change the shape of y to (n_samples,), for example using ravel().\n",
            "  after removing the cwd from sys.path.\n"
          ],
          "name": "stderr"
        }
      ]
    },
    {
      "cell_type": "code",
      "metadata": {
        "id": "R1W0aaOlq_Wy",
        "colab_type": "code",
        "colab": {},
        "outputId": "597204de-3634-42dc-ef75-dfccedd6f493"
      },
      "source": [
        "import numpy as np\n",
        "# 정확도 결과값 \n",
        "print(model.score(Xs_train, y_train))\n",
        "print(model.score(Xs_test, y_test))\n",
        "# 오차 결과값\n",
        "\n",
        "from sklearn import metrics\n",
        "y_pred = model.predict(Xs_test)\n",
        "print('Mean Absolute Error:', metrics.mean_absolute_error(y_test, y_pred))  \n",
        "print('Mean Squared Error:', metrics.mean_squared_error(y_test, y_pred))  \n",
        "print('Root Mean Squared Error:', np.sqrt(metrics.mean_squared_error(y_test, y_pred)))"
      ],
      "execution_count": 0,
      "outputs": [
        {
          "output_type": "stream",
          "text": [
            "0.888042757538823\n",
            "0.6840583239471396\n",
            "Mean Absolute Error: 453233897.6258399\n",
            "Mean Squared Error: 9.05561715199091e+17\n",
            "Root Mean Squared Error: 951610064.6793785\n"
          ],
          "name": "stdout"
        }
      ]
    },
    {
      "cell_type": "code",
      "metadata": {
        "id": "YKLcs9pCq_W0",
        "colab_type": "code",
        "colab": {},
        "outputId": "3c798411-31a3-40c7-8bca-caba73d45072"
      },
      "source": [
        "from sklearn.metrics import r2_score\n",
        "print(\"R-Squared score:\", r2_score(y_test , y_pred))"
      ],
      "execution_count": 0,
      "outputs": [
        {
          "output_type": "stream",
          "text": [
            "R-Squared score: 0.6840583239471396\n"
          ],
          "name": "stdout"
        }
      ]
    },
    {
      "cell_type": "code",
      "metadata": {
        "id": "0-eIIPlTq_W6",
        "colab_type": "code",
        "colab": {},
        "outputId": "0393ee75-93d2-44a4-cf5f-2f2c38902759"
      },
      "source": [
        "%matplotlib inline\n",
        "import seaborn as sns\n",
        "import matplotlib.pyplot as plt\n",
        "\n",
        "sns.kdeplot(y_pred)\n",
        "sns.kdeplot(yy_test)\n",
        "plt.show()"
      ],
      "execution_count": 0,
      "outputs": [
        {
          "output_type": "display_data",
          "data": {
            "image/png": "[encoded data removed]",
            "text/plain": [
              "<Figure size 432x288 with 1 Axes>"
            ]
          },
          "metadata": {
            "tags": [],
            "needs_background": "light"
          }
        }
      ]
    },
    {
      "cell_type": "code",
      "metadata": {
        "id": "hTbDkhekq_W-",
        "colab_type": "code",
        "colab": {},
        "outputId": "7f986e20-1cfc-46db-9443-f3a337813168"
      },
      "source": [
        "from sklearn.model_selection import cross_val_score\n",
        "\n",
        "scores = cross_val_score(model, X, y, cv=5)\n",
        "print(scores.mean())\n",
        "scores\n",
        "    "
      ],
      "execution_count": 0,
      "outputs": [
        {
          "output_type": "stream",
          "text": [
            "C:\\ProgramData\\Anaconda3\\lib\\site-packages\\sklearn\\model_selection\\_validation.py:516: DataConversionWarning: A column-vector y was passed when a 1d array was expected. Please change the shape of y to (n_samples,), for example using ravel().\n",
            "  estimator.fit(X_train, y_train, **fit_params)\n",
            "C:\\ProgramData\\Anaconda3\\lib\\site-packages\\sklearn\\model_selection\\_validation.py:516: DataConversionWarning: A column-vector y was passed when a 1d array was expected. Please change the shape of y to (n_samples,), for example using ravel().\n",
            "  estimator.fit(X_train, y_train, **fit_params)\n",
            "C:\\ProgramData\\Anaconda3\\lib\\site-packages\\sklearn\\model_selection\\_validation.py:516: DataConversionWarning: A column-vector y was passed when a 1d array was expected. Please change the shape of y to (n_samples,), for example using ravel().\n",
            "  estimator.fit(X_train, y_train, **fit_params)\n",
            "C:\\ProgramData\\Anaconda3\\lib\\site-packages\\sklearn\\model_selection\\_validation.py:516: DataConversionWarning: A column-vector y was passed when a 1d array was expected. Please change the shape of y to (n_samples,), for example using ravel().\n",
            "  estimator.fit(X_train, y_train, **fit_params)\n",
            "C:\\ProgramData\\Anaconda3\\lib\\site-packages\\sklearn\\model_selection\\_validation.py:516: DataConversionWarning: A column-vector y was passed when a 1d array was expected. Please change the shape of y to (n_samples,), for example using ravel().\n",
            "  estimator.fit(X_train, y_train, **fit_params)\n"
          ],
          "name": "stderr"
        },
        {
          "output_type": "stream",
          "text": [
            "0.6496768044200645\n"
          ],
          "name": "stdout"
        },
        {
          "output_type": "execute_result",
          "data": {
            "text/plain": [
              "array([0.72817725, 0.78707428, 0.80317068, 0.71905445, 0.21090737])"
            ]
          },
          "metadata": {
            "tags": []
          },
          "execution_count": 18
        }
      ]
    },
    {
      "cell_type": "code",
      "metadata": {
        "id": "hxt7Rhp5q_XA",
        "colab_type": "code",
        "colab": {}
      },
      "source": [
        ""
      ],
      "execution_count": 0,
      "outputs": []
    }
  ]
}