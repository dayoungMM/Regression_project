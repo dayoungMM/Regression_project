{
 "cells": [
  {
   "cell_type": "code",
   "execution_count": 2,
   "metadata": {},
   "outputs": [],
   "source": [
    "#데이터 로드\n",
    "b_income = pd.read_csv(\"b_income.csv\", encoding='euc-kr' )\n",
    "b_apt = pd.read_csv(\"b_apt.csv\", encoding='utf-8' )\n",
    "sales = pd.read_csv(\"sales_rate.csv\", encoding='euc-kr' )"
   ]
  },
  {
   "cell_type": "markdown",
   "metadata": {},
   "source": [
    "#### 1. 매출 데이터 rate변수들 생성"
   ]
  },
  {
   "cell_type": "code",
   "execution_count": 3,
   "metadata": {},
   "outputs": [
    {
     "data": {
      "text/html": [
       "<div>\n",
       "<style scoped>\n",
       "    .dataframe tbody tr th:only-of-type {\n",
       "        vertical-align: middle;\n",
       "    }\n",
       "\n",
       "    .dataframe tbody tr th {\n",
       "        vertical-align: top;\n",
       "    }\n",
       "\n",
       "    .dataframe thead th {\n",
       "        text-align: right;\n",
       "    }\n",
       "</style>\n",
       "<table border=\"1\" class=\"dataframe\">\n",
       "  <thead>\n",
       "    <tr style=\"text-align: right;\">\n",
       "      <th></th>\n",
       "      <th>기준_년_코드</th>\n",
       "      <th>기준_분기_코드</th>\n",
       "      <th>상권_코드</th>\n",
       "      <th>서비스_업종_코드</th>\n",
       "      <th>당월_매출_금액</th>\n",
       "      <th>day_sales</th>\n",
       "      <th>weekend_sale</th>\n",
       "      <th>female/male</th>\n",
       "      <th>Age_2040</th>\n",
       "      <th>Age_total</th>\n",
       "      <th>06~11rate</th>\n",
       "      <th>11~14rate</th>\n",
       "      <th>14~17rate</th>\n",
       "      <th>17~21rate</th>\n",
       "      <th>21~24rate</th>\n",
       "    </tr>\n",
       "  </thead>\n",
       "  <tbody>\n",
       "    <tr>\n",
       "      <td>140649</td>\n",
       "      <td>2018</td>\n",
       "      <td>4</td>\n",
       "      <td>1001496</td>\n",
       "      <td>CS300017</td>\n",
       "      <td>188774483.0</td>\n",
       "      <td>136759824</td>\n",
       "      <td>52014659</td>\n",
       "      <td>0.449413369</td>\n",
       "      <td>102869145</td>\n",
       "      <td>188774483</td>\n",
       "      <td>0.289167</td>\n",
       "      <td>0.289616</td>\n",
       "      <td>0.266074</td>\n",
       "      <td>0.048821</td>\n",
       "      <td>0.03449</td>\n",
       "    </tr>\n",
       "  </tbody>\n",
       "</table>\n",
       "</div>"
      ],
      "text/plain": [
       "        기준_년_코드  기준_분기_코드    상권_코드 서비스_업종_코드     당월_매출_금액  day_sales  \\\n",
       "140649     2018         4  1001496  CS300017  188774483.0  136759824   \n",
       "\n",
       "        weekend_sale  female/male   Age_2040  Age_total  06~11rate  11~14rate  \\\n",
       "140649      52014659  0.449413369  102869145  188774483   0.289167   0.289616   \n",
       "\n",
       "        14~17rate  17~21rate  21~24rate  \n",
       "140649   0.266074   0.048821    0.03449  "
      ]
     },
     "execution_count": 3,
     "metadata": {},
     "output_type": "execute_result"
    }
   ],
   "source": [
    "sales.tail(1)"
   ]
  },
  {
   "cell_type": "code",
   "execution_count": 9,
   "metadata": {},
   "outputs": [],
   "source": [
    "def make_nan(x):\n",
    "    if x==0:\n",
    "        return np.nan\n",
    "    else :\n",
    "        return x\n",
    "    \n",
    "for col in sales.columns :\n",
    "    sales[col] = sales[col].apply(make_nan)\n",
    "#nan값이 하나라도 있는 행은 없애기\n",
    "import missingno as msno\n",
    "sales=sales.dropna(axis=0)\n",
    "# msno.bar(df)\n",
    "# plt.show()\n",
    "# 데이터가 80% 이상이 없는 열을 삭제\n",
    "sales = sales.dropna(thresh=int(len(sales) * 0.8), axis=1)\n",
    "# msno.matrix(df)\n",
    "# plt.show()# 데이터가 80% 이상 있는열만 남김\n",
    "sales = sales.dropna(thresh=int(len(sales) * 0.8), axis=1)\n",
    "# msno.matrix(df)\n",
    "# plt.show()"
   ]
  },
  {
   "cell_type": "code",
   "execution_count": 10,
   "metadata": {},
   "outputs": [
    {
     "data": {
      "text/html": [
       "<div>\n",
       "<style scoped>\n",
       "    .dataframe tbody tr th:only-of-type {\n",
       "        vertical-align: middle;\n",
       "    }\n",
       "\n",
       "    .dataframe tbody tr th {\n",
       "        vertical-align: top;\n",
       "    }\n",
       "\n",
       "    .dataframe thead th {\n",
       "        text-align: right;\n",
       "    }\n",
       "</style>\n",
       "<table border=\"1\" class=\"dataframe\">\n",
       "  <thead>\n",
       "    <tr style=\"text-align: right;\">\n",
       "      <th></th>\n",
       "      <th>기준_년_코드</th>\n",
       "      <th>기준_분기_코드</th>\n",
       "      <th>상권_코드</th>\n",
       "      <th>서비스_업종_코드</th>\n",
       "      <th>당월_매출_금액</th>\n",
       "      <th>day_sales</th>\n",
       "      <th>weekend_sale</th>\n",
       "      <th>female/male</th>\n",
       "      <th>Age_2040</th>\n",
       "      <th>Age_total</th>\n",
       "      <th>06~11rate</th>\n",
       "      <th>11~14rate</th>\n",
       "      <th>14~17rate</th>\n",
       "      <th>17~21rate</th>\n",
       "      <th>21~24rate</th>\n",
       "      <th>day/weekend</th>\n",
       "    </tr>\n",
       "  </thead>\n",
       "  <tbody>\n",
       "    <tr>\n",
       "      <td>140649</td>\n",
       "      <td>2018</td>\n",
       "      <td>4</td>\n",
       "      <td>1001496</td>\n",
       "      <td>CS300017</td>\n",
       "      <td>188774483.0</td>\n",
       "      <td>136759824.0</td>\n",
       "      <td>52014659.0</td>\n",
       "      <td>0.449413369</td>\n",
       "      <td>102869145.0</td>\n",
       "      <td>188774483</td>\n",
       "      <td>0.289167</td>\n",
       "      <td>0.289616</td>\n",
       "      <td>0.266074</td>\n",
       "      <td>0.048821</td>\n",
       "      <td>0.03449</td>\n",
       "      <td>2.629255</td>\n",
       "    </tr>\n",
       "  </tbody>\n",
       "</table>\n",
       "</div>"
      ],
      "text/plain": [
       "        기준_년_코드  기준_분기_코드    상권_코드 서비스_업종_코드     당월_매출_금액    day_sales  \\\n",
       "140649     2018         4  1001496  CS300017  188774483.0  136759824.0   \n",
       "\n",
       "        weekend_sale  female/male     Age_2040  Age_total  06~11rate  \\\n",
       "140649    52014659.0  0.449413369  102869145.0  188774483   0.289167   \n",
       "\n",
       "        11~14rate  14~17rate  17~21rate  21~24rate  day/weekend  \n",
       "140649   0.289616   0.266074   0.048821    0.03449     2.629255  "
      ]
     },
     "execution_count": 10,
     "metadata": {},
     "output_type": "execute_result"
    }
   ],
   "source": [
    "sales.tail(1)"
   ]
  },
  {
   "cell_type": "code",
   "execution_count": 4,
   "metadata": {},
   "outputs": [
    {
     "data": {
      "text/html": [
       "<div>\n",
       "<style scoped>\n",
       "    .dataframe tbody tr th:only-of-type {\n",
       "        vertical-align: middle;\n",
       "    }\n",
       "\n",
       "    .dataframe tbody tr th {\n",
       "        vertical-align: top;\n",
       "    }\n",
       "\n",
       "    .dataframe thead th {\n",
       "        text-align: right;\n",
       "    }\n",
       "</style>\n",
       "<table border=\"1\" class=\"dataframe\">\n",
       "  <thead>\n",
       "    <tr style=\"text-align: right;\">\n",
       "      <th></th>\n",
       "      <th>기준_년_코드</th>\n",
       "      <th>상권_코드</th>\n",
       "      <th>서비스_업종_코드</th>\n",
       "      <th>당월_매출_금액</th>\n",
       "      <th>day/weekend</th>\n",
       "      <th>female/male</th>\n",
       "      <th>2030_rate</th>\n",
       "    </tr>\n",
       "  </thead>\n",
       "  <tbody>\n",
       "    <tr>\n",
       "      <th>140648</th>\n",
       "      <td>2018</td>\n",
       "      <td>1001496</td>\n",
       "      <td>CS300016</td>\n",
       "      <td>2.291867e+09</td>\n",
       "      <td>1.644081</td>\n",
       "      <td>2.244353</td>\n",
       "      <td>0.473024</td>\n",
       "    </tr>\n",
       "    <tr>\n",
       "      <th>140649</th>\n",
       "      <td>2018</td>\n",
       "      <td>1001496</td>\n",
       "      <td>CS300017</td>\n",
       "      <td>1.887745e+08</td>\n",
       "      <td>2.629255</td>\n",
       "      <td>0.449413</td>\n",
       "      <td>0.544931</td>\n",
       "    </tr>\n",
       "  </tbody>\n",
       "</table>\n",
       "</div>"
      ],
      "text/plain": [
       "        기준_년_코드    상권_코드 서비스_업종_코드      당월_매출_금액  day/weekend  female/male  \\\n",
       "140648     2018  1001496  CS300016  2.291867e+09     1.644081     2.244353   \n",
       "140649     2018  1001496  CS300017  1.887745e+08     2.629255     0.449413   \n",
       "\n",
       "        2030_rate  \n",
       "140648   0.473024  \n",
       "140649   0.544931  "
      ]
     },
     "execution_count": 4,
     "metadata": {},
     "output_type": "execute_result"
    }
   ],
   "source": [
    "sales['day/weekend'] = sales['day_sales']/sales[\"weekend_sale\"]\n",
    "sales['female/male'] = sales['여성_매출_금액']/ sales['남성_매출_금액']\n",
    "sales['2030_rate'] = sales['Age_2040']/sales['Age_total']\n",
    "sales[['기준_년_코드', '상권_코드', '서비스_업종_코드', '당월_매출_금액','day/weekend','female/male','2030_rate']].tail(2)\n",
    "# sales[sales.duplicated(['기준_년_코드', '기준_분기_코드','상권_코드','서비스_업종_코드'])]   #중복 있는지 확인"
   ]
  },
  {
   "cell_type": "code",
   "execution_count": 9,
   "metadata": {},
   "outputs": [
    {
     "data": {
      "text/plain": [
       "Index(['기준_년_코드', '기준_분기_코드', '상권_코드', '서비스_업종_코드', '당월_매출_금액', 'day_sales',\n",
       "       'weekend_sale', 'female/male', 'Age_2040', 'Age_total', '06~11rate',\n",
       "       '11~14rate', '14~17rate', '17~21rate', '21~24rate'],\n",
       "      dtype='object')"
      ]
     },
     "execution_count": 9,
     "metadata": {},
     "output_type": "execute_result"
    }
   ],
   "source": [
    "#세일데이터 추가결과(엑셀)\n",
    "sales.tail(1)\n",
    "sales.columns"
   ]
  },
  {
   "cell_type": "code",
   "execution_count": 16,
   "metadata": {},
   "outputs": [],
   "source": [
    "sales['day/weekend'] = sales['day_sales']/sales[\"weekend_sale\"]\n",
    "sales['2030_rate'] = sales['Age_2040']/sales['Age_total']\n",
    "sales_final= sales[['기준_년_코드', '기준_분기_코드', '상권_코드', '서비스_업종_코드', '당월_매출_금액', 'day/weekend', 'female/male', \\\n",
    "       '2030_rate', '06~11rate','11~14rate', '14~17rate', '17~21rate', '21~24rate', '2030_rate']]"
   ]
  },
  {
   "cell_type": "code",
   "execution_count": 17,
   "metadata": {},
   "outputs": [],
   "source": [
    "#저장\n",
    "sales_final.to_csv(\"sales_final.csv\", sep=\",\", encoding = 'euc-kr', index=False)"
   ]
  },
  {
   "cell_type": "markdown",
   "metadata": {},
   "source": [
    "#### 2. 아파트 데이터 가져오기"
   ]
  },
  {
   "cell_type": "code",
   "execution_count": 2,
   "metadata": {},
   "outputs": [
    {
     "data": {
      "text/plain": [
       "Index(['기준_년_코드', '기준_분기_코드', '상권_코드', '아파트_단지_수', '아파트_평균_면적', '아파트_평균_시가'], dtype='object')"
      ]
     },
     "execution_count": 2,
     "metadata": {},
     "output_type": "execute_result"
    }
   ],
   "source": [
    "b_apt.columns"
   ]
  },
  {
   "cell_type": "code",
   "execution_count": 4,
   "metadata": {},
   "outputs": [
    {
     "data": {
      "text/html": [
       "<div>\n",
       "<style scoped>\n",
       "    .dataframe tbody tr th:only-of-type {\n",
       "        vertical-align: middle;\n",
       "    }\n",
       "\n",
       "    .dataframe tbody tr th {\n",
       "        vertical-align: top;\n",
       "    }\n",
       "\n",
       "    .dataframe thead th {\n",
       "        text-align: right;\n",
       "    }\n",
       "</style>\n",
       "<table border=\"1\" class=\"dataframe\">\n",
       "  <thead>\n",
       "    <tr style=\"text-align: right;\">\n",
       "      <th></th>\n",
       "      <th>기준_년_코드</th>\n",
       "      <th>기준_분기_코드</th>\n",
       "      <th>상권_코드</th>\n",
       "      <th>아파트_단지_수</th>\n",
       "      <th>아파트_평균_면적</th>\n",
       "      <th>아파트_평균_시가</th>\n",
       "      <th>APT평균시가/단지수</th>\n",
       "      <th>APT평균시가/평균평수</th>\n",
       "    </tr>\n",
       "  </thead>\n",
       "  <tbody>\n",
       "    <tr>\n",
       "      <th>4033</th>\n",
       "      <td>2018</td>\n",
       "      <td>1</td>\n",
       "      <td>1000239</td>\n",
       "      <td>133</td>\n",
       "      <td>57</td>\n",
       "      <td>120515441</td>\n",
       "      <td>9.061311e+05</td>\n",
       "      <td>6.977210e+06</td>\n",
       "    </tr>\n",
       "    <tr>\n",
       "      <th>4034</th>\n",
       "      <td>2018</td>\n",
       "      <td>1</td>\n",
       "      <td>1000240</td>\n",
       "      <td>59</td>\n",
       "      <td>65</td>\n",
       "      <td>169612642</td>\n",
       "      <td>2.874791e+06</td>\n",
       "      <td>8.611103e+06</td>\n",
       "    </tr>\n",
       "    <tr>\n",
       "      <th>4035</th>\n",
       "      <td>2018</td>\n",
       "      <td>1</td>\n",
       "      <td>1000241</td>\n",
       "      <td>140</td>\n",
       "      <td>58</td>\n",
       "      <td>152445482</td>\n",
       "      <td>1.088896e+06</td>\n",
       "      <td>8.673622e+06</td>\n",
       "    </tr>\n",
       "  </tbody>\n",
       "</table>\n",
       "</div>"
      ],
      "text/plain": [
       "      기준_년_코드  기준_분기_코드    상권_코드  아파트_단지_수  아파트_평균_면적  아파트_평균_시가  \\\n",
       "4033     2018         1  1000239       133         57  120515441   \n",
       "4034     2018         1  1000240        59         65  169612642   \n",
       "4035     2018         1  1000241       140         58  152445482   \n",
       "\n",
       "       APT평균시가/단지수  APT평균시가/평균평수  \n",
       "4033  9.061311e+05  6.977210e+06  \n",
       "4034  2.874791e+06  8.611103e+06  \n",
       "4035  1.088896e+06  8.673622e+06  "
      ]
     },
     "execution_count": 4,
     "metadata": {},
     "output_type": "execute_result"
    }
   ],
   "source": [
    "b_apt['APT평균시가/단지수'] = b_apt['아파트_평균_시가']/ b_apt['아파트_단지_수']\n",
    "b_apt['APT평균시가/평균평수'] = b_apt['아파트_평균_시가']/ (b_apt['아파트_평균_면적']/3.3)\n",
    "b_apt.tail(3)"
   ]
  },
  {
   "cell_type": "code",
   "execution_count": 5,
   "metadata": {},
   "outputs": [],
   "source": [
    "#저장\n",
    "b_apt.to_csv(\"apt_rate.csv\", sep=\",\", encoding = 'euc-kr', index=False)"
   ]
  },
  {
   "cell_type": "markdown",
   "metadata": {},
   "source": [
    "#### 3. 배후지의 소득소비 데이터 가공하기"
   ]
  },
  {
   "cell_type": "code",
   "execution_count": 106,
   "metadata": {},
   "outputs": [
    {
     "data": {
      "text/plain": [
       "Index(['기준 년 코드', '기준_분기_코드', '상권_코드', '월_평균_소득_금액', '지출_총금액'], dtype='object')"
      ]
     },
     "execution_count": 106,
     "metadata": {},
     "output_type": "execute_result"
    }
   ],
   "source": [
    "b_income = b_income[['기준 년 코드', '기준_분기_코드', '상권_코드', \n",
    "       '월_평균_소득_금액', '지출_총금액']]\n",
    "b_income.columns"
   ]
  },
  {
   "cell_type": "code",
   "execution_count": 107,
   "metadata": {},
   "outputs": [],
   "source": [
    "#저장\n",
    "b_income.to_csv(\"b_income.csv\", sep=\",\", encoding = 'euc-kr', index=False)"
   ]
  },
  {
   "cell_type": "markdown",
   "metadata": {},
   "source": [
    "#### 4. merge"
   ]
  },
  {
   "cell_type": "code",
   "execution_count": 108,
   "metadata": {},
   "outputs": [],
   "source": [
    "sales_final = pd.read_csv(\"sales_final.csv\", encoding='euc-kr' )"
   ]
  },
  {
   "cell_type": "code",
   "execution_count": 99,
   "metadata": {},
   "outputs": [],
   "source": [
    "## 중복데이터 있는지 확인하기\n",
    "# sales_final[sales_final.duplicated(['기준_년_코드','기준_분기_코드','상권_코드',\"서비스_업종_코드\"])]\n",
    "# b_apt[b_apt.duplicated(['기준_년_코드','기준_분기_코드','상권_코드'])]\n",
    "# b_income[b_income.duplicated(['기준_년_코드','기준_분기_코드','상권_코드'])]"
   ]
  },
  {
   "cell_type": "code",
   "execution_count": 111,
   "metadata": {},
   "outputs": [
    {
     "data": {
      "text/html": [
       "<div>\n",
       "<style scoped>\n",
       "    .dataframe tbody tr th:only-of-type {\n",
       "        vertical-align: middle;\n",
       "    }\n",
       "\n",
       "    .dataframe tbody tr th {\n",
       "        vertical-align: top;\n",
       "    }\n",
       "\n",
       "    .dataframe thead th {\n",
       "        text-align: right;\n",
       "    }\n",
       "</style>\n",
       "<table border=\"1\" class=\"dataframe\">\n",
       "  <thead>\n",
       "    <tr style=\"text-align: right;\">\n",
       "      <th></th>\n",
       "      <th>기준_년_코드</th>\n",
       "      <th>기준_분기_코드</th>\n",
       "      <th>상권_코드</th>\n",
       "      <th>서비스_업종_코드</th>\n",
       "      <th>당월_매출_금액</th>\n",
       "      <th>day/weekend</th>\n",
       "      <th>female/male</th>\n",
       "      <th>2030_rate</th>\n",
       "      <th>06~11rate</th>\n",
       "      <th>11~14rate</th>\n",
       "      <th>14~17rate</th>\n",
       "      <th>17~21rate</th>\n",
       "      <th>21~24rate</th>\n",
       "      <th>2030_rate.1</th>\n",
       "      <th>아파트_단지_수</th>\n",
       "      <th>아파트_평균_면적</th>\n",
       "      <th>아파트_평균_시가</th>\n",
       "    </tr>\n",
       "  </thead>\n",
       "  <tbody>\n",
       "    <tr>\n",
       "      <th>92804</th>\n",
       "      <td>2018</td>\n",
       "      <td>4</td>\n",
       "      <td>1001010</td>\n",
       "      <td>CS300009</td>\n",
       "      <td>1.503286e+09</td>\n",
       "      <td>12.267540</td>\n",
       "      <td>0.897249267</td>\n",
       "      <td>0.178033</td>\n",
       "      <td>0.250454</td>\n",
       "      <td>0.318591</td>\n",
       "      <td>0.293769</td>\n",
       "      <td>0.137186</td>\n",
       "      <td>0.000000</td>\n",
       "      <td>0.178033</td>\n",
       "      <td>313</td>\n",
       "      <td>51</td>\n",
       "      <td>154040746</td>\n",
       "    </tr>\n",
       "    <tr>\n",
       "      <th>92805</th>\n",
       "      <td>2018</td>\n",
       "      <td>4</td>\n",
       "      <td>1001010</td>\n",
       "      <td>CS300011</td>\n",
       "      <td>1.044454e+07</td>\n",
       "      <td>3.219634</td>\n",
       "      <td>0.745104972</td>\n",
       "      <td>0.161850</td>\n",
       "      <td>0.037113</td>\n",
       "      <td>0.471734</td>\n",
       "      <td>0.288530</td>\n",
       "      <td>0.202623</td>\n",
       "      <td>0.000000</td>\n",
       "      <td>0.161850</td>\n",
       "      <td>313</td>\n",
       "      <td>51</td>\n",
       "      <td>154040746</td>\n",
       "    </tr>\n",
       "    <tr>\n",
       "      <th>92806</th>\n",
       "      <td>2018</td>\n",
       "      <td>4</td>\n",
       "      <td>1001010</td>\n",
       "      <td>CS300014</td>\n",
       "      <td>1.611965e+07</td>\n",
       "      <td>4.065346</td>\n",
       "      <td>1.84137941</td>\n",
       "      <td>0.547735</td>\n",
       "      <td>0.000000</td>\n",
       "      <td>0.284597</td>\n",
       "      <td>0.317045</td>\n",
       "      <td>0.349883</td>\n",
       "      <td>0.048475</td>\n",
       "      <td>0.547735</td>\n",
       "      <td>313</td>\n",
       "      <td>51</td>\n",
       "      <td>154040746</td>\n",
       "    </tr>\n",
       "    <tr>\n",
       "      <th>92807</th>\n",
       "      <td>2018</td>\n",
       "      <td>4</td>\n",
       "      <td>1001010</td>\n",
       "      <td>CS300016</td>\n",
       "      <td>6.958385e+06</td>\n",
       "      <td>1.852921</td>\n",
       "      <td>0.657664171</td>\n",
       "      <td>0.283103</td>\n",
       "      <td>0.150346</td>\n",
       "      <td>0.406846</td>\n",
       "      <td>0.191064</td>\n",
       "      <td>0.247071</td>\n",
       "      <td>0.004671</td>\n",
       "      <td>0.283103</td>\n",
       "      <td>313</td>\n",
       "      <td>51</td>\n",
       "      <td>154040746</td>\n",
       "    </tr>\n",
       "    <tr>\n",
       "      <th>92808</th>\n",
       "      <td>2018</td>\n",
       "      <td>4</td>\n",
       "      <td>1001010</td>\n",
       "      <td>CS300017</td>\n",
       "      <td>2.873564e+06</td>\n",
       "      <td>1.142856</td>\n",
       "      <td>#DIV/0!</td>\n",
       "      <td>0.568334</td>\n",
       "      <td>0.000000</td>\n",
       "      <td>0.123334</td>\n",
       "      <td>0.420000</td>\n",
       "      <td>0.456666</td>\n",
       "      <td>0.000000</td>\n",
       "      <td>0.568334</td>\n",
       "      <td>313</td>\n",
       "      <td>51</td>\n",
       "      <td>154040746</td>\n",
       "    </tr>\n",
       "  </tbody>\n",
       "</table>\n",
       "</div>"
      ],
      "text/plain": [
       "       기준_년_코드  기준_분기_코드    상권_코드 서비스_업종_코드      당월_매출_금액  day/weekend  \\\n",
       "92804     2018         4  1001010  CS300009  1.503286e+09    12.267540   \n",
       "92805     2018         4  1001010  CS300011  1.044454e+07     3.219634   \n",
       "92806     2018         4  1001010  CS300014  1.611965e+07     4.065346   \n",
       "92807     2018         4  1001010  CS300016  6.958385e+06     1.852921   \n",
       "92808     2018         4  1001010  CS300017  2.873564e+06     1.142856   \n",
       "\n",
       "       female/male  2030_rate  06~11rate  11~14rate  14~17rate  17~21rate  \\\n",
       "92804  0.897249267   0.178033   0.250454   0.318591   0.293769   0.137186   \n",
       "92805  0.745104972   0.161850   0.037113   0.471734   0.288530   0.202623   \n",
       "92806   1.84137941   0.547735   0.000000   0.284597   0.317045   0.349883   \n",
       "92807  0.657664171   0.283103   0.150346   0.406846   0.191064   0.247071   \n",
       "92808      #DIV/0!   0.568334   0.000000   0.123334   0.420000   0.456666   \n",
       "\n",
       "       21~24rate  2030_rate.1  아파트_단지_수  아파트_평균_면적  아파트_평균_시가  \n",
       "92804   0.000000     0.178033       313         51  154040746  \n",
       "92805   0.000000     0.161850       313         51  154040746  \n",
       "92806   0.048475     0.547735       313         51  154040746  \n",
       "92807   0.004671     0.283103       313         51  154040746  \n",
       "92808   0.000000     0.568334       313         51  154040746  "
      ]
     },
     "execution_count": 111,
     "metadata": {},
     "output_type": "execute_result"
    }
   ],
   "source": [
    "# 매출데이터, 아파트, 소득소비 merge\n",
    "df=pd.merge(sales_final,b_apt, on=['기준_년_코드', '기준_분기_코드', '상권_코드'])\n",
    "df.tail()"
   ]
  },
  {
   "cell_type": "code",
   "execution_count": 113,
   "metadata": {},
   "outputs": [],
   "source": [
    "b_income.columns= ['기준_년_코드', '기준_분기_코드', '상권_코드', '월_평균_소득_금액', '지출_총금액']"
   ]
  },
  {
   "cell_type": "code",
   "execution_count": 114,
   "metadata": {},
   "outputs": [
    {
     "data": {
      "text/html": [
       "<div>\n",
       "<style scoped>\n",
       "    .dataframe tbody tr th:only-of-type {\n",
       "        vertical-align: middle;\n",
       "    }\n",
       "\n",
       "    .dataframe tbody tr th {\n",
       "        vertical-align: top;\n",
       "    }\n",
       "\n",
       "    .dataframe thead th {\n",
       "        text-align: right;\n",
       "    }\n",
       "</style>\n",
       "<table border=\"1\" class=\"dataframe\">\n",
       "  <thead>\n",
       "    <tr style=\"text-align: right;\">\n",
       "      <th></th>\n",
       "      <th>기준_년_코드</th>\n",
       "      <th>기준_분기_코드</th>\n",
       "      <th>상권_코드</th>\n",
       "      <th>서비스_업종_코드</th>\n",
       "      <th>당월_매출_금액</th>\n",
       "      <th>day/weekend</th>\n",
       "      <th>female/male</th>\n",
       "      <th>2030_rate</th>\n",
       "      <th>06~11rate</th>\n",
       "      <th>11~14rate</th>\n",
       "      <th>14~17rate</th>\n",
       "      <th>17~21rate</th>\n",
       "      <th>21~24rate</th>\n",
       "      <th>2030_rate.1</th>\n",
       "      <th>아파트_단지_수</th>\n",
       "      <th>아파트_평균_면적</th>\n",
       "      <th>아파트_평균_시가</th>\n",
       "      <th>월_평균_소득_금액</th>\n",
       "      <th>지출_총금액</th>\n",
       "    </tr>\n",
       "  </thead>\n",
       "  <tbody>\n",
       "    <tr>\n",
       "      <th>92804</th>\n",
       "      <td>2018</td>\n",
       "      <td>4</td>\n",
       "      <td>1001010</td>\n",
       "      <td>CS300009</td>\n",
       "      <td>1.503286e+09</td>\n",
       "      <td>12.267540</td>\n",
       "      <td>0.897249267</td>\n",
       "      <td>0.178033</td>\n",
       "      <td>0.250454</td>\n",
       "      <td>0.318591</td>\n",
       "      <td>0.293769</td>\n",
       "      <td>0.137186</td>\n",
       "      <td>0.000000</td>\n",
       "      <td>0.178033</td>\n",
       "      <td>313</td>\n",
       "      <td>51</td>\n",
       "      <td>154040746</td>\n",
       "      <td>3589923</td>\n",
       "      <td>12120296344</td>\n",
       "    </tr>\n",
       "    <tr>\n",
       "      <th>92805</th>\n",
       "      <td>2018</td>\n",
       "      <td>4</td>\n",
       "      <td>1001010</td>\n",
       "      <td>CS300011</td>\n",
       "      <td>1.044454e+07</td>\n",
       "      <td>3.219634</td>\n",
       "      <td>0.745104972</td>\n",
       "      <td>0.161850</td>\n",
       "      <td>0.037113</td>\n",
       "      <td>0.471734</td>\n",
       "      <td>0.288530</td>\n",
       "      <td>0.202623</td>\n",
       "      <td>0.000000</td>\n",
       "      <td>0.161850</td>\n",
       "      <td>313</td>\n",
       "      <td>51</td>\n",
       "      <td>154040746</td>\n",
       "      <td>3589923</td>\n",
       "      <td>12120296344</td>\n",
       "    </tr>\n",
       "    <tr>\n",
       "      <th>92806</th>\n",
       "      <td>2018</td>\n",
       "      <td>4</td>\n",
       "      <td>1001010</td>\n",
       "      <td>CS300014</td>\n",
       "      <td>1.611965e+07</td>\n",
       "      <td>4.065346</td>\n",
       "      <td>1.84137941</td>\n",
       "      <td>0.547735</td>\n",
       "      <td>0.000000</td>\n",
       "      <td>0.284597</td>\n",
       "      <td>0.317045</td>\n",
       "      <td>0.349883</td>\n",
       "      <td>0.048475</td>\n",
       "      <td>0.547735</td>\n",
       "      <td>313</td>\n",
       "      <td>51</td>\n",
       "      <td>154040746</td>\n",
       "      <td>3589923</td>\n",
       "      <td>12120296344</td>\n",
       "    </tr>\n",
       "    <tr>\n",
       "      <th>92807</th>\n",
       "      <td>2018</td>\n",
       "      <td>4</td>\n",
       "      <td>1001010</td>\n",
       "      <td>CS300016</td>\n",
       "      <td>6.958385e+06</td>\n",
       "      <td>1.852921</td>\n",
       "      <td>0.657664171</td>\n",
       "      <td>0.283103</td>\n",
       "      <td>0.150346</td>\n",
       "      <td>0.406846</td>\n",
       "      <td>0.191064</td>\n",
       "      <td>0.247071</td>\n",
       "      <td>0.004671</td>\n",
       "      <td>0.283103</td>\n",
       "      <td>313</td>\n",
       "      <td>51</td>\n",
       "      <td>154040746</td>\n",
       "      <td>3589923</td>\n",
       "      <td>12120296344</td>\n",
       "    </tr>\n",
       "    <tr>\n",
       "      <th>92808</th>\n",
       "      <td>2018</td>\n",
       "      <td>4</td>\n",
       "      <td>1001010</td>\n",
       "      <td>CS300017</td>\n",
       "      <td>2.873564e+06</td>\n",
       "      <td>1.142856</td>\n",
       "      <td>#DIV/0!</td>\n",
       "      <td>0.568334</td>\n",
       "      <td>0.000000</td>\n",
       "      <td>0.123334</td>\n",
       "      <td>0.420000</td>\n",
       "      <td>0.456666</td>\n",
       "      <td>0.000000</td>\n",
       "      <td>0.568334</td>\n",
       "      <td>313</td>\n",
       "      <td>51</td>\n",
       "      <td>154040746</td>\n",
       "      <td>3589923</td>\n",
       "      <td>12120296344</td>\n",
       "    </tr>\n",
       "  </tbody>\n",
       "</table>\n",
       "</div>"
      ],
      "text/plain": [
       "       기준_년_코드  기준_분기_코드    상권_코드 서비스_업종_코드      당월_매출_금액  day/weekend  \\\n",
       "92804     2018         4  1001010  CS300009  1.503286e+09    12.267540   \n",
       "92805     2018         4  1001010  CS300011  1.044454e+07     3.219634   \n",
       "92806     2018         4  1001010  CS300014  1.611965e+07     4.065346   \n",
       "92807     2018         4  1001010  CS300016  6.958385e+06     1.852921   \n",
       "92808     2018         4  1001010  CS300017  2.873564e+06     1.142856   \n",
       "\n",
       "       female/male  2030_rate  06~11rate  11~14rate  14~17rate  17~21rate  \\\n",
       "92804  0.897249267   0.178033   0.250454   0.318591   0.293769   0.137186   \n",
       "92805  0.745104972   0.161850   0.037113   0.471734   0.288530   0.202623   \n",
       "92806   1.84137941   0.547735   0.000000   0.284597   0.317045   0.349883   \n",
       "92807  0.657664171   0.283103   0.150346   0.406846   0.191064   0.247071   \n",
       "92808      #DIV/0!   0.568334   0.000000   0.123334   0.420000   0.456666   \n",
       "\n",
       "       21~24rate  2030_rate.1  아파트_단지_수  아파트_평균_면적  아파트_평균_시가  월_평균_소득_금액  \\\n",
       "92804   0.000000     0.178033       313         51  154040746     3589923   \n",
       "92805   0.000000     0.161850       313         51  154040746     3589923   \n",
       "92806   0.048475     0.547735       313         51  154040746     3589923   \n",
       "92807   0.004671     0.283103       313         51  154040746     3589923   \n",
       "92808   0.000000     0.568334       313         51  154040746     3589923   \n",
       "\n",
       "            지출_총금액  \n",
       "92804  12120296344  \n",
       "92805  12120296344  \n",
       "92806  12120296344  \n",
       "92807  12120296344  \n",
       "92808  12120296344  "
      ]
     },
     "execution_count": 114,
     "metadata": {},
     "output_type": "execute_result"
    }
   ],
   "source": [
    "\n",
    "df=pd.merge(df,b_income, on=['기준_년_코드', '기준_분기_코드', '상권_코드'])\n",
    "df.tail()"
   ]
  },
  {
   "cell_type": "markdown",
   "metadata": {},
   "source": [
    "#### merge 결과 저장"
   ]
  },
  {
   "cell_type": "code",
   "execution_count": 115,
   "metadata": {},
   "outputs": [],
   "source": [
    "#저장\n",
    "df.to_csv(\"add_variable.csv\", sep=\",\", encoding = 'euc-kr', index=False)"
   ]
  },
  {
   "cell_type": "code",
   "execution_count": 130,
   "metadata": {},
   "outputs": [],
   "source": [
    "df = pd.read_csv(\"add_variable.csv\", encoding='euc-kr' )"
   ]
  },
  {
   "cell_type": "markdown",
   "metadata": {},
   "source": [
    "#### 매출데이터 변수 추가하기\n",
    "- 동일한 상권 코드에서 해당 서비스업종코드의 매출이 차지하는 비율\n",
    "    - 상권코드별 groupby (당월매출금액은 sum)\n",
    "    - 상권코드별 총 매출액 따로 DataFrame 저장\n",
    "    - 원본 매출데이터에 상권코드를 바탕으로 merge\n",
    "    - 당월매출금액/ 상권코드별 총매출액 구하기"
   ]
  },
  {
   "cell_type": "code",
   "execution_count": 131,
   "metadata": {},
   "outputs": [],
   "source": [
    "df = df.copy()\n",
    "sales2=df[['기준_분기_코드', '상권_코드','당월_매출_금액']]"
   ]
  },
  {
   "cell_type": "code",
   "execution_count": 132,
   "metadata": {
    "scrolled": true
   },
   "outputs": [
    {
     "data": {
      "text/html": [
       "<div>\n",
       "<style scoped>\n",
       "    .dataframe tbody tr th:only-of-type {\n",
       "        vertical-align: middle;\n",
       "    }\n",
       "\n",
       "    .dataframe tbody tr th {\n",
       "        vertical-align: top;\n",
       "    }\n",
       "\n",
       "    .dataframe thead th {\n",
       "        text-align: right;\n",
       "    }\n",
       "</style>\n",
       "<table border=\"1\" class=\"dataframe\">\n",
       "  <thead>\n",
       "    <tr style=\"text-align: right;\">\n",
       "      <th></th>\n",
       "      <th></th>\n",
       "      <th>sales_total</th>\n",
       "    </tr>\n",
       "    <tr>\n",
       "      <th>기준_분기_코드</th>\n",
       "      <th>상권_코드</th>\n",
       "      <th></th>\n",
       "    </tr>\n",
       "  </thead>\n",
       "  <tbody>\n",
       "    <tr>\n",
       "      <th rowspan=\"5\" valign=\"top\">4</th>\n",
       "      <th>1001006</th>\n",
       "      <td>3.806156e+09</td>\n",
       "    </tr>\n",
       "    <tr>\n",
       "      <th>1001007</th>\n",
       "      <td>4.894448e+09</td>\n",
       "    </tr>\n",
       "    <tr>\n",
       "      <th>1001008</th>\n",
       "      <td>7.928620e+09</td>\n",
       "    </tr>\n",
       "    <tr>\n",
       "      <th>1001009</th>\n",
       "      <td>3.475884e+09</td>\n",
       "    </tr>\n",
       "    <tr>\n",
       "      <th>1001010</th>\n",
       "      <td>2.949886e+09</td>\n",
       "    </tr>\n",
       "  </tbody>\n",
       "</table>\n",
       "</div>"
      ],
      "text/plain": [
       "                   sales_total\n",
       "기준_분기_코드 상권_코드                \n",
       "4        1001006  3.806156e+09\n",
       "         1001007  4.894448e+09\n",
       "         1001008  7.928620e+09\n",
       "         1001009  3.475884e+09\n",
       "         1001010  2.949886e+09"
      ]
     },
     "execution_count": 132,
     "metadata": {},
     "output_type": "execute_result"
    }
   ],
   "source": [
    "#기준분기코드와 상권코드별로 당월 매출금액 합하기\n",
    "sales2= sales2.groupby(['기준_분기_코드', '상권_코드']).agg('sum')\n",
    "sales3 =pd.DataFrame(sales2)\n",
    "sales3.columns=['sales_total']\n",
    "sales3.tail()"
   ]
  },
  {
   "cell_type": "code",
   "execution_count": 133,
   "metadata": {},
   "outputs": [
    {
     "data": {
      "text/plain": [
       "Index(['기준_년_코드', '기준_분기_코드', '상권_코드', '서비스_업종_코드', '당월_매출_금액', 'day/weekend',\n",
       "       'female/male', '2030_rate', '06~11rate', '11~14rate', '14~17rate',\n",
       "       '17~21rate', '21~24rate', '2030_rate.1', '아파트_단지_수', '아파트_평균_면적',\n",
       "       '아파트_평균_시가', '월_평균_소득_금액', '지출_총금액', 'sales_total'],\n",
       "      dtype='object')"
      ]
     },
     "execution_count": 133,
     "metadata": {},
     "output_type": "execute_result"
    }
   ],
   "source": [
    "result = pd.merge(df,sales3, on=['기준_분기_코드', '상권_코드'])\n",
    "result.columns"
   ]
  },
  {
   "cell_type": "code",
   "execution_count": 134,
   "metadata": {},
   "outputs": [],
   "source": [
    "result.to_csv(\"sales2.csv\", sep=\",\", encoding = 'euc-kr', index=False)"
   ]
  },
  {
   "cell_type": "code",
   "execution_count": null,
   "metadata": {},
   "outputs": [],
   "source": []
  },
  {
   "cell_type": "code",
   "execution_count": null,
   "metadata": {},
   "outputs": [],
   "source": []
  }
 ],
 "metadata": {
  "kernelspec": {
   "display_name": "Python 3",
   "language": "python",
   "name": "python3"
  },
  "language_info": {
   "codemirror_mode": {
    "name": "ipython",
    "version": 3
   },
   "file_extension": ".py",
   "mimetype": "text/x-python",
   "name": "python",
   "nbconvert_exporter": "python",
   "pygments_lexer": "ipython3",
   "version": "3.7.4"
  }
 },
 "nbformat": 4,
 "nbformat_minor": 2
}
