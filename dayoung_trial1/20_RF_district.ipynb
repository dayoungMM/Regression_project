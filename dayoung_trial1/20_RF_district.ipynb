{
  "nbformat": 4,
  "nbformat_minor": 0,
  "metadata": {
    "colab": {
      "name": "20_RF_district.ipynb",
      "provenance": [],
      "collapsed_sections": []
    },
    "kernelspec": {
      "name": "python3",
      "display_name": "Python 3"
    }
  },
  "cells": [
    {
      "cell_type": "code",
      "metadata": {
        "id": "EYCfp6vmH573",
        "colab_type": "code",
        "colab": {}
      },
      "source": [
        "### 상권코드 1010 Random Forest"
      ],
      "execution_count": 0,
      "outputs": []
    },
    {
      "cell_type": "code",
      "metadata": {
        "id": "_uzjRB4NF_dn",
        "colab_type": "code",
        "colab": {}
      },
      "source": [
        "import pandas as pd \n",
        "df = pd.read_csv('/content/df_grouped_rate.csv') #폴더 위치는 상이할 수 있음\n",
        "\n",
        "# 더미변수화\n",
        "y=df.iloc[:,3:4]\n",
        "X= df.iloc[:,1:].drop(['sales_total','code'],axis=1)\n",
        "X['district'] = X['district'].astype('object') "
      ],
      "execution_count": 0,
      "outputs": []
    },
    {
      "cell_type": "code",
      "metadata": {
        "id": "JWIIGQsiHAvi",
        "colab_type": "code",
        "colab": {
          "base_uri": "https://localhost:8080/",
          "height": 1000
        },
        "outputId": "559c754f-52c1-434b-fdd7-25ddb6dae99f"
      },
      "source": [
        "from sklearn.model_selection import train_test_split\n",
        "from sklearn.preprocessing import RobustScaler\n",
        "from sklearn.linear_model import LinearRegression\n",
        "from sklearn.metrics import r2_score\n",
        "from sklearn import metrics\n",
        "import numpy as np\n",
        "R2_RF = []\n",
        "MAE_RF = []\n",
        "MSE_RF = []\n",
        "RMSE_RF = []\n",
        "for i in range(10):\n",
        "    # Train-test split\n",
        "    X_train, X_test, y_train, y_test = train_test_split(X, y, test_size=0.3)\n",
        "\n",
        "    Xs_train = X_train\n",
        "    Xs_test = X_test\n",
        "    regr = RandomForestRegressor(n_estimators=50,max_depth=20, n_jobs=-1)\n",
        "    model=regr.fit(Xs_train, y_train)\n",
        "    y_pred=model.predict(Xs_test)\n",
        "    \n",
        "    print(i+1,\"번째 시도\")\n",
        "    # 정확도 결과값\n",
        "    print(model.score(Xs_train, y_train))\n",
        "    print(model.score(Xs_test, y_test))\n",
        "\n",
        "    # 오차 결과값\n",
        "    R2_RF.append(r2_score(y_test , y_pred))\n",
        "    MAE_RF.append(metrics.mean_absolute_error(y_test, y_pred))\n",
        "    MSE_RF.append(metrics.mean_squared_error(y_test, y_pred))\n",
        "    RMSE_RF.append(np.sqrt(metrics.mean_squared_error(y_test, y_pred)))\n",
        "    print('='*50)\n",
        "    print('='*50)"
      ],
      "execution_count": 9,
      "outputs": [
        {
          "output_type": "stream",
          "text": [
            "/usr/local/lib/python3.6/dist-packages/ipykernel_launcher.py:18: DataConversionWarning: A column-vector y was passed when a 1d array was expected. Please change the shape of y to (n_samples,), for example using ravel().\n"
          ],
          "name": "stderr"
        },
        {
          "output_type": "stream",
          "text": [
            "1 번째 시도\n",
            "0.9184645099018438\n",
            "0.5974721105777454\n",
            "==================================================\n",
            "==================================================\n"
          ],
          "name": "stdout"
        },
        {
          "output_type": "stream",
          "text": [
            "/usr/local/lib/python3.6/dist-packages/ipykernel_launcher.py:18: DataConversionWarning: A column-vector y was passed when a 1d array was expected. Please change the shape of y to (n_samples,), for example using ravel().\n"
          ],
          "name": "stderr"
        },
        {
          "output_type": "stream",
          "text": [
            "2 번째 시도\n",
            "0.9180298344958444\n",
            "0.6187487693209358\n",
            "==================================================\n",
            "==================================================\n"
          ],
          "name": "stdout"
        },
        {
          "output_type": "stream",
          "text": [
            "/usr/local/lib/python3.6/dist-packages/ipykernel_launcher.py:18: DataConversionWarning: A column-vector y was passed when a 1d array was expected. Please change the shape of y to (n_samples,), for example using ravel().\n"
          ],
          "name": "stderr"
        },
        {
          "output_type": "stream",
          "text": [
            "3 번째 시도\n",
            "0.9172786244957586\n",
            "0.6037565756055621\n",
            "==================================================\n",
            "==================================================\n"
          ],
          "name": "stdout"
        },
        {
          "output_type": "stream",
          "text": [
            "/usr/local/lib/python3.6/dist-packages/ipykernel_launcher.py:18: DataConversionWarning: A column-vector y was passed when a 1d array was expected. Please change the shape of y to (n_samples,), for example using ravel().\n"
          ],
          "name": "stderr"
        },
        {
          "output_type": "stream",
          "text": [
            "4 번째 시도\n",
            "0.9156245672388507\n",
            "0.6228196479296693\n",
            "==================================================\n",
            "==================================================\n"
          ],
          "name": "stdout"
        },
        {
          "output_type": "stream",
          "text": [
            "/usr/local/lib/python3.6/dist-packages/ipykernel_launcher.py:18: DataConversionWarning: A column-vector y was passed when a 1d array was expected. Please change the shape of y to (n_samples,), for example using ravel().\n"
          ],
          "name": "stderr"
        },
        {
          "output_type": "stream",
          "text": [
            "5 번째 시도\n",
            "0.91869255746678\n",
            "0.5679137231341259\n",
            "==================================================\n",
            "==================================================\n"
          ],
          "name": "stdout"
        },
        {
          "output_type": "stream",
          "text": [
            "/usr/local/lib/python3.6/dist-packages/ipykernel_launcher.py:18: DataConversionWarning: A column-vector y was passed when a 1d array was expected. Please change the shape of y to (n_samples,), for example using ravel().\n"
          ],
          "name": "stderr"
        },
        {
          "output_type": "stream",
          "text": [
            "6 번째 시도\n",
            "0.9193781373217085\n",
            "0.5961082546953389\n",
            "==================================================\n",
            "==================================================\n"
          ],
          "name": "stdout"
        },
        {
          "output_type": "stream",
          "text": [
            "/usr/local/lib/python3.6/dist-packages/ipykernel_launcher.py:18: DataConversionWarning: A column-vector y was passed when a 1d array was expected. Please change the shape of y to (n_samples,), for example using ravel().\n"
          ],
          "name": "stderr"
        },
        {
          "output_type": "stream",
          "text": [
            "7 번째 시도\n",
            "0.9166100266271244\n",
            "0.6077237594406129\n",
            "==================================================\n",
            "==================================================\n"
          ],
          "name": "stdout"
        },
        {
          "output_type": "stream",
          "text": [
            "/usr/local/lib/python3.6/dist-packages/ipykernel_launcher.py:18: DataConversionWarning: A column-vector y was passed when a 1d array was expected. Please change the shape of y to (n_samples,), for example using ravel().\n"
          ],
          "name": "stderr"
        },
        {
          "output_type": "stream",
          "text": [
            "8 번째 시도\n",
            "0.9185596420774322\n",
            "0.5786059341154282\n",
            "==================================================\n",
            "==================================================\n"
          ],
          "name": "stdout"
        },
        {
          "output_type": "stream",
          "text": [
            "/usr/local/lib/python3.6/dist-packages/ipykernel_launcher.py:18: DataConversionWarning: A column-vector y was passed when a 1d array was expected. Please change the shape of y to (n_samples,), for example using ravel().\n"
          ],
          "name": "stderr"
        },
        {
          "output_type": "stream",
          "text": [
            "9 번째 시도\n",
            "0.9143640477266191\n",
            "0.6052145558794688\n",
            "==================================================\n",
            "==================================================\n"
          ],
          "name": "stdout"
        },
        {
          "output_type": "stream",
          "text": [
            "/usr/local/lib/python3.6/dist-packages/ipykernel_launcher.py:18: DataConversionWarning: A column-vector y was passed when a 1d array was expected. Please change the shape of y to (n_samples,), for example using ravel().\n"
          ],
          "name": "stderr"
        },
        {
          "output_type": "stream",
          "text": [
            "10 번째 시도\n",
            "0.9179710706684721\n",
            "0.6101237762942235\n",
            "==================================================\n",
            "==================================================\n"
          ],
          "name": "stdout"
        }
      ]
    },
    {
      "cell_type": "code",
      "metadata": {
        "id": "VAKWAqDlJxjc",
        "colab_type": "code",
        "colab": {
          "base_uri": "https://localhost:8080/",
          "height": 112
        },
        "outputId": "dca86e03-d8f8-47a7-9a5a-bb97102090aa"
      },
      "source": [
        "print(R2_RF) \n",
        "print(MAE_RF) \n",
        "print(MSE_RF) \n",
        "print(RMSE_RF) "
      ],
      "execution_count": 10,
      "outputs": [
        {
          "output_type": "stream",
          "text": [
            "[0.5974721105777454, 0.6187487693209358, 0.6037565756055621, 0.6228196479296693, 0.5679137231341259, 0.5961082546953389, 0.6077237594406129, 0.5786059341154282, 0.6052145558794688, 0.6101237762942235]\n",
            "[498548822.44257206, 506517561.20741504, 497024012.65831554, 502555602.16445655, 500686811.8668126, 500049319.0556409, 497458220.00889736, 505176520.52815926, 504055859.1933134, 502936764.4549244]\n",
            "[1.1336378372004146e+18, 1.0992409889980082e+18, 1.0641641569556064e+18, 1.023281144135779e+18, 1.1956566219076398e+18, 1.1757924267625426e+18, 1.119047797682586e+18, 1.2485754600117512e+18, 1.1648391867205071e+18, 1.0485357261509544e+18]\n",
            "[1064724301.0283998, 1048446941.4319488, 1031583325.2605464, 1011573597.9827563, 1093460846.0789256, 1084339627.0369089, 1057850555.4578992, 1117396733.488939, 1079277159.3619995, 1023980334.8458184]\n"
          ],
          "name": "stdout"
        }
      ]
    },
    {
      "cell_type": "code",
      "metadata": {
        "id": "Xdh6w-khHsdH",
        "colab_type": "code",
        "colab": {}
      },
      "source": [
        "import pickle\n",
        "with open('sample_data/R2_RF.pkl', 'wb') as f:\n",
        "    pickle.dump(R2_RF, f) #피클파일 저장\n",
        "with open('sample_data/MAE_RF.pkl', 'wb') as f:\n",
        "    pickle.dump(MAE_RF, f) #피클파일 저장\n",
        "    \n",
        "with open('sample_data/MSE_RF.pkl', 'wb') as f:\n",
        "    pickle.dump(MSE_RF, f) #피클파일 저장\n",
        "\n",
        "with open('sample_data/RMSE_RF.pkl', 'wb') as f:\n",
        "    pickle.dump(RMSE_RF, f) #피클파일 저장"
      ],
      "execution_count": 0,
      "outputs": []
    },
    {
      "cell_type": "code",
      "metadata": {
        "id": "0gHLaRVDMU9C",
        "colab_type": "code",
        "colab": {}
      },
      "source": [
        "### light gbm(1010)"
      ],
      "execution_count": 0,
      "outputs": []
    },
    {
      "cell_type": "code",
      "metadata": {
        "id": "bel1MDY2PDZD",
        "colab_type": "code",
        "colab": {}
      },
      "source": [
        "import pandas as pd \n",
        "df = pd.read_csv('df_grouped_rate.csv') #폴더 위치는 상이할 수 있음\n",
        "y=df.iloc[:,3:4]\n",
        "X= df.iloc[:,1:].drop(['sales_total','code'],axis=1)\n",
        "X['district'] = X['district'].astype('object')\n",
        "\n",
        "# # 더미변수화\n",
        "X = pd.get_dummies(X)  "
      ],
      "execution_count": 0,
      "outputs": []
    },
    {
      "cell_type": "code",
      "metadata": {
        "id": "eEKJaJbBPFG-",
        "colab_type": "code",
        "colab": {
          "base_uri": "https://localhost:8080/",
          "height": 1000
        },
        "outputId": "2e95013e-7b18-41c9-f6d3-59d5ff36acf3"
      },
      "source": [
        "import lightgbm as lgb\n",
        "from sklearn.metrics import mean_squared_error, r2_score\n",
        "import seaborn as sns\n",
        "from sklearn.model_selection import train_test_split\n",
        "R2_lgb_gbdt = []\n",
        "MAE_lgb_gbdt = []\n",
        "MSE_lgb_gbdt = []\n",
        "RMSE_lgb_gbdt = []\n",
        "for i in range(10):\n",
        "    train_x, test_x, train_y, test_y = train_test_split(X, y, test_size=0.2)\n",
        "\n",
        "\n",
        "#     model = lgb.LGBMClassifier(n_estimators=100, max_depth=1, random_state=0)\n",
        "   # 데이터셋으로 변환\n",
        "    train_ds = lgb.Dataset(train_x, label = train_y) \n",
        "    test_ds = lgb.Dataset(test_x, label = test_y) \n",
        "   \n",
        "  #파라미터 설정\n",
        "    params = {'learning_rate': 0.01, \n",
        "              'max_depth': 16, \n",
        "              'boosting': 'gbdt', \n",
        "              'objective': 'regression', \n",
        "              'metric': 'mse', \n",
        "              'is_training_metric': True, \n",
        "              'feature_fraction': 0.9, \n",
        "              'bagging_fraction': 0.7, \n",
        "              'bagging_freq': 5, \n",
        "              'device': 'cpu'\n",
        "             }\n",
        "    # 훈련\n",
        "    model = lgb.train(params, train_ds, 1000, test_ds, verbose_eval=100, early_stopping_rounds=500)\n",
        "#     predict_train = model.predict(train_x)\n",
        "    y_pred = model.predict(test_x)\n",
        "    print(i+1,\"번째 시도\")\n",
        "\n",
        "    # 오차 결과값\n",
        "    R2_lgb_gbdt.append(r2_score(test_y , y_pred))\n",
        "    MAE_lgb_gbdt.append(metrics.mean_absolute_error(test_y, y_pred))\n",
        "    MSE_lgb_gbdt.append(metrics.mean_squared_error(test_y, y_pred))\n",
        "    RMSE_lgb_gbdt.append(np.sqrt(metrics.mean_squared_error(test_y, y_pred)))\n",
        "    print('='*50)\n",
        "    print('='*50)\n"
      ],
      "execution_count": 14,
      "outputs": [
        {
          "output_type": "stream",
          "text": [
            "Training until validation scores don't improve for 500 rounds.\n",
            "[100]\tvalid_0's l2: 1.51156e+18\n",
            "[200]\tvalid_0's l2: 1.30788e+18\n",
            "[300]\tvalid_0's l2: 1.21773e+18\n",
            "[400]\tvalid_0's l2: 1.16653e+18\n",
            "[500]\tvalid_0's l2: 1.13537e+18\n",
            "[600]\tvalid_0's l2: 1.11443e+18\n",
            "[700]\tvalid_0's l2: 1.09882e+18\n",
            "[800]\tvalid_0's l2: 1.08653e+18\n",
            "[900]\tvalid_0's l2: 1.07533e+18\n",
            "[1000]\tvalid_0's l2: 1.06421e+18\n",
            "Did not meet early stopping. Best iteration is:\n",
            "[1000]\tvalid_0's l2: 1.06421e+18\n",
            "1 번째 시도\n",
            "==================================================\n",
            "==================================================\n",
            "Training until validation scores don't improve for 500 rounds.\n",
            "[100]\tvalid_0's l2: 1.86674e+18\n",
            "[200]\tvalid_0's l2: 1.62199e+18\n",
            "[300]\tvalid_0's l2: 1.51904e+18\n",
            "[400]\tvalid_0's l2: 1.45512e+18\n",
            "[500]\tvalid_0's l2: 1.41227e+18\n",
            "[600]\tvalid_0's l2: 1.3867e+18\n",
            "[700]\tvalid_0's l2: 1.36758e+18\n",
            "[800]\tvalid_0's l2: 1.34981e+18\n",
            "[900]\tvalid_0's l2: 1.33623e+18\n",
            "[1000]\tvalid_0's l2: 1.32612e+18\n",
            "Did not meet early stopping. Best iteration is:\n",
            "[1000]\tvalid_0's l2: 1.32612e+18\n",
            "2 번째 시도\n",
            "==================================================\n",
            "==================================================\n",
            "Training until validation scores don't improve for 500 rounds.\n",
            "[100]\tvalid_0's l2: 1.74488e+18\n",
            "[200]\tvalid_0's l2: 1.48133e+18\n",
            "[300]\tvalid_0's l2: 1.36466e+18\n",
            "[400]\tvalid_0's l2: 1.29676e+18\n",
            "[500]\tvalid_0's l2: 1.25211e+18\n",
            "[600]\tvalid_0's l2: 1.22916e+18\n",
            "[700]\tvalid_0's l2: 1.21002e+18\n",
            "[800]\tvalid_0's l2: 1.19472e+18\n",
            "[900]\tvalid_0's l2: 1.18065e+18\n",
            "[1000]\tvalid_0's l2: 1.16899e+18\n",
            "Did not meet early stopping. Best iteration is:\n",
            "[1000]\tvalid_0's l2: 1.16899e+18\n",
            "3 번째 시도\n",
            "==================================================\n",
            "==================================================\n",
            "Training until validation scores don't improve for 500 rounds.\n",
            "[100]\tvalid_0's l2: 1.58656e+18\n",
            "[200]\tvalid_0's l2: 1.33504e+18\n",
            "[300]\tvalid_0's l2: 1.23171e+18\n",
            "[400]\tvalid_0's l2: 1.17152e+18\n",
            "[500]\tvalid_0's l2: 1.1329e+18\n",
            "[600]\tvalid_0's l2: 1.10813e+18\n",
            "[700]\tvalid_0's l2: 1.08979e+18\n",
            "[800]\tvalid_0's l2: 1.07541e+18\n",
            "[900]\tvalid_0's l2: 1.06268e+18\n",
            "[1000]\tvalid_0's l2: 1.05016e+18\n",
            "Did not meet early stopping. Best iteration is:\n",
            "[1000]\tvalid_0's l2: 1.05016e+18\n",
            "4 번째 시도\n",
            "==================================================\n",
            "==================================================\n",
            "Training until validation scores don't improve for 500 rounds.\n",
            "[100]\tvalid_0's l2: 1.68226e+18\n",
            "[200]\tvalid_0's l2: 1.47104e+18\n",
            "[300]\tvalid_0's l2: 1.38802e+18\n",
            "[400]\tvalid_0's l2: 1.34081e+18\n",
            "[500]\tvalid_0's l2: 1.30794e+18\n",
            "[600]\tvalid_0's l2: 1.28479e+18\n",
            "[700]\tvalid_0's l2: 1.26883e+18\n",
            "[800]\tvalid_0's l2: 1.25395e+18\n",
            "[900]\tvalid_0's l2: 1.23803e+18\n",
            "[1000]\tvalid_0's l2: 1.22607e+18\n",
            "Did not meet early stopping. Best iteration is:\n",
            "[1000]\tvalid_0's l2: 1.22607e+18\n",
            "5 번째 시도\n",
            "==================================================\n",
            "==================================================\n",
            "Training until validation scores don't improve for 500 rounds.\n",
            "[100]\tvalid_0's l2: 1.93567e+18\n",
            "[200]\tvalid_0's l2: 1.63333e+18\n",
            "[300]\tvalid_0's l2: 1.50122e+18\n",
            "[400]\tvalid_0's l2: 1.42325e+18\n",
            "[500]\tvalid_0's l2: 1.37279e+18\n",
            "[600]\tvalid_0's l2: 1.34271e+18\n",
            "[700]\tvalid_0's l2: 1.31733e+18\n",
            "[800]\tvalid_0's l2: 1.29883e+18\n",
            "[900]\tvalid_0's l2: 1.2839e+18\n",
            "[1000]\tvalid_0's l2: 1.26982e+18\n",
            "Did not meet early stopping. Best iteration is:\n",
            "[1000]\tvalid_0's l2: 1.26982e+18\n",
            "6 번째 시도\n",
            "==================================================\n",
            "==================================================\n",
            "Training until validation scores don't improve for 500 rounds.\n",
            "[100]\tvalid_0's l2: 1.74994e+18\n",
            "[200]\tvalid_0's l2: 1.53666e+18\n",
            "[300]\tvalid_0's l2: 1.43872e+18\n",
            "[400]\tvalid_0's l2: 1.38216e+18\n",
            "[500]\tvalid_0's l2: 1.34893e+18\n",
            "[600]\tvalid_0's l2: 1.32273e+18\n",
            "[700]\tvalid_0's l2: 1.30477e+18\n",
            "[800]\tvalid_0's l2: 1.28988e+18\n",
            "[900]\tvalid_0's l2: 1.27727e+18\n",
            "[1000]\tvalid_0's l2: 1.26547e+18\n",
            "Did not meet early stopping. Best iteration is:\n",
            "[1000]\tvalid_0's l2: 1.26547e+18\n",
            "7 번째 시도\n",
            "==================================================\n",
            "==================================================\n",
            "Training until validation scores don't improve for 500 rounds.\n",
            "[100]\tvalid_0's l2: 2.05928e+18\n",
            "[200]\tvalid_0's l2: 1.78104e+18\n",
            "[300]\tvalid_0's l2: 1.66618e+18\n",
            "[400]\tvalid_0's l2: 1.59562e+18\n",
            "[500]\tvalid_0's l2: 1.55452e+18\n",
            "[600]\tvalid_0's l2: 1.52589e+18\n",
            "[700]\tvalid_0's l2: 1.50523e+18\n",
            "[800]\tvalid_0's l2: 1.48864e+18\n",
            "[900]\tvalid_0's l2: 1.47359e+18\n",
            "[1000]\tvalid_0's l2: 1.46048e+18\n",
            "Did not meet early stopping. Best iteration is:\n",
            "[1000]\tvalid_0's l2: 1.46048e+18\n",
            "8 번째 시도\n",
            "==================================================\n",
            "==================================================\n",
            "Training until validation scores don't improve for 500 rounds.\n",
            "[100]\tvalid_0's l2: 1.85553e+18\n",
            "[200]\tvalid_0's l2: 1.59118e+18\n",
            "[300]\tvalid_0's l2: 1.48511e+18\n",
            "[400]\tvalid_0's l2: 1.41821e+18\n",
            "[500]\tvalid_0's l2: 1.37692e+18\n",
            "[600]\tvalid_0's l2: 1.34755e+18\n",
            "[700]\tvalid_0's l2: 1.32567e+18\n",
            "[800]\tvalid_0's l2: 1.30934e+18\n",
            "[900]\tvalid_0's l2: 1.29544e+18\n",
            "[1000]\tvalid_0's l2: 1.28052e+18\n",
            "Did not meet early stopping. Best iteration is:\n",
            "[1000]\tvalid_0's l2: 1.28052e+18\n",
            "9 번째 시도\n",
            "==================================================\n",
            "==================================================\n",
            "Training until validation scores don't improve for 500 rounds.\n",
            "[100]\tvalid_0's l2: 1.72522e+18\n",
            "[200]\tvalid_0's l2: 1.43922e+18\n",
            "[300]\tvalid_0's l2: 1.33002e+18\n",
            "[400]\tvalid_0's l2: 1.27227e+18\n",
            "[500]\tvalid_0's l2: 1.23344e+18\n",
            "[600]\tvalid_0's l2: 1.21002e+18\n",
            "[700]\tvalid_0's l2: 1.19319e+18\n",
            "[800]\tvalid_0's l2: 1.17864e+18\n",
            "[900]\tvalid_0's l2: 1.16881e+18\n",
            "[1000]\tvalid_0's l2: 1.15701e+18\n",
            "Did not meet early stopping. Best iteration is:\n",
            "[1000]\tvalid_0's l2: 1.15701e+18\n",
            "10 번째 시도\n",
            "==================================================\n",
            "==================================================\n"
          ],
          "name": "stdout"
        }
      ]
    },
    {
      "cell_type": "code",
      "metadata": {
        "id": "F88562qePL26",
        "colab_type": "code",
        "colab": {
          "base_uri": "https://localhost:8080/",
          "height": 112
        },
        "outputId": "583a9e88-3d24-4f05-ed22-2f898ce2c7c2"
      },
      "source": [
        "print(R2_lgb_gbdt) \n",
        "print(MAE_lgb_gbdt) \n",
        "print(MSE_lgb_gbdt) \n",
        "print(RMSE_lgb_gbdt) "
      ],
      "execution_count": 15,
      "outputs": [
        {
          "output_type": "stream",
          "text": [
            "[0.55207323162995, 0.5443543981682002, 0.5808418738223338, 0.5936775424838103, 0.5425956408911803, 0.5919389891065372, 0.5177066820295695, 0.5401971024742807, 0.564612566390563, 0.5989189667859329]\n",
            "[517836759.33829075, 529519807.81118584, 522074512.3722828, 519513141.9287107, 525747028.77848274, 533395790.8735867, 531250755.28563124, 532866678.1023589, 531256487.8044458, 526361323.51833093]\n",
            "[1.0642139273381171e+18, 1.3261180006406198e+18, 1.1689914356191173e+18, 1.0501563194686783e+18, 1.2260745075719278e+18, 1.269823536600979e+18, 1.265469909795046e+18, 1.460478387084732e+18, 1.280518274566282e+18, 1.1570098288020037e+18]\n",
            "[1031607448.2758048, 1151571969.3708334, 1081199073.075406, 1024771349.8477006, 1107282487.7021797, 1126864471.2657237, 1124931068.9082446, 1208502539.1304448, 1131599873.880464, 1075643913.5708451]\n"
          ],
          "name": "stdout"
        }
      ]
    },
    {
      "cell_type": "code",
      "metadata": {
        "id": "-d24W5JVR8sp",
        "colab_type": "code",
        "colab": {}
      },
      "source": [
        "import pickle\n",
        "with open('sample_data/R2_lgb_gbdt.pkl', 'wb') as f:\n",
        "    pickle.dump(R2_lgb_gbdt, f) #피클파일 저장\n",
        "with open('sample_data/MAE_lgb_gbdt.pkl', 'wb') as f:\n",
        "    pickle.dump(MAE_lgb_gbdt, f) #피클파일 저장\n",
        "with open('sample_data/MSE_lgb_gbdt.pkl', 'wb') as f:\n",
        "    pickle.dump(MSE_lgb_gbdt, f) #피클파일 저장\n",
        "\n",
        "with open('sample_data/RMSE_lgb_gbdt.pkl', 'wb') as f:\n",
        "    pickle.dump(RMSE_lgb_gbdt, f) #피클파일 저장"
      ],
      "execution_count": 0,
      "outputs": []
    },
    {
      "cell_type": "code",
      "metadata": {
        "id": "WxDSzYDDR-bR",
        "colab_type": "code",
        "colab": {}
      },
      "source": [
        "### light gbm (시군구)"
      ],
      "execution_count": 0,
      "outputs": []
    },
    {
      "cell_type": "code",
      "metadata": {
        "id": "e_WNZzhquwbM",
        "colab_type": "code",
        "colab": {}
      },
      "source": [
        "import pandas as pd \n",
        "df = pd.read_csv(\"df_grouped_rate.csv\", encoding ='utf-8')\n",
        "cgoongu = pd.read_csv(\"cgoongoo1.csv\", encoding ='utf-8')\n",
        "df_merged = pd.merge(df, cgoongu, on=['district'])\n",
        "df_merged.drop(['district','year'], axis=1, inplace =True)\n",
        "\n",
        "y=df_merged.iloc[:,1:2]\n",
        "X= df_merged.drop(['sales_total','code'],axis=1)\n",
        "\n",
        "X= X.iloc[:,1:]\n",
        "\n",
        "\n",
        "X['cgoongoo'] = X['cgoongoo'].astype('object')\n",
        "# # 더미변수화\n",
        "X = pd.get_dummies(X)  "
      ],
      "execution_count": 0,
      "outputs": []
    },
    {
      "cell_type": "code",
      "metadata": {
        "id": "bIjImsuzu0cx",
        "colab_type": "code",
        "colab": {
          "base_uri": "https://localhost:8080/",
          "height": 1000
        },
        "outputId": "bfea9712-9f6f-43af-fffa-614c1c43edbd"
      },
      "source": [
        "import lightgbm as lgb\n",
        "from sklearn.metrics import mean_squared_error, r2_score\n",
        "import seaborn as sns\n",
        "from sklearn.model_selection import train_test_split\n",
        "R2_lgb_gbdt_c = []\n",
        "MAE_lgb_gbdt_c = []\n",
        "MSE_lgb_gbdt_c = []\n",
        "RMSE_lgb_gbdt_c = []\n",
        "for i in range(10):\n",
        "    train_x, test_x, train_y, test_y = train_test_split(X, y, test_size=0.2)\n",
        "\n",
        "\n",
        "#     model = lgb.LGBMClassifier(n_estimators=100, max_depth=1, random_state=0)\n",
        "   # 데이터셋으로 변환\n",
        "    train_ds = lgb.Dataset(train_x, label = train_y) \n",
        "    test_ds = lgb.Dataset(test_x, label = test_y) \n",
        "   \n",
        "  #파라미터 설정\n",
        "    params = {'learning_rate': 0.01, \n",
        "              'max_depth': 16, \n",
        "              'boosting': 'gbdt', \n",
        "              'objective': 'regression', \n",
        "              'metric': 'mse', \n",
        "              'is_training_metric': True, \n",
        "              'feature_fraction': 0.9, \n",
        "              'bagging_fraction': 0.7, \n",
        "              'bagging_freq': 5, \n",
        "              'device': 'cpu'\n",
        "             }\n",
        "    # 훈련\n",
        "    model = lgb.train(params, train_ds, 1000, test_ds, verbose_eval=100, early_stopping_rounds=500)\n",
        "#     predict_train = model.predict(train_x)\n",
        "    y_pred = model.predict(test_x)\n",
        "    print(i+1,\"번째 시도\")\n",
        "\n",
        "    # 오차 결과값\n",
        "    R2_lgb_gbdt_c.append(r2_score(test_y , y_pred))\n",
        "    MAE_lgb_gbdt_c.append(metrics.mean_absolute_error(test_y, y_pred))\n",
        "    MSE_lgb_gbdt_c.append(metrics.mean_squared_error(test_y, y_pred))\n",
        "    RMSE_lgb_gbdt_c.append(np.sqrt(metrics.mean_squared_error(test_y, y_pred)))\n",
        "    print('='*50)\n",
        "    print('='*50)\n"
      ],
      "execution_count": 19,
      "outputs": [
        {
          "output_type": "stream",
          "text": [
            "Training until validation scores don't improve for 500 rounds.\n",
            "[100]\tvalid_0's l2: 1.87608e+18\n",
            "[200]\tvalid_0's l2: 1.65832e+18\n",
            "[300]\tvalid_0's l2: 1.56145e+18\n",
            "[400]\tvalid_0's l2: 1.49985e+18\n",
            "[500]\tvalid_0's l2: 1.4522e+18\n",
            "[600]\tvalid_0's l2: 1.42083e+18\n",
            "[700]\tvalid_0's l2: 1.3999e+18\n",
            "[800]\tvalid_0's l2: 1.38123e+18\n",
            "[900]\tvalid_0's l2: 1.36781e+18\n",
            "[1000]\tvalid_0's l2: 1.35557e+18\n",
            "Did not meet early stopping. Best iteration is:\n",
            "[1000]\tvalid_0's l2: 1.35557e+18\n",
            "1 번째 시도\n",
            "==================================================\n",
            "==================================================\n",
            "Training until validation scores don't improve for 500 rounds.\n",
            "[100]\tvalid_0's l2: 1.94464e+18\n",
            "[200]\tvalid_0's l2: 1.70352e+18\n",
            "[300]\tvalid_0's l2: 1.59564e+18\n",
            "[400]\tvalid_0's l2: 1.5354e+18\n",
            "[500]\tvalid_0's l2: 1.4938e+18\n",
            "[600]\tvalid_0's l2: 1.46127e+18\n",
            "[700]\tvalid_0's l2: 1.43785e+18\n",
            "[800]\tvalid_0's l2: 1.42005e+18\n",
            "[900]\tvalid_0's l2: 1.40487e+18\n",
            "[1000]\tvalid_0's l2: 1.39127e+18\n",
            "Did not meet early stopping. Best iteration is:\n",
            "[1000]\tvalid_0's l2: 1.39127e+18\n",
            "2 번째 시도\n",
            "==================================================\n",
            "==================================================\n",
            "Training until validation scores don't improve for 500 rounds.\n",
            "[100]\tvalid_0's l2: 2.40076e+18\n",
            "[200]\tvalid_0's l2: 2.12131e+18\n",
            "[300]\tvalid_0's l2: 1.9877e+18\n",
            "[400]\tvalid_0's l2: 1.91008e+18\n",
            "[500]\tvalid_0's l2: 1.85466e+18\n",
            "[600]\tvalid_0's l2: 1.82011e+18\n",
            "[700]\tvalid_0's l2: 1.78935e+18\n",
            "[800]\tvalid_0's l2: 1.76745e+18\n",
            "[900]\tvalid_0's l2: 1.75121e+18\n",
            "[1000]\tvalid_0's l2: 1.73487e+18\n",
            "Did not meet early stopping. Best iteration is:\n",
            "[1000]\tvalid_0's l2: 1.73487e+18\n",
            "3 번째 시도\n",
            "==================================================\n",
            "==================================================\n",
            "Training until validation scores don't improve for 500 rounds.\n",
            "[100]\tvalid_0's l2: 1.7031e+18\n",
            "[200]\tvalid_0's l2: 1.53005e+18\n",
            "[300]\tvalid_0's l2: 1.45836e+18\n",
            "[400]\tvalid_0's l2: 1.40886e+18\n",
            "[500]\tvalid_0's l2: 1.3733e+18\n",
            "[600]\tvalid_0's l2: 1.34904e+18\n",
            "[700]\tvalid_0's l2: 1.32931e+18\n",
            "[800]\tvalid_0's l2: 1.31388e+18\n",
            "[900]\tvalid_0's l2: 1.29945e+18\n",
            "[1000]\tvalid_0's l2: 1.29003e+18\n",
            "Did not meet early stopping. Best iteration is:\n",
            "[1000]\tvalid_0's l2: 1.29003e+18\n",
            "4 번째 시도\n",
            "==================================================\n",
            "==================================================\n",
            "Training until validation scores don't improve for 500 rounds.\n",
            "[100]\tvalid_0's l2: 2.00887e+18\n",
            "[200]\tvalid_0's l2: 1.75824e+18\n",
            "[300]\tvalid_0's l2: 1.64536e+18\n",
            "[400]\tvalid_0's l2: 1.58631e+18\n",
            "[500]\tvalid_0's l2: 1.54282e+18\n",
            "[600]\tvalid_0's l2: 1.5089e+18\n",
            "[700]\tvalid_0's l2: 1.48517e+18\n",
            "[800]\tvalid_0's l2: 1.46612e+18\n",
            "[900]\tvalid_0's l2: 1.45086e+18\n",
            "[1000]\tvalid_0's l2: 1.43889e+18\n",
            "Did not meet early stopping. Best iteration is:\n",
            "[999]\tvalid_0's l2: 1.43888e+18\n",
            "5 번째 시도\n",
            "==================================================\n",
            "==================================================\n",
            "Training until validation scores don't improve for 500 rounds.\n",
            "[100]\tvalid_0's l2: 1.80683e+18\n",
            "[200]\tvalid_0's l2: 1.61597e+18\n",
            "[300]\tvalid_0's l2: 1.52695e+18\n",
            "[400]\tvalid_0's l2: 1.47997e+18\n",
            "[500]\tvalid_0's l2: 1.43965e+18\n",
            "[600]\tvalid_0's l2: 1.41191e+18\n",
            "[700]\tvalid_0's l2: 1.3927e+18\n",
            "[800]\tvalid_0's l2: 1.37671e+18\n",
            "[900]\tvalid_0's l2: 1.35862e+18\n",
            "[1000]\tvalid_0's l2: 1.34424e+18\n",
            "Did not meet early stopping. Best iteration is:\n",
            "[1000]\tvalid_0's l2: 1.34424e+18\n",
            "6 번째 시도\n",
            "==================================================\n",
            "==================================================\n",
            "Training until validation scores don't improve for 500 rounds.\n",
            "[100]\tvalid_0's l2: 2.01605e+18\n",
            "[200]\tvalid_0's l2: 1.77964e+18\n",
            "[300]\tvalid_0's l2: 1.67254e+18\n",
            "[400]\tvalid_0's l2: 1.60693e+18\n",
            "[500]\tvalid_0's l2: 1.55972e+18\n",
            "[600]\tvalid_0's l2: 1.53237e+18\n",
            "[700]\tvalid_0's l2: 1.50864e+18\n",
            "[800]\tvalid_0's l2: 1.49223e+18\n",
            "[900]\tvalid_0's l2: 1.47639e+18\n",
            "[1000]\tvalid_0's l2: 1.46342e+18\n",
            "Did not meet early stopping. Best iteration is:\n",
            "[1000]\tvalid_0's l2: 1.46342e+18\n",
            "7 번째 시도\n",
            "==================================================\n",
            "==================================================\n",
            "Training until validation scores don't improve for 500 rounds.\n",
            "[100]\tvalid_0's l2: 1.93107e+18\n",
            "[200]\tvalid_0's l2: 1.70022e+18\n",
            "[300]\tvalid_0's l2: 1.5981e+18\n",
            "[400]\tvalid_0's l2: 1.53589e+18\n",
            "[500]\tvalid_0's l2: 1.49326e+18\n",
            "[600]\tvalid_0's l2: 1.46069e+18\n",
            "[700]\tvalid_0's l2: 1.4431e+18\n",
            "[800]\tvalid_0's l2: 1.42519e+18\n",
            "[900]\tvalid_0's l2: 1.41175e+18\n",
            "[1000]\tvalid_0's l2: 1.401e+18\n",
            "Did not meet early stopping. Best iteration is:\n",
            "[1000]\tvalid_0's l2: 1.401e+18\n",
            "8 번째 시도\n",
            "==================================================\n",
            "==================================================\n",
            "Training until validation scores don't improve for 500 rounds.\n",
            "[100]\tvalid_0's l2: 1.95036e+18\n",
            "[200]\tvalid_0's l2: 1.69753e+18\n",
            "[300]\tvalid_0's l2: 1.5904e+18\n",
            "[400]\tvalid_0's l2: 1.52801e+18\n",
            "[500]\tvalid_0's l2: 1.48253e+18\n",
            "[600]\tvalid_0's l2: 1.45446e+18\n",
            "[700]\tvalid_0's l2: 1.43253e+18\n",
            "[800]\tvalid_0's l2: 1.41486e+18\n",
            "[900]\tvalid_0's l2: 1.40037e+18\n",
            "[1000]\tvalid_0's l2: 1.38926e+18\n",
            "Did not meet early stopping. Best iteration is:\n",
            "[1000]\tvalid_0's l2: 1.38926e+18\n",
            "9 번째 시도\n",
            "==================================================\n",
            "==================================================\n",
            "Training until validation scores don't improve for 500 rounds.\n",
            "[100]\tvalid_0's l2: 2.11485e+18\n",
            "[200]\tvalid_0's l2: 1.87087e+18\n",
            "[300]\tvalid_0's l2: 1.75539e+18\n",
            "[400]\tvalid_0's l2: 1.68887e+18\n",
            "[500]\tvalid_0's l2: 1.6402e+18\n",
            "[600]\tvalid_0's l2: 1.61011e+18\n",
            "[700]\tvalid_0's l2: 1.58477e+18\n",
            "[800]\tvalid_0's l2: 1.5646e+18\n",
            "[900]\tvalid_0's l2: 1.54996e+18\n",
            "[1000]\tvalid_0's l2: 1.53733e+18\n",
            "Did not meet early stopping. Best iteration is:\n",
            "[1000]\tvalid_0's l2: 1.53733e+18\n",
            "10 번째 시도\n",
            "==================================================\n",
            "==================================================\n"
          ],
          "name": "stdout"
        }
      ]
    },
    {
      "cell_type": "code",
      "metadata": {
        "id": "MK1nP6unvG1y",
        "colab_type": "code",
        "colab": {
          "base_uri": "https://localhost:8080/",
          "height": 112
        },
        "outputId": "524c2539-fc5b-4d06-dd70-9b5748ea092a"
      },
      "source": [
        "print(R2_lgb_gbdt_c)\n",
        "print(MAE_lgb_gbdt_c)\n",
        "print(MSE_lgb_gbdt_c)\n",
        "print(RMSE_lgb_gbdt_c)"
      ],
      "execution_count": 20,
      "outputs": [
        {
          "output_type": "stream",
          "text": [
            "[0.4869243682813107, 0.4969586939016368, 0.4717976446032055, 0.4483059047574688, 0.4935597933111723, 0.46686892511734157, 0.47956542569401184, 0.49730192582154087, 0.509469864478052, 0.4786290008843941]\n",
            "[578685890.4528376, 580480601.5095115, 585013336.5057452, 571079507.0456218, 580981599.8670824, 578590321.1315088, 568021931.0356071, 577652264.5576637, 573641985.5481981, 575364452.8384377]\n",
            "[1.3555716891182006e+18, 1.3912720364242404e+18, 1.7348700208126218e+18, 1.29002975880089e+18, 1.4388788228636772e+18, 1.3442439718859133e+18, 1.4634191404936694e+18, 1.4009976329149673e+18, 1.3892573984194092e+18, 1.5373346877343828e+18]\n",
            "[1164290208.2892394, 1179521952.4978077, 1317144646.88303, 1135794769.6661093, 1199532751.892868, 1159415357.7928462, 1209718620.3798258, 1183637458.3946586, 1178667636.961077, 1239893014.6324654]\n"
          ],
          "name": "stdout"
        }
      ]
    },
    {
      "cell_type": "code",
      "metadata": {
        "id": "jTyy5HxIv0Qz",
        "colab_type": "code",
        "colab": {}
      },
      "source": [
        "import pickle\n",
        "with open('sample_data/R2_lgb_gbdt_c.pkl', 'wb') as f:\n",
        "    pickle.dump(R2_lgb_gbdt_c, f) #피클파일 저장\n",
        "with open('sample_data/MAE_lgb_gbdt_c.pkl', 'wb') as f:\n",
        "    pickle.dump(MAE_lgb_gbdt_c, f) #피클파일 저장\n",
        "with open('sample_data/MSE_lgb_gbdt_c.pkl', 'wb') as f:\n",
        "    pickle.dump(MSE_lgb_gbdt_c, f) #피클파일 저장\n",
        "\n",
        "with open('sample_data/RMSE_lgb_gbdt_c.pkl', 'wb') as f:\n",
        "    pickle.dump(RMSE_lgb_gbdt_c, f) #피클파일 저장"
      ],
      "execution_count": 0,
      "outputs": []
    },
    {
      "cell_type": "code",
      "metadata": {
        "id": "KiI3-yPXv-9u",
        "colab_type": "code",
        "colab": {}
      },
      "source": [
        ""
      ],
      "execution_count": 0,
      "outputs": []
    }
  ]
}