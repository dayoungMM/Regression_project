{
 "cells": [
  {
   "cell_type": "code",
   "execution_count": 0,
   "metadata": {
    "colab": {},
    "colab_type": "code",
    "id": "EYCfp6vmH573"
   },
   "outputs": [],
   "source": [
    "### 상권코드 1010 Random Forest"
   ]
  },
  {
   "cell_type": "code",
   "execution_count": 0,
   "metadata": {
    "colab": {},
    "colab_type": "code",
    "id": "_uzjRB4NF_dn"
   },
   "outputs": [],
   "source": [
    "import pandas as pd \n",
    "df = pd.read_csv('/content/df_grouped_rate.csv') #폴더 위치는 상이할 수 있음\n",
    "\n",
    "# 더미변수화\n",
    "y=df.iloc[:,3:4]\n",
    "X= df.iloc[:,1:].drop(['sales_total','code'],axis=1)\n",
    "X['district'] = X['district'].astype('object') "
   ]
  },
  {
   "cell_type": "code",
   "execution_count": 9,
   "metadata": {
    "colab": {
     "base_uri": "https://localhost:8080/",
     "height": 1000
    },
    "colab_type": "code",
    "id": "JWIIGQsiHAvi",
    "outputId": "559c754f-52c1-434b-fdd7-25ddb6dae99f"
   },
   "outputs": [
    {
     "name": "stderr",
     "output_type": "stream",
     "text": [
      "/usr/local/lib/python3.6/dist-packages/ipykernel_launcher.py:18: DataConversionWarning: A column-vector y was passed when a 1d array was expected. Please change the shape of y to (n_samples,), for example using ravel().\n"
     ]
    },
    {
     "name": "stdout",
     "output_type": "stream",
     "text": [
      "1 번째 시도\n",
      "0.9184645099018438\n",
      "0.5974721105777454\n",
      "==================================================\n",
      "==================================================\n"
     ]
    },
    {
     "name": "stderr",
     "output_type": "stream",
     "text": [
      "/usr/local/lib/python3.6/dist-packages/ipykernel_launcher.py:18: DataConversionWarning: A column-vector y was passed when a 1d array was expected. Please change the shape of y to (n_samples,), for example using ravel().\n"
     ]
    },
    {
     "name": "stdout",
     "output_type": "stream",
     "text": [
      "2 번째 시도\n",
      "0.9180298344958444\n",
      "0.6187487693209358\n",
      "==================================================\n",
      "==================================================\n"
     ]
    },
    {
     "name": "stderr",
     "output_type": "stream",
     "text": [
      "/usr/local/lib/python3.6/dist-packages/ipykernel_launcher.py:18: DataConversionWarning: A column-vector y was passed when a 1d array was expected. Please change the shape of y to (n_samples,), for example using ravel().\n"
     ]
    },
    {
     "name": "stdout",
     "output_type": "stream",
     "text": [
      "3 번째 시도\n",
      "0.9172786244957586\n",
      "0.6037565756055621\n",
      "==================================================\n",
      "==================================================\n"
     ]
    },
    {
     "name": "stderr",
     "output_type": "stream",
     "text": [
      "/usr/local/lib/python3.6/dist-packages/ipykernel_launcher.py:18: DataConversionWarning: A column-vector y was passed when a 1d array was expected. Please change the shape of y to (n_samples,), for example using ravel().\n"
     ]
    },
    {
     "name": "stdout",
     "output_type": "stream",
     "text": [
      "4 번째 시도\n",
      "0.9156245672388507\n",
      "0.6228196479296693\n",
      "==================================================\n",
      "==================================================\n"
     ]
    },
    {
     "name": "stderr",
     "output_type": "stream",
     "text": [
      "/usr/local/lib/python3.6/dist-packages/ipykernel_launcher.py:18: DataConversionWarning: A column-vector y was passed when a 1d array was expected. Please change the shape of y to (n_samples,), for example using ravel().\n"
     ]
    },
    {
     "name": "stdout",
     "output_type": "stream",
     "text": [
      "5 번째 시도\n",
      "0.91869255746678\n",
      "0.5679137231341259\n",
      "==================================================\n",
      "==================================================\n"
     ]
    },
    {
     "name": "stderr",
     "output_type": "stream",
     "text": [
      "/usr/local/lib/python3.6/dist-packages/ipykernel_launcher.py:18: DataConversionWarning: A column-vector y was passed when a 1d array was expected. Please change the shape of y to (n_samples,), for example using ravel().\n"
     ]
    },
    {
     "name": "stdout",
     "output_type": "stream",
     "text": [
      "6 번째 시도\n",
      "0.9193781373217085\n",
      "0.5961082546953389\n",
      "==================================================\n",
      "==================================================\n"
     ]
    },
    {
     "name": "stderr",
     "output_type": "stream",
     "text": [
      "/usr/local/lib/python3.6/dist-packages/ipykernel_launcher.py:18: DataConversionWarning: A column-vector y was passed when a 1d array was expected. Please change the shape of y to (n_samples,), for example using ravel().\n"
     ]
    },
    {
     "name": "stdout",
     "output_type": "stream",
     "text": [
      "7 번째 시도\n",
      "0.9166100266271244\n",
      "0.6077237594406129\n",
      "==================================================\n",
      "==================================================\n"
     ]
    },
    {
     "name": "stderr",
     "output_type": "stream",
     "text": [
      "/usr/local/lib/python3.6/dist-packages/ipykernel_launcher.py:18: DataConversionWarning: A column-vector y was passed when a 1d array was expected. Please change the shape of y to (n_samples,), for example using ravel().\n"
     ]
    },
    {
     "name": "stdout",
     "output_type": "stream",
     "text": [
      "8 번째 시도\n",
      "0.9185596420774322\n",
      "0.5786059341154282\n",
      "==================================================\n",
      "==================================================\n"
     ]
    },
    {
     "name": "stderr",
     "output_type": "stream",
     "text": [
      "/usr/local/lib/python3.6/dist-packages/ipykernel_launcher.py:18: DataConversionWarning: A column-vector y was passed when a 1d array was expected. Please change the shape of y to (n_samples,), for example using ravel().\n"
     ]
    },
    {
     "name": "stdout",
     "output_type": "stream",
     "text": [
      "9 번째 시도\n",
      "0.9143640477266191\n",
      "0.6052145558794688\n",
      "==================================================\n",
      "==================================================\n"
     ]
    },
    {
     "name": "stderr",
     "output_type": "stream",
     "text": [
      "/usr/local/lib/python3.6/dist-packages/ipykernel_launcher.py:18: DataConversionWarning: A column-vector y was passed when a 1d array was expected. Please change the shape of y to (n_samples,), for example using ravel().\n"
     ]
    },
    {
     "name": "stdout",
     "output_type": "stream",
     "text": [
      "10 번째 시도\n",
      "0.9179710706684721\n",
      "0.6101237762942235\n",
      "==================================================\n",
      "==================================================\n"
     ]
    }
   ],
   "source": [
    "from sklearn.model_selection import train_test_split\n",
    "from sklearn.preprocessing import RobustScaler\n",
    "from sklearn.linear_model import LinearRegression\n",
    "from sklearn.metrics import r2_score\n",
    "from sklearn import metrics\n",
    "import numpy as np\n",
    "R2_RF = []\n",
    "MAE_RF = []\n",
    "MSE_RF = []\n",
    "RMSE_RF = []\n",
    "for i in range(10):\n",
    "    # Train-test split\n",
    "    X_train, X_test, y_train, y_test = train_test_split(X, y, test_size=0.3)\n",
    "\n",
    "    Xs_train = X_train\n",
    "    Xs_test = X_test\n",
    "    regr = RandomForestRegressor(n_estimators=50,max_depth=20, n_jobs=-1)\n",
    "    model=regr.fit(Xs_train, y_train)\n",
    "    y_pred=model.predict(Xs_test)\n",
    "    \n",
    "    print(i+1,\"번째 시도\")\n",
    "    # 정확도 결과값\n",
    "    print(model.score(Xs_train, y_train))\n",
    "    print(model.score(Xs_test, y_test))\n",
    "\n",
    "    # 오차 결과값\n",
    "    R2_RF.append(r2_score(y_test , y_pred))\n",
    "    MAE_RF.append(metrics.mean_absolute_error(y_test, y_pred))\n",
    "    MSE_RF.append(metrics.mean_squared_error(y_test, y_pred))\n",
    "    RMSE_RF.append(np.sqrt(metrics.mean_squared_error(y_test, y_pred)))\n",
    "    print('='*50)\n",
    "    print('='*50)"
   ]
  },
  {
   "cell_type": "code",
   "execution_count": 10,
   "metadata": {
    "colab": {
     "base_uri": "https://localhost:8080/",
     "height": 112
    },
    "colab_type": "code",
    "id": "VAKWAqDlJxjc",
    "outputId": "dca86e03-d8f8-47a7-9a5a-bb97102090aa"
   },
   "outputs": [
    {
     "name": "stdout",
     "output_type": "stream",
     "text": [
      "[0.5974721105777454, 0.6187487693209358, 0.6037565756055621, 0.6228196479296693, 0.5679137231341259, 0.5961082546953389, 0.6077237594406129, 0.5786059341154282, 0.6052145558794688, 0.6101237762942235]\n",
      "[498548822.44257206, 506517561.20741504, 497024012.65831554, 502555602.16445655, 500686811.8668126, 500049319.0556409, 497458220.00889736, 505176520.52815926, 504055859.1933134, 502936764.4549244]\n",
      "[1.1336378372004146e+18, 1.0992409889980082e+18, 1.0641641569556064e+18, 1.023281144135779e+18, 1.1956566219076398e+18, 1.1757924267625426e+18, 1.119047797682586e+18, 1.2485754600117512e+18, 1.1648391867205071e+18, 1.0485357261509544e+18]\n",
      "[1064724301.0283998, 1048446941.4319488, 1031583325.2605464, 1011573597.9827563, 1093460846.0789256, 1084339627.0369089, 1057850555.4578992, 1117396733.488939, 1079277159.3619995, 1023980334.8458184]\n"
     ]
    }
   ],
   "source": [
    "print(R2_RF) \n",
    "print(MAE_RF) \n",
    "print(MSE_RF) \n",
    "print(RMSE_RF) "
   ]
  },
  {
   "cell_type": "code",
   "execution_count": 0,
   "metadata": {
    "colab": {},
    "colab_type": "code",
    "id": "Xdh6w-khHsdH"
   },
   "outputs": [],
   "source": [
    "import pickle\n",
    "with open('sample_data/R2_RF.pkl', 'wb') as f:\n",
    "    pickle.dump(R2_RF, f) #피클파일 저장\n",
    "with open('sample_data/MAE_RF.pkl', 'wb') as f:\n",
    "    pickle.dump(MAE_RF, f) #피클파일 저장\n",
    "    \n",
    "with open('sample_data/MSE_RF.pkl', 'wb') as f:\n",
    "    pickle.dump(MSE_RF, f) #피클파일 저장\n",
    "\n",
    "with open('sample_data/RMSE_RF.pkl', 'wb') as f:\n",
    "    pickle.dump(RMSE_RF, f) #피클파일 저장"
   ]
  },
  {
   "cell_type": "code",
   "execution_count": 0,
   "metadata": {
    "colab": {},
    "colab_type": "code",
    "id": "0gHLaRVDMU9C"
   },
   "outputs": [],
   "source": [
    "### light gbm(1010)"
   ]
  },
  {
   "cell_type": "code",
   "execution_count": 0,
   "metadata": {
    "colab": {},
    "colab_type": "code",
    "id": "bel1MDY2PDZD"
   },
   "outputs": [],
   "source": [
    "import pandas as pd \n",
    "df = pd.read_csv('df_grouped_rate.csv') #폴더 위치는 상이할 수 있음\n",
    "y=df.iloc[:,3:4]\n",
    "X= df.iloc[:,1:].drop(['sales_total','code'],axis=1)\n",
    "X['district'] = X['district'].astype('object')\n",
    "\n",
    "# # 더미변수화\n",
    "X = pd.get_dummies(X)  "
   ]
  },
  {
   "cell_type": "code",
   "execution_count": 23,
   "metadata": {
    "colab": {
     "base_uri": "https://localhost:8080/",
     "height": 1000
    },
    "colab_type": "code",
    "id": "eEKJaJbBPFG-",
    "outputId": "0d28b598-938f-4414-828d-bb327a981838"
   },
   "outputs": [
    {
     "name": "stdout",
     "output_type": "stream",
     "text": [
      "Training until validation scores don't improve for 800 rounds.\n",
      "[100]\tvalid_0's l2: 1.37572e+18\n",
      "[200]\tvalid_0's l2: 1.4112e+18\n",
      "[300]\tvalid_0's l2: 1.42773e+18\n",
      "[400]\tvalid_0's l2: 1.45571e+18\n",
      "[500]\tvalid_0's l2: 1.48132e+18\n",
      "[600]\tvalid_0's l2: 1.49929e+18\n",
      "[700]\tvalid_0's l2: 1.51495e+18\n",
      "[800]\tvalid_0's l2: 1.53302e+18\n",
      "Early stopping, best iteration is:\n",
      "[64]\tvalid_0's l2: 1.35253e+18\n",
      "1 번째 시도\n",
      "==================================================\n",
      "==================================================\n",
      "Training until validation scores don't improve for 800 rounds.\n",
      "[100]\tvalid_0's l2: 1.39757e+18\n",
      "[200]\tvalid_0's l2: 1.4459e+18\n",
      "[300]\tvalid_0's l2: 1.48282e+18\n",
      "[400]\tvalid_0's l2: 1.50385e+18\n",
      "[500]\tvalid_0's l2: 1.53421e+18\n",
      "[600]\tvalid_0's l2: 1.55234e+18\n",
      "[700]\tvalid_0's l2: 1.55885e+18\n",
      "[800]\tvalid_0's l2: 1.56268e+18\n",
      "Early stopping, best iteration is:\n",
      "[73]\tvalid_0's l2: 1.38572e+18\n",
      "2 번째 시도\n",
      "==================================================\n",
      "==================================================\n",
      "Training until validation scores don't improve for 800 rounds.\n",
      "[100]\tvalid_0's l2: 1.47819e+18\n",
      "[200]\tvalid_0's l2: 1.49873e+18\n",
      "[300]\tvalid_0's l2: 1.52075e+18\n",
      "[400]\tvalid_0's l2: 1.54711e+18\n",
      "[500]\tvalid_0's l2: 1.57111e+18\n",
      "[600]\tvalid_0's l2: 1.59788e+18\n",
      "[700]\tvalid_0's l2: 1.61092e+18\n",
      "[800]\tvalid_0's l2: 1.63008e+18\n",
      "Early stopping, best iteration is:\n",
      "[84]\tvalid_0's l2: 1.45434e+18\n",
      "3 번째 시도\n",
      "==================================================\n",
      "==================================================\n",
      "Training until validation scores don't improve for 800 rounds.\n",
      "[100]\tvalid_0's l2: 1.49551e+18\n",
      "[200]\tvalid_0's l2: 1.53604e+18\n",
      "[300]\tvalid_0's l2: 1.56663e+18\n",
      "[400]\tvalid_0's l2: 1.60617e+18\n",
      "[500]\tvalid_0's l2: 1.62047e+18\n",
      "[600]\tvalid_0's l2: 1.63796e+18\n",
      "[700]\tvalid_0's l2: 1.65883e+18\n",
      "[800]\tvalid_0's l2: 1.66741e+18\n",
      "Early stopping, best iteration is:\n",
      "[53]\tvalid_0's l2: 1.47435e+18\n",
      "4 번째 시도\n",
      "==================================================\n",
      "==================================================\n",
      "Training until validation scores don't improve for 800 rounds.\n",
      "[100]\tvalid_0's l2: 1.53813e+18\n",
      "[200]\tvalid_0's l2: 1.58214e+18\n",
      "[300]\tvalid_0's l2: 1.60701e+18\n",
      "[400]\tvalid_0's l2: 1.6317e+18\n",
      "[500]\tvalid_0's l2: 1.65539e+18\n",
      "[600]\tvalid_0's l2: 1.66854e+18\n",
      "[700]\tvalid_0's l2: 1.68516e+18\n",
      "[800]\tvalid_0's l2: 1.69754e+18\n",
      "Early stopping, best iteration is:\n",
      "[49]\tvalid_0's l2: 1.51831e+18\n",
      "5 번째 시도\n",
      "==================================================\n",
      "==================================================\n",
      "Training until validation scores don't improve for 800 rounds.\n",
      "[100]\tvalid_0's l2: 1.40962e+18\n",
      "[200]\tvalid_0's l2: 1.47949e+18\n",
      "[300]\tvalid_0's l2: 1.50791e+18\n",
      "[400]\tvalid_0's l2: 1.53611e+18\n",
      "[500]\tvalid_0's l2: 1.55586e+18\n",
      "[600]\tvalid_0's l2: 1.56934e+18\n",
      "[700]\tvalid_0's l2: 1.58646e+18\n",
      "[800]\tvalid_0's l2: 1.59856e+18\n",
      "Early stopping, best iteration is:\n",
      "[50]\tvalid_0's l2: 1.38726e+18\n",
      "6 번째 시도\n",
      "==================================================\n",
      "==================================================\n",
      "Training until validation scores don't improve for 800 rounds.\n",
      "[100]\tvalid_0's l2: 1.43819e+18\n",
      "[200]\tvalid_0's l2: 1.51301e+18\n",
      "[300]\tvalid_0's l2: 1.54237e+18\n",
      "[400]\tvalid_0's l2: 1.56702e+18\n",
      "[500]\tvalid_0's l2: 1.59961e+18\n",
      "[600]\tvalid_0's l2: 1.61765e+18\n",
      "[700]\tvalid_0's l2: 1.63498e+18\n",
      "[800]\tvalid_0's l2: 1.65177e+18\n",
      "Early stopping, best iteration is:\n",
      "[62]\tvalid_0's l2: 1.42897e+18\n",
      "7 번째 시도\n",
      "==================================================\n",
      "==================================================\n",
      "Training until validation scores don't improve for 800 rounds.\n",
      "[100]\tvalid_0's l2: 1.43841e+18\n",
      "[200]\tvalid_0's l2: 1.46503e+18\n",
      "[300]\tvalid_0's l2: 1.48098e+18\n",
      "[400]\tvalid_0's l2: 1.49486e+18\n",
      "[500]\tvalid_0's l2: 1.51929e+18\n",
      "[600]\tvalid_0's l2: 1.54306e+18\n",
      "[700]\tvalid_0's l2: 1.56043e+18\n",
      "[800]\tvalid_0's l2: 1.57868e+18\n",
      "Early stopping, best iteration is:\n",
      "[68]\tvalid_0's l2: 1.40169e+18\n",
      "8 번째 시도\n",
      "==================================================\n",
      "==================================================\n",
      "Training until validation scores don't improve for 800 rounds.\n",
      "[100]\tvalid_0's l2: 1.39241e+18\n",
      "[200]\tvalid_0's l2: 1.4542e+18\n",
      "[300]\tvalid_0's l2: 1.48225e+18\n",
      "[400]\tvalid_0's l2: 1.50317e+18\n",
      "[500]\tvalid_0's l2: 1.52981e+18\n",
      "[600]\tvalid_0's l2: 1.54809e+18\n",
      "[700]\tvalid_0's l2: 1.568e+18\n",
      "[800]\tvalid_0's l2: 1.58312e+18\n",
      "Early stopping, best iteration is:\n",
      "[42]\tvalid_0's l2: 1.37122e+18\n",
      "9 번째 시도\n",
      "==================================================\n",
      "==================================================\n",
      "Training until validation scores don't improve for 800 rounds.\n",
      "[100]\tvalid_0's l2: 1.45702e+18\n",
      "[200]\tvalid_0's l2: 1.50388e+18\n",
      "[300]\tvalid_0's l2: 1.52816e+18\n",
      "[400]\tvalid_0's l2: 1.54475e+18\n",
      "[500]\tvalid_0's l2: 1.5772e+18\n",
      "[600]\tvalid_0's l2: 1.59291e+18\n",
      "[700]\tvalid_0's l2: 1.61149e+18\n",
      "[800]\tvalid_0's l2: 1.6257e+18\n",
      "Early stopping, best iteration is:\n",
      "[30]\tvalid_0's l2: 1.41648e+18\n",
      "10 번째 시도\n",
      "==================================================\n",
      "==================================================\n"
     ]
    }
   ],
   "source": [
    "import lightgbm as lgb\n",
    "from sklearn.metrics import mean_squared_error, r2_score\n",
    "import seaborn as sns\n",
    "from sklearn.model_selection import train_test_split\n",
    "R2_lgb_gbdt = []\n",
    "MAE_lgb_gbdt = []\n",
    "MSE_lgb_gbdt = []\n",
    "RMSE_lgb_gbdt = []\n",
    "for i in range(10):\n",
    "    train_x, test_x, train_y, test_y = train_test_split(X, y, test_size=0.3)\n",
    "\n",
    "    train_ds = lgb.Dataset(train_x, label = train_y) \n",
    "    test_ds = lgb.Dataset(test_x, label = test_y) \n",
    "   \n",
    "  #파라미터 설정\n",
    "    params = {'learning_rate': 0.8, \n",
    "              'max_depth': 16, \n",
    "              'boosting': 'gbdt', \n",
    "              'objective': 'regression', \n",
    "              'metric': 'mse', \n",
    "              'is_training_metric': True, \n",
    "              'feature_fraction': 0.9, \n",
    "              'bagging_fraction': 0.7, \n",
    "              'bagging_freq': 5, \n",
    "              'device': 'cpu'\n",
    "             }\n",
    "    # 훈련\n",
    "    model = lgb.train(params, train_ds, 1000, test_ds, verbose_eval=100, early_stopping_rounds=800)\n",
    "#     predict_train = model.predict(train_x)\n",
    "    y_pred = model.predict(test_x)\n",
    "    print(i+1,\"번째 시도\")\n",
    "\n",
    "    # 오차 결과값\n",
    "    R2_lgb_gbdt.append(r2_score(test_y , y_pred))\n",
    "    MAE_lgb_gbdt.append(metrics.mean_absolute_error(test_y, y_pred))\n",
    "    MSE_lgb_gbdt.append(metrics.mean_squared_error(test_y, y_pred))\n",
    "    RMSE_lgb_gbdt.append(np.sqrt(metrics.mean_squared_error(test_y, y_pred)))\n",
    "    print('='*50)\n",
    "    print('='*50)\n"
   ]
  },
  {
   "cell_type": "code",
   "execution_count": 15,
   "metadata": {
    "colab": {
     "base_uri": "https://localhost:8080/",
     "height": 112
    },
    "colab_type": "code",
    "id": "F88562qePL26",
    "outputId": "583a9e88-3d24-4f05-ed22-2f898ce2c7c2"
   },
   "outputs": [
    {
     "name": "stdout",
     "output_type": "stream",
     "text": [
      "[0.55207323162995, 0.5443543981682002, 0.5808418738223338, 0.5936775424838103, 0.5425956408911803, 0.5919389891065372, 0.5177066820295695, 0.5401971024742807, 0.564612566390563, 0.5989189667859329]\n",
      "[517836759.33829075, 529519807.81118584, 522074512.3722828, 519513141.9287107, 525747028.77848274, 533395790.8735867, 531250755.28563124, 532866678.1023589, 531256487.8044458, 526361323.51833093]\n",
      "[1.0642139273381171e+18, 1.3261180006406198e+18, 1.1689914356191173e+18, 1.0501563194686783e+18, 1.2260745075719278e+18, 1.269823536600979e+18, 1.265469909795046e+18, 1.460478387084732e+18, 1.280518274566282e+18, 1.1570098288020037e+18]\n",
      "[1031607448.2758048, 1151571969.3708334, 1081199073.075406, 1024771349.8477006, 1107282487.7021797, 1126864471.2657237, 1124931068.9082446, 1208502539.1304448, 1131599873.880464, 1075643913.5708451]\n"
     ]
    }
   ],
   "source": [
    "print(R2_lgb_gbdt) \n",
    "print(MAE_lgb_gbdt) \n",
    "print(MSE_lgb_gbdt) \n",
    "print(RMSE_lgb_gbdt) "
   ]
  },
  {
   "cell_type": "code",
   "execution_count": 24,
   "metadata": {
    "colab": {
     "base_uri": "https://localhost:8080/",
     "height": 112
    },
    "colab_type": "code",
    "id": "hVz_YASQ5Vi-",
    "outputId": "be0d77c6-f85a-4088-d3d2-3eef3130ff17"
   },
   "outputs": [
    {
     "name": "stdout",
     "output_type": "stream",
     "text": [
      "[0.5008081721988569, 0.505574001526339, 0.5103612308130527, 0.5032057500970352, 0.4637778269311451, 0.5291294204606836, 0.5065399747899992, 0.5067814529918213, 0.5094877288903982, 0.5110107255572117]\n",
      "[590515664.1799839, 605577692.0793301, 628337361.704395, 607762174.6226231, 604066139.6588525, 598853746.872158, 617324117.0282323, 611808634.0750788, 601853357.1448094, 589609107.8753933]\n",
      "[1.352533605977499e+18, 1.3857187612648996e+18, 1.4543449593286152e+18, 1.4743503119191014e+18, 1.5183075044053012e+18, 1.387258605529223e+18, 1.428969157882564e+18, 1.401693253522478e+18, 1.371223948084791e+18, 1.4164813350516498e+18]\n",
      "[1162984783.20978, 1177165562.3848753, 1205962254.5206857, 1214228278.3394156, 1232196211.8125916, 1177819428.2355945, 1195394979.8633773, 1183931270.6075797, 1170992719.0571218, 1190160214.026519]\n"
     ]
    }
   ],
   "source": [
    "###  #파라미터 설정\n",
    "    # params = {'learning_rate': 0.8, \n",
    "    #           'max_depth': 16, \n",
    "    #           'boosting': 'gbdt', \n",
    "    #           'objective': 'regression', \n",
    "    #           'metric': 'mse', \n",
    "    #           'is_training_metric': True, \n",
    "    #           'feature_fraction': 0.9, \n",
    "    #           'bagging_fraction': 0.7, \n",
    "    #           'bagging_freq': 5, \n",
    "    #           'device': 'cpu'\n",
    "    #          }\n",
    "    # # 훈련\n",
    "    # model = lgb.train(params, train_ds, 1000, test_ds, verbose_eval=100, early_stopping_rounds=800)\n",
    "print(R2_lgb_gbdt) \n",
    "print(MAE_lgb_gbdt) \n",
    "print(MSE_lgb_gbdt) \n",
    "print(RMSE_lgb_gbdt) "
   ]
  },
  {
   "cell_type": "code",
   "execution_count": 0,
   "metadata": {
    "colab": {},
    "colab_type": "code",
    "id": "-d24W5JVR8sp"
   },
   "outputs": [],
   "source": [
    "import pickle\n",
    "with open('sample_data/R2_lgb_gbdt3.pkl', 'wb') as f:\n",
    "    pickle.dump(R2_lgb_gbdt, f) #피클파일 저장\n",
    "with open('sample_data/MAE_lgb_gbdt3.pkl', 'wb') as f:\n",
    "    pickle.dump(MAE_lgb_gbdt, f) #피클파일 저장\n",
    "with open('sample_data/MSE_lgb_gbdt3.pkl', 'wb') as f:\n",
    "    pickle.dump(MSE_lgb_gbdt, f) #피클파일 저장\n",
    "\n",
    "with open('sample_data/RMSE_lgb_gbdt3.pkl', 'wb') as f:\n",
    "    pickle.dump(RMSE_lgb_gbdt, f) #피클파일 저장"
   ]
  },
  {
   "cell_type": "code",
   "execution_count": 0,
   "metadata": {
    "colab": {},
    "colab_type": "code",
    "id": "WxDSzYDDR-bR"
   },
   "outputs": [],
   "source": [
    "### light gbm (시군구)"
   ]
  },
  {
   "cell_type": "code",
   "execution_count": 0,
   "metadata": {
    "colab": {},
    "colab_type": "code",
    "id": "e_WNZzhquwbM"
   },
   "outputs": [],
   "source": [
    "import pandas as pd \n",
    "df = pd.read_csv(\"df_grouped_rate.csv\", encoding ='utf-8')\n",
    "cgoongu = pd.read_csv(\"cgoongoo1.csv\", encoding ='utf-8')\n",
    "df_merged = pd.merge(df, cgoongu, on=['district'])\n",
    "df_merged.drop(['district','year'], axis=1, inplace =True)\n",
    "\n",
    "y=df_merged.iloc[:,1:2]\n",
    "X= df_merged.drop(['sales_total','code'],axis=1)\n",
    "\n",
    "X= X.iloc[:,1:]\n",
    "\n",
    "\n",
    "X['cgoongoo'] = X['cgoongoo'].astype('object')\n",
    "# # 더미변수화\n",
    "X = pd.get_dummies(X)  "
   ]
  },
  {
   "cell_type": "code",
   "execution_count": 19,
   "metadata": {
    "colab": {
     "base_uri": "https://localhost:8080/",
     "height": 1000
    },
    "colab_type": "code",
    "id": "bIjImsuzu0cx",
    "outputId": "bfea9712-9f6f-43af-fffa-614c1c43edbd"
   },
   "outputs": [
    {
     "name": "stdout",
     "output_type": "stream",
     "text": [
      "Training until validation scores don't improve for 500 rounds.\n",
      "[100]\tvalid_0's l2: 1.87608e+18\n",
      "[200]\tvalid_0's l2: 1.65832e+18\n",
      "[300]\tvalid_0's l2: 1.56145e+18\n",
      "[400]\tvalid_0's l2: 1.49985e+18\n",
      "[500]\tvalid_0's l2: 1.4522e+18\n",
      "[600]\tvalid_0's l2: 1.42083e+18\n",
      "[700]\tvalid_0's l2: 1.3999e+18\n",
      "[800]\tvalid_0's l2: 1.38123e+18\n",
      "[900]\tvalid_0's l2: 1.36781e+18\n",
      "[1000]\tvalid_0's l2: 1.35557e+18\n",
      "Did not meet early stopping. Best iteration is:\n",
      "[1000]\tvalid_0's l2: 1.35557e+18\n",
      "1 번째 시도\n",
      "==================================================\n",
      "==================================================\n",
      "Training until validation scores don't improve for 500 rounds.\n",
      "[100]\tvalid_0's l2: 1.94464e+18\n",
      "[200]\tvalid_0's l2: 1.70352e+18\n",
      "[300]\tvalid_0's l2: 1.59564e+18\n",
      "[400]\tvalid_0's l2: 1.5354e+18\n",
      "[500]\tvalid_0's l2: 1.4938e+18\n",
      "[600]\tvalid_0's l2: 1.46127e+18\n",
      "[700]\tvalid_0's l2: 1.43785e+18\n",
      "[800]\tvalid_0's l2: 1.42005e+18\n",
      "[900]\tvalid_0's l2: 1.40487e+18\n",
      "[1000]\tvalid_0's l2: 1.39127e+18\n",
      "Did not meet early stopping. Best iteration is:\n",
      "[1000]\tvalid_0's l2: 1.39127e+18\n",
      "2 번째 시도\n",
      "==================================================\n",
      "==================================================\n",
      "Training until validation scores don't improve for 500 rounds.\n",
      "[100]\tvalid_0's l2: 2.40076e+18\n",
      "[200]\tvalid_0's l2: 2.12131e+18\n",
      "[300]\tvalid_0's l2: 1.9877e+18\n",
      "[400]\tvalid_0's l2: 1.91008e+18\n",
      "[500]\tvalid_0's l2: 1.85466e+18\n",
      "[600]\tvalid_0's l2: 1.82011e+18\n",
      "[700]\tvalid_0's l2: 1.78935e+18\n",
      "[800]\tvalid_0's l2: 1.76745e+18\n",
      "[900]\tvalid_0's l2: 1.75121e+18\n",
      "[1000]\tvalid_0's l2: 1.73487e+18\n",
      "Did not meet early stopping. Best iteration is:\n",
      "[1000]\tvalid_0's l2: 1.73487e+18\n",
      "3 번째 시도\n",
      "==================================================\n",
      "==================================================\n",
      "Training until validation scores don't improve for 500 rounds.\n",
      "[100]\tvalid_0's l2: 1.7031e+18\n",
      "[200]\tvalid_0's l2: 1.53005e+18\n",
      "[300]\tvalid_0's l2: 1.45836e+18\n",
      "[400]\tvalid_0's l2: 1.40886e+18\n",
      "[500]\tvalid_0's l2: 1.3733e+18\n",
      "[600]\tvalid_0's l2: 1.34904e+18\n",
      "[700]\tvalid_0's l2: 1.32931e+18\n",
      "[800]\tvalid_0's l2: 1.31388e+18\n",
      "[900]\tvalid_0's l2: 1.29945e+18\n",
      "[1000]\tvalid_0's l2: 1.29003e+18\n",
      "Did not meet early stopping. Best iteration is:\n",
      "[1000]\tvalid_0's l2: 1.29003e+18\n",
      "4 번째 시도\n",
      "==================================================\n",
      "==================================================\n",
      "Training until validation scores don't improve for 500 rounds.\n",
      "[100]\tvalid_0's l2: 2.00887e+18\n",
      "[200]\tvalid_0's l2: 1.75824e+18\n",
      "[300]\tvalid_0's l2: 1.64536e+18\n",
      "[400]\tvalid_0's l2: 1.58631e+18\n",
      "[500]\tvalid_0's l2: 1.54282e+18\n",
      "[600]\tvalid_0's l2: 1.5089e+18\n",
      "[700]\tvalid_0's l2: 1.48517e+18\n",
      "[800]\tvalid_0's l2: 1.46612e+18\n",
      "[900]\tvalid_0's l2: 1.45086e+18\n",
      "[1000]\tvalid_0's l2: 1.43889e+18\n",
      "Did not meet early stopping. Best iteration is:\n",
      "[999]\tvalid_0's l2: 1.43888e+18\n",
      "5 번째 시도\n",
      "==================================================\n",
      "==================================================\n",
      "Training until validation scores don't improve for 500 rounds.\n",
      "[100]\tvalid_0's l2: 1.80683e+18\n",
      "[200]\tvalid_0's l2: 1.61597e+18\n",
      "[300]\tvalid_0's l2: 1.52695e+18\n",
      "[400]\tvalid_0's l2: 1.47997e+18\n",
      "[500]\tvalid_0's l2: 1.43965e+18\n",
      "[600]\tvalid_0's l2: 1.41191e+18\n",
      "[700]\tvalid_0's l2: 1.3927e+18\n",
      "[800]\tvalid_0's l2: 1.37671e+18\n",
      "[900]\tvalid_0's l2: 1.35862e+18\n",
      "[1000]\tvalid_0's l2: 1.34424e+18\n",
      "Did not meet early stopping. Best iteration is:\n",
      "[1000]\tvalid_0's l2: 1.34424e+18\n",
      "6 번째 시도\n",
      "==================================================\n",
      "==================================================\n",
      "Training until validation scores don't improve for 500 rounds.\n",
      "[100]\tvalid_0's l2: 2.01605e+18\n",
      "[200]\tvalid_0's l2: 1.77964e+18\n",
      "[300]\tvalid_0's l2: 1.67254e+18\n",
      "[400]\tvalid_0's l2: 1.60693e+18\n",
      "[500]\tvalid_0's l2: 1.55972e+18\n",
      "[600]\tvalid_0's l2: 1.53237e+18\n",
      "[700]\tvalid_0's l2: 1.50864e+18\n",
      "[800]\tvalid_0's l2: 1.49223e+18\n",
      "[900]\tvalid_0's l2: 1.47639e+18\n",
      "[1000]\tvalid_0's l2: 1.46342e+18\n",
      "Did not meet early stopping. Best iteration is:\n",
      "[1000]\tvalid_0's l2: 1.46342e+18\n",
      "7 번째 시도\n",
      "==================================================\n",
      "==================================================\n",
      "Training until validation scores don't improve for 500 rounds.\n",
      "[100]\tvalid_0's l2: 1.93107e+18\n",
      "[200]\tvalid_0's l2: 1.70022e+18\n",
      "[300]\tvalid_0's l2: 1.5981e+18\n",
      "[400]\tvalid_0's l2: 1.53589e+18\n",
      "[500]\tvalid_0's l2: 1.49326e+18\n",
      "[600]\tvalid_0's l2: 1.46069e+18\n",
      "[700]\tvalid_0's l2: 1.4431e+18\n",
      "[800]\tvalid_0's l2: 1.42519e+18\n",
      "[900]\tvalid_0's l2: 1.41175e+18\n",
      "[1000]\tvalid_0's l2: 1.401e+18\n",
      "Did not meet early stopping. Best iteration is:\n",
      "[1000]\tvalid_0's l2: 1.401e+18\n",
      "8 번째 시도\n",
      "==================================================\n",
      "==================================================\n",
      "Training until validation scores don't improve for 500 rounds.\n",
      "[100]\tvalid_0's l2: 1.95036e+18\n",
      "[200]\tvalid_0's l2: 1.69753e+18\n",
      "[300]\tvalid_0's l2: 1.5904e+18\n",
      "[400]\tvalid_0's l2: 1.52801e+18\n",
      "[500]\tvalid_0's l2: 1.48253e+18\n",
      "[600]\tvalid_0's l2: 1.45446e+18\n",
      "[700]\tvalid_0's l2: 1.43253e+18\n",
      "[800]\tvalid_0's l2: 1.41486e+18\n",
      "[900]\tvalid_0's l2: 1.40037e+18\n",
      "[1000]\tvalid_0's l2: 1.38926e+18\n",
      "Did not meet early stopping. Best iteration is:\n",
      "[1000]\tvalid_0's l2: 1.38926e+18\n",
      "9 번째 시도\n",
      "==================================================\n",
      "==================================================\n",
      "Training until validation scores don't improve for 500 rounds.\n",
      "[100]\tvalid_0's l2: 2.11485e+18\n",
      "[200]\tvalid_0's l2: 1.87087e+18\n",
      "[300]\tvalid_0's l2: 1.75539e+18\n",
      "[400]\tvalid_0's l2: 1.68887e+18\n",
      "[500]\tvalid_0's l2: 1.6402e+18\n",
      "[600]\tvalid_0's l2: 1.61011e+18\n",
      "[700]\tvalid_0's l2: 1.58477e+18\n",
      "[800]\tvalid_0's l2: 1.5646e+18\n",
      "[900]\tvalid_0's l2: 1.54996e+18\n",
      "[1000]\tvalid_0's l2: 1.53733e+18\n",
      "Did not meet early stopping. Best iteration is:\n",
      "[1000]\tvalid_0's l2: 1.53733e+18\n",
      "10 번째 시도\n",
      "==================================================\n",
      "==================================================\n"
     ]
    }
   ],
   "source": [
    "import lightgbm as lgb\n",
    "from sklearn.metrics import mean_squared_error, r2_score\n",
    "import seaborn as sns\n",
    "from sklearn.model_selection import train_test_split\n",
    "R2_lgb_gbdt_c = []\n",
    "MAE_lgb_gbdt_c = []\n",
    "MSE_lgb_gbdt_c = []\n",
    "RMSE_lgb_gbdt_c = []\n",
    "for i in range(10):\n",
    "    train_x, test_x, train_y, test_y = train_test_split(X, y, test_size=0.2)\n",
    "\n",
    "\n",
    "#     model = lgb.LGBMClassifier(n_estimators=100, max_depth=1, random_state=0)\n",
    "   # 데이터셋으로 변환\n",
    "    train_ds = lgb.Dataset(train_x, label = train_y) \n",
    "    test_ds = lgb.Dataset(test_x, label = test_y) \n",
    "   \n",
    "  #파라미터 설정\n",
    "    params = {'learning_rate': 0.01, \n",
    "              'max_depth': 16, \n",
    "              'boosting': 'gbdt', \n",
    "              'objective': 'regression', \n",
    "              'metric': 'mse', \n",
    "              'is_training_metric': True, \n",
    "              'feature_fraction': 0.9, \n",
    "              'bagging_fraction': 0.7, \n",
    "              'bagging_freq': 5, \n",
    "              'device': 'cpu'\n",
    "             }\n",
    "    # 훈련\n",
    "    model = lgb.train(params, train_ds, 1000, test_ds, verbose_eval=100, early_stopping_rounds=500)\n",
    "#     predict_train = model.predict(train_x)\n",
    "    y_pred = model.predict(test_x)\n",
    "    print(i+1,\"번째 시도\")\n",
    "\n",
    "    # 오차 결과값\n",
    "    R2_lgb_gbdt_c.append(r2_score(test_y , y_pred))\n",
    "    MAE_lgb_gbdt_c.append(metrics.mean_absolute_error(test_y, y_pred))\n",
    "    MSE_lgb_gbdt_c.append(metrics.mean_squared_error(test_y, y_pred))\n",
    "    RMSE_lgb_gbdt_c.append(np.sqrt(metrics.mean_squared_error(test_y, y_pred)))\n",
    "    print('='*50)\n",
    "    print('='*50)\n"
   ]
  },
  {
   "cell_type": "code",
   "execution_count": 20,
   "metadata": {
    "colab": {
     "base_uri": "https://localhost:8080/",
     "height": 112
    },
    "colab_type": "code",
    "id": "MK1nP6unvG1y",
    "outputId": "524c2539-fc5b-4d06-dd70-9b5748ea092a"
   },
   "outputs": [
    {
     "name": "stdout",
     "output_type": "stream",
     "text": [
      "[0.4869243682813107, 0.4969586939016368, 0.4717976446032055, 0.4483059047574688, 0.4935597933111723, 0.46686892511734157, 0.47956542569401184, 0.49730192582154087, 0.509469864478052, 0.4786290008843941]\n",
      "[578685890.4528376, 580480601.5095115, 585013336.5057452, 571079507.0456218, 580981599.8670824, 578590321.1315088, 568021931.0356071, 577652264.5576637, 573641985.5481981, 575364452.8384377]\n",
      "[1.3555716891182006e+18, 1.3912720364242404e+18, 1.7348700208126218e+18, 1.29002975880089e+18, 1.4388788228636772e+18, 1.3442439718859133e+18, 1.4634191404936694e+18, 1.4009976329149673e+18, 1.3892573984194092e+18, 1.5373346877343828e+18]\n",
      "[1164290208.2892394, 1179521952.4978077, 1317144646.88303, 1135794769.6661093, 1199532751.892868, 1159415357.7928462, 1209718620.3798258, 1183637458.3946586, 1178667636.961077, 1239893014.6324654]\n"
     ]
    }
   ],
   "source": [
    "print(R2_lgb_gbdt_c)\n",
    "print(MAE_lgb_gbdt_c)\n",
    "print(MSE_lgb_gbdt_c)\n",
    "print(RMSE_lgb_gbdt_c)"
   ]
  },
  {
   "cell_type": "code",
   "execution_count": 0,
   "metadata": {
    "colab": {},
    "colab_type": "code",
    "id": "jTyy5HxIv0Qz"
   },
   "outputs": [],
   "source": [
    "import pickle\n",
    "with open('sample_data/R2_lgb_gbdt_c.pkl', 'wb') as f:\n",
    "    pickle.dump(R2_lgb_gbdt_c, f) #피클파일 저장\n",
    "with open('sample_data/MAE_lgb_gbdt_c.pkl', 'wb') as f:\n",
    "    pickle.dump(MAE_lgb_gbdt_c, f) #피클파일 저장\n",
    "with open('sample_data/MSE_lgb_gbdt_c.pkl', 'wb') as f:\n",
    "    pickle.dump(MSE_lgb_gbdt_c, f) #피클파일 저장\n",
    "\n",
    "with open('sample_data/RMSE_lgb_gbdt_c.pkl', 'wb') as f:\n",
    "    pickle.dump(RMSE_lgb_gbdt_c, f) #피클파일 저장"
   ]
  },
  {
   "cell_type": "code",
   "execution_count": 0,
   "metadata": {
    "colab": {},
    "colab_type": "code",
    "id": "KiI3-yPXv-9u"
   },
   "outputs": [],
   "source": [
    "####  Agglomerative clustering (시군구)"
   ]
  },
  {
   "cell_type": "code",
   "execution_count": 0,
   "metadata": {
    "colab": {},
    "colab_type": "code",
    "id": "x17H11sfMzWD"
   },
   "outputs": [],
   "source": [
    "import numpy as np\n",
    "import pandas as pd\n",
    "from sklearn.preprocessing import LabelEncoder, OneHotEncoder\n",
    "from sklearn.preprocessing import RobustScaler\n",
    "import seaborn as sns\n",
    "import statsmodels.api as sm\n",
    "from sklearn.model_selection import train_test_split\n",
    "\n",
    "from sklearn.cluster import AgglomerativeClustering\n",
    "\n",
    "from sklearn.linear_model import LinearRegression\n",
    "from sklearn import metrics\n",
    "\n",
    "import matplotlib.pyplot as plt"
   ]
  },
  {
   "cell_type": "code",
   "execution_count": 0,
   "metadata": {
    "colab": {},
    "colab_type": "code",
    "id": "VBO1VKkBM5YD"
   },
   "outputs": [],
   "source": [
    "\n",
    "import pandas as pd \n",
    "df = pd.read_csv(\"df_grouped_rate.csv\", encoding ='utf-8')\n",
    "cgoongu = pd.read_csv(\"cgoongoo1.csv\", encoding ='utf-8')\n",
    "df_merged = pd.merge(df, cgoongu, on=['district'])\n",
    "df_merged.drop(['district','year','code'], axis=1, inplace =True)\n",
    "\n",
    "np.random.seed(seed=100)\n",
    "idx= np.random.uniform(0, df.shape[0], size=50000 )\n",
    "\n",
    "y=df_merged.iloc[idx,1:2]\n",
    "X= df_merged.drop(['sales_total'],axis=1)\n",
    "\n",
    "X= X.iloc[idx,1:]\n",
    "\n",
    "\n",
    "X['cgoongoo'] = X['cgoongoo'].astype('object')\n",
    "# # # 더미변수화\n",
    "\n",
    "# X = pd.get_dummies(X)  "
   ]
  },
  {
   "cell_type": "code",
   "execution_count": 46,
   "metadata": {
    "colab": {
     "base_uri": "https://localhost:8080/",
     "height": 73
    },
    "colab_type": "code",
    "id": "C1bWJg6INPBi",
    "outputId": "486d4afa-a764-430b-f789-336cbb4a338e"
   },
   "outputs": [
    {
     "data": {
      "text/plain": [
       "AgglomerativeClustering(affinity='euclidean', compute_full_tree='auto',\n",
       "                        connectivity=None, distance_threshold=None,\n",
       "                        linkage='ward', memory=None, n_clusters=18)"
      ]
     },
     "execution_count": 46,
     "metadata": {
      "tags": []
     },
     "output_type": "execute_result"
    }
   ],
   "source": [
    "aggcl = AgglomerativeClustering(n_clusters=18)\n",
    "aggcl.fit(X)"
   ]
  },
  {
   "cell_type": "code",
   "execution_count": 53,
   "metadata": {
    "colab": {
     "base_uri": "https://localhost:8080/",
     "height": 36
    },
    "colab_type": "code",
    "id": "b4F8l_ALNeTg",
    "outputId": "cba01e6e-4a04-4af2-c2f4-87ea8893e985"
   },
   "outputs": [
    {
     "data": {
      "text/plain": [
       "(50000, 1)"
      ]
     },
     "execution_count": 53,
     "metadata": {
      "tags": []
     },
     "output_type": "execute_result"
    }
   ],
   "source": [
    "# 클러스터링 데이터로 라벨링하여 기존 상권코드 데이터와 교체\n",
    "y_pred = aggcl.labels_\n",
    "y_pred_df= pd.DataFrame(y_pred, columns=['labels'], dtype=str)\n",
    "y_pred_df.shape"
   ]
  },
  {
   "cell_type": "code",
   "execution_count": 0,
   "metadata": {
    "colab": {},
    "colab_type": "code",
    "id": "Pav-DMQPVx-z"
   },
   "outputs": [],
   "source": [
    "X=X.drop('cgoongoo', axis=1)"
   ]
  },
  {
   "cell_type": "code",
   "execution_count": 64,
   "metadata": {
    "colab": {
     "base_uri": "https://localhost:8080/",
     "height": 36
    },
    "colab_type": "code",
    "id": "6eCgHggFZ-0N",
    "outputId": "0ac6fc3b-3827-4201-b109-19b6d7cf6d86"
   },
   "outputs": [
    {
     "data": {
      "text/plain": [
       "((50000, 17), (50000, 1))"
      ]
     },
     "execution_count": 64,
     "metadata": {
      "tags": []
     },
     "output_type": "execute_result"
    }
   ],
   "source": [
    "X.reset_index().shape, y_pred_df.shape"
   ]
  },
  {
   "cell_type": "code",
   "execution_count": 66,
   "metadata": {
    "colab": {
     "base_uri": "https://localhost:8080/",
     "height": 435
    },
    "colab_type": "code",
    "id": "XJRrPD5PahtT",
    "outputId": "89fe34c4-ef05-4722-dd43-0e454995cd8c"
   },
   "outputs": [
    {
     "data": {
      "text/html": [
       "<div>\n",
       "<style scoped>\n",
       "    .dataframe tbody tr th:only-of-type {\n",
       "        vertical-align: middle;\n",
       "    }\n",
       "\n",
       "    .dataframe tbody tr th {\n",
       "        vertical-align: top;\n",
       "    }\n",
       "\n",
       "    .dataframe thead th {\n",
       "        text-align: right;\n",
       "    }\n",
       "</style>\n",
       "<table border=\"1\" class=\"dataframe\">\n",
       "  <thead>\n",
       "    <tr style=\"text-align: right;\">\n",
       "      <th></th>\n",
       "      <th>s_store_no_of_opening</th>\n",
       "      <th>s_store_no_of_closing</th>\n",
       "      <th>s_work_female</th>\n",
       "      <th>s_float_male</th>\n",
       "      <th>s_float_female</th>\n",
       "      <th>b_facil_total</th>\n",
       "      <th>b_apt_avg_price</th>\n",
       "      <th>b_income_avg_monthly_inc</th>\n",
       "      <th>sales_weekday</th>\n",
       "      <th>sales_female</th>\n",
       "      <th>sales_2030s</th>\n",
       "      <th>sales_06_11</th>\n",
       "      <th>sales_11_14</th>\n",
       "      <th>sales_14_17</th>\n",
       "      <th>sales_17_21</th>\n",
       "      <th>sales_21_24</th>\n",
       "    </tr>\n",
       "  </thead>\n",
       "  <tbody>\n",
       "    <tr>\n",
       "      <th>0</th>\n",
       "      <td>0</td>\n",
       "      <td>0</td>\n",
       "      <td>262</td>\n",
       "      <td>297404</td>\n",
       "      <td>220861</td>\n",
       "      <td>46.0</td>\n",
       "      <td>109396282.0</td>\n",
       "      <td>2718300.0</td>\n",
       "      <td>1.000000</td>\n",
       "      <td>0.117416</td>\n",
       "      <td>0.117416</td>\n",
       "      <td>0.000000</td>\n",
       "      <td>0.266703</td>\n",
       "      <td>0.449536</td>\n",
       "      <td>0.283761</td>\n",
       "      <td>0.000000</td>\n",
       "    </tr>\n",
       "    <tr>\n",
       "      <th>1</th>\n",
       "      <td>2</td>\n",
       "      <td>0</td>\n",
       "      <td>899</td>\n",
       "      <td>227816</td>\n",
       "      <td>278550</td>\n",
       "      <td>50.5</td>\n",
       "      <td>157142594.0</td>\n",
       "      <td>3742813.0</td>\n",
       "      <td>0.652759</td>\n",
       "      <td>0.540387</td>\n",
       "      <td>0.571994</td>\n",
       "      <td>0.031892</td>\n",
       "      <td>0.316767</td>\n",
       "      <td>0.313734</td>\n",
       "      <td>0.268222</td>\n",
       "      <td>0.069385</td>\n",
       "    </tr>\n",
       "    <tr>\n",
       "      <th>2</th>\n",
       "      <td>0</td>\n",
       "      <td>3</td>\n",
       "      <td>6049</td>\n",
       "      <td>540076</td>\n",
       "      <td>504299</td>\n",
       "      <td>105.0</td>\n",
       "      <td>149610137.0</td>\n",
       "      <td>3589732.0</td>\n",
       "      <td>0.626787</td>\n",
       "      <td>0.450611</td>\n",
       "      <td>0.366939</td>\n",
       "      <td>0.088678</td>\n",
       "      <td>0.344490</td>\n",
       "      <td>0.347546</td>\n",
       "      <td>0.203103</td>\n",
       "      <td>0.016062</td>\n",
       "    </tr>\n",
       "    <tr>\n",
       "      <th>3</th>\n",
       "      <td>4</td>\n",
       "      <td>0</td>\n",
       "      <td>14188</td>\n",
       "      <td>513926</td>\n",
       "      <td>395621</td>\n",
       "      <td>64.0</td>\n",
       "      <td>301627852.0</td>\n",
       "      <td>5633472.5</td>\n",
       "      <td>0.851486</td>\n",
       "      <td>0.732318</td>\n",
       "      <td>0.282471</td>\n",
       "      <td>0.086685</td>\n",
       "      <td>0.365644</td>\n",
       "      <td>0.362399</td>\n",
       "      <td>0.183081</td>\n",
       "      <td>0.002193</td>\n",
       "    </tr>\n",
       "    <tr>\n",
       "      <th>4</th>\n",
       "      <td>0</td>\n",
       "      <td>0</td>\n",
       "      <td>123</td>\n",
       "      <td>89003</td>\n",
       "      <td>123341</td>\n",
       "      <td>76.0</td>\n",
       "      <td>630993838.0</td>\n",
       "      <td>4136958.0</td>\n",
       "      <td>0.567219</td>\n",
       "      <td>0.514416</td>\n",
       "      <td>0.668800</td>\n",
       "      <td>0.000085</td>\n",
       "      <td>0.302513</td>\n",
       "      <td>0.321920</td>\n",
       "      <td>0.355154</td>\n",
       "      <td>0.020327</td>\n",
       "    </tr>\n",
       "    <tr>\n",
       "      <th>...</th>\n",
       "      <td>...</td>\n",
       "      <td>...</td>\n",
       "      <td>...</td>\n",
       "      <td>...</td>\n",
       "      <td>...</td>\n",
       "      <td>...</td>\n",
       "      <td>...</td>\n",
       "      <td>...</td>\n",
       "      <td>...</td>\n",
       "      <td>...</td>\n",
       "      <td>...</td>\n",
       "      <td>...</td>\n",
       "      <td>...</td>\n",
       "      <td>...</td>\n",
       "      <td>...</td>\n",
       "      <td>...</td>\n",
       "    </tr>\n",
       "    <tr>\n",
       "      <th>49995</th>\n",
       "      <td>0</td>\n",
       "      <td>0</td>\n",
       "      <td>408</td>\n",
       "      <td>214587</td>\n",
       "      <td>267183</td>\n",
       "      <td>82.5</td>\n",
       "      <td>130916128.0</td>\n",
       "      <td>3248043.0</td>\n",
       "      <td>0.834148</td>\n",
       "      <td>0.000000</td>\n",
       "      <td>0.435518</td>\n",
       "      <td>0.000000</td>\n",
       "      <td>0.371598</td>\n",
       "      <td>0.232907</td>\n",
       "      <td>0.395495</td>\n",
       "      <td>0.000000</td>\n",
       "    </tr>\n",
       "    <tr>\n",
       "      <th>49996</th>\n",
       "      <td>1</td>\n",
       "      <td>2</td>\n",
       "      <td>1654</td>\n",
       "      <td>665258</td>\n",
       "      <td>692592</td>\n",
       "      <td>132.5</td>\n",
       "      <td>347865850.0</td>\n",
       "      <td>5571280.5</td>\n",
       "      <td>0.741441</td>\n",
       "      <td>0.528981</td>\n",
       "      <td>0.414126</td>\n",
       "      <td>0.071118</td>\n",
       "      <td>0.229568</td>\n",
       "      <td>0.259023</td>\n",
       "      <td>0.346624</td>\n",
       "      <td>0.093525</td>\n",
       "    </tr>\n",
       "    <tr>\n",
       "      <th>49997</th>\n",
       "      <td>0</td>\n",
       "      <td>1</td>\n",
       "      <td>37</td>\n",
       "      <td>488048</td>\n",
       "      <td>546959</td>\n",
       "      <td>88.0</td>\n",
       "      <td>189157043.0</td>\n",
       "      <td>4557782.0</td>\n",
       "      <td>0.710440</td>\n",
       "      <td>0.709333</td>\n",
       "      <td>0.177932</td>\n",
       "      <td>0.000000</td>\n",
       "      <td>0.112054</td>\n",
       "      <td>0.516599</td>\n",
       "      <td>0.371347</td>\n",
       "      <td>0.000000</td>\n",
       "    </tr>\n",
       "    <tr>\n",
       "      <th>49998</th>\n",
       "      <td>1</td>\n",
       "      <td>0</td>\n",
       "      <td>435</td>\n",
       "      <td>268548</td>\n",
       "      <td>210157</td>\n",
       "      <td>65.0</td>\n",
       "      <td>181129333.0</td>\n",
       "      <td>3497555.5</td>\n",
       "      <td>0.617703</td>\n",
       "      <td>0.548325</td>\n",
       "      <td>0.596990</td>\n",
       "      <td>0.042696</td>\n",
       "      <td>0.236856</td>\n",
       "      <td>0.274414</td>\n",
       "      <td>0.316361</td>\n",
       "      <td>0.129673</td>\n",
       "    </tr>\n",
       "    <tr>\n",
       "      <th>49999</th>\n",
       "      <td>1</td>\n",
       "      <td>0</td>\n",
       "      <td>689</td>\n",
       "      <td>267158</td>\n",
       "      <td>267817</td>\n",
       "      <td>109.0</td>\n",
       "      <td>134334662.0</td>\n",
       "      <td>3262427.0</td>\n",
       "      <td>0.652798</td>\n",
       "      <td>0.381561</td>\n",
       "      <td>0.582541</td>\n",
       "      <td>0.000000</td>\n",
       "      <td>0.024034</td>\n",
       "      <td>0.053105</td>\n",
       "      <td>0.330405</td>\n",
       "      <td>0.356550</td>\n",
       "    </tr>\n",
       "  </tbody>\n",
       "</table>\n",
       "<p>50000 rows × 16 columns</p>\n",
       "</div>"
      ],
      "text/plain": [
       "       s_store_no_of_opening  s_store_no_of_closing  ...  sales_17_21  sales_21_24\n",
       "0                          0                      0  ...     0.283761     0.000000\n",
       "1                          2                      0  ...     0.268222     0.069385\n",
       "2                          0                      3  ...     0.203103     0.016062\n",
       "3                          4                      0  ...     0.183081     0.002193\n",
       "4                          0                      0  ...     0.355154     0.020327\n",
       "...                      ...                    ...  ...          ...          ...\n",
       "49995                      0                      0  ...     0.395495     0.000000\n",
       "49996                      1                      2  ...     0.346624     0.093525\n",
       "49997                      0                      1  ...     0.371347     0.000000\n",
       "49998                      1                      0  ...     0.316361     0.129673\n",
       "49999                      1                      0  ...     0.330405     0.356550\n",
       "\n",
       "[50000 rows x 16 columns]"
      ]
     },
     "execution_count": 66,
     "metadata": {
      "tags": []
     },
     "output_type": "execute_result"
    }
   ],
   "source": [
    "X.reset_index(drop=True)"
   ]
  },
  {
   "cell_type": "code",
   "execution_count": 70,
   "metadata": {
    "colab": {
     "base_uri": "https://localhost:8080/",
     "height": 36
    },
    "colab_type": "code",
    "id": "pfSLqf5HTfD0",
    "outputId": "386c4ddc-987b-44fd-fa06-ed88f5af827e"
   },
   "outputs": [
    {
     "data": {
      "text/plain": [
       "(50000, 17)"
      ]
     },
     "execution_count": 70,
     "metadata": {
      "tags": []
     },
     "output_type": "execute_result"
    }
   ],
   "source": [
    "\n",
    "X = pd.concat([y_pred_df, X.reset_index(drop=True)],axis=1) # Sales_total 속성은 맞추고자 하는 속성이므로 X에 포함되어서는 안됩니다.\n",
    "X.shape"
   ]
  },
  {
   "cell_type": "code",
   "execution_count": 71,
   "metadata": {
    "colab": {
     "base_uri": "https://localhost:8080/",
     "height": 222
    },
    "colab_type": "code",
    "id": "CdgL5yeiNpi9",
    "outputId": "cbfd03d5-392a-4a96-ced9-9eacf06803bb"
   },
   "outputs": [
    {
     "data": {
      "text/html": [
       "<div>\n",
       "<style scoped>\n",
       "    .dataframe tbody tr th:only-of-type {\n",
       "        vertical-align: middle;\n",
       "    }\n",
       "\n",
       "    .dataframe tbody tr th {\n",
       "        vertical-align: top;\n",
       "    }\n",
       "\n",
       "    .dataframe thead th {\n",
       "        text-align: right;\n",
       "    }\n",
       "</style>\n",
       "<table border=\"1\" class=\"dataframe\">\n",
       "  <thead>\n",
       "    <tr style=\"text-align: right;\">\n",
       "      <th></th>\n",
       "      <th>s_store_no_of_opening</th>\n",
       "      <th>s_store_no_of_closing</th>\n",
       "      <th>s_work_female</th>\n",
       "      <th>s_float_male</th>\n",
       "      <th>s_float_female</th>\n",
       "      <th>b_facil_total</th>\n",
       "      <th>b_apt_avg_price</th>\n",
       "      <th>b_income_avg_monthly_inc</th>\n",
       "      <th>sales_weekday</th>\n",
       "      <th>sales_female</th>\n",
       "      <th>sales_2030s</th>\n",
       "      <th>sales_06_11</th>\n",
       "      <th>sales_11_14</th>\n",
       "      <th>sales_14_17</th>\n",
       "      <th>sales_17_21</th>\n",
       "      <th>sales_21_24</th>\n",
       "      <th>labels_0</th>\n",
       "      <th>labels_1</th>\n",
       "      <th>labels_10</th>\n",
       "      <th>labels_11</th>\n",
       "      <th>labels_12</th>\n",
       "      <th>labels_13</th>\n",
       "      <th>labels_14</th>\n",
       "      <th>labels_15</th>\n",
       "      <th>labels_16</th>\n",
       "      <th>labels_17</th>\n",
       "      <th>labels_2</th>\n",
       "      <th>labels_3</th>\n",
       "      <th>labels_4</th>\n",
       "      <th>labels_5</th>\n",
       "      <th>labels_6</th>\n",
       "      <th>labels_7</th>\n",
       "      <th>labels_8</th>\n",
       "      <th>labels_9</th>\n",
       "    </tr>\n",
       "  </thead>\n",
       "  <tbody>\n",
       "    <tr>\n",
       "      <th>49995</th>\n",
       "      <td>0</td>\n",
       "      <td>0</td>\n",
       "      <td>408</td>\n",
       "      <td>214587</td>\n",
       "      <td>267183</td>\n",
       "      <td>82.5</td>\n",
       "      <td>130916128.0</td>\n",
       "      <td>3248043.0</td>\n",
       "      <td>0.834148</td>\n",
       "      <td>0.000000</td>\n",
       "      <td>0.435518</td>\n",
       "      <td>0.000000</td>\n",
       "      <td>0.371598</td>\n",
       "      <td>0.232907</td>\n",
       "      <td>0.395495</td>\n",
       "      <td>0.000000</td>\n",
       "      <td>0</td>\n",
       "      <td>0</td>\n",
       "      <td>0</td>\n",
       "      <td>0</td>\n",
       "      <td>0</td>\n",
       "      <td>0</td>\n",
       "      <td>1</td>\n",
       "      <td>0</td>\n",
       "      <td>0</td>\n",
       "      <td>0</td>\n",
       "      <td>0</td>\n",
       "      <td>0</td>\n",
       "      <td>0</td>\n",
       "      <td>0</td>\n",
       "      <td>0</td>\n",
       "      <td>0</td>\n",
       "      <td>0</td>\n",
       "      <td>0</td>\n",
       "    </tr>\n",
       "    <tr>\n",
       "      <th>49996</th>\n",
       "      <td>1</td>\n",
       "      <td>2</td>\n",
       "      <td>1654</td>\n",
       "      <td>665258</td>\n",
       "      <td>692592</td>\n",
       "      <td>132.5</td>\n",
       "      <td>347865850.0</td>\n",
       "      <td>5571280.5</td>\n",
       "      <td>0.741441</td>\n",
       "      <td>0.528981</td>\n",
       "      <td>0.414126</td>\n",
       "      <td>0.071118</td>\n",
       "      <td>0.229568</td>\n",
       "      <td>0.259023</td>\n",
       "      <td>0.346624</td>\n",
       "      <td>0.093525</td>\n",
       "      <td>0</td>\n",
       "      <td>1</td>\n",
       "      <td>0</td>\n",
       "      <td>0</td>\n",
       "      <td>0</td>\n",
       "      <td>0</td>\n",
       "      <td>0</td>\n",
       "      <td>0</td>\n",
       "      <td>0</td>\n",
       "      <td>0</td>\n",
       "      <td>0</td>\n",
       "      <td>0</td>\n",
       "      <td>0</td>\n",
       "      <td>0</td>\n",
       "      <td>0</td>\n",
       "      <td>0</td>\n",
       "      <td>0</td>\n",
       "      <td>0</td>\n",
       "    </tr>\n",
       "    <tr>\n",
       "      <th>49997</th>\n",
       "      <td>0</td>\n",
       "      <td>1</td>\n",
       "      <td>37</td>\n",
       "      <td>488048</td>\n",
       "      <td>546959</td>\n",
       "      <td>88.0</td>\n",
       "      <td>189157043.0</td>\n",
       "      <td>4557782.0</td>\n",
       "      <td>0.710440</td>\n",
       "      <td>0.709333</td>\n",
       "      <td>0.177932</td>\n",
       "      <td>0.000000</td>\n",
       "      <td>0.112054</td>\n",
       "      <td>0.516599</td>\n",
       "      <td>0.371347</td>\n",
       "      <td>0.000000</td>\n",
       "      <td>0</td>\n",
       "      <td>1</td>\n",
       "      <td>0</td>\n",
       "      <td>0</td>\n",
       "      <td>0</td>\n",
       "      <td>0</td>\n",
       "      <td>0</td>\n",
       "      <td>0</td>\n",
       "      <td>0</td>\n",
       "      <td>0</td>\n",
       "      <td>0</td>\n",
       "      <td>0</td>\n",
       "      <td>0</td>\n",
       "      <td>0</td>\n",
       "      <td>0</td>\n",
       "      <td>0</td>\n",
       "      <td>0</td>\n",
       "      <td>0</td>\n",
       "    </tr>\n",
       "    <tr>\n",
       "      <th>49998</th>\n",
       "      <td>1</td>\n",
       "      <td>0</td>\n",
       "      <td>435</td>\n",
       "      <td>268548</td>\n",
       "      <td>210157</td>\n",
       "      <td>65.0</td>\n",
       "      <td>181129333.0</td>\n",
       "      <td>3497555.5</td>\n",
       "      <td>0.617703</td>\n",
       "      <td>0.548325</td>\n",
       "      <td>0.596990</td>\n",
       "      <td>0.042696</td>\n",
       "      <td>0.236856</td>\n",
       "      <td>0.274414</td>\n",
       "      <td>0.316361</td>\n",
       "      <td>0.129673</td>\n",
       "      <td>0</td>\n",
       "      <td>0</td>\n",
       "      <td>0</td>\n",
       "      <td>0</td>\n",
       "      <td>0</td>\n",
       "      <td>0</td>\n",
       "      <td>0</td>\n",
       "      <td>0</td>\n",
       "      <td>0</td>\n",
       "      <td>0</td>\n",
       "      <td>1</td>\n",
       "      <td>0</td>\n",
       "      <td>0</td>\n",
       "      <td>0</td>\n",
       "      <td>0</td>\n",
       "      <td>0</td>\n",
       "      <td>0</td>\n",
       "      <td>0</td>\n",
       "    </tr>\n",
       "    <tr>\n",
       "      <th>49999</th>\n",
       "      <td>1</td>\n",
       "      <td>0</td>\n",
       "      <td>689</td>\n",
       "      <td>267158</td>\n",
       "      <td>267817</td>\n",
       "      <td>109.0</td>\n",
       "      <td>134334662.0</td>\n",
       "      <td>3262427.0</td>\n",
       "      <td>0.652798</td>\n",
       "      <td>0.381561</td>\n",
       "      <td>0.582541</td>\n",
       "      <td>0.000000</td>\n",
       "      <td>0.024034</td>\n",
       "      <td>0.053105</td>\n",
       "      <td>0.330405</td>\n",
       "      <td>0.356550</td>\n",
       "      <td>0</td>\n",
       "      <td>0</td>\n",
       "      <td>0</td>\n",
       "      <td>0</td>\n",
       "      <td>0</td>\n",
       "      <td>0</td>\n",
       "      <td>0</td>\n",
       "      <td>0</td>\n",
       "      <td>0</td>\n",
       "      <td>0</td>\n",
       "      <td>1</td>\n",
       "      <td>0</td>\n",
       "      <td>0</td>\n",
       "      <td>0</td>\n",
       "      <td>0</td>\n",
       "      <td>0</td>\n",
       "      <td>0</td>\n",
       "      <td>0</td>\n",
       "    </tr>\n",
       "  </tbody>\n",
       "</table>\n",
       "</div>"
      ],
      "text/plain": [
       "       s_store_no_of_opening  s_store_no_of_closing  ...  labels_8  labels_9\n",
       "49995                      0                      0  ...         0         0\n",
       "49996                      1                      2  ...         0         0\n",
       "49997                      0                      1  ...         0         0\n",
       "49998                      1                      0  ...         0         0\n",
       "49999                      1                      0  ...         0         0\n",
       "\n",
       "[5 rows x 34 columns]"
      ]
     },
     "execution_count": 71,
     "metadata": {
      "tags": []
     },
     "output_type": "execute_result"
    }
   ],
   "source": [
    "# 더미변수화\n",
    "X['labels']=X['labels'].astype('object')\n",
    "X_dum = pd.get_dummies(X)\n",
    "X_dum.tail()"
   ]
  },
  {
   "cell_type": "code",
   "execution_count": 72,
   "metadata": {
    "colab": {
     "base_uri": "https://localhost:8080/",
     "height": 36
    },
    "colab_type": "code",
    "id": "tf-TQQEiXkWE",
    "outputId": "3e6da374-9eb9-4367-93d6-36c17ed1ad59"
   },
   "outputs": [
    {
     "data": {
      "text/plain": [
       "((50000, 1), (50000, 34))"
      ]
     },
     "execution_count": 72,
     "metadata": {
      "tags": []
     },
     "output_type": "execute_result"
    }
   ],
   "source": [
    "y=df_merged.iloc[idx,0:1]\n",
    "y.shape, X_dum.shape"
   ]
  },
  {
   "cell_type": "code",
   "execution_count": 74,
   "metadata": {
    "colab": {
     "base_uri": "https://localhost:8080/",
     "height": 951
    },
    "colab_type": "code",
    "id": "iPNJgWzGWxXh",
    "outputId": "f5d05a4b-d7c9-4994-9e5d-2581209586b1"
   },
   "outputs": [
    {
     "name": "stdout",
     "output_type": "stream",
     "text": [
      "1 번째 시도\n",
      "0.2331375968898589\n",
      "0.19215663947159678\n",
      "==================================================\n",
      "==================================================\n",
      "2 번째 시도\n",
      "0.22886430087660603\n",
      "0.20112911995952887\n",
      "==================================================\n",
      "==================================================\n",
      "3 번째 시도\n",
      "0.2344002650953436\n",
      "0.18220399833699477\n",
      "==================================================\n",
      "==================================================\n",
      "4 번째 시도\n",
      "0.22533480694817554\n",
      "0.21166057439888075\n",
      "==================================================\n",
      "==================================================\n",
      "5 번째 시도\n",
      "0.23014925509491946\n",
      "0.19425420322847886\n",
      "==================================================\n",
      "==================================================\n",
      "6 번째 시도\n",
      "0.2259828869337949\n",
      "0.2120823744549408\n",
      "==================================================\n",
      "==================================================\n",
      "7 번째 시도\n",
      "0.23719510172103309\n",
      "0.15086042835088076\n",
      "==================================================\n",
      "==================================================\n",
      "8 번째 시도\n",
      "0.21629337256735973\n",
      "0.25084034015122003\n",
      "==================================================\n",
      "==================================================\n",
      "9 번째 시도\n",
      "0.22003208985989864\n",
      "0.23358211483564575\n",
      "==================================================\n",
      "==================================================\n",
      "10 번째 시도\n",
      "0.2239331639702307\n",
      "0.2188311762852988\n",
      "==================================================\n",
      "==================================================\n"
     ]
    }
   ],
   "source": [
    "from sklearn.model_selection import train_test_split\n",
    "from sklearn.preprocessing import RobustScaler\n",
    "from sklearn.linear_model import LinearRegression\n",
    "from sklearn.metrics import r2_score\n",
    "from sklearn import metrics\n",
    "\n",
    "R2_HC = []\n",
    "MAE_HC = []\n",
    "MSE_HC = []\n",
    "RMSE_HC = []\n",
    "for i in range(10):\n",
    "    # Train-test split\n",
    "    X_train, X_test, y_train, y_test = train_test_split(X_dum, y, test_size=0.2) \n",
    "\n",
    "    # 로버스트 스케일링\n",
    "    rb = RobustScaler()\n",
    "    Xs_train = rb.fit_transform(X_train)\n",
    "    Xs_test = rb.transform(X_test)\n",
    "\n",
    "    # 회귀분석\n",
    "    regressor = LinearRegression()\n",
    "    model = regressor.fit(Xs_train, y_train)\n",
    "\n",
    "    print(i+1,\"번째 시도\")\n",
    "    # 정확도 결과값\n",
    "    print(model.score(Xs_train, y_train))\n",
    "    print(model.score(Xs_test, y_test))\n",
    "\n",
    "    # 오차 결과값\n",
    "    y_pred = model.predict(Xs_test)\n",
    "    R2_HC.append(r2_score(y_test , y_pred))\n",
    "    MAE_HC.append(metrics.mean_absolute_error(y_test, y_pred))\n",
    "    MSE_HC.append(metrics.mean_squared_error(y_test, y_pred))\n",
    "    RMSE_HC.append(np.sqrt(metrics.mean_squared_error(y_test, y_pred)))\n",
    "    print('='*50)\n",
    "    print('='*50)"
   ]
  },
  {
   "cell_type": "code",
   "execution_count": 75,
   "metadata": {
    "colab": {
     "base_uri": "https://localhost:8080/",
     "height": 112
    },
    "colab_type": "code",
    "id": "Twj9oLMsXQ0x",
    "outputId": "c38e64d3-bb9c-4724-b5b0-0e755f11ec1f"
   },
   "outputs": [
    {
     "name": "stdout",
     "output_type": "stream",
     "text": [
      "[0.19215663947159678, 0.20112911995952887, 0.18220399833699474, 0.21166057439888075, 0.19425420322847886, 0.21208237445494083, 0.15086042835088076, 0.25084034015122003, 0.23358211483564573, 0.2188311762852988]\n",
      "[776623126.996502, 752578532.0811896, 757549907.7590855, 743131525.0727551, 754718505.4165776, 744552247.3514985, 748454252.3351398, 752240129.2085198, 756228165.0353607, 747356289.8329277]\n",
      "[2.8320563656477635e+18, 2.3690618816842726e+18, 2.519521663952914e+18, 1.9638661395466737e+18, 2.30577036328611e+18, 2.442014098625059e+18, 2.039461598613713e+18, 2.0052033432710305e+18, 2.2303031961705876e+18, 2.0642283680139735e+18]\n",
      "[1682871464.3869162, 1539175715.0125103, 1587300117.7952814, 1401380083.8982527, 1518476329.5112998, 1562694499.4544067, 1428097195.0864244, 1416052027.0353878, 1493419966.4429922, 1436742276.1281765]\n"
     ]
    }
   ],
   "source": [
    "print(R2_HC)\n",
    "print(MAE_HC)\n",
    "print(MSE_HC)\n",
    "print(RMSE_HC)"
   ]
  },
  {
   "cell_type": "code",
   "execution_count": 0,
   "metadata": {
    "colab": {},
    "colab_type": "code",
    "id": "dxhYf75wbV17"
   },
   "outputs": [],
   "source": [
    "import pickle\n",
    "with open('R2_HC.pkl', 'wb') as f:\n",
    "    pickle.dump(R2_HC, f) #피클파일 저장\n",
    "with open('MAE_HC.pkl', 'wb') as f:\n",
    "    pickle.dump(MAE_HC, f) #피클파일 저장\n",
    "with open('MSE_HC.pkl', 'wb') as f:\n",
    "    pickle.dump(MSE_HC, f) #피클파일 저장\n",
    "\n",
    "with open('RMSE_HC.pkl', 'wb') as f:\n",
    "    pickle.dump(RMSE_HC, f) #피클파일 저장"
   ]
  },
  {
   "cell_type": "code",
   "execution_count": 0,
   "metadata": {
    "colab": {},
    "colab_type": "code",
    "id": "9UsI6jPdbrA_"
   },
   "outputs": [],
   "source": [
    "## tsne"
   ]
  },
  {
   "cell_type": "code",
   "execution_count": 0,
   "metadata": {
    "colab": {},
    "colab_type": "code",
    "id": "cqWaEmJvfCkp"
   },
   "outputs": [],
   "source": [
    "\n",
    "import pandas as pd \n",
    "df = pd.read_csv(\"sample_data/clustering.csv\", encoding ='utf-8')\n"
   ]
  },
  {
   "cell_type": "code",
   "execution_count": 82,
   "metadata": {
    "colab": {
     "base_uri": "https://localhost:8080/",
     "height": 36
    },
    "colab_type": "code",
    "id": "NGSyPrYCgM9-",
    "outputId": "49ab591e-bd5d-491c-b8f9-f42c7033e131"
   },
   "outputs": [
    {
     "data": {
      "text/plain": [
       "(35229, 35277)"
      ]
     },
     "execution_count": 82,
     "metadata": {
      "tags": []
     },
     "output_type": "execute_result"
    }
   ],
   "source": [
    "df.columns\n",
    "df.drop(['district','year','code','labels'], axis=1, inplace =True)\n",
    "len(np.unique(df['x_tsne'])), len(np.unique(df['y_tsne']))"
   ]
  },
  {
   "cell_type": "code",
   "execution_count": 88,
   "metadata": {
    "colab": {
     "base_uri": "https://localhost:8080/",
     "height": 36
    },
    "colab_type": "code",
    "id": "fuMg5m_fgsz-",
    "outputId": "873d3559-267f-4755-c968-36cccc5ef6fd"
   },
   "outputs": [
    {
     "data": {
      "text/plain": [
       "41966"
      ]
     },
     "execution_count": 88,
     "metadata": {
      "tags": []
     },
     "output_type": "execute_result"
    }
   ],
   "source": [
    "df.groupby(['x_tsne','y_tsne']).mean().index"
   ]
  },
  {
   "cell_type": "code",
   "execution_count": 0,
   "metadata": {
    "colab": {},
    "colab_type": "code",
    "id": "KnXI2PW_fIL_"
   },
   "outputs": [],
   "source": [
    "\n",
    "df.drop(['district','year','code','labels','y_tsne'], axis=1, inplace =True)\n",
    "\n",
    "np.random.seed(seed=100)\n",
    "idx= np.random.uniform(0, df.shape[0], size=50000 )\n",
    "\n",
    "y=df_merged.iloc[idx,1:2]\n",
    "X= df_merged.drop(['sales_total'],axis=1)\n",
    "\n",
    "X= X.iloc[idx,1:]\n",
    "\n",
    "\n",
    "X['cgoongoo'] = X['cgoongoo'].astype('object')\n",
    "# # # 더미변수화\n",
    "\n",
    "# X = pd.get_dummies(X)  "
   ]
  }
 ],
 "metadata": {
  "colab": {
   "collapsed_sections": [],
   "machine_shape": "hm",
   "name": "20_RF_district.ipynb",
   "provenance": []
  },
  "kernelspec": {
   "display_name": "Python 3",
   "language": "python",
   "name": "python3"
  },
  "language_info": {
   "codemirror_mode": {
    "name": "ipython",
    "version": 3
   },
   "file_extension": ".py",
   "mimetype": "text/x-python",
   "name": "python",
   "nbconvert_exporter": "python",
   "pygments_lexer": "ipython3",
   "version": "3.7.4"
  }
 },
 "nbformat": 4,
 "nbformat_minor": 1
}
