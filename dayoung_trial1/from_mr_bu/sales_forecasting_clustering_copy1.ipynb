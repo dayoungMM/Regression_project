{
 "cells": [
  {
   "cell_type": "markdown",
   "metadata": {},
   "source": [
    "# Agglomerative clustering - sklearn"
   ]
  },
  {
   "cell_type": "code",
   "execution_count": 20,
   "metadata": {},
   "outputs": [],
   "source": [
    "import numpy as np\n",
    "import pandas as pd\n",
    "from sklearn.preprocessing import LabelEncoder, OneHotEncoder\n",
    "from sklearn.preprocessing import RobustScaler\n",
    "import seaborn as sns\n",
    "import statsmodels.api as sm\n",
    "from sklearn.model_selection import train_test_split\n",
    "\n",
    "from sklearn.cluster import AgglomerativeClustering\n",
    "\n",
    "from sklearn.linear_model import LinearRegression\n",
    "from sklearn import metrics\n",
    "\n",
    "import matplotlib.pyplot as plt"
   ]
  },
  {
   "cell_type": "code",
   "execution_count": 2,
   "metadata": {},
   "outputs": [],
   "source": [
    "df = pd.read_csv('df_grouped_rate.csv') #폴더 위치는 상이할 수 있음\n",
    "#cl = df.iloc[:, 3:]\n",
    "cl = df.iloc[:, 4:] # Y값은 클러스터링시 사용되어서는 안됩니다."
   ]
  },
  {
   "cell_type": "code",
   "execution_count": 3,
   "metadata": {},
   "outputs": [
    {
     "data": {
      "text/plain": [
       "AgglomerativeClustering(affinity='euclidean', compute_full_tree='auto',\n",
       "                        connectivity=None, distance_threshold=None,\n",
       "                        linkage='ward', memory=None, n_clusters=10,\n",
       "                        pooling_func='deprecated')"
      ]
     },
     "execution_count": 3,
     "metadata": {},
     "output_type": "execute_result"
    }
   ],
   "source": [
    "aggcl = AgglomerativeClustering(n_clusters=10)\n",
    "aggcl.fit(cl)"
   ]
  },
  {
   "cell_type": "code",
   "execution_count": 5,
   "metadata": {},
   "outputs": [
    {
     "data": {
      "text/html": [
       "<div>\n",
       "<style scoped>\n",
       "    .dataframe tbody tr th:only-of-type {\n",
       "        vertical-align: middle;\n",
       "    }\n",
       "\n",
       "    .dataframe tbody tr th {\n",
       "        vertical-align: top;\n",
       "    }\n",
       "\n",
       "    .dataframe thead th {\n",
       "        text-align: right;\n",
       "    }\n",
       "</style>\n",
       "<table border=\"1\" class=\"dataframe\">\n",
       "  <thead>\n",
       "    <tr style=\"text-align: right;\">\n",
       "      <th></th>\n",
       "      <th>labels</th>\n",
       "      <th>year</th>\n",
       "      <th>code</th>\n",
       "      <th>s_store_no_of_store</th>\n",
       "      <th>s_store_no_of_opening</th>\n",
       "      <th>s_store_no_of_closing</th>\n",
       "      <th>s_work_female</th>\n",
       "      <th>s_float_male</th>\n",
       "      <th>s_float_female</th>\n",
       "      <th>b_facil_total</th>\n",
       "      <th>b_apt_avg_price</th>\n",
       "      <th>b_income_avg_monthly_inc</th>\n",
       "      <th>sales_weekday</th>\n",
       "      <th>sales_female</th>\n",
       "      <th>sales_2030s</th>\n",
       "      <th>sales_06_11</th>\n",
       "      <th>sales_11_14</th>\n",
       "      <th>sales_14_17</th>\n",
       "      <th>sales_17_21</th>\n",
       "      <th>sales_21_24</th>\n",
       "    </tr>\n",
       "  </thead>\n",
       "  <tbody>\n",
       "    <tr>\n",
       "      <th>113260</th>\n",
       "      <td>3</td>\n",
       "      <td>2019</td>\n",
       "      <td>CS300008</td>\n",
       "      <td>2.0</td>\n",
       "      <td>0</td>\n",
       "      <td>0</td>\n",
       "      <td>230</td>\n",
       "      <td>164052</td>\n",
       "      <td>179007</td>\n",
       "      <td>93.0</td>\n",
       "      <td>154040746.0</td>\n",
       "      <td>3256684.0</td>\n",
       "      <td>0.881982</td>\n",
       "      <td>0.513650</td>\n",
       "      <td>0.083578</td>\n",
       "      <td>0.108358</td>\n",
       "      <td>0.346493</td>\n",
       "      <td>0.395632</td>\n",
       "      <td>0.149517</td>\n",
       "      <td>0.0</td>\n",
       "    </tr>\n",
       "    <tr>\n",
       "      <th>113261</th>\n",
       "      <td>3</td>\n",
       "      <td>2019</td>\n",
       "      <td>CS300009</td>\n",
       "      <td>2.0</td>\n",
       "      <td>0</td>\n",
       "      <td>0</td>\n",
       "      <td>230</td>\n",
       "      <td>164052</td>\n",
       "      <td>179007</td>\n",
       "      <td>93.0</td>\n",
       "      <td>154040746.0</td>\n",
       "      <td>3256684.0</td>\n",
       "      <td>0.931167</td>\n",
       "      <td>0.474928</td>\n",
       "      <td>0.128200</td>\n",
       "      <td>0.262188</td>\n",
       "      <td>0.297561</td>\n",
       "      <td>0.325539</td>\n",
       "      <td>0.114712</td>\n",
       "      <td>0.0</td>\n",
       "    </tr>\n",
       "    <tr>\n",
       "      <th>113262</th>\n",
       "      <td>3</td>\n",
       "      <td>2019</td>\n",
       "      <td>CS300011</td>\n",
       "      <td>1.0</td>\n",
       "      <td>0</td>\n",
       "      <td>1</td>\n",
       "      <td>230</td>\n",
       "      <td>164052</td>\n",
       "      <td>179007</td>\n",
       "      <td>93.0</td>\n",
       "      <td>154040746.0</td>\n",
       "      <td>3256684.0</td>\n",
       "      <td>0.640979</td>\n",
       "      <td>0.320036</td>\n",
       "      <td>0.046238</td>\n",
       "      <td>0.006346</td>\n",
       "      <td>0.508613</td>\n",
       "      <td>0.275612</td>\n",
       "      <td>0.209429</td>\n",
       "      <td>0.0</td>\n",
       "    </tr>\n",
       "    <tr>\n",
       "      <th>113263</th>\n",
       "      <td>3</td>\n",
       "      <td>2019</td>\n",
       "      <td>CS300016</td>\n",
       "      <td>3.0</td>\n",
       "      <td>0</td>\n",
       "      <td>0</td>\n",
       "      <td>230</td>\n",
       "      <td>164052</td>\n",
       "      <td>179007</td>\n",
       "      <td>93.0</td>\n",
       "      <td>154040746.0</td>\n",
       "      <td>3256684.0</td>\n",
       "      <td>0.624137</td>\n",
       "      <td>0.374046</td>\n",
       "      <td>0.322065</td>\n",
       "      <td>0.225009</td>\n",
       "      <td>0.288986</td>\n",
       "      <td>0.227190</td>\n",
       "      <td>0.258815</td>\n",
       "      <td>0.0</td>\n",
       "    </tr>\n",
       "    <tr>\n",
       "      <th>113264</th>\n",
       "      <td>3</td>\n",
       "      <td>2019</td>\n",
       "      <td>CS300017</td>\n",
       "      <td>6.0</td>\n",
       "      <td>0</td>\n",
       "      <td>0</td>\n",
       "      <td>230</td>\n",
       "      <td>164052</td>\n",
       "      <td>179007</td>\n",
       "      <td>93.0</td>\n",
       "      <td>154040746.0</td>\n",
       "      <td>3256684.0</td>\n",
       "      <td>0.976623</td>\n",
       "      <td>0.800000</td>\n",
       "      <td>0.371429</td>\n",
       "      <td>0.000000</td>\n",
       "      <td>0.129870</td>\n",
       "      <td>0.166234</td>\n",
       "      <td>0.703896</td>\n",
       "      <td>0.0</td>\n",
       "    </tr>\n",
       "  </tbody>\n",
       "</table>\n",
       "</div>"
      ],
      "text/plain": [
       "       labels  year      code  s_store_no_of_store  s_store_no_of_opening  \\\n",
       "113260      3  2019  CS300008                  2.0                      0   \n",
       "113261      3  2019  CS300009                  2.0                      0   \n",
       "113262      3  2019  CS300011                  1.0                      0   \n",
       "113263      3  2019  CS300016                  3.0                      0   \n",
       "113264      3  2019  CS300017                  6.0                      0   \n",
       "\n",
       "        s_store_no_of_closing  s_work_female  s_float_male  s_float_female  \\\n",
       "113260                      0            230        164052          179007   \n",
       "113261                      0            230        164052          179007   \n",
       "113262                      1            230        164052          179007   \n",
       "113263                      0            230        164052          179007   \n",
       "113264                      0            230        164052          179007   \n",
       "\n",
       "        b_facil_total  b_apt_avg_price  b_income_avg_monthly_inc  \\\n",
       "113260           93.0      154040746.0                 3256684.0   \n",
       "113261           93.0      154040746.0                 3256684.0   \n",
       "113262           93.0      154040746.0                 3256684.0   \n",
       "113263           93.0      154040746.0                 3256684.0   \n",
       "113264           93.0      154040746.0                 3256684.0   \n",
       "\n",
       "        sales_weekday  sales_female  sales_2030s  sales_06_11  sales_11_14  \\\n",
       "113260       0.881982      0.513650     0.083578     0.108358     0.346493   \n",
       "113261       0.931167      0.474928     0.128200     0.262188     0.297561   \n",
       "113262       0.640979      0.320036     0.046238     0.006346     0.508613   \n",
       "113263       0.624137      0.374046     0.322065     0.225009     0.288986   \n",
       "113264       0.976623      0.800000     0.371429     0.000000     0.129870   \n",
       "\n",
       "        sales_14_17  sales_17_21  sales_21_24  \n",
       "113260     0.395632     0.149517          0.0  \n",
       "113261     0.325539     0.114712          0.0  \n",
       "113262     0.275612     0.209429          0.0  \n",
       "113263     0.227190     0.258815          0.0  \n",
       "113264     0.166234     0.703896          0.0  "
      ]
     },
     "execution_count": 5,
     "metadata": {},
     "output_type": "execute_result"
    }
   ],
   "source": [
    "# 클러스터링 데이터로 라벨링하여 기존 상권코드 데이터와 교체\n",
    "y_pred = aggcl.labels_\n",
    "y_pred_df= pd.DataFrame(y_pred, columns=['labels'], dtype=str)\n",
    "X = pd.concat([y_pred_df, df.drop(['sales_total', 'district'], axis=1)], axis=1) # Sales_total 속성은 맞추고자 하는 속성이므로 X에 포함되어서는 안됩니다.\n",
    "X.tail()"
   ]
  },
  {
   "cell_type": "code",
   "execution_count": 6,
   "metadata": {},
   "outputs": [
    {
     "data": {
      "text/html": [
       "<div>\n",
       "<style scoped>\n",
       "    .dataframe tbody tr th:only-of-type {\n",
       "        vertical-align: middle;\n",
       "    }\n",
       "\n",
       "    .dataframe tbody tr th {\n",
       "        vertical-align: top;\n",
       "    }\n",
       "\n",
       "    .dataframe thead th {\n",
       "        text-align: right;\n",
       "    }\n",
       "</style>\n",
       "<table border=\"1\" class=\"dataframe\">\n",
       "  <thead>\n",
       "    <tr style=\"text-align: right;\">\n",
       "      <th></th>\n",
       "      <th>year</th>\n",
       "      <th>s_store_no_of_store</th>\n",
       "      <th>s_store_no_of_opening</th>\n",
       "      <th>s_store_no_of_closing</th>\n",
       "      <th>s_work_female</th>\n",
       "      <th>s_float_male</th>\n",
       "      <th>s_float_female</th>\n",
       "      <th>b_facil_total</th>\n",
       "      <th>b_apt_avg_price</th>\n",
       "      <th>b_income_avg_monthly_inc</th>\n",
       "      <th>...</th>\n",
       "      <th>code_CS300008</th>\n",
       "      <th>code_CS300009</th>\n",
       "      <th>code_CS300010</th>\n",
       "      <th>code_CS300011</th>\n",
       "      <th>code_CS300012</th>\n",
       "      <th>code_CS300013</th>\n",
       "      <th>code_CS300014</th>\n",
       "      <th>code_CS300015</th>\n",
       "      <th>code_CS300016</th>\n",
       "      <th>code_CS300017</th>\n",
       "    </tr>\n",
       "  </thead>\n",
       "  <tbody>\n",
       "    <tr>\n",
       "      <th>113260</th>\n",
       "      <td>2019</td>\n",
       "      <td>2.0</td>\n",
       "      <td>0</td>\n",
       "      <td>0</td>\n",
       "      <td>230</td>\n",
       "      <td>164052</td>\n",
       "      <td>179007</td>\n",
       "      <td>93.0</td>\n",
       "      <td>154040746.0</td>\n",
       "      <td>3256684.0</td>\n",
       "      <td>...</td>\n",
       "      <td>1</td>\n",
       "      <td>0</td>\n",
       "      <td>0</td>\n",
       "      <td>0</td>\n",
       "      <td>0</td>\n",
       "      <td>0</td>\n",
       "      <td>0</td>\n",
       "      <td>0</td>\n",
       "      <td>0</td>\n",
       "      <td>0</td>\n",
       "    </tr>\n",
       "    <tr>\n",
       "      <th>113261</th>\n",
       "      <td>2019</td>\n",
       "      <td>2.0</td>\n",
       "      <td>0</td>\n",
       "      <td>0</td>\n",
       "      <td>230</td>\n",
       "      <td>164052</td>\n",
       "      <td>179007</td>\n",
       "      <td>93.0</td>\n",
       "      <td>154040746.0</td>\n",
       "      <td>3256684.0</td>\n",
       "      <td>...</td>\n",
       "      <td>0</td>\n",
       "      <td>1</td>\n",
       "      <td>0</td>\n",
       "      <td>0</td>\n",
       "      <td>0</td>\n",
       "      <td>0</td>\n",
       "      <td>0</td>\n",
       "      <td>0</td>\n",
       "      <td>0</td>\n",
       "      <td>0</td>\n",
       "    </tr>\n",
       "    <tr>\n",
       "      <th>113262</th>\n",
       "      <td>2019</td>\n",
       "      <td>1.0</td>\n",
       "      <td>0</td>\n",
       "      <td>1</td>\n",
       "      <td>230</td>\n",
       "      <td>164052</td>\n",
       "      <td>179007</td>\n",
       "      <td>93.0</td>\n",
       "      <td>154040746.0</td>\n",
       "      <td>3256684.0</td>\n",
       "      <td>...</td>\n",
       "      <td>0</td>\n",
       "      <td>0</td>\n",
       "      <td>0</td>\n",
       "      <td>1</td>\n",
       "      <td>0</td>\n",
       "      <td>0</td>\n",
       "      <td>0</td>\n",
       "      <td>0</td>\n",
       "      <td>0</td>\n",
       "      <td>0</td>\n",
       "    </tr>\n",
       "    <tr>\n",
       "      <th>113263</th>\n",
       "      <td>2019</td>\n",
       "      <td>3.0</td>\n",
       "      <td>0</td>\n",
       "      <td>0</td>\n",
       "      <td>230</td>\n",
       "      <td>164052</td>\n",
       "      <td>179007</td>\n",
       "      <td>93.0</td>\n",
       "      <td>154040746.0</td>\n",
       "      <td>3256684.0</td>\n",
       "      <td>...</td>\n",
       "      <td>0</td>\n",
       "      <td>0</td>\n",
       "      <td>0</td>\n",
       "      <td>0</td>\n",
       "      <td>0</td>\n",
       "      <td>0</td>\n",
       "      <td>0</td>\n",
       "      <td>0</td>\n",
       "      <td>1</td>\n",
       "      <td>0</td>\n",
       "    </tr>\n",
       "    <tr>\n",
       "      <th>113264</th>\n",
       "      <td>2019</td>\n",
       "      <td>6.0</td>\n",
       "      <td>0</td>\n",
       "      <td>0</td>\n",
       "      <td>230</td>\n",
       "      <td>164052</td>\n",
       "      <td>179007</td>\n",
       "      <td>93.0</td>\n",
       "      <td>154040746.0</td>\n",
       "      <td>3256684.0</td>\n",
       "      <td>...</td>\n",
       "      <td>0</td>\n",
       "      <td>0</td>\n",
       "      <td>0</td>\n",
       "      <td>0</td>\n",
       "      <td>0</td>\n",
       "      <td>0</td>\n",
       "      <td>0</td>\n",
       "      <td>0</td>\n",
       "      <td>0</td>\n",
       "      <td>1</td>\n",
       "    </tr>\n",
       "  </tbody>\n",
       "</table>\n",
       "<p>5 rows × 73 columns</p>\n",
       "</div>"
      ],
      "text/plain": [
       "        year  s_store_no_of_store  s_store_no_of_opening  \\\n",
       "113260  2019                  2.0                      0   \n",
       "113261  2019                  2.0                      0   \n",
       "113262  2019                  1.0                      0   \n",
       "113263  2019                  3.0                      0   \n",
       "113264  2019                  6.0                      0   \n",
       "\n",
       "        s_store_no_of_closing  s_work_female  s_float_male  s_float_female  \\\n",
       "113260                      0            230        164052          179007   \n",
       "113261                      0            230        164052          179007   \n",
       "113262                      1            230        164052          179007   \n",
       "113263                      0            230        164052          179007   \n",
       "113264                      0            230        164052          179007   \n",
       "\n",
       "        b_facil_total  b_apt_avg_price  b_income_avg_monthly_inc  ...  \\\n",
       "113260           93.0      154040746.0                 3256684.0  ...   \n",
       "113261           93.0      154040746.0                 3256684.0  ...   \n",
       "113262           93.0      154040746.0                 3256684.0  ...   \n",
       "113263           93.0      154040746.0                 3256684.0  ...   \n",
       "113264           93.0      154040746.0                 3256684.0  ...   \n",
       "\n",
       "        code_CS300008  code_CS300009  code_CS300010  code_CS300011  \\\n",
       "113260              1              0              0              0   \n",
       "113261              0              1              0              0   \n",
       "113262              0              0              0              1   \n",
       "113263              0              0              0              0   \n",
       "113264              0              0              0              0   \n",
       "\n",
       "        code_CS300012  code_CS300013  code_CS300014  code_CS300015  \\\n",
       "113260              0              0              0              0   \n",
       "113261              0              0              0              0   \n",
       "113262              0              0              0              0   \n",
       "113263              0              0              0              0   \n",
       "113264              0              0              0              0   \n",
       "\n",
       "        code_CS300016  code_CS300017  \n",
       "113260              0              0  \n",
       "113261              0              0  \n",
       "113262              0              0  \n",
       "113263              1              0  \n",
       "113264              0              1  \n",
       "\n",
       "[5 rows x 73 columns]"
      ]
     },
     "execution_count": 6,
     "metadata": {},
     "output_type": "execute_result"
    }
   ],
   "source": [
    "# 더미변수화\n",
    "X_dum = pd.get_dummies(X)\n",
    "X_dum.tail()"
   ]
  },
  {
   "cell_type": "code",
   "execution_count": 8,
   "metadata": {},
   "outputs": [],
   "source": [
    "# Train-test split\n",
    "X_train, X_test, y_train, y_test = train_test_split(X_dum, df.sales_total, test_size=0.2, random_state=0) # y 값이 정의되지 않아 df.sales_total 으로 대체하겠습니다.\n",
    "# 로버스트 스케일링\n",
    "rb = RobustScaler()\n",
    "Xs_train = rb.fit_transform(X_train)\n",
    "Xs_test = rb.transform(X_test)"
   ]
  },
  {
   "cell_type": "code",
   "execution_count": 9,
   "metadata": {},
   "outputs": [],
   "source": [
    "# 회귀분석\n",
    "regressor = LinearRegression()\n",
    "model = regressor.fit(Xs_train, y_train)"
   ]
  },
  {
   "cell_type": "code",
   "execution_count": 10,
   "metadata": {},
   "outputs": [
    {
     "name": "stdout",
     "output_type": "stream",
     "text": [
      "0.4079888268813008\n",
      "0.4057538106303451\n"
     ]
    }
   ],
   "source": [
    "# 정확도 결과값\n",
    "print(model.score(Xs_train, y_train))\n",
    "print(model.score(Xs_test, y_test))"
   ]
  },
  {
   "cell_type": "code",
   "execution_count": 11,
   "metadata": {},
   "outputs": [
    {
     "name": "stdout",
     "output_type": "stream",
     "text": [
      "Mean Absolute Error: 628533654.8121662\n",
      "Mean Squared Error: 1.6037338387306842e+18\n",
      "Root Mean Squared Error: 1266386133.3458624\n"
     ]
    }
   ],
   "source": [
    "# 오차 결과값\n",
    "y_pred = model.predict(Xs_test)\n",
    "print('Mean Absolute Error:', metrics.mean_absolute_error(y_test, y_pred))  \n",
    "print('Mean Squared Error:', metrics.mean_squared_error(y_test, y_pred))  \n",
    "print('Root Mean Squared Error:', np.sqrt(metrics.mean_squared_error(y_test, y_pred)))"
   ]
  },
  {
   "cell_type": "markdown",
   "metadata": {},
   "source": [
    "# DBSCAN"
   ]
  },
  {
   "cell_type": "code",
   "execution_count": 12,
   "metadata": {},
   "outputs": [],
   "source": [
    "df = pd.read_csv('df_grouped_rate.csv',encoding='utf-8' )\n",
    "X=df[df.columns[4:]] # 마찬가지\n",
    "y=df[\"district\"]\n",
    "X=np.array(X)\n",
    "y=np.array(y)"
   ]
  },
  {
   "cell_type": "code",
   "execution_count": 13,
   "metadata": {},
   "outputs": [
    {
     "data": {
      "text/plain": [
       "array([   0,    0,    0, ..., 4769, 4769, 4769])"
      ]
     },
     "execution_count": 13,
     "metadata": {},
     "output_type": "execute_result"
    }
   ],
   "source": [
    "from sklearn.cluster import DBSCAN\n",
    "model = DBSCAN(eps=10, min_samples=5)\n",
    "y_pred = model.fit_predict(X)\n",
    "y_pred"
   ]
  },
  {
   "cell_type": "code",
   "execution_count": 14,
   "metadata": {},
   "outputs": [
    {
     "name": "stdout",
     "output_type": "stream",
     "text": [
      "1.0 [  -1    0    1 ... 2048 2049 2050]\n",
      "11.090909090909092 [  -1    0    1 ... 4767 4768 4769]\n",
      "21.181818181818183 [  -1    0    1 ... 4768 4769 4770]\n",
      "31.272727272727273 [  -1    0    1 ... 4768 4769 4770]\n",
      "41.36363636363637 [  -1    0    1 ... 4768 4769 4770]\n",
      "51.45454545454546 [  -1    0    1 ... 4768 4769 4770]\n",
      "61.54545454545455 [  -1    0    1 ... 4768 4769 4770]\n",
      "71.63636363636364 [  -1    0    1 ... 4768 4769 4770]\n",
      "81.72727272727273 [  -1    0    1 ... 4768 4769 4770]\n",
      "91.81818181818183 [  -1    0    1 ... 4768 4769 4770]\n",
      "101.90909090909092 [  -1    0    1 ... 4768 4769 4770]\n",
      "112.00000000000001 [  -1    0    1 ... 4768 4769 4770]\n",
      "122.0909090909091 [  -1    0    1 ... 4768 4769 4770]\n",
      "132.1818181818182 [  -1    0    1 ... 4768 4769 4770]\n",
      "142.27272727272728 [  -1    0    1 ... 4768 4769 4770]\n",
      "152.36363636363637 [  -1    0    1 ... 4768 4769 4770]\n",
      "162.45454545454547 [  -1    0    1 ... 4768 4769 4770]\n",
      "172.54545454545456 [  -1    0    1 ... 4768 4769 4770]\n",
      "182.63636363636365 [  -1    0    1 ... 4768 4769 4770]\n",
      "192.72727272727275 [  -1    0    1 ... 4768 4769 4770]\n",
      "202.81818181818184 [  -1    0    1 ... 4768 4769 4770]\n",
      "212.90909090909093 [  -1    0    1 ... 4768 4769 4770]\n",
      "223.00000000000003 [  -1    0    1 ... 4768 4769 4770]\n",
      "233.09090909090912 [  -1    0    1 ... 4768 4769 4770]\n",
      "243.1818181818182 [  -1    0    1 ... 4768 4769 4770]\n",
      "253.27272727272728 [  -1    0    1 ... 4768 4769 4770]\n",
      "263.3636363636364 [  -1    0    1 ... 4768 4769 4770]\n",
      "273.4545454545455 [  -1    0    1 ... 4768 4769 4770]\n",
      "283.54545454545456 [  -1    0    1 ... 4768 4769 4770]\n",
      "293.6363636363637 [  -1    0    1 ... 4768 4769 4770]\n",
      "303.72727272727275 [  -1    0    1 ... 4768 4769 4770]\n",
      "313.81818181818187 [  -1    0    1 ... 4768 4769 4770]\n",
      "323.90909090909093 [  -1    0    1 ... 4768 4769 4770]\n",
      "334.0 [  -1    0    1 ... 4768 4769 4770]\n",
      "344.0909090909091 [  -1    0    1 ... 4768 4769 4770]\n",
      "354.1818181818182 [  -1    0    1 ... 4768 4769 4770]\n",
      "364.2727272727273 [  -1    0    1 ... 4768 4769 4770]\n",
      "374.3636363636364 [  -1    0    1 ... 4768 4769 4770]\n",
      "384.4545454545455 [  -1    0    1 ... 4768 4769 4770]\n",
      "394.54545454545456 [  -1    0    1 ... 4768 4769 4770]\n",
      "404.6363636363637 [  -1    0    1 ... 4768 4769 4770]\n",
      "414.72727272727275 [  -1    0    1 ... 4768 4769 4770]\n",
      "424.81818181818187 [  -1    0    1 ... 4768 4769 4770]\n",
      "434.90909090909093 [  -1    0    1 ... 4768 4769 4770]\n",
      "445.00000000000006 [  -1    0    1 ... 4768 4769 4770]\n",
      "455.0909090909091 [  -1    0    1 ... 4768 4769 4770]\n",
      "465.18181818181824 [  -1    0    1 ... 4768 4769 4770]\n",
      "475.2727272727273 [  -1    0    1 ... 4768 4769 4770]\n",
      "485.3636363636364 [  -1    0    1 ... 4768 4769 4770]\n",
      "495.4545454545455 [  -1    0    1 ... 4768 4769 4770]\n",
      "505.54545454545456 [  -1    0    1 ... 4768 4769 4770]\n",
      "515.6363636363636 [  -1    0    1 ... 4768 4769 4770]\n",
      "525.7272727272727 [  -1    0    1 ... 4768 4769 4770]\n",
      "535.8181818181819 [  -1    0    1 ... 4768 4769 4770]\n",
      "545.909090909091 [  -1    0    1 ... 4768 4769 4770]\n",
      "556.0 [  -1    0    1 ... 4768 4769 4770]\n",
      "566.0909090909091 [  -1    0    1 ... 4768 4769 4770]\n",
      "576.1818181818182 [  -1    0    1 ... 4768 4769 4770]\n",
      "586.2727272727274 [  -1    0    1 ... 4768 4769 4770]\n",
      "596.3636363636364 [  -1    0    1 ... 4768 4769 4770]\n",
      "606.4545454545455 [  -1    0    1 ... 4768 4769 4770]\n",
      "616.5454545454546 [  -1    0    1 ... 4768 4769 4770]\n",
      "626.6363636363637 [  -1    0    1 ... 4768 4769 4770]\n",
      "636.7272727272727 [  -1    0    1 ... 4768 4769 4770]\n",
      "646.8181818181819 [  -1    0    1 ... 4768 4769 4770]\n",
      "656.909090909091 [  -1    0    1 ... 4768 4769 4770]\n",
      "667.0 [  -1    0    1 ... 4768 4769 4770]\n",
      "677.0909090909091 [  -1    0    1 ... 4768 4769 4770]\n",
      "687.1818181818182 [  -1    0    1 ... 4768 4769 4770]\n",
      "697.2727272727274 [  -1    0    1 ... 4768 4769 4770]\n",
      "707.3636363636364 [  -1    0    1 ... 4768 4769 4770]\n",
      "717.4545454545455 [  -1    0    1 ... 4768 4769 4770]\n",
      "727.5454545454546 [  -1    0    1 ... 4768 4769 4770]\n",
      "737.6363636363637 [  -1    0    1 ... 4768 4769 4770]\n",
      "747.7272727272727 [  -1    0    1 ... 4768 4769 4770]\n",
      "757.8181818181819 [  -1    0    1 ... 4768 4769 4770]\n",
      "767.909090909091 [  -1    0    1 ... 4768 4769 4770]\n",
      "778.0000000000001 [  -1    0    1 ... 4768 4769 4770]\n",
      "788.0909090909091 [  -1    0    1 ... 4768 4769 4770]\n",
      "798.1818181818182 [  -1    0    1 ... 4768 4769 4770]\n",
      "808.2727272727274 [  -1    0    1 ... 4768 4769 4770]\n",
      "818.3636363636364 [  -1    0    1 ... 4768 4769 4770]\n",
      "828.4545454545455 [  -1    0    1 ... 4768 4769 4770]\n",
      "838.5454545454546 [  -1    0    1 ... 4768 4769 4770]\n",
      "848.6363636363637 [  -1    0    1 ... 4768 4769 4770]\n",
      "858.7272727272727 [  -1    0    1 ... 4768 4769 4770]\n",
      "868.8181818181819 [  -1    0    1 ... 4768 4769 4770]\n",
      "878.909090909091 [  -1    0    1 ... 4768 4769 4770]\n",
      "889.0000000000001 [  -1    0    1 ... 4768 4769 4770]\n",
      "899.0909090909091 [  -1    0    1 ... 4768 4769 4770]\n",
      "909.1818181818182 [  -1    0    1 ... 4768 4769 4770]\n",
      "919.2727272727274 [  -1    0    1 ... 4768 4769 4770]\n",
      "929.3636363636365 [  -1    0    1 ... 4768 4769 4770]\n",
      "939.4545454545455 [  -1    0    1 ... 4768 4769 4770]\n",
      "949.5454545454546 [  -1    0    1 ... 4768 4769 4770]\n",
      "959.6363636363637 [  -1    0    1 ... 4768 4769 4770]\n",
      "969.7272727272727 [  -1    0    1 ... 4768 4769 4770]\n",
      "979.8181818181819 [  -1    0    1 ... 4768 4769 4770]\n",
      "989.909090909091 [  -1    0    1 ... 4768 4769 4770]\n",
      "1000.0 [  -1    0    1 ... 4768 4769 4770]\n"
     ]
    }
   ],
   "source": [
    "for i in np.linspace(1, 1000, num=100):\n",
    "    \n",
    "    model = DBSCAN(eps=i, min_samples=5)\n",
    "    y_pred = model.fit_predict(X)\n",
    "    print(i,np.unique(y_pred))"
   ]
  },
  {
   "cell_type": "markdown",
   "metadata": {},
   "source": [
    "# Hierachical clustering - scipy"
   ]
  },
  {
   "cell_type": "code",
   "execution_count": 15,
   "metadata": {},
   "outputs": [],
   "source": [
    "# df = pd.read_csv('../raw_data/df_grouped_rate.csv',encoding='utf-8' )\n",
    "df = pd.read_csv('df_grouped_rate.csv',encoding='utf-8' )"
   ]
  },
  {
   "cell_type": "code",
   "execution_count": 16,
   "metadata": {},
   "outputs": [],
   "source": [
    "# idx = np.random.randint(0,len(df),size=30)  #표본추출할때 사용"
   ]
  },
  {
   "cell_type": "code",
   "execution_count": 17,
   "metadata": {},
   "outputs": [],
   "source": [
    "X=df[df.columns[4:]] # 마찬가지\n",
    "y=df[\"district\"]\n",
    "X=np.array(X)\n",
    "y=np.array(y)"
   ]
  },
  {
   "cell_type": "code",
   "execution_count": 18,
   "metadata": {},
   "outputs": [
    {
     "name": "stderr",
     "output_type": "stream",
     "text": [
      "/home/sjbuhan/anaconda3/envs/gpu/lib/python3.6/site-packages/sklearn/externals/joblib/__init__.py:15: DeprecationWarning: sklearn.externals.joblib is deprecated in 0.21 and will be removed in 0.23. Please import this functionality directly from joblib, which can be installed with: pip install joblib. If this warning is raised when loading pickled models, you may need to re-serialize those models with scikit-learn 0.21+.\n",
      "  warnings.warn(msg, category=DeprecationWarning)\n"
     ]
    },
    {
     "ename": "NameError",
     "evalue": "name 'clf' is not defined",
     "output_type": "error",
     "traceback": [
      "\u001b[0;31m---------------------------------------------------------------------------\u001b[0m",
      "\u001b[0;31mNameError\u001b[0m                                 Traceback (most recent call last)",
      "\u001b[0;32m<ipython-input-18-2370f6fc340a>\u001b[0m in \u001b[0;36m<module>\u001b[0;34m\u001b[0m\n\u001b[1;32m      6\u001b[0m \u001b[0;34m\u001b[0m\u001b[0m\n\u001b[1;32m      7\u001b[0m \u001b[0msaved_model\u001b[0m \u001b[0;34m=\u001b[0m \u001b[0mpickle\u001b[0m\u001b[0;34m.\u001b[0m\u001b[0mdumps\u001b[0m\u001b[0;34m(\u001b[0m\u001b[0mZ\u001b[0m\u001b[0;34m)\u001b[0m\u001b[0;34m\u001b[0m\u001b[0;34m\u001b[0m\u001b[0m\n\u001b[0;32m----> 8\u001b[0;31m \u001b[0mjoblib\u001b[0m\u001b[0;34m.\u001b[0m\u001b[0mdump\u001b[0m\u001b[0;34m(\u001b[0m\u001b[0mclf\u001b[0m\u001b[0;34m,\u001b[0m \u001b[0;34m'sci_h_clust.pkl'\u001b[0m\u001b[0;34m)\u001b[0m \u001b[0;31m#피클파일 저장\u001b[0m\u001b[0;34m\u001b[0m\u001b[0;34m\u001b[0m\u001b[0m\n\u001b[0m\u001b[1;32m      9\u001b[0m \u001b[0;34m\u001b[0m\u001b[0m\n\u001b[1;32m     10\u001b[0m \u001b[0;31m# Z = joblib.load('filename.pkl')  #load\u001b[0m\u001b[0;34m\u001b[0m\u001b[0;34m\u001b[0m\u001b[0;34m\u001b[0m\u001b[0m\n",
      "\u001b[0;31mNameError\u001b[0m: name 'clf' is not defined"
     ]
    }
   ],
   "source": [
    "from scipy.cluster.hierarchy import linkage, dendrogram\n",
    "import pickle\n",
    "from sklearn.externals import joblib\n",
    "\n",
    "Z = linkage(X, 'ward')  #와드거리\n",
    "\n",
    "saved_model = pickle.dumps(Z)\n",
    "joblib.dump(clf, 'sci_h_clust.pkl') #피클파일 저장\n",
    "\n",
    "# Z = joblib.load('filename.pkl')  #load\n"
   ]
  },
  {
   "cell_type": "markdown",
   "metadata": {},
   "source": [
    "## dendrogram 1"
   ]
  },
  {
   "cell_type": "code",
   "execution_count": 21,
   "metadata": {},
   "outputs": [
    {
     "data": {
      "image/png": "[encoded data removed]",
      "text/plain": [
       "<Figure size 2880x1440 with 1 Axes>"
      ]
     },
     "metadata": {
      "needs_background": "light"
     },
     "output_type": "display_data"
    }
   ],
   "source": [
    "# Plot the dendrogram, using varieties as labels\n",
    "plt.figure(figsize=(40,20))\n",
    "dendrogram(Z,\n",
    "           labels = y,\n",
    "           leaf_rotation=30,\n",
    "           leaf_font_size=30,\n",
    ")\n",
    "plt.show()\n"
   ]
  },
  {
   "cell_type": "markdown",
   "metadata": {},
   "source": [
    "## dendrogram 2"
   ]
  },
  {
   "cell_type": "code",
   "execution_count": 22,
   "metadata": {},
   "outputs": [
    {
     "data": {
      "image/png": "[encoded data removed]",
      "text/plain": [
       "<Figure size 720x288 with 1 Axes>"
      ]
     },
     "metadata": {
      "needs_background": "light"
     },
     "output_type": "display_data"
    }
   ],
   "source": [
    "from matplotlib.offsetbox import OffsetImage, AnnotationBbox\n",
    "\n",
    "plt.figure(figsize=(10, 4))\n",
    "ax = plt.subplot()\n",
    "\n",
    "ddata = dendrogram(Z)\n",
    "\n",
    "dcoord = np.array(ddata[\"dcoord\"])\n",
    "icoord = np.array(ddata[\"icoord\"])\n",
    "leaves = np.array(ddata[\"leaves\"])\n",
    "idx = np.argsort(dcoord[:, 2])\n",
    "dcoord = dcoord[idx, :]\n",
    "icoord = icoord[idx, :]\n",
    "idx = np.argsort(Z[:, :2].ravel())\n",
    "label_pos = icoord[:, 1:3].ravel()[idx][:20]\n",
    "\n",
    "# for i in range(20):\n",
    "#     imagebox = OffsetImage(images[i], cmap=plt.cm.bone_r, interpolation=\"bilinear\", zoom=3)\n",
    "#     ab = AnnotationBbox(imagebox, (label_pos[i], 0),  box_alignment=(0.5, -0.1), \n",
    "#                         bboxprops={\"edgecolor\" : \"none\"})\n",
    "#     ax.add_artist(ab)\n",
    "\n",
    "plt.show()"
   ]
  },
  {
   "cell_type": "code",
   "execution_count": 26,
   "metadata": {},
   "outputs": [
    {
     "data": {
      "image/png": "[encoded data removed]",
      "text/plain": [
       "<Figure size 720x288 with 1 Axes>"
      ]
     },
     "metadata": {
      "needs_background": "light"
     },
     "output_type": "display_data"
    }
   ],
   "source": [
    "from matplotlib.offsetbox import OffsetImage, AnnotationBbox\n",
    "\n",
    "fig=plt.figure(figsize=(10, 4))\n",
    "ax = plt.subplot()\n",
    "\n",
    "ddata = dendrogram(Z)\n",
    "\n",
    "dcoord = np.array(ddata[\"dcoord\"])\n",
    "icoord = np.array(ddata[\"icoord\"])\n",
    "leaves = np.array(ddata[\"leaves\"])\n",
    "idx = np.argsort(dcoord[:, 2])\n",
    "dcoord = dcoord[idx, :]\n",
    "icoord = icoord[idx, :]\n",
    "idx = np.argsort(Z[:, :2].ravel())\n",
    "label_pos = icoord[:, 1:3].ravel()[idx][:20]\n",
    "\n",
    "fig.savefig('dend_2.png', transparent=True) #png파일로 저장\n",
    "\n",
    "plt.show()"
   ]
  },
  {
   "cell_type": "code",
   "execution_count": null,
   "metadata": {},
   "outputs": [],
   "source": [
    "print('R2_HC',R2_HC)\n",
    "print('MAE_HC',MAE_HC)\n",
    "print('MSE_HC',MSE_HC)\n",
    "print('RMSE_HC',RMSE_HC)"
   ]
  }
 ],
 "metadata": {
  "kernelspec": {
   "display_name": "Python 3",
   "language": "python",
   "name": "python3"
  },
  "language_info": {
   "codemirror_mode": {
    "name": "ipython",
    "version": 3
   },
   "file_extension": ".py",
   "mimetype": "text/x-python",
   "name": "python",
   "nbconvert_exporter": "python",
   "pygments_lexer": "ipython3",
   "version": "3.7.4"
  }
 },
 "nbformat": 4,
 "nbformat_minor": 2
}
