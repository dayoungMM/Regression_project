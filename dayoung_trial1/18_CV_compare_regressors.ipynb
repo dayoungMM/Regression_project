{
 "cells": [
  {
   "cell_type": "code",
   "execution_count": 2,
   "metadata": {},
   "outputs": [],
   "source": [
    "import pandas as pd\n",
    "import numpy as np\n",
    "\n",
    "df = pd.read_csv('../raw_data/df_grouped_rate.csv') #폴더 위치는 상이할 수 있음"
   ]
  },
  {
   "cell_type": "code",
   "execution_count": 6,
   "metadata": {},
   "outputs": [
    {
     "data": {
      "text/html": [
       "<div>\n",
       "<style scoped>\n",
       "    .dataframe tbody tr th:only-of-type {\n",
       "        vertical-align: middle;\n",
       "    }\n",
       "\n",
       "    .dataframe tbody tr th {\n",
       "        vertical-align: top;\n",
       "    }\n",
       "\n",
       "    .dataframe thead th {\n",
       "        text-align: right;\n",
       "    }\n",
       "</style>\n",
       "<table border=\"1\" class=\"dataframe\">\n",
       "  <thead>\n",
       "    <tr style=\"text-align: right;\">\n",
       "      <th></th>\n",
       "      <th>district</th>\n",
       "      <th>code</th>\n",
       "      <th>s_store_no_of_store</th>\n",
       "      <th>s_store_no_of_opening</th>\n",
       "      <th>s_store_no_of_closing</th>\n",
       "      <th>s_work_female</th>\n",
       "      <th>s_float_male</th>\n",
       "      <th>s_float_female</th>\n",
       "      <th>b_facil_total</th>\n",
       "      <th>b_apt_avg_price</th>\n",
       "      <th>b_income_avg_monthly_inc</th>\n",
       "      <th>sales_weekday</th>\n",
       "      <th>sales_female</th>\n",
       "      <th>sales_2030s</th>\n",
       "      <th>sales_06_11</th>\n",
       "      <th>sales_11_14</th>\n",
       "      <th>sales_14_17</th>\n",
       "      <th>sales_17_21</th>\n",
       "      <th>sales_21_24</th>\n",
       "    </tr>\n",
       "  </thead>\n",
       "  <tbody>\n",
       "    <tr>\n",
       "      <td>0</td>\n",
       "      <td>1000001</td>\n",
       "      <td>CS100001</td>\n",
       "      <td>16.5</td>\n",
       "      <td>2</td>\n",
       "      <td>2</td>\n",
       "      <td>1748</td>\n",
       "      <td>211158</td>\n",
       "      <td>145498</td>\n",
       "      <td>129.0</td>\n",
       "      <td>188530154.0</td>\n",
       "      <td>3889111.0</td>\n",
       "      <td>0.707812</td>\n",
       "      <td>0.318123</td>\n",
       "      <td>0.341417</td>\n",
       "      <td>0.007379</td>\n",
       "      <td>0.344443</td>\n",
       "      <td>0.164275</td>\n",
       "      <td>0.345822</td>\n",
       "      <td>0.120878</td>\n",
       "    </tr>\n",
       "    <tr>\n",
       "      <td>1</td>\n",
       "      <td>1000001</td>\n",
       "      <td>CS100002</td>\n",
       "      <td>2.0</td>\n",
       "      <td>1</td>\n",
       "      <td>1</td>\n",
       "      <td>1748</td>\n",
       "      <td>211158</td>\n",
       "      <td>145498</td>\n",
       "      <td>129.0</td>\n",
       "      <td>188530154.0</td>\n",
       "      <td>3889111.0</td>\n",
       "      <td>0.734836</td>\n",
       "      <td>0.340414</td>\n",
       "      <td>0.468521</td>\n",
       "      <td>0.006540</td>\n",
       "      <td>0.447948</td>\n",
       "      <td>0.173301</td>\n",
       "      <td>0.363921</td>\n",
       "      <td>0.008290</td>\n",
       "    </tr>\n",
       "    <tr>\n",
       "      <td>2</td>\n",
       "      <td>1000001</td>\n",
       "      <td>CS100003</td>\n",
       "      <td>2.0</td>\n",
       "      <td>0</td>\n",
       "      <td>0</td>\n",
       "      <td>1748</td>\n",
       "      <td>211158</td>\n",
       "      <td>145498</td>\n",
       "      <td>129.0</td>\n",
       "      <td>188530154.0</td>\n",
       "      <td>3889111.0</td>\n",
       "      <td>0.914956</td>\n",
       "      <td>0.321958</td>\n",
       "      <td>0.480098</td>\n",
       "      <td>0.000000</td>\n",
       "      <td>0.524393</td>\n",
       "      <td>0.057219</td>\n",
       "      <td>0.227561</td>\n",
       "      <td>0.182710</td>\n",
       "    </tr>\n",
       "  </tbody>\n",
       "</table>\n",
       "</div>"
      ],
      "text/plain": [
       "   district      code  s_store_no_of_store  s_store_no_of_opening  \\\n",
       "0   1000001  CS100001                 16.5                      2   \n",
       "1   1000001  CS100002                  2.0                      1   \n",
       "2   1000001  CS100003                  2.0                      0   \n",
       "\n",
       "   s_store_no_of_closing  s_work_female  s_float_male  s_float_female  \\\n",
       "0                      2           1748        211158          145498   \n",
       "1                      1           1748        211158          145498   \n",
       "2                      0           1748        211158          145498   \n",
       "\n",
       "   b_facil_total  b_apt_avg_price  b_income_avg_monthly_inc  sales_weekday  \\\n",
       "0          129.0      188530154.0                 3889111.0       0.707812   \n",
       "1          129.0      188530154.0                 3889111.0       0.734836   \n",
       "2          129.0      188530154.0                 3889111.0       0.914956   \n",
       "\n",
       "   sales_female  sales_2030s  sales_06_11  sales_11_14  sales_14_17  \\\n",
       "0      0.318123     0.341417     0.007379     0.344443     0.164275   \n",
       "1      0.340414     0.468521     0.006540     0.447948     0.173301   \n",
       "2      0.321958     0.480098     0.000000     0.524393     0.057219   \n",
       "\n",
       "   sales_17_21  sales_21_24  \n",
       "0     0.345822     0.120878  \n",
       "1     0.363921     0.008290  \n",
       "2     0.227561     0.182710  "
      ]
     },
     "execution_count": 6,
     "metadata": {},
     "output_type": "execute_result"
    }
   ],
   "source": [
    "y=df.iloc[:,3:4]\n",
    "X= df.iloc[:,1:].drop(['sales_total'],axis=1)\n",
    "X.head(3)"
   ]
  },
  {
   "cell_type": "code",
   "execution_count": 8,
   "metadata": {},
   "outputs": [],
   "source": [
    "# 더미변수화\n",
    "X_dum1 = pd.get_dummies(X.iloc[:,0])  #district는 범주형으로 인식 안해서 따로 실시\n",
    "X_dum2 = pd.get_dummies(X.iloc[:,1:])\n",
    "X_dum = pd.concat([X_dum1, X_dum2],axis=1)\n"
   ]
  },
  {
   "cell_type": "markdown",
   "metadata": {},
   "source": [
    "### 회귀분석 (1010개 상권코드)"
   ]
  },
  {
   "cell_type": "code",
   "execution_count": 25,
   "metadata": {},
   "outputs": [],
   "source": [
    "from sklearn.model_selection import train_test_split\n",
    "from sklearn.preprocessing import RobustScaler\n",
    "from sklearn.linear_model import LinearRegression\n",
    "\n",
    "# Train-test split\n",
    "X_train, X_test, y_train, y_test = train_test_split(X_dum, y, test_size=0.2) \n",
    "\n",
    "# 로버스트 스케일링\n",
    "rb = RobustScaler()\n",
    "Xs_train = rb.fit_transform(X_train)\n",
    "Xs_test = rb.transform(X_test)\n",
    "\n",
    "# 회귀분석\n",
    "regressor = LinearRegression()\n",
    "model = regressor.fit(Xs_train, y_train)"
   ]
  },
  {
   "cell_type": "code",
   "execution_count": 11,
   "metadata": {},
   "outputs": [
    {
     "name": "stdout",
     "output_type": "stream",
     "text": [
      "0.4425188197222003\n",
      "0.4309835233070318\n",
      "==================================================\n",
      "==================================================\n",
      "Mean Absolute Error: 635308846.8475698\n",
      "Mean Squared Error: 1.535644644916964e+18\n",
      "Root Mean Squared Error: 1239211299.543772\n"
     ]
    }
   ],
   "source": [
    "# 정확도 결과값\n",
    "print(model.score(Xs_train, y_train))\n",
    "print(model.score(Xs_test, y_test))\n",
    "\n",
    "print('='*50)\n",
    "print('='*50)\n",
    "# 오차 결과값\n",
    "from sklearn import metrics\n",
    "y_pred = model.predict(Xs_test)\n",
    "print('Mean Absolute Error:', metrics.mean_absolute_error(y_test, y_pred))  \n",
    "print('Mean Squared Error:', metrics.mean_squared_error(y_test, y_pred))  \n",
    "print('Root Mean Squared Error:', np.sqrt(metrics.mean_squared_error(y_test, y_pred)))"
   ]
  },
  {
   "cell_type": "code",
   "execution_count": null,
   "metadata": {},
   "outputs": [],
   "source": [
    "#OLS summary를 보기위해 \n",
    "import statsmodels.api as sm\n",
    "from sklearn.model_selection import train_test_split\n",
    "from sklearn.preprocessing import RobustScaler\n",
    "# Train-test split\n",
    "X_train, X_test, y_train, y_test = train_test_split(X_dum, y, test_size=0.2, random_state=0) # y 값이 정의되지 않아 df.sales_total 으로 대체하겠습니다.\n",
    "# 로버스트 스케일링\n",
    "rb = RobustScaler()\n",
    "Xs_train = rb.fit_transform(X_train)\n",
    "Xs_test = rb.transform(X_test)\n",
    "\n",
    "model = sm.OLS(y_train, Xs_train)\n",
    "result = model.fit()\n",
    "print(result.summary())"
   ]
  },
  {
   "cell_type": "markdown",
   "metadata": {},
   "source": [
    "```\n",
    "  OLS Regression Results                            \n",
    "==============================================================================\n",
    "Dep. Variable:            sales_total   R-squared:                       0.443\n",
    "Model:                            OLS   Adj. R-squared:                  0.436\n",
    "Method:                 Least Squares   F-statistic:                     66.62\n",
    "Date:                Sat, 15 Feb 2020   Prob (F-statistic):               0.00\n",
    "Time:                        16:13:53   Log-Likelihood:            -2.0276e+06\n",
    "No. Observations:               90612   AIC:                         4.057e+06\n",
    "Df Residuals:                   89544   BIC:                         4.067e+06\n",
    "Df Model:                        1067                                         \n",
    "Covariance Type:            nonrobust                                         \n",
    "==============================================================================\n",
    "```"
   ]
  },
  {
   "cell_type": "markdown",
   "metadata": {},
   "source": [
    "```\n",
    "==============================================================================\n",
    "Omnibus:                   116172.839   Durbin-Watson:                   2.007\n",
    "Prob(Omnibus):                  0.000   Jarque-Bera (JB):         85264506.370\n",
    "Skew:                           6.589   Prob(JB):                         0.00\n",
    "Kurtosis:                     152.700   Cond. No.                     1.25e+17\n",
    "==============================================================================\n",
    "\n",
    "Warnings:\n",
    "[1] Standard Errors assume that the covariance matrix of the errors is correctly specified.\n",
    "[2] The smallest eigenvalue is 4.28e-29. This might indicate that there are\n",
    "strong multicollinearity problems or that the design matrix is singular.\n",
    "```\n"
   ]
  },
  {
   "cell_type": "markdown",
   "metadata": {},
   "source": [
    "### 결론) 1010개의 상권코드와 서비스코드를 원핫인코딩 하면 다중공선성이 발생한다"
   ]
  },
  {
   "cell_type": "code",
   "execution_count": 26,
   "metadata": {},
   "outputs": [
    {
     "name": "stdout",
     "output_type": "stream",
     "text": [
      "-5.1939627337549884e+23\n"
     ]
    },
    {
     "data": {
      "text/plain": [
       "array([-1.49316595e+18, -1.77724911e+18, -1.48891493e+18, -1.72991690e+18,\n",
       "       -1.61632030e+18, -2.06310464e+18, -1.94553029e+18, -2.28336208e+18,\n",
       "       -4.54186243e+24, -6.52085910e+23])"
      ]
     },
     "execution_count": 26,
     "metadata": {},
     "output_type": "execute_result"
    }
   ],
   "source": [
    "# Cross Validation 실시(10회)\n",
    "from sklearn.model_selection import cross_val_score, cross_validate, cross_val_predict\n",
    "\n",
    "scores = cross_val_score(model, X_dum, y,scoring='neg_mean_squared_error',n_jobs=-1,cv=10)\n",
    "print(scores.mean())\n",
    "scores"
   ]
  },
  {
   "cell_type": "code",
   "execution_count": null,
   "metadata": {},
   "outputs": [],
   "source": [
    "import sklearn\n",
    "sklearn.metrics.SCORERS.keys()"
   ]
  },
  {
   "cell_type": "code",
   "execution_count": 31,
   "metadata": {},
   "outputs": [
    {
     "name": "stdout",
     "output_type": "stream",
     "text": [
      "1 번째 시도\n",
      "0.43960408927187367\n",
      "0.44259013731954644\n",
      "==================================================\n",
      "==================================================\n",
      "2 번째 시도\n",
      "0.4319673796288248\n",
      "0.467851967080529\n",
      "==================================================\n",
      "==================================================\n",
      "3 번째 시도\n",
      "0.44110374680936393\n",
      "0.43507485321592126\n",
      "==================================================\n",
      "==================================================\n",
      "4 번째 시도\n",
      "0.4445004482629007\n",
      "0.42206491872670765\n",
      "==================================================\n",
      "==================================================\n",
      "5 번째 시도\n",
      "0.4470048825554117\n",
      "0.4100922531433616\n",
      "==================================================\n",
      "==================================================\n",
      "6 번째 시도\n",
      "0.44581264129369047\n",
      "0.4185232713312772\n",
      "==================================================\n",
      "==================================================\n",
      "7 번째 시도\n",
      "0.4448878215937041\n",
      "0.4228242516941805\n",
      "==================================================\n",
      "==================================================\n",
      "8 번째 시도\n",
      "0.4384028865182755\n",
      "0.4484190729706833\n",
      "==================================================\n",
      "==================================================\n",
      "9 번째 시도\n",
      "0.44929374223561613\n",
      "0.4028637882428904\n",
      "==================================================\n",
      "==================================================\n",
      "10 번째 시도\n",
      "0.44683516373009746\n",
      "0.41503343183777985\n",
      "==================================================\n",
      "==================================================\n"
     ]
    }
   ],
   "source": [
    "from sklearn.metrics import r2_score\n",
    "R2_lr = []\n",
    "MAE_lr = []\n",
    "MSE_lr = []\n",
    "RMSE_lr = []\n",
    "for i in range(10):\n",
    "    # Train-test split\n",
    "    X_train, X_test, y_train, y_test = train_test_split(X_dum, y, test_size=0.2) \n",
    "\n",
    "    # 로버스트 스케일링\n",
    "    rb = RobustScaler()\n",
    "    Xs_train = rb.fit_transform(X_train)\n",
    "    Xs_test = rb.transform(X_test)\n",
    "\n",
    "    # 회귀분석\n",
    "    regressor = LinearRegression()\n",
    "    model = regressor.fit(Xs_train, y_train)\n",
    "\n",
    "    print(i+1,\"번째 시도\")\n",
    "    # 정확도 결과값\n",
    "    print(model.score(Xs_train, y_train))\n",
    "    print(model.score(Xs_test, y_test))\n",
    "\n",
    "    # 오차 결과값\n",
    "    y_pred = model.predict(Xs_test)\n",
    "    R2_lr.append(r2_score(y_test , y_pred))\n",
    "    MAE_lr.append(metrics.mean_absolute_error(y_test, y_pred))\n",
    "    MSE_lr.append(metrics.mean_squared_error(y_test, y_pred))\n",
    "    RMSE_lr.append(np.sqrt(metrics.mean_squared_error(y_test, y_pred)))\n",
    "    print('='*50)\n",
    "    print('='*50)"
   ]
  },
  {
   "cell_type": "code",
   "execution_count": 32,
   "metadata": {},
   "outputs": [
    {
     "name": "stdout",
     "output_type": "stream",
     "text": [
      "[0.44259013731954644, 0.467851967080529, 0.4350748532159213, 0.4220649187267077, 0.4100922531433616, 0.4185232713312772, 0.4228242516941805, 0.4484190729706833, 0.4028637882428904, 0.41503343183777985]\n",
      "[637271723.3349667, 650625361.5460645, 643849356.7065731, 641290271.5972277, 652825710.9467179, 655225875.8360482, 643889460.7855914, 634098102.5302609, 645968725.3911182, 642269354.0035316]\n",
      "[1.4918839383742797e+18, 1.6796946644326436e+18, 1.6971864079197565e+18, 1.5417979404016678e+18, 1.8189016861481812e+18, 1.7275572564135396e+18, 1.7072931657995963e+18, 1.499558782756685e+18, 1.8193454933958556e+18, 1.7658417092342513e+18]\n",
      "[1221427009.024395, 1296030348.577009, 1302761070.9258075, 1241691564.1179447, 1348666632.6962276, 1314365723.995243, 1306634289.2330647, 1224564731.9585376, 1348831158.2239845, 1328849769.2494254]\n"
     ]
    }
   ],
   "source": [
    "print(R2_lr)\n",
    "print(MAE_lr)\n",
    "print(MSE_lr)\n",
    "print(RMSE_lr)"
   ]
  },
  {
   "cell_type": "code",
   "execution_count": 35,
   "metadata": {},
   "outputs": [
    {
     "data": {
      "text/plain": [
       "['RMSE_lr.pkl']"
      ]
     },
     "execution_count": 35,
     "metadata": {},
     "output_type": "execute_result"
    }
   ],
   "source": [
    "import pickle\n",
    "from sklearn.externals import joblib\n",
    "saved_variable = pickle.dumps(R2_lr)\n",
    "joblib.dump(saved_variable, 'R2_lr.pkl') #피클파일 저장\n",
    "saved_variable = pickle.dumps(MAE_lr)\n",
    "joblib.dump(saved_variable, 'MAE_lr.pkl') #피클파일 저장\n",
    "saved_variable = pickle.dumps(MSE_lr)\n",
    "joblib.dump(saved_variable, 'MSE_lr.pkl') #피클파일 저장\n",
    "saved_variable = pickle.dumps(MSE_lr)\n",
    "joblib.dump(saved_variable, 'RMSE_lr.pkl') #피클파일 저장"
   ]
  },
  {
   "cell_type": "markdown",
   "metadata": {},
   "source": [
    "## 시군구 OLS"
   ]
  },
  {
   "cell_type": "code",
   "execution_count": 41,
   "metadata": {},
   "outputs": [],
   "source": [
    "df = pd.read_csv(\"../raw_data/df_grouped_rate.csv\", encoding ='utf-8')\n",
    "cgoongu = pd.read_csv(\"../raw_data/cgoongoo1.csv\", encoding ='utf-8')\n",
    "df_merged = pd.merge(df, cgoongu, on=['district'])\n",
    "df_merged.drop(['district','year'], axis=1, inplace =True)"
   ]
  },
  {
   "cell_type": "code",
   "execution_count": 42,
   "metadata": {},
   "outputs": [
    {
     "data": {
      "text/plain": [
       "Index(['code', 'sales_total', 's_store_no_of_store', 's_store_no_of_opening',\n",
       "       's_store_no_of_closing', 's_work_female', 's_float_male',\n",
       "       's_float_female', 'b_facil_total', 'b_apt_avg_price',\n",
       "       'b_income_avg_monthly_inc', 'sales_weekday', 'sales_female',\n",
       "       'sales_2030s', 'sales_06_11', 'sales_11_14', 'sales_14_17',\n",
       "       'sales_17_21', 'sales_21_24', 'cgoongoo'],\n",
       "      dtype='object')"
      ]
     },
     "execution_count": 42,
     "metadata": {},
     "output_type": "execute_result"
    }
   ],
   "source": [
    "df_merged.columns=[]"
   ]
  },
  {
   "cell_type": "code",
   "execution_count": 50,
   "metadata": {},
   "outputs": [
    {
     "data": {
      "text/html": [
       "<div>\n",
       "<style scoped>\n",
       "    .dataframe tbody tr th:only-of-type {\n",
       "        vertical-align: middle;\n",
       "    }\n",
       "\n",
       "    .dataframe tbody tr th {\n",
       "        vertical-align: top;\n",
       "    }\n",
       "\n",
       "    .dataframe thead th {\n",
       "        text-align: right;\n",
       "    }\n",
       "</style>\n",
       "<table border=\"1\" class=\"dataframe\">\n",
       "  <thead>\n",
       "    <tr style=\"text-align: right;\">\n",
       "      <th></th>\n",
       "      <th>code</th>\n",
       "      <th>s_store_no_of_store</th>\n",
       "      <th>s_store_no_of_opening</th>\n",
       "      <th>s_store_no_of_closing</th>\n",
       "      <th>s_work_female</th>\n",
       "      <th>s_float_male</th>\n",
       "      <th>s_float_female</th>\n",
       "      <th>b_facil_total</th>\n",
       "      <th>b_apt_avg_price</th>\n",
       "      <th>b_income_avg_monthly_inc</th>\n",
       "      <th>sales_weekday</th>\n",
       "      <th>sales_female</th>\n",
       "      <th>sales_2030s</th>\n",
       "      <th>sales_06_11</th>\n",
       "      <th>sales_11_14</th>\n",
       "      <th>sales_14_17</th>\n",
       "      <th>sales_17_21</th>\n",
       "      <th>sales_21_24</th>\n",
       "      <th>cgoongoo</th>\n",
       "    </tr>\n",
       "  </thead>\n",
       "  <tbody>\n",
       "    <tr>\n",
       "      <td>0</td>\n",
       "      <td>CS100001</td>\n",
       "      <td>16.5</td>\n",
       "      <td>2</td>\n",
       "      <td>2</td>\n",
       "      <td>1748</td>\n",
       "      <td>211158</td>\n",
       "      <td>145498</td>\n",
       "      <td>129.0</td>\n",
       "      <td>188530154.0</td>\n",
       "      <td>3889111.0</td>\n",
       "      <td>0.707812</td>\n",
       "      <td>0.318123</td>\n",
       "      <td>0.341417</td>\n",
       "      <td>0.007379</td>\n",
       "      <td>0.344443</td>\n",
       "      <td>0.164275</td>\n",
       "      <td>0.345822</td>\n",
       "      <td>0.120878</td>\n",
       "      <td>11110</td>\n",
       "    </tr>\n",
       "    <tr>\n",
       "      <td>1</td>\n",
       "      <td>CS100002</td>\n",
       "      <td>2.0</td>\n",
       "      <td>1</td>\n",
       "      <td>1</td>\n",
       "      <td>1748</td>\n",
       "      <td>211158</td>\n",
       "      <td>145498</td>\n",
       "      <td>129.0</td>\n",
       "      <td>188530154.0</td>\n",
       "      <td>3889111.0</td>\n",
       "      <td>0.734836</td>\n",
       "      <td>0.340414</td>\n",
       "      <td>0.468521</td>\n",
       "      <td>0.006540</td>\n",
       "      <td>0.447948</td>\n",
       "      <td>0.173301</td>\n",
       "      <td>0.363921</td>\n",
       "      <td>0.008290</td>\n",
       "      <td>11110</td>\n",
       "    </tr>\n",
       "    <tr>\n",
       "      <td>2</td>\n",
       "      <td>CS100003</td>\n",
       "      <td>2.0</td>\n",
       "      <td>0</td>\n",
       "      <td>0</td>\n",
       "      <td>1748</td>\n",
       "      <td>211158</td>\n",
       "      <td>145498</td>\n",
       "      <td>129.0</td>\n",
       "      <td>188530154.0</td>\n",
       "      <td>3889111.0</td>\n",
       "      <td>0.914956</td>\n",
       "      <td>0.321958</td>\n",
       "      <td>0.480098</td>\n",
       "      <td>0.000000</td>\n",
       "      <td>0.524393</td>\n",
       "      <td>0.057219</td>\n",
       "      <td>0.227561</td>\n",
       "      <td>0.182710</td>\n",
       "      <td>11110</td>\n",
       "    </tr>\n",
       "  </tbody>\n",
       "</table>\n",
       "</div>"
      ],
      "text/plain": [
       "       code  s_store_no_of_store  s_store_no_of_opening  \\\n",
       "0  CS100001                 16.5                      2   \n",
       "1  CS100002                  2.0                      1   \n",
       "2  CS100003                  2.0                      0   \n",
       "\n",
       "   s_store_no_of_closing  s_work_female  s_float_male  s_float_female  \\\n",
       "0                      2           1748        211158          145498   \n",
       "1                      1           1748        211158          145498   \n",
       "2                      0           1748        211158          145498   \n",
       "\n",
       "   b_facil_total  b_apt_avg_price  b_income_avg_monthly_inc  sales_weekday  \\\n",
       "0          129.0      188530154.0                 3889111.0       0.707812   \n",
       "1          129.0      188530154.0                 3889111.0       0.734836   \n",
       "2          129.0      188530154.0                 3889111.0       0.914956   \n",
       "\n",
       "   sales_female  sales_2030s  sales_06_11  sales_11_14  sales_14_17  \\\n",
       "0      0.318123     0.341417     0.007379     0.344443     0.164275   \n",
       "1      0.340414     0.468521     0.006540     0.447948     0.173301   \n",
       "2      0.321958     0.480098     0.000000     0.524393     0.057219   \n",
       "\n",
       "   sales_17_21  sales_21_24  cgoongoo  \n",
       "0     0.345822     0.120878     11110  \n",
       "1     0.363921     0.008290     11110  \n",
       "2     0.227561     0.182710     11110  "
      ]
     },
     "execution_count": 50,
     "metadata": {},
     "output_type": "execute_result"
    }
   ],
   "source": [
    "y=df_merged.iloc[:,1:2]\n",
    "X= df_merged.drop(['sales_total'],axis=1)\n",
    "X.head(3)"
   ]
  },
  {
   "cell_type": "code",
   "execution_count": 51,
   "metadata": {},
   "outputs": [
    {
     "data": {
      "text/html": [
       "<div>\n",
       "<style scoped>\n",
       "    .dataframe tbody tr th:only-of-type {\n",
       "        vertical-align: middle;\n",
       "    }\n",
       "\n",
       "    .dataframe tbody tr th {\n",
       "        vertical-align: top;\n",
       "    }\n",
       "\n",
       "    .dataframe thead th {\n",
       "        text-align: right;\n",
       "    }\n",
       "</style>\n",
       "<table border=\"1\" class=\"dataframe\">\n",
       "  <thead>\n",
       "    <tr style=\"text-align: right;\">\n",
       "      <th></th>\n",
       "      <th>s_store_no_of_store</th>\n",
       "      <th>s_store_no_of_opening</th>\n",
       "      <th>s_store_no_of_closing</th>\n",
       "      <th>s_work_female</th>\n",
       "      <th>s_float_male</th>\n",
       "      <th>s_float_female</th>\n",
       "      <th>b_facil_total</th>\n",
       "      <th>b_apt_avg_price</th>\n",
       "      <th>b_income_avg_monthly_inc</th>\n",
       "      <th>sales_weekday</th>\n",
       "      <th>...</th>\n",
       "      <th>11500</th>\n",
       "      <th>11530</th>\n",
       "      <th>11545</th>\n",
       "      <th>11560</th>\n",
       "      <th>11590</th>\n",
       "      <th>11620</th>\n",
       "      <th>11650</th>\n",
       "      <th>11680</th>\n",
       "      <th>11710</th>\n",
       "      <th>11740</th>\n",
       "    </tr>\n",
       "  </thead>\n",
       "  <tbody>\n",
       "    <tr>\n",
       "      <td>0</td>\n",
       "      <td>16.5</td>\n",
       "      <td>2</td>\n",
       "      <td>2</td>\n",
       "      <td>1748</td>\n",
       "      <td>211158</td>\n",
       "      <td>145498</td>\n",
       "      <td>129.0</td>\n",
       "      <td>188530154.0</td>\n",
       "      <td>3889111.0</td>\n",
       "      <td>0.707812</td>\n",
       "      <td>...</td>\n",
       "      <td>0</td>\n",
       "      <td>0</td>\n",
       "      <td>0</td>\n",
       "      <td>0</td>\n",
       "      <td>0</td>\n",
       "      <td>0</td>\n",
       "      <td>0</td>\n",
       "      <td>0</td>\n",
       "      <td>0</td>\n",
       "      <td>0</td>\n",
       "    </tr>\n",
       "    <tr>\n",
       "      <td>1</td>\n",
       "      <td>2.0</td>\n",
       "      <td>1</td>\n",
       "      <td>1</td>\n",
       "      <td>1748</td>\n",
       "      <td>211158</td>\n",
       "      <td>145498</td>\n",
       "      <td>129.0</td>\n",
       "      <td>188530154.0</td>\n",
       "      <td>3889111.0</td>\n",
       "      <td>0.734836</td>\n",
       "      <td>...</td>\n",
       "      <td>0</td>\n",
       "      <td>0</td>\n",
       "      <td>0</td>\n",
       "      <td>0</td>\n",
       "      <td>0</td>\n",
       "      <td>0</td>\n",
       "      <td>0</td>\n",
       "      <td>0</td>\n",
       "      <td>0</td>\n",
       "      <td>0</td>\n",
       "    </tr>\n",
       "    <tr>\n",
       "      <td>2</td>\n",
       "      <td>2.0</td>\n",
       "      <td>0</td>\n",
       "      <td>0</td>\n",
       "      <td>1748</td>\n",
       "      <td>211158</td>\n",
       "      <td>145498</td>\n",
       "      <td>129.0</td>\n",
       "      <td>188530154.0</td>\n",
       "      <td>3889111.0</td>\n",
       "      <td>0.914956</td>\n",
       "      <td>...</td>\n",
       "      <td>0</td>\n",
       "      <td>0</td>\n",
       "      <td>0</td>\n",
       "      <td>0</td>\n",
       "      <td>0</td>\n",
       "      <td>0</td>\n",
       "      <td>0</td>\n",
       "      <td>0</td>\n",
       "      <td>0</td>\n",
       "      <td>0</td>\n",
       "    </tr>\n",
       "  </tbody>\n",
       "</table>\n",
       "<p>3 rows × 87 columns</p>\n",
       "</div>"
      ],
      "text/plain": [
       "   s_store_no_of_store  s_store_no_of_opening  s_store_no_of_closing  \\\n",
       "0                 16.5                      2                      2   \n",
       "1                  2.0                      1                      1   \n",
       "2                  2.0                      0                      0   \n",
       "\n",
       "   s_work_female  s_float_male  s_float_female  b_facil_total  \\\n",
       "0           1748        211158          145498          129.0   \n",
       "1           1748        211158          145498          129.0   \n",
       "2           1748        211158          145498          129.0   \n",
       "\n",
       "   b_apt_avg_price  b_income_avg_monthly_inc  sales_weekday  ...  11500  \\\n",
       "0      188530154.0                 3889111.0       0.707812  ...      0   \n",
       "1      188530154.0                 3889111.0       0.734836  ...      0   \n",
       "2      188530154.0                 3889111.0       0.914956  ...      0   \n",
       "\n",
       "   11530  11545  11560  11590  11620  11650  11680  11710  11740  \n",
       "0      0      0      0      0      0      0      0      0      0  \n",
       "1      0      0      0      0      0      0      0      0      0  \n",
       "2      0      0      0      0      0      0      0      0      0  \n",
       "\n",
       "[3 rows x 87 columns]"
      ]
     },
     "execution_count": 51,
     "metadata": {},
     "output_type": "execute_result"
    }
   ],
   "source": [
    "# 더미변수화\n",
    "X_dum1 = pd.get_dummies(X.iloc[:,0:-1])  #district는 범주형으로 인식 안해서 따로 실시\n",
    "X_dum2 = pd.get_dummies(X.iloc[:,-1])\n",
    "X_dum = pd.concat([X_dum1, X_dum2],axis=1)\n",
    "X_dum.head(3)"
   ]
  },
  {
   "cell_type": "code",
   "execution_count": 53,
   "metadata": {},
   "outputs": [
    {
     "name": "stdout",
     "output_type": "stream",
     "text": [
      "                            OLS Regression Results                            \n",
      "==============================================================================\n",
      "Dep. Variable:            sales_total   R-squared:                       0.405\n",
      "Model:                            OLS   Adj. R-squared:                  0.405\n",
      "Method:                 Least Squares   F-statistic:                     725.3\n",
      "Date:                Thu, 20 Feb 2020   Prob (F-statistic):               0.00\n",
      "Time:                        19:13:06   Log-Likelihood:            -2.0306e+06\n",
      "No. Observations:               90612   AIC:                         4.061e+06\n",
      "Df Residuals:                   90526   BIC:                         4.062e+06\n",
      "Df Model:                          85                                         \n",
      "Covariance Type:            nonrobust                                         \n",
      "==============================================================================\n",
      "                 coef    std err          t      P>|t|      [0.025      0.975]\n",
      "------------------------------------------------------------------------------\n",
      "x1          5.418e+08   5.01e+06    108.138      0.000    5.32e+08    5.52e+08\n",
      "x2          2.929e+07   4.77e+06      6.142      0.000    1.99e+07    3.86e+07\n",
      "x3          5.491e+07   5.06e+06     10.850      0.000     4.5e+07    6.48e+07\n",
      "x4          1.969e+07   1.95e+06     10.100      0.000    1.59e+07    2.35e+07\n",
      "x5          2.182e+08   1.63e+07     13.359      0.000    1.86e+08     2.5e+08\n",
      "x6         -6.042e+07   1.68e+07     -3.594      0.000   -9.34e+07   -2.75e+07\n",
      "x7         -9.491e+06   5.86e+06     -1.619      0.105    -2.1e+07       2e+06\n",
      "x8          6.895e+07    5.8e+06     11.880      0.000    5.76e+07    8.03e+07\n",
      "x9          9.782e+07   8.06e+06     12.129      0.000     8.2e+07    1.14e+08\n",
      "x10        -1.049e+08   7.24e+06    -14.485      0.000   -1.19e+08   -9.07e+07\n",
      "x11         1.212e+07   8.76e+06      1.383      0.167   -5.05e+06    2.93e+07\n",
      "x12         2.708e+07    8.4e+06      3.224      0.001    1.06e+07    4.35e+07\n",
      "x13         2.432e+07   1.02e+07      2.381      0.017     4.3e+06    4.43e+07\n",
      "x14         1.747e+07   1.44e+07      1.213      0.225   -1.08e+07    4.57e+07\n",
      "x15         2.325e+07   1.56e+07      1.495      0.135   -7.23e+06    5.37e+07\n",
      "x16         4.516e+07   1.44e+07      3.147      0.002     1.7e+07    7.33e+07\n",
      "x17         6.501e+07   1.96e+07      3.310      0.001    2.65e+07    1.03e+08\n",
      "x18         7.885e+08   2.71e+07     29.146      0.000    7.35e+08    8.42e+08\n",
      "x19         1.455e+08   2.82e+07      5.154      0.000    9.02e+07    2.01e+08\n",
      "x20         1.723e+08   3.52e+07      4.891      0.000    1.03e+08    2.41e+08\n",
      "x21         3.151e+08   3.61e+07      8.726      0.000    2.44e+08    3.86e+08\n",
      "x22        -1.316e+08   2.45e+07     -5.378      0.000    -1.8e+08   -8.36e+07\n",
      "x23         2.088e+08   3.12e+07      6.692      0.000    1.48e+08     2.7e+08\n",
      "x24         1.779e+08   2.98e+07      5.970      0.000    1.19e+08    2.36e+08\n",
      "x25         3.562e+08   3.06e+07     11.627      0.000    2.96e+08    4.16e+08\n",
      "x26        -9.875e+07   2.48e+07     -3.980      0.000   -1.47e+08   -5.01e+07\n",
      "x27        -1.239e+08   3.14e+07     -3.946      0.000   -1.86e+08   -6.24e+07\n",
      "x28         3.224e+08   2.86e+07     11.259      0.000    2.66e+08    3.79e+08\n",
      "x29         3.031e+08   3.85e+07      7.873      0.000    2.28e+08    3.79e+08\n",
      "x30        -2.078e+08   2.67e+07     -7.777      0.000    -2.6e+08   -1.55e+08\n",
      "x31         8.447e+08   3.26e+07     25.906      0.000    7.81e+08    9.09e+08\n",
      "x32         3.183e+08   3.14e+07     10.121      0.000    2.57e+08     3.8e+08\n",
      "x33         1.119e+09   3.26e+07     34.292      0.000    1.05e+09    1.18e+09\n",
      "x34         7.284e+07   5.68e+07      1.283      0.199   -3.84e+07    1.84e+08\n",
      "x35        -1.358e+09   8.59e+07    -15.804      0.000   -1.53e+09   -1.19e+09\n",
      "x36         -1.45e+08   3.75e+07     -3.869      0.000   -2.19e+08   -7.16e+07\n",
      "x37        -2.733e+08   4.03e+07     -6.785      0.000   -3.52e+08   -1.94e+08\n",
      "x38         1.259e+08   4.56e+07      2.763      0.006    3.66e+07    2.15e+08\n",
      "x39        -1.623e+08   3.77e+07     -4.308      0.000   -2.36e+08   -8.84e+07\n",
      "x40         -2.24e+08   2.95e+07     -7.585      0.000   -2.82e+08   -1.66e+08\n",
      "x41         9.253e+07   3.52e+07      2.627      0.009    2.35e+07    1.62e+08\n",
      "x42         2.467e+08   2.97e+07      8.320      0.000    1.89e+08    3.05e+08\n",
      "x43         -8.31e+08    2.4e+07    -34.685      0.000   -8.78e+08   -7.84e+08\n",
      "x44        -2.068e+08   3.89e+07     -5.317      0.000   -2.83e+08   -1.31e+08\n",
      "x45        -2.571e+08    3.2e+07     -8.038      0.000    -3.2e+08   -1.94e+08\n",
      "x46         1.216e+09   2.35e+07     51.647      0.000    1.17e+09    1.26e+09\n",
      "x47         1.981e+09   2.57e+07     77.111      0.000    1.93e+09    2.03e+09\n",
      "x48         6.041e+07   5.48e+07      1.102      0.270    -4.7e+07    1.68e+08\n",
      "x49        -7.633e+07   3.65e+07     -2.090      0.037   -1.48e+08   -4.74e+06\n",
      "x50         1.824e+08   2.57e+07      7.094      0.000    1.32e+08    2.33e+08\n",
      "x51         1.829e+08   4.33e+07      4.224      0.000     9.8e+07    2.68e+08\n",
      "x52        -3.305e+08   2.65e+07    -12.489      0.000   -3.82e+08   -2.79e+08\n",
      "x53         8.105e+06   2.91e+07      0.279      0.781   -4.89e+07    6.51e+07\n",
      "x54         1.082e+09    2.7e+07     40.026      0.000    1.03e+09    1.14e+09\n",
      "x55         2.205e+08   3.23e+07      6.836      0.000    1.57e+08    2.84e+08\n",
      "x56        -4.117e+08   2.85e+07    -14.428      0.000   -4.68e+08   -3.56e+08\n",
      "x57         4.453e+08   4.13e+07     10.778      0.000    3.64e+08    5.26e+08\n",
      "x58        -6.289e+07   3.52e+07     -1.787      0.074   -1.32e+08    6.07e+06\n",
      "x59        -2.159e+08   3.09e+07     -6.990      0.000   -2.76e+08   -1.55e+08\n",
      "x60         1.111e+09   4.15e+07     26.739      0.000    1.03e+09    1.19e+09\n",
      "x61         -3.06e+08   2.71e+07    -11.309      0.000   -3.59e+08   -2.53e+08\n",
      "x62        -2.697e+08   4.43e+07     -6.089      0.000   -3.57e+08   -1.83e+08\n",
      "x63         3.586e+08   3.19e+07     11.257      0.000    2.96e+08    4.21e+08\n",
      "x64         9.605e+07   3.29e+07      2.915      0.004    3.15e+07    1.61e+08\n",
      "x65         2.226e+08   2.56e+07      8.708      0.000    1.73e+08    2.73e+08\n",
      "x66         1.619e+08   2.38e+07      6.794      0.000    1.15e+08    2.09e+08\n",
      "x67         2.486e+08   2.14e+07     11.620      0.000    2.07e+08     2.9e+08\n",
      "x68         2.368e+08    2.1e+07     11.252      0.000    1.96e+08    2.78e+08\n",
      "x69         2.136e+08   2.21e+07      9.678      0.000     1.7e+08    2.57e+08\n",
      "x70         2.358e+08   2.07e+07     11.406      0.000    1.95e+08    2.76e+08\n",
      "x71         2.115e+08   2.62e+07      8.083      0.000     1.6e+08    2.63e+08\n",
      "x72         3.084e+08    2.8e+07     11.011      0.000    2.53e+08    3.63e+08\n",
      "x73         3.108e+08   3.98e+07      7.818      0.000    2.33e+08    3.89e+08\n",
      "x74         2.858e+08   2.09e+07     13.655      0.000    2.45e+08    3.27e+08\n",
      "x75         3.318e+08   2.91e+07     11.401      0.000    2.75e+08    3.89e+08\n",
      "x76         2.851e+08   2.06e+07     13.818      0.000    2.45e+08    3.26e+08\n",
      "x77         2.426e+08   2.08e+07     11.684      0.000    2.02e+08    2.83e+08\n",
      "x78         3.137e+08   1.88e+07     16.676      0.000    2.77e+08    3.51e+08\n",
      "x79         3.429e+08   2.13e+07     16.124      0.000    3.01e+08    3.85e+08\n",
      "x80         2.808e+08    2.7e+07     10.381      0.000    2.28e+08    3.34e+08\n",
      "x81          1.79e+08   2.12e+07      8.460      0.000    1.38e+08     2.2e+08\n",
      "x82         2.521e+08   2.24e+07     11.243      0.000    2.08e+08    2.96e+08\n",
      "x83         2.573e+08   1.89e+07     13.637      0.000     2.2e+08    2.94e+08\n",
      "x84         2.513e+08    2.5e+07     10.053      0.000    2.02e+08       3e+08\n",
      "x85         2.927e+08   2.32e+07     12.629      0.000    2.47e+08    3.38e+08\n",
      "x86         3.362e+08   2.34e+07     14.364      0.000     2.9e+08    3.82e+08\n",
      "x87         1.506e+08   2.02e+07      7.459      0.000    1.11e+08     1.9e+08\n",
      "==============================================================================\n",
      "Omnibus:                   119326.852   Durbin-Watson:                   2.008\n",
      "Prob(Omnibus):                  0.000   Jarque-Bera (JB):         98042946.782\n",
      "Skew:                           6.913   Prob(JB):                         0.00\n",
      "Kurtosis:                     163.552   Cond. No.                     2.25e+15\n",
      "==============================================================================\n",
      "\n",
      "Warnings:\n",
      "[1] Standard Errors assume that the covariance matrix of the errors is correctly specified.\n",
      "[2] The smallest eigenvalue is 1.34e-25. This might indicate that there are\n",
      "strong multicollinearity problems or that the design matrix is singular.\n"
     ]
    }
   ],
   "source": [
    "#OLS summary를 보기위해 \n",
    "import statsmodels.api as sm\n",
    "from sklearn.model_selection import train_test_split\n",
    "from sklearn.preprocessing import RobustScaler\n",
    "# Train-test split\n",
    "X_train, X_test, y_train, y_test = train_test_split(X_dum, y, test_size=0.2, random_state=0) # y 값이 정의되지 않아 df.sales_total 으로 대체하겠습니다.\n",
    "# 로버스트 스케일링\n",
    "rb = RobustScaler()\n",
    "Xs_train = rb.fit_transform(X_train)\n",
    "Xs_test = rb.transform(X_test)\n",
    "\n",
    "model = sm.OLS(y_train, Xs_train)\n",
    "result = model.fit()\n",
    "print(result.summary())"
   ]
  },
  {
   "cell_type": "code",
   "execution_count": 54,
   "metadata": {},
   "outputs": [
    {
     "name": "stdout",
     "output_type": "stream",
     "text": [
      "1 번째 시도\n",
      "0.4038479294675532\n",
      "0.41389559737109916\n",
      "==================================================\n",
      "==================================================\n",
      "2 번째 시도\n",
      "0.40885613347879324\n",
      "0.39482769708405807\n",
      "==================================================\n",
      "==================================================\n",
      "3 번째 시도\n",
      "0.41123339279922366\n",
      "0.38435428252621195\n",
      "==================================================\n",
      "==================================================\n",
      "4 번째 시도\n",
      "0.408720283143455\n",
      "0.3935673262695765\n",
      "==================================================\n",
      "==================================================\n",
      "5 번째 시도\n",
      "0.40361897083840564\n",
      "0.41355839906320047\n",
      "==================================================\n",
      "==================================================\n",
      "6 번째 시도\n",
      "0.40898747136133606\n",
      "0.39334804165018755\n",
      "==================================================\n",
      "==================================================\n",
      "7 번째 시도\n",
      "0.40830059256332385\n",
      "0.39453128695885187\n",
      "==================================================\n",
      "==================================================\n",
      "8 번째 시도\n",
      "0.4022047983582724\n",
      "0.42096328679576445\n",
      "==================================================\n",
      "==================================================\n",
      "9 번째 시도\n",
      "0.4030521308217966\n",
      "0.41947031819056774\n",
      "==================================================\n",
      "==================================================\n",
      "10 번째 시도\n",
      "0.40996458597327856\n",
      "0.39134239368624424\n",
      "==================================================\n",
      "==================================================\n"
     ]
    }
   ],
   "source": [
    "R2_cgoongu = []\n",
    "MAE_cgoongu = []\n",
    "MSE_cgoongu = []\n",
    "RMSE_cgoongu = []\n",
    "for i in range(10):\n",
    "    # Train-test split\n",
    "    X_train, X_test, y_train, y_test = train_test_split(X_dum, y, test_size=0.2) \n",
    "\n",
    "    # 로버스트 스케일링\n",
    "    rb = RobustScaler()\n",
    "    Xs_train = rb.fit_transform(X_train)\n",
    "    Xs_test = rb.transform(X_test)\n",
    "\n",
    "    # 회귀분석\n",
    "    regressor = LinearRegression()\n",
    "    model = regressor.fit(Xs_train, y_train)\n",
    "\n",
    "    print(i+1,\"번째 시도\")\n",
    "    # 정확도 결과값\n",
    "    print(model.score(Xs_train, y_train))\n",
    "    print(model.score(Xs_test, y_test))\n",
    "\n",
    "    # 오차 결과값\n",
    "    y_pred = model.predict(Xs_test)\n",
    "    R2_cgoongu.append(r2_score(y_test , y_pred))\n",
    "    MAE_cgoongu.append(metrics.mean_absolute_error(y_test, y_pred))\n",
    "    MSE_cgoongu.append(metrics.mean_squared_error(y_test, y_pred))\n",
    "    RMSE_cgoongu.append(np.sqrt(metrics.mean_squared_error(y_test, y_pred)))\n",
    "    print('='*50)\n",
    "    print('='*50)"
   ]
  },
  {
   "cell_type": "code",
   "execution_count": 55,
   "metadata": {},
   "outputs": [
    {
     "data": {
      "text/plain": [
       "['RMSE_cgoongu.pkl']"
      ]
     },
     "execution_count": 55,
     "metadata": {},
     "output_type": "execute_result"
    }
   ],
   "source": [
    "import pickle\n",
    "from sklearn.externals import joblib\n",
    "saved_variable = pickle.dumps(R2_cgoongu)\n",
    "joblib.dump(saved_variable, 'R2_cgoongu.pkl') #피클파일 저장\n",
    "saved_variable = pickle.dumps(MAE_cgoongu)\n",
    "joblib.dump(saved_variable, 'MAE_cgoongu.pkl') #피클파일 저장\n",
    "saved_variable = pickle.dumps(MSE_cgoongu)\n",
    "joblib.dump(saved_variable, 'MSE_cgoongu.pkl') #피클파일 저장\n",
    "saved_variable = pickle.dumps(RMSE_cgoongu)\n",
    "joblib.dump(saved_variable, 'RMSE_cgoongu.pkl') #피클파일 저장"
   ]
  },
  {
   "cell_type": "markdown",
   "metadata": {},
   "source": [
    "### Random Forest (상권코드 1010개)"
   ]
  },
  {
   "cell_type": "code",
   "execution_count": 58,
   "metadata": {},
   "outputs": [],
   "source": [
    "import pandas as pd \n",
    "df = pd.read_csv('../raw_data/df_grouped_rate.csv') #폴더 위치는 상이할 수 있음\n",
    "y=df.iloc[:,3:4]\n",
    "X= df.iloc[:,1:].drop(['sales_total'],axis=1)\n",
    "# 더미변수화\n",
    "X_dum1 = pd.get_dummies(X.iloc[:,0])  #district는 범주형으로 인식 안해서 따로 실시\n",
    "X_dum2 = pd.get_dummies(X.iloc[:,1:])\n",
    "X = pd.concat([X_dum1, X_dum2],axis=1)"
   ]
  },
  {
   "cell_type": "code",
   "execution_count": 15,
   "metadata": {},
   "outputs": [
    {
     "name": "stderr",
     "output_type": "stream",
     "text": [
      "C:\\ProgramData\\Anaconda3\\lib\\site-packages\\ipykernel_launcher.py:14: DataConversionWarning: A column-vector y was passed when a 1d array was expected. Please change the shape of y to (n_samples,), for example using ravel().\n",
      "  \n"
     ]
    },
    {
     "name": "stdout",
     "output_type": "stream",
     "text": [
      "1 번째 시도\n",
      "0.9008015972981063\n",
      "0.6589950234572413\n"
     ]
    },
    {
     "ename": "NameError",
     "evalue": "name 'metrics' is not defined",
     "output_type": "error",
     "traceback": [
      "\u001b[1;31m---------------------------------------------------------------------------\u001b[0m",
      "\u001b[1;31mNameError\u001b[0m                                 Traceback (most recent call last)",
      "\u001b[1;32m<ipython-input-15-bb413670aa92>\u001b[0m in \u001b[0;36m<module>\u001b[1;34m\u001b[0m\n\u001b[0;32m     22\u001b[0m     \u001b[1;31m# 오차 결과값\u001b[0m\u001b[1;33m\u001b[0m\u001b[1;33m\u001b[0m\u001b[1;33m\u001b[0m\u001b[0m\n\u001b[0;32m     23\u001b[0m     \u001b[0mR2_RF\u001b[0m\u001b[1;33m.\u001b[0m\u001b[0mappend\u001b[0m\u001b[1;33m(\u001b[0m\u001b[0mr2_score\u001b[0m\u001b[1;33m(\u001b[0m\u001b[0my_test\u001b[0m \u001b[1;33m,\u001b[0m \u001b[0my_pred\u001b[0m\u001b[1;33m)\u001b[0m\u001b[1;33m)\u001b[0m\u001b[1;33m\u001b[0m\u001b[1;33m\u001b[0m\u001b[0m\n\u001b[1;32m---> 24\u001b[1;33m     \u001b[0mMAE_RF\u001b[0m\u001b[1;33m.\u001b[0m\u001b[0mappend\u001b[0m\u001b[1;33m(\u001b[0m\u001b[0mmetrics\u001b[0m\u001b[1;33m.\u001b[0m\u001b[0mmean_absolute_error\u001b[0m\u001b[1;33m(\u001b[0m\u001b[0my_test\u001b[0m\u001b[1;33m,\u001b[0m \u001b[0my_pred\u001b[0m\u001b[1;33m)\u001b[0m\u001b[1;33m)\u001b[0m\u001b[1;33m\u001b[0m\u001b[1;33m\u001b[0m\u001b[0m\n\u001b[0m\u001b[0;32m     25\u001b[0m     \u001b[0mMSE_RF\u001b[0m\u001b[1;33m.\u001b[0m\u001b[0mappend\u001b[0m\u001b[1;33m(\u001b[0m\u001b[0mmetrics\u001b[0m\u001b[1;33m.\u001b[0m\u001b[0mmean_squared_error\u001b[0m\u001b[1;33m(\u001b[0m\u001b[0my_test\u001b[0m\u001b[1;33m,\u001b[0m \u001b[0my_pred\u001b[0m\u001b[1;33m)\u001b[0m\u001b[1;33m)\u001b[0m\u001b[1;33m\u001b[0m\u001b[1;33m\u001b[0m\u001b[0m\n\u001b[0;32m     26\u001b[0m     \u001b[0mRMSE_RF\u001b[0m\u001b[1;33m.\u001b[0m\u001b[0mappend\u001b[0m\u001b[1;33m(\u001b[0m\u001b[0mnp\u001b[0m\u001b[1;33m.\u001b[0m\u001b[0msqrt\u001b[0m\u001b[1;33m(\u001b[0m\u001b[0mmetrics\u001b[0m\u001b[1;33m.\u001b[0m\u001b[0mmean_squared_error\u001b[0m\u001b[1;33m(\u001b[0m\u001b[0my_test\u001b[0m\u001b[1;33m,\u001b[0m \u001b[0my_pred\u001b[0m\u001b[1;33m)\u001b[0m\u001b[1;33m)\u001b[0m\u001b[1;33m)\u001b[0m\u001b[1;33m\u001b[0m\u001b[1;33m\u001b[0m\u001b[0m\n",
      "\u001b[1;31mNameError\u001b[0m: name 'metrics' is not defined"
     ]
    }
   ],
   "source": [
    "from sklearn.ensemble import RandomForestRegressor\n",
    "from sklearn.metrics import r2_score\n",
    "R2_RF = []\n",
    "MAE_RF = []\n",
    "MSE_RF = []\n",
    "RMSE_RF = []\n",
    "for i in range(10):\n",
    "    # Train-test split\n",
    "    X_train, X_test, y_train, y_test = train_test_split(X, y, test_size=0.3)\n",
    "\n",
    "    Xs_train = X_train\n",
    "    Xs_test = X_test\n",
    "    regr = RandomForestRegressor(n_estimators=50,max_depth=20, n_jobs=-1)\n",
    "    model=regr.fit(Xs_train, y_train)\n",
    "    y_pred=model.predict(Xs_test)\n",
    "    \n",
    "    print(i+1,\"번째 시도\")\n",
    "    # 정확도 결과값\n",
    "    print(model.score(Xs_train, y_train))\n",
    "    print(model.score(Xs_test, y_test))\n",
    "\n",
    "    # 오차 결과값\n",
    "    R2_RF.append(r2_score(y_test , y_pred))\n",
    "    MAE_RF.append(metrics.mean_absolute_error(y_test, y_pred))\n",
    "    MSE_RF.append(metrics.mean_squared_error(y_test, y_pred))\n",
    "    RMSE_RF.append(np.sqrt(metrics.mean_squared_error(y_test, y_pred)))\n",
    "    print('='*50)\n",
    "    print('='*50)"
   ]
  },
  {
   "cell_type": "code",
   "execution_count": 62,
   "metadata": {},
   "outputs": [
    {
     "data": {
      "text/plain": [
       "['RMSE_RF.pkl']"
      ]
     },
     "execution_count": 62,
     "metadata": {},
     "output_type": "execute_result"
    }
   ],
   "source": [
    "import pickle\n",
    "from sklearn.externals import joblib\n",
    "saved_variable = pickle.dumps(R2_RF)\n",
    "joblib.dump(saved_variable, 'R2_RF.pkl') #피클파일 저장\n",
    "saved_variable = pickle.dumps(MAE_RF)\n",
    "joblib.dump(saved_variable, 'MAE_RF.pkl') #피클파일 저장\n",
    "saved_variable = pickle.dumps(MSE_RF)\n",
    "joblib.dump(saved_variable, 'MSE_RF.pkl') #피클파일 저장\n",
    "saved_variable = pickle.dumps(RMSE_RF)\n",
    "joblib.dump(saved_variable, 'RMSE_RF.pkl') #피클파일 저장"
   ]
  },
  {
   "cell_type": "markdown",
   "metadata": {},
   "source": [
    "## Random Forest (시군구)"
   ]
  },
  {
   "cell_type": "code",
   "execution_count": 10,
   "metadata": {},
   "outputs": [],
   "source": [
    "import pandas as pd\n",
    "\n",
    "df = pd.read_csv(\"../raw_data/df_grouped_rate.csv\", encoding ='utf-8')\n",
    "cgoongu = pd.read_csv(\"../raw_data/cgoongoo1.csv\", encoding ='utf-8')\n",
    "df_merged = pd.merge(df, cgoongu, on=['district'])\n",
    "df_merged.drop(['district','year'], axis=1, inplace =True)"
   ]
  },
  {
   "cell_type": "code",
   "execution_count": 13,
   "metadata": {},
   "outputs": [],
   "source": [
    "from sklearn.model_selection import train_test_split\n",
    "from sklearn.preprocessing import RobustScaler\n",
    "y=df_merged.iloc[:,1:2]\n",
    "X= df_merged.drop(['sales_total'],axis=1)\n",
    "# X.columns\n",
    "# 더미변수화\n",
    "X_dum1 = pd.get_dummies(X.iloc[:,0:-1])  #district는 범주형으로 인식 안해서 따로 실시\n",
    "X_dum2 = pd.get_dummies(X.iloc[:,-1])\n",
    "X = pd.concat([X_dum1, X_dum2],axis=1)\n",
    "# X_dum.columns"
   ]
  },
  {
   "cell_type": "code",
   "execution_count": 18,
   "metadata": {},
   "outputs": [
    {
     "name": "stderr",
     "output_type": "stream",
     "text": [
      "C:\\ProgramData\\Anaconda3\\lib\\site-packages\\ipykernel_launcher.py:17: DataConversionWarning: A column-vector y was passed when a 1d array was expected. Please change the shape of y to (n_samples,), for example using ravel().\n"
     ]
    },
    {
     "name": "stdout",
     "output_type": "stream",
     "text": [
      "1 번째 시도\n",
      "0.9014287058748315\n",
      "0.640904396604018\n",
      "==================================================\n",
      "==================================================\n"
     ]
    },
    {
     "name": "stderr",
     "output_type": "stream",
     "text": [
      "C:\\ProgramData\\Anaconda3\\lib\\site-packages\\ipykernel_launcher.py:17: DataConversionWarning: A column-vector y was passed when a 1d array was expected. Please change the shape of y to (n_samples,), for example using ravel().\n"
     ]
    },
    {
     "name": "stdout",
     "output_type": "stream",
     "text": [
      "2 번째 시도\n",
      "0.9004043452937135\n",
      "0.6647860645829289\n",
      "==================================================\n",
      "==================================================\n"
     ]
    },
    {
     "name": "stderr",
     "output_type": "stream",
     "text": [
      "C:\\ProgramData\\Anaconda3\\lib\\site-packages\\ipykernel_launcher.py:17: DataConversionWarning: A column-vector y was passed when a 1d array was expected. Please change the shape of y to (n_samples,), for example using ravel().\n"
     ]
    },
    {
     "name": "stdout",
     "output_type": "stream",
     "text": [
      "3 번째 시도\n",
      "0.8998268448016514\n",
      "0.6630481596050489\n",
      "==================================================\n",
      "==================================================\n"
     ]
    },
    {
     "name": "stderr",
     "output_type": "stream",
     "text": [
      "C:\\ProgramData\\Anaconda3\\lib\\site-packages\\ipykernel_launcher.py:17: DataConversionWarning: A column-vector y was passed when a 1d array was expected. Please change the shape of y to (n_samples,), for example using ravel().\n"
     ]
    },
    {
     "name": "stdout",
     "output_type": "stream",
     "text": [
      "4 번째 시도\n",
      "0.899220085899688\n",
      "0.6687490971928489\n",
      "==================================================\n",
      "==================================================\n"
     ]
    },
    {
     "name": "stderr",
     "output_type": "stream",
     "text": [
      "C:\\ProgramData\\Anaconda3\\lib\\site-packages\\ipykernel_launcher.py:17: DataConversionWarning: A column-vector y was passed when a 1d array was expected. Please change the shape of y to (n_samples,), for example using ravel().\n"
     ]
    },
    {
     "name": "stdout",
     "output_type": "stream",
     "text": [
      "5 번째 시도\n",
      "0.901855126591833\n",
      "0.6776593285729329\n",
      "==================================================\n",
      "==================================================\n"
     ]
    },
    {
     "name": "stderr",
     "output_type": "stream",
     "text": [
      "C:\\ProgramData\\Anaconda3\\lib\\site-packages\\ipykernel_launcher.py:17: DataConversionWarning: A column-vector y was passed when a 1d array was expected. Please change the shape of y to (n_samples,), for example using ravel().\n"
     ]
    },
    {
     "name": "stdout",
     "output_type": "stream",
     "text": [
      "6 번째 시도\n",
      "0.9068554533276766\n",
      "0.6436332777074176\n",
      "==================================================\n",
      "==================================================\n"
     ]
    },
    {
     "name": "stderr",
     "output_type": "stream",
     "text": [
      "C:\\ProgramData\\Anaconda3\\lib\\site-packages\\ipykernel_launcher.py:17: DataConversionWarning: A column-vector y was passed when a 1d array was expected. Please change the shape of y to (n_samples,), for example using ravel().\n"
     ]
    },
    {
     "name": "stdout",
     "output_type": "stream",
     "text": [
      "7 번째 시도\n",
      "0.9023971382396341\n",
      "0.68260526201208\n",
      "==================================================\n",
      "==================================================\n"
     ]
    },
    {
     "name": "stderr",
     "output_type": "stream",
     "text": [
      "C:\\ProgramData\\Anaconda3\\lib\\site-packages\\ipykernel_launcher.py:17: DataConversionWarning: A column-vector y was passed when a 1d array was expected. Please change the shape of y to (n_samples,), for example using ravel().\n"
     ]
    },
    {
     "name": "stdout",
     "output_type": "stream",
     "text": [
      "8 번째 시도\n",
      "0.9029177972986205\n",
      "0.6522871360867204\n",
      "==================================================\n",
      "==================================================\n"
     ]
    },
    {
     "name": "stderr",
     "output_type": "stream",
     "text": [
      "C:\\ProgramData\\Anaconda3\\lib\\site-packages\\ipykernel_launcher.py:17: DataConversionWarning: A column-vector y was passed when a 1d array was expected. Please change the shape of y to (n_samples,), for example using ravel().\n"
     ]
    },
    {
     "name": "stdout",
     "output_type": "stream",
     "text": [
      "9 번째 시도\n",
      "0.9008034447317089\n",
      "0.6870329773629011\n",
      "==================================================\n",
      "==================================================\n"
     ]
    },
    {
     "name": "stderr",
     "output_type": "stream",
     "text": [
      "C:\\ProgramData\\Anaconda3\\lib\\site-packages\\ipykernel_launcher.py:17: DataConversionWarning: A column-vector y was passed when a 1d array was expected. Please change the shape of y to (n_samples,), for example using ravel().\n"
     ]
    },
    {
     "name": "stdout",
     "output_type": "stream",
     "text": [
      "10 번째 시도\n",
      "0.9021186367139635\n",
      "0.6709235819285284\n",
      "==================================================\n",
      "==================================================\n"
     ]
    }
   ],
   "source": [
    "from sklearn.ensemble import RandomForestRegressor\n",
    "from sklearn import metrics\n",
    "from sklearn.metrics import r2_score\n",
    "import numpy as np \n",
    "\n",
    "R2_RF_c = []\n",
    "MAE_RF_c = []\n",
    "MSE_RF_c = []\n",
    "RMSE_RF_c = []\n",
    "for i in range(10):\n",
    "    # Train-test split\n",
    "    X_train, X_test, y_train, y_test = train_test_split(X, y, test_size=0.3)\n",
    "\n",
    "    Xs_train = X_train\n",
    "    Xs_test = X_test\n",
    "    regr = RandomForestRegressor(n_estimators=50,max_depth=20, n_jobs=-1)\n",
    "    model=regr.fit(Xs_train, y_train)\n",
    "    y_pred=model.predict(Xs_test)\n",
    "    \n",
    "    print(i+1,\"번째 시도\")\n",
    "    # 정확도 결과값\n",
    "    print(model.score(Xs_train, y_train))\n",
    "    print(model.score(Xs_test, y_test))\n",
    "\n",
    "    # 오차 결과값\n",
    "    R2_RF_c.append(r2_score(y_test , y_pred))\n",
    "    MAE_RF_c.append(metrics.mean_absolute_error(y_test, y_pred))\n",
    "    MSE_RF_c.append(metrics.mean_squared_error(y_test, y_pred))\n",
    "    RMSE_RF_c.append(np.sqrt(metrics.mean_squared_error(y_test, y_pred)))\n",
    "    print('='*50)\n",
    "    print('='*50)"
   ]
  },
  {
   "cell_type": "code",
   "execution_count": 19,
   "metadata": {},
   "outputs": [
    {
     "name": "stderr",
     "output_type": "stream",
     "text": [
      "C:\\ProgramData\\Anaconda3\\lib\\site-packages\\sklearn\\externals\\joblib\\__init__.py:15: DeprecationWarning: sklearn.externals.joblib is deprecated in 0.21 and will be removed in 0.23. Please import this functionality directly from joblib, which can be installed with: pip install joblib. If this warning is raised when loading pickled models, you may need to re-serialize those models with scikit-learn 0.21+.\n",
      "  warnings.warn(msg, category=DeprecationWarning)\n"
     ]
    },
    {
     "data": {
      "text/plain": [
       "['RMSE_RF_c.pkl']"
      ]
     },
     "execution_count": 19,
     "metadata": {},
     "output_type": "execute_result"
    }
   ],
   "source": [
    "import pickle\n",
    "from sklearn.externals import joblib\n",
    "saved_variable = pickle.dumps(R2_RF_c)\n",
    "joblib.dump(saved_variable, 'R2_RF_c.pkl') #피클파일 저장\n",
    "saved_variable = pickle.dumps(MAE_RF_c)\n",
    "joblib.dump(saved_variable, 'MAE_RF_c.pkl') #피클파일 저장\n",
    "saved_variable = pickle.dumps(MSE_RF_c)\n",
    "joblib.dump(saved_variable, 'MSE_RF_c.pkl') #피클파일 저장\n",
    "saved_variable = pickle.dumps(RMSE_RF_c)\n",
    "joblib.dump(saved_variable, 'RMSE_RF_c.pkl') #피클파일 저장"
   ]
  },
  {
   "cell_type": "markdown",
   "metadata": {},
   "source": [
    "### Random Fores dummy 변수?"
   ]
  },
  {
   "cell_type": "markdown",
   "metadata": {},
   "source": [
    "## LightGBM (1010)"
   ]
  },
  {
   "cell_type": "code",
   "execution_count": 21,
   "metadata": {},
   "outputs": [],
   "source": [
    "import pandas as pd \n",
    "df = pd.read_csv('../raw_data/df_grouped_rate.csv') #폴더 위치는 상이할 수 있음\n",
    "y=df.iloc[:,3:4]\n",
    "X= df.iloc[:,1:].drop(['sales_total'],axis=1)\n",
    "# 더미변수화\n",
    "X_dum1 = pd.get_dummies(X.iloc[:,0])  #district는 범주형으로 인식 안해서 따로 실시\n",
    "X_dum2 = pd.get_dummies(X.iloc[:,1:])\n",
    "X = pd.concat([X_dum1, X_dum2],axis=1)"
   ]
  },
  {
   "cell_type": "code",
   "execution_count": 22,
   "metadata": {},
   "outputs": [
    {
     "name": "stdout",
     "output_type": "stream",
     "text": [
      "10 번째 시도\n",
      "0.9021186367139635\n",
      "0.6709235819285284\n",
      "==================================================\n",
      "==================================================\n",
      "10 번째 시도\n",
      "0.9021186367139635\n",
      "0.6709235819285284\n",
      "==================================================\n",
      "==================================================\n",
      "10 번째 시도\n",
      "0.9021186367139635\n",
      "0.6709235819285284\n",
      "==================================================\n",
      "==================================================\n",
      "10 번째 시도\n",
      "0.9021186367139635\n",
      "0.6709235819285284\n",
      "==================================================\n",
      "==================================================\n",
      "10 번째 시도\n",
      "0.9021186367139635\n",
      "0.6709235819285284\n",
      "==================================================\n",
      "==================================================\n",
      "10 번째 시도\n",
      "0.9021186367139635\n",
      "0.6709235819285284\n",
      "==================================================\n",
      "==================================================\n",
      "10 번째 시도\n",
      "0.9021186367139635\n",
      "0.6709235819285284\n",
      "==================================================\n",
      "==================================================\n",
      "10 번째 시도\n",
      "0.9021186367139635\n",
      "0.6709235819285284\n",
      "==================================================\n",
      "==================================================\n",
      "10 번째 시도\n",
      "0.9021186367139635\n",
      "0.6709235819285284\n",
      "==================================================\n",
      "==================================================\n",
      "10 번째 시도\n",
      "0.9021186367139635\n",
      "0.6709235819285284\n",
      "==================================================\n",
      "==================================================\n"
     ]
    }
   ],
   "source": [
    "import lightgbm as lgb\n",
    "from sklearn.metrics import mean_squared_error, r2_score\n",
    "import seaborn as sns\n",
    "from sklearn.model_selection import train_test_split\n",
    "R2_lgb_gbdt = []\n",
    "MAE_lgb_gbdt = []\n",
    "MSE_lgb_gbdt = []\n",
    "RMSE_lgb_gbdt = []\n",
    "for _ in range(10):\n",
    "    train_x, test_x, train_y, test_y = train_test_split(X, y, test_size=0.2, random_state=0)\n",
    "    train_ds = lgb.Dataset(train_x, label = train_y) \n",
    "    test_ds = lgb.Dataset(test_x, label = test_y) \n",
    "\n",
    "    params = {'learning_rate': 0.01, \n",
    "              'max_depth': 16, \n",
    "              'boosting': 'gbdt', \n",
    "              'objective': 'regression', \n",
    "              'metric': 'mse', \n",
    "              'is_training_metric': True, \n",
    "              'num_leaves': 144, \n",
    "              'feature_fraction': 0.9, \n",
    "              'bagging_fraction': 0.7, \n",
    "              'bagging_freq': 5, \n",
    "              'device': 'gpu'\n",
    "             }\n",
    "    print(i+1,\"번째 시도\")\n",
    "    # 정확도 결과값\n",
    "    print(model.score(Xs_train, y_train))\n",
    "    print(model.score(Xs_test, y_test))\n",
    "\n",
    "    # 오차 결과값\n",
    "    R2_lgb_gbdt.append(r2_score(y_test , y_pred))\n",
    "    MAE_lgb_gbdt.append(metrics.mean_absolute_error(y_test, y_pred))\n",
    "    MSE_lgb_gbdt.append(metrics.mean_squared_error(y_test, y_pred))\n",
    "    RMSE_lgb_gbdt.append(np.sqrt(metrics.mean_squared_error(y_test, y_pred)))\n",
    "    print('='*50)\n",
    "    print('='*50)\n"
   ]
  },
  {
   "cell_type": "code",
   "execution_count": 23,
   "metadata": {},
   "outputs": [
    {
     "data": {
      "text/plain": [
       "['RMSE_lgb_gbdt.pkl']"
      ]
     },
     "execution_count": 23,
     "metadata": {},
     "output_type": "execute_result"
    }
   ],
   "source": [
    "import pickle\n",
    "from sklearn.externals import joblib\n",
    "saved_variable = pickle.dumps(R2_lgb_gbdt)\n",
    "joblib.dump(saved_variable, 'R2_lgb_gbdt.pkl') #피클파일 저장\n",
    "saved_variable = pickle.dumps(MAE_lgb_gbdt)\n",
    "joblib.dump(saved_variable, 'MAE_lgb_gbdt.pkl') #피클파일 저장\n",
    "saved_variable = pickle.dumps(MSE_lgb_gbdt)\n",
    "joblib.dump(saved_variable, 'MSE_lgb_gbdt.pkl') #피클파일 저장\n",
    "saved_variable = pickle.dumps(RMSE_lgb_gbdt)\n",
    "joblib.dump(saved_variable, 'RMSE_lgb_gbdt.pkl') #피클파일 저장"
   ]
  },
  {
   "cell_type": "markdown",
   "metadata": {},
   "source": [
    "## combine predictors using stacking\n",
    "y_pred, y_test\n",
    "\n",
    "https://scikit-learn.org/stable/auto_examples/ensemble/plot_stack_predictors.html#sphx-glr-auto-examples-ensemble-plot-stack-predictors-py"
   ]
  },
  {
   "cell_type": "markdown",
   "metadata": {},
   "source": [
    "### boxplot 그리기"
   ]
  },
  {
   "cell_type": "code",
   "execution_count": null,
   "metadata": {},
   "outputs": [],
   "source": []
  }
 ],
 "metadata": {
  "kernelspec": {
   "display_name": "Python 3",
   "language": "python",
   "name": "python3"
  },
  "language_info": {
   "codemirror_mode": {
    "name": "ipython",
    "version": 3
   },
   "file_extension": ".py",
   "mimetype": "text/x-python",
   "name": "python",
   "nbconvert_exporter": "python",
   "pygments_lexer": "ipython3",
   "version": "3.7.4"
  }
 },
 "nbformat": 4,
 "nbformat_minor": 2
}
