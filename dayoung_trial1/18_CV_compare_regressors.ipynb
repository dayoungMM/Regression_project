{
 "cells": [
  {
   "cell_type": "code",
   "execution_count": 1,
   "metadata": {},
   "outputs": [],
   "source": [
    "import pandas as pd\n",
    "import numpy as np\n",
    "\n",
    "df = pd.read_csv('../raw_data/df_grouped_rate.csv') #폴더 위치는 상이할 수 있음"
   ]
  },
  {
   "cell_type": "code",
   "execution_count": 2,
   "metadata": {},
   "outputs": [
    {
     "data": {
      "text/html": [
       "<div>\n",
       "<style scoped>\n",
       "    .dataframe tbody tr th:only-of-type {\n",
       "        vertical-align: middle;\n",
       "    }\n",
       "\n",
       "    .dataframe tbody tr th {\n",
       "        vertical-align: top;\n",
       "    }\n",
       "\n",
       "    .dataframe thead th {\n",
       "        text-align: right;\n",
       "    }\n",
       "</style>\n",
       "<table border=\"1\" class=\"dataframe\">\n",
       "  <thead>\n",
       "    <tr style=\"text-align: right;\">\n",
       "      <th></th>\n",
       "      <th>district</th>\n",
       "      <th>code</th>\n",
       "      <th>s_store_no_of_store</th>\n",
       "      <th>s_store_no_of_opening</th>\n",
       "      <th>s_store_no_of_closing</th>\n",
       "      <th>s_work_female</th>\n",
       "      <th>s_float_male</th>\n",
       "      <th>s_float_female</th>\n",
       "      <th>b_facil_total</th>\n",
       "      <th>b_apt_avg_price</th>\n",
       "      <th>b_income_avg_monthly_inc</th>\n",
       "      <th>sales_weekday</th>\n",
       "      <th>sales_female</th>\n",
       "      <th>sales_2030s</th>\n",
       "      <th>sales_06_11</th>\n",
       "      <th>sales_11_14</th>\n",
       "      <th>sales_14_17</th>\n",
       "      <th>sales_17_21</th>\n",
       "      <th>sales_21_24</th>\n",
       "    </tr>\n",
       "  </thead>\n",
       "  <tbody>\n",
       "    <tr>\n",
       "      <td>0</td>\n",
       "      <td>1000001</td>\n",
       "      <td>CS100001</td>\n",
       "      <td>16.5</td>\n",
       "      <td>2</td>\n",
       "      <td>2</td>\n",
       "      <td>1748</td>\n",
       "      <td>211158</td>\n",
       "      <td>145498</td>\n",
       "      <td>129.0</td>\n",
       "      <td>188530154.0</td>\n",
       "      <td>3889111.0</td>\n",
       "      <td>0.707812</td>\n",
       "      <td>0.318123</td>\n",
       "      <td>0.341417</td>\n",
       "      <td>0.007379</td>\n",
       "      <td>0.344443</td>\n",
       "      <td>0.164275</td>\n",
       "      <td>0.345822</td>\n",
       "      <td>0.120878</td>\n",
       "    </tr>\n",
       "    <tr>\n",
       "      <td>1</td>\n",
       "      <td>1000001</td>\n",
       "      <td>CS100002</td>\n",
       "      <td>2.0</td>\n",
       "      <td>1</td>\n",
       "      <td>1</td>\n",
       "      <td>1748</td>\n",
       "      <td>211158</td>\n",
       "      <td>145498</td>\n",
       "      <td>129.0</td>\n",
       "      <td>188530154.0</td>\n",
       "      <td>3889111.0</td>\n",
       "      <td>0.734836</td>\n",
       "      <td>0.340414</td>\n",
       "      <td>0.468521</td>\n",
       "      <td>0.006540</td>\n",
       "      <td>0.447948</td>\n",
       "      <td>0.173301</td>\n",
       "      <td>0.363921</td>\n",
       "      <td>0.008290</td>\n",
       "    </tr>\n",
       "    <tr>\n",
       "      <td>2</td>\n",
       "      <td>1000001</td>\n",
       "      <td>CS100003</td>\n",
       "      <td>2.0</td>\n",
       "      <td>0</td>\n",
       "      <td>0</td>\n",
       "      <td>1748</td>\n",
       "      <td>211158</td>\n",
       "      <td>145498</td>\n",
       "      <td>129.0</td>\n",
       "      <td>188530154.0</td>\n",
       "      <td>3889111.0</td>\n",
       "      <td>0.914956</td>\n",
       "      <td>0.321958</td>\n",
       "      <td>0.480098</td>\n",
       "      <td>0.000000</td>\n",
       "      <td>0.524393</td>\n",
       "      <td>0.057219</td>\n",
       "      <td>0.227561</td>\n",
       "      <td>0.182710</td>\n",
       "    </tr>\n",
       "  </tbody>\n",
       "</table>\n",
       "</div>"
      ],
      "text/plain": [
       "   district      code  s_store_no_of_store  s_store_no_of_opening  \\\n",
       "0   1000001  CS100001                 16.5                      2   \n",
       "1   1000001  CS100002                  2.0                      1   \n",
       "2   1000001  CS100003                  2.0                      0   \n",
       "\n",
       "   s_store_no_of_closing  s_work_female  s_float_male  s_float_female  \\\n",
       "0                      2           1748        211158          145498   \n",
       "1                      1           1748        211158          145498   \n",
       "2                      0           1748        211158          145498   \n",
       "\n",
       "   b_facil_total  b_apt_avg_price  b_income_avg_monthly_inc  sales_weekday  \\\n",
       "0          129.0      188530154.0                 3889111.0       0.707812   \n",
       "1          129.0      188530154.0                 3889111.0       0.734836   \n",
       "2          129.0      188530154.0                 3889111.0       0.914956   \n",
       "\n",
       "   sales_female  sales_2030s  sales_06_11  sales_11_14  sales_14_17  \\\n",
       "0      0.318123     0.341417     0.007379     0.344443     0.164275   \n",
       "1      0.340414     0.468521     0.006540     0.447948     0.173301   \n",
       "2      0.321958     0.480098     0.000000     0.524393     0.057219   \n",
       "\n",
       "   sales_17_21  sales_21_24  \n",
       "0     0.345822     0.120878  \n",
       "1     0.363921     0.008290  \n",
       "2     0.227561     0.182710  "
      ]
     },
     "execution_count": 2,
     "metadata": {},
     "output_type": "execute_result"
    }
   ],
   "source": [
    "y=df.iloc[:,3:4]\n",
    "X= df.iloc[:,1:].drop(['sales_total'],axis=1)\n",
    "X.head(3)"
   ]
  },
  {
   "cell_type": "code",
   "execution_count": 3,
   "metadata": {},
   "outputs": [],
   "source": [
    "# 더미변수화\n",
    "X_dum1 = pd.get_dummies(X.iloc[:,0])  #district는 범주형으로 인식 안해서 따로 실시\n",
    "X_dum2 = pd.get_dummies(X.iloc[:,1:])\n",
    "X_dum = pd.concat([X_dum1, X_dum2],axis=1)\n"
   ]
  },
  {
   "cell_type": "markdown",
   "metadata": {},
   "source": [
    "### 회귀분석 (1010개 상권코드)"
   ]
  },
  {
   "cell_type": "code",
   "execution_count": 4,
   "metadata": {},
   "outputs": [],
   "source": [
    "from sklearn.model_selection import train_test_split\n",
    "from sklearn.preprocessing import RobustScaler\n",
    "from sklearn.linear_model import LinearRegression\n",
    "\n",
    "# Train-test split\n",
    "X_train, X_test, y_train, y_test = train_test_split(X_dum, y, test_size=0.2) \n",
    "\n",
    "# 로버스트 스케일링\n",
    "rb = RobustScaler()\n",
    "Xs_train = rb.fit_transform(X_train)\n",
    "Xs_test = rb.transform(X_test)\n",
    "\n",
    "# 회귀분석\n",
    "regressor = LinearRegression()\n",
    "model = regressor.fit(Xs_train, y_train)"
   ]
  },
  {
   "cell_type": "code",
   "execution_count": 5,
   "metadata": {},
   "outputs": [
    {
     "name": "stdout",
     "output_type": "stream",
     "text": [
      "0.4429290720507544\n",
      "0.42902697001808043\n",
      "==================================================\n",
      "==================================================\n",
      "Mean Absolute Error: 650471471.7366794\n",
      "Mean Squared Error: 1.6228396668654003e+18\n",
      "Root Mean Squared Error: 1273907244.2157633\n"
     ]
    }
   ],
   "source": [
    "# 정확도 결과값\n",
    "print(model.score(Xs_train, y_train))\n",
    "print(model.score(Xs_test, y_test))\n",
    "\n",
    "print('='*50)\n",
    "print('='*50)\n",
    "# 오차 결과값\n",
    "from sklearn import metrics\n",
    "y_pred = model.predict(Xs_test)\n",
    "print('Mean Absolute Error:', metrics.mean_absolute_error(y_test, y_pred))  \n",
    "print('Mean Squared Error:', metrics.mean_squared_error(y_test, y_pred))  \n",
    "print('Root Mean Squared Error:', np.sqrt(metrics.mean_squared_error(y_test, y_pred)))"
   ]
  },
  {
   "cell_type": "code",
   "execution_count": null,
   "metadata": {},
   "outputs": [],
   "source": [
    "#OLS summary를 보기위해 \n",
    "import statsmodels.api as sm\n",
    "from sklearn.model_selection import train_test_split\n",
    "from sklearn.preprocessing import RobustScaler\n",
    "# Train-test split\n",
    "X_train, X_test, y_train, y_test = train_test_split(X_dum, y, test_size=0.2, random_state=0) # y 값이 정의되지 않아 df.sales_total 으로 대체하겠습니다.\n",
    "# 로버스트 스케일링\n",
    "rb = RobustScaler()\n",
    "Xs_train = rb.fit_transform(X_train)\n",
    "Xs_test = rb.transform(X_test)\n",
    "\n",
    "model = sm.OLS(y_train, Xs_train)\n",
    "result = model.fit()\n",
    "print(result.summary())"
   ]
  },
  {
   "cell_type": "markdown",
   "metadata": {},
   "source": [
    "```\n",
    "  OLS Regression Results                            \n",
    "==============================================================================\n",
    "Dep. Variable:            sales_total   R-squared:                       0.443\n",
    "Model:                            OLS   Adj. R-squared:                  0.436\n",
    "Method:                 Least Squares   F-statistic:                     66.62\n",
    "Date:                Sat, 15 Feb 2020   Prob (F-statistic):               0.00\n",
    "Time:                        16:13:53   Log-Likelihood:            -2.0276e+06\n",
    "No. Observations:               90612   AIC:                         4.057e+06\n",
    "Df Residuals:                   89544   BIC:                         4.067e+06\n",
    "Df Model:                        1067                                         \n",
    "Covariance Type:            nonrobust                                         \n",
    "==============================================================================\n",
    "```"
   ]
  },
  {
   "cell_type": "markdown",
   "metadata": {},
   "source": [
    "```\n",
    "==============================================================================\n",
    "Omnibus:                   116172.839   Durbin-Watson:                   2.007\n",
    "Prob(Omnibus):                  0.000   Jarque-Bera (JB):         85264506.370\n",
    "Skew:                           6.589   Prob(JB):                         0.00\n",
    "Kurtosis:                     152.700   Cond. No.                     1.25e+17\n",
    "==============================================================================\n",
    "\n",
    "Warnings:\n",
    "[1] Standard Errors assume that the covariance matrix of the errors is correctly specified.\n",
    "[2] The smallest eigenvalue is 4.28e-29. This might indicate that there are\n",
    "strong multicollinearity problems or that the design matrix is singular.\n",
    "```\n"
   ]
  },
  {
   "cell_type": "markdown",
   "metadata": {},
   "source": [
    "### 결론) 1010개의 상권코드와 서비스코드를 원핫인코딩 하면 다중공선성이 발생한다"
   ]
  },
  {
   "cell_type": "code",
   "execution_count": 26,
   "metadata": {},
   "outputs": [
    {
     "name": "stdout",
     "output_type": "stream",
     "text": [
      "-5.1939627337549884e+23\n"
     ]
    },
    {
     "data": {
      "text/plain": [
       "array([-1.49316595e+18, -1.77724911e+18, -1.48891493e+18, -1.72991690e+18,\n",
       "       -1.61632030e+18, -2.06310464e+18, -1.94553029e+18, -2.28336208e+18,\n",
       "       -4.54186243e+24, -6.52085910e+23])"
      ]
     },
     "execution_count": 26,
     "metadata": {},
     "output_type": "execute_result"
    }
   ],
   "source": [
    "# Cross Validation 실시(10회)\n",
    "from sklearn.model_selection import cross_val_score, cross_validate, cross_val_predict\n",
    "\n",
    "scores = cross_val_score(model, X_dum, y,scoring='neg_mean_squared_error',n_jobs=-1,cv=10)\n",
    "print(scores.mean())\n",
    "scores"
   ]
  },
  {
   "cell_type": "code",
   "execution_count": 7,
   "metadata": {},
   "outputs": [
    {
     "data": {
      "text/plain": [
       "dict_keys(['explained_variance', 'r2', 'max_error', 'neg_median_absolute_error', 'neg_mean_absolute_error', 'neg_mean_squared_error', 'neg_mean_squared_log_error', 'accuracy', 'roc_auc', 'balanced_accuracy', 'average_precision', 'neg_log_loss', 'brier_score_loss', 'adjusted_rand_score', 'homogeneity_score', 'completeness_score', 'v_measure_score', 'mutual_info_score', 'adjusted_mutual_info_score', 'normalized_mutual_info_score', 'fowlkes_mallows_score', 'precision', 'precision_macro', 'precision_micro', 'precision_samples', 'precision_weighted', 'recall', 'recall_macro', 'recall_micro', 'recall_samples', 'recall_weighted', 'f1', 'f1_macro', 'f1_micro', 'f1_samples', 'f1_weighted', 'jaccard', 'jaccard_macro', 'jaccard_micro', 'jaccard_samples', 'jaccard_weighted'])"
      ]
     },
     "execution_count": 7,
     "metadata": {},
     "output_type": "execute_result"
    }
   ],
   "source": [
    "import sklearn\n",
    "sklearn.metrics.SCORERS.keys()"
   ]
  },
  {
   "cell_type": "code",
   "execution_count": 8,
   "metadata": {},
   "outputs": [
    {
     "name": "stdout",
     "output_type": "stream",
     "text": [
      "1 번째 시도\n",
      "0.43295550795416243\n",
      "0.46764540986097264\n",
      "==================================================\n",
      "==================================================\n",
      "2 번째 시도\n",
      "0.4512744905536025\n",
      "0.40246816411536745\n",
      "==================================================\n",
      "==================================================\n",
      "3 번째 시도\n",
      "0.44184473285831516\n",
      "0.4326529746566693\n",
      "==================================================\n",
      "==================================================\n",
      "4 번째 시도\n",
      "0.4456531746312221\n",
      "0.4127726056361403\n",
      "==================================================\n",
      "==================================================\n",
      "5 번째 시도\n",
      "0.43692286889880483\n",
      "0.4533253942535944\n",
      "==================================================\n",
      "==================================================\n",
      "6 번째 시도\n",
      "0.4449587150800643\n",
      "0.41997169592785366\n",
      "==================================================\n",
      "==================================================\n",
      "7 번째 시도\n",
      "0.44422570807458217\n",
      "0.42474832400608553\n",
      "==================================================\n",
      "==================================================\n",
      "8 번째 시도\n",
      "0.43851343442507795\n",
      "0.4433980244749468\n",
      "==================================================\n",
      "==================================================\n",
      "9 번째 시도\n",
      "0.438934419310843\n",
      "0.4467996451486497\n",
      "==================================================\n",
      "==================================================\n",
      "10 번째 시도\n",
      "0.4481330335904439\n",
      "0.4100426070548917\n",
      "==================================================\n",
      "==================================================\n"
     ]
    }
   ],
   "source": [
    "from sklearn.metrics import r2_score\n",
    "R2_lr = []\n",
    "MAE_lr = []\n",
    "MSE_lr = []\n",
    "RMSE_lr = []\n",
    "for i in range(10):\n",
    "    # Train-test split\n",
    "    X_train, X_test, y_train, y_test = train_test_split(X_dum, y, test_size=0.2) \n",
    "\n",
    "    # 로버스트 스케일링\n",
    "    rb = RobustScaler()\n",
    "    Xs_train = rb.fit_transform(X_train)\n",
    "    Xs_test = rb.transform(X_test)\n",
    "\n",
    "    # 회귀분석\n",
    "    regressor = LinearRegression()\n",
    "    model = regressor.fit(Xs_train, y_train)\n",
    "\n",
    "    print(i+1,\"번째 시도\")\n",
    "    # 정확도 결과값\n",
    "    print(model.score(Xs_train, y_train))\n",
    "    print(model.score(Xs_test, y_test))\n",
    "\n",
    "    # 오차 결과값\n",
    "    y_pred = model.predict(Xs_test)\n",
    "    R2_lr.append(r2_score(y_test , y_pred))\n",
    "    MAE_lr.append(metrics.mean_absolute_error(y_test, y_pred))\n",
    "    MSE_lr.append(metrics.mean_squared_error(y_test, y_pred))\n",
    "    RMSE_lr.append(np.sqrt(metrics.mean_squared_error(y_test, y_pred)))\n",
    "    print('='*50)\n",
    "    print('='*50)"
   ]
  },
  {
   "cell_type": "code",
   "execution_count": 9,
   "metadata": {},
   "outputs": [
    {
     "name": "stdout",
     "output_type": "stream",
     "text": [
      "[0.4676454098609726, 0.40246816411536745, 0.4326529746566693, 0.41277260563614027, 0.4533253942535944, 0.41997169592785366, 0.42474832400608553, 0.4433980244749468, 0.4467996451486498, 0.4100426070548917]\n",
      "[647082035.7392398, 648679503.1301373, 644071487.905134, 634007679.8162274, 638795168.7209641, 648808333.2329934, 634857412.621154, 655537567.7177416, 641805331.6786739, 652846556.0486028]\n",
      "[1.5801062506696507e+18, 1.9052248014590863e+18, 1.543910135309669e+18, 1.405659935501998e+18, 1.6057576388806254e+18, 1.5598905701956685e+18, 1.6231874379158515e+18, 1.6300242525811876e+18, 1.450448607159404e+18, 1.7310374790547484e+18]\n",
      "[1257022772.5342333, 1380298808.7581205, 1242541804.2503314, 1185605303.421842, 1267184926.8676713, 1248955791.9300702, 1274043734.695105, 1276724031.4888678, 1204345717.4579914, 1315688975.0449185]\n"
     ]
    }
   ],
   "source": [
    "print(R2_lr)\n",
    "print(MAE_lr)\n",
    "print(MSE_lr)\n",
    "print(RMSE_lr)"
   ]
  },
  {
   "cell_type": "code",
   "execution_count": 10,
   "metadata": {},
   "outputs": [],
   "source": [
    "import pickle\n",
    "with open('R2_lr.pkl', 'wb') as f:\n",
    "    pickle.dump(R2_lr, f) #피클파일 저장\n",
    "with open('MAE_lr.pkl', 'wb') as f:\n",
    "    pickle.dump(MAE_lr, f) #피클파일 저장\n",
    "with open('MSE_lr.pkl', 'wb') as f:\n",
    "    pickle.dump(MSE_lr, f) #피클파일 저장\n",
    "\n",
    "with open('RMSE_lr.pkl', 'wb') as f:\n",
    "    pickle.dump(RMSE_lr, f) #피클파일 저장\n",
    "\n"
   ]
  },
  {
   "cell_type": "code",
   "execution_count": 13,
   "metadata": {},
   "outputs": [],
   "source": [
    "#load\n",
    "with open('R2_lr.pkl', 'rb') as f:\n",
    "    data = pickle.load(f) # 단 한줄씩 읽어옴"
   ]
  },
  {
   "cell_type": "markdown",
   "metadata": {},
   "source": [
    "## 시군구 OLS"
   ]
  },
  {
   "cell_type": "code",
   "execution_count": 16,
   "metadata": {},
   "outputs": [],
   "source": [
    "df = pd.read_csv(\"../raw_data/df_grouped_rate.csv\", encoding ='utf-8')\n",
    "cgoongu = pd.read_csv(\"../raw_data/cgoongoo1.csv\", encoding ='utf-8')\n",
    "df_merged = pd.merge(df, cgoongu, on=['district'])\n",
    "df_merged.drop(['district','year'], axis=1, inplace =True)"
   ]
  },
  {
   "cell_type": "code",
   "execution_count": 17,
   "metadata": {},
   "outputs": [
    {
     "data": {
      "text/html": [
       "<div>\n",
       "<style scoped>\n",
       "    .dataframe tbody tr th:only-of-type {\n",
       "        vertical-align: middle;\n",
       "    }\n",
       "\n",
       "    .dataframe tbody tr th {\n",
       "        vertical-align: top;\n",
       "    }\n",
       "\n",
       "    .dataframe thead th {\n",
       "        text-align: right;\n",
       "    }\n",
       "</style>\n",
       "<table border=\"1\" class=\"dataframe\">\n",
       "  <thead>\n",
       "    <tr style=\"text-align: right;\">\n",
       "      <th></th>\n",
       "      <th>code</th>\n",
       "      <th>s_store_no_of_store</th>\n",
       "      <th>s_store_no_of_opening</th>\n",
       "      <th>s_store_no_of_closing</th>\n",
       "      <th>s_work_female</th>\n",
       "      <th>s_float_male</th>\n",
       "      <th>s_float_female</th>\n",
       "      <th>b_facil_total</th>\n",
       "      <th>b_apt_avg_price</th>\n",
       "      <th>b_income_avg_monthly_inc</th>\n",
       "      <th>sales_weekday</th>\n",
       "      <th>sales_female</th>\n",
       "      <th>sales_2030s</th>\n",
       "      <th>sales_06_11</th>\n",
       "      <th>sales_11_14</th>\n",
       "      <th>sales_14_17</th>\n",
       "      <th>sales_17_21</th>\n",
       "      <th>sales_21_24</th>\n",
       "      <th>cgoongoo</th>\n",
       "    </tr>\n",
       "  </thead>\n",
       "  <tbody>\n",
       "    <tr>\n",
       "      <td>0</td>\n",
       "      <td>CS100001</td>\n",
       "      <td>16.5</td>\n",
       "      <td>2</td>\n",
       "      <td>2</td>\n",
       "      <td>1748</td>\n",
       "      <td>211158</td>\n",
       "      <td>145498</td>\n",
       "      <td>129.0</td>\n",
       "      <td>188530154.0</td>\n",
       "      <td>3889111.0</td>\n",
       "      <td>0.707812</td>\n",
       "      <td>0.318123</td>\n",
       "      <td>0.341417</td>\n",
       "      <td>0.007379</td>\n",
       "      <td>0.344443</td>\n",
       "      <td>0.164275</td>\n",
       "      <td>0.345822</td>\n",
       "      <td>0.120878</td>\n",
       "      <td>11110</td>\n",
       "    </tr>\n",
       "    <tr>\n",
       "      <td>1</td>\n",
       "      <td>CS100002</td>\n",
       "      <td>2.0</td>\n",
       "      <td>1</td>\n",
       "      <td>1</td>\n",
       "      <td>1748</td>\n",
       "      <td>211158</td>\n",
       "      <td>145498</td>\n",
       "      <td>129.0</td>\n",
       "      <td>188530154.0</td>\n",
       "      <td>3889111.0</td>\n",
       "      <td>0.734836</td>\n",
       "      <td>0.340414</td>\n",
       "      <td>0.468521</td>\n",
       "      <td>0.006540</td>\n",
       "      <td>0.447948</td>\n",
       "      <td>0.173301</td>\n",
       "      <td>0.363921</td>\n",
       "      <td>0.008290</td>\n",
       "      <td>11110</td>\n",
       "    </tr>\n",
       "    <tr>\n",
       "      <td>2</td>\n",
       "      <td>CS100003</td>\n",
       "      <td>2.0</td>\n",
       "      <td>0</td>\n",
       "      <td>0</td>\n",
       "      <td>1748</td>\n",
       "      <td>211158</td>\n",
       "      <td>145498</td>\n",
       "      <td>129.0</td>\n",
       "      <td>188530154.0</td>\n",
       "      <td>3889111.0</td>\n",
       "      <td>0.914956</td>\n",
       "      <td>0.321958</td>\n",
       "      <td>0.480098</td>\n",
       "      <td>0.000000</td>\n",
       "      <td>0.524393</td>\n",
       "      <td>0.057219</td>\n",
       "      <td>0.227561</td>\n",
       "      <td>0.182710</td>\n",
       "      <td>11110</td>\n",
       "    </tr>\n",
       "  </tbody>\n",
       "</table>\n",
       "</div>"
      ],
      "text/plain": [
       "       code  s_store_no_of_store  s_store_no_of_opening  \\\n",
       "0  CS100001                 16.5                      2   \n",
       "1  CS100002                  2.0                      1   \n",
       "2  CS100003                  2.0                      0   \n",
       "\n",
       "   s_store_no_of_closing  s_work_female  s_float_male  s_float_female  \\\n",
       "0                      2           1748        211158          145498   \n",
       "1                      1           1748        211158          145498   \n",
       "2                      0           1748        211158          145498   \n",
       "\n",
       "   b_facil_total  b_apt_avg_price  b_income_avg_monthly_inc  sales_weekday  \\\n",
       "0          129.0      188530154.0                 3889111.0       0.707812   \n",
       "1          129.0      188530154.0                 3889111.0       0.734836   \n",
       "2          129.0      188530154.0                 3889111.0       0.914956   \n",
       "\n",
       "   sales_female  sales_2030s  sales_06_11  sales_11_14  sales_14_17  \\\n",
       "0      0.318123     0.341417     0.007379     0.344443     0.164275   \n",
       "1      0.340414     0.468521     0.006540     0.447948     0.173301   \n",
       "2      0.321958     0.480098     0.000000     0.524393     0.057219   \n",
       "\n",
       "   sales_17_21  sales_21_24  cgoongoo  \n",
       "0     0.345822     0.120878     11110  \n",
       "1     0.363921     0.008290     11110  \n",
       "2     0.227561     0.182710     11110  "
      ]
     },
     "execution_count": 17,
     "metadata": {},
     "output_type": "execute_result"
    }
   ],
   "source": [
    "y=df_merged.iloc[:,1:2]\n",
    "X= df_merged.drop(['sales_total'],axis=1)\n",
    "X.head(3)"
   ]
  },
  {
   "cell_type": "code",
   "execution_count": 18,
   "metadata": {},
   "outputs": [
    {
     "data": {
      "text/html": [
       "<div>\n",
       "<style scoped>\n",
       "    .dataframe tbody tr th:only-of-type {\n",
       "        vertical-align: middle;\n",
       "    }\n",
       "\n",
       "    .dataframe tbody tr th {\n",
       "        vertical-align: top;\n",
       "    }\n",
       "\n",
       "    .dataframe thead th {\n",
       "        text-align: right;\n",
       "    }\n",
       "</style>\n",
       "<table border=\"1\" class=\"dataframe\">\n",
       "  <thead>\n",
       "    <tr style=\"text-align: right;\">\n",
       "      <th></th>\n",
       "      <th>s_store_no_of_store</th>\n",
       "      <th>s_store_no_of_opening</th>\n",
       "      <th>s_store_no_of_closing</th>\n",
       "      <th>s_work_female</th>\n",
       "      <th>s_float_male</th>\n",
       "      <th>s_float_female</th>\n",
       "      <th>b_facil_total</th>\n",
       "      <th>b_apt_avg_price</th>\n",
       "      <th>b_income_avg_monthly_inc</th>\n",
       "      <th>sales_weekday</th>\n",
       "      <th>...</th>\n",
       "      <th>11500</th>\n",
       "      <th>11530</th>\n",
       "      <th>11545</th>\n",
       "      <th>11560</th>\n",
       "      <th>11590</th>\n",
       "      <th>11620</th>\n",
       "      <th>11650</th>\n",
       "      <th>11680</th>\n",
       "      <th>11710</th>\n",
       "      <th>11740</th>\n",
       "    </tr>\n",
       "  </thead>\n",
       "  <tbody>\n",
       "    <tr>\n",
       "      <td>0</td>\n",
       "      <td>16.5</td>\n",
       "      <td>2</td>\n",
       "      <td>2</td>\n",
       "      <td>1748</td>\n",
       "      <td>211158</td>\n",
       "      <td>145498</td>\n",
       "      <td>129.0</td>\n",
       "      <td>188530154.0</td>\n",
       "      <td>3889111.0</td>\n",
       "      <td>0.707812</td>\n",
       "      <td>...</td>\n",
       "      <td>0</td>\n",
       "      <td>0</td>\n",
       "      <td>0</td>\n",
       "      <td>0</td>\n",
       "      <td>0</td>\n",
       "      <td>0</td>\n",
       "      <td>0</td>\n",
       "      <td>0</td>\n",
       "      <td>0</td>\n",
       "      <td>0</td>\n",
       "    </tr>\n",
       "    <tr>\n",
       "      <td>1</td>\n",
       "      <td>2.0</td>\n",
       "      <td>1</td>\n",
       "      <td>1</td>\n",
       "      <td>1748</td>\n",
       "      <td>211158</td>\n",
       "      <td>145498</td>\n",
       "      <td>129.0</td>\n",
       "      <td>188530154.0</td>\n",
       "      <td>3889111.0</td>\n",
       "      <td>0.734836</td>\n",
       "      <td>...</td>\n",
       "      <td>0</td>\n",
       "      <td>0</td>\n",
       "      <td>0</td>\n",
       "      <td>0</td>\n",
       "      <td>0</td>\n",
       "      <td>0</td>\n",
       "      <td>0</td>\n",
       "      <td>0</td>\n",
       "      <td>0</td>\n",
       "      <td>0</td>\n",
       "    </tr>\n",
       "    <tr>\n",
       "      <td>2</td>\n",
       "      <td>2.0</td>\n",
       "      <td>0</td>\n",
       "      <td>0</td>\n",
       "      <td>1748</td>\n",
       "      <td>211158</td>\n",
       "      <td>145498</td>\n",
       "      <td>129.0</td>\n",
       "      <td>188530154.0</td>\n",
       "      <td>3889111.0</td>\n",
       "      <td>0.914956</td>\n",
       "      <td>...</td>\n",
       "      <td>0</td>\n",
       "      <td>0</td>\n",
       "      <td>0</td>\n",
       "      <td>0</td>\n",
       "      <td>0</td>\n",
       "      <td>0</td>\n",
       "      <td>0</td>\n",
       "      <td>0</td>\n",
       "      <td>0</td>\n",
       "      <td>0</td>\n",
       "    </tr>\n",
       "  </tbody>\n",
       "</table>\n",
       "<p>3 rows × 87 columns</p>\n",
       "</div>"
      ],
      "text/plain": [
       "   s_store_no_of_store  s_store_no_of_opening  s_store_no_of_closing  \\\n",
       "0                 16.5                      2                      2   \n",
       "1                  2.0                      1                      1   \n",
       "2                  2.0                      0                      0   \n",
       "\n",
       "   s_work_female  s_float_male  s_float_female  b_facil_total  \\\n",
       "0           1748        211158          145498          129.0   \n",
       "1           1748        211158          145498          129.0   \n",
       "2           1748        211158          145498          129.0   \n",
       "\n",
       "   b_apt_avg_price  b_income_avg_monthly_inc  sales_weekday  ...  11500  \\\n",
       "0      188530154.0                 3889111.0       0.707812  ...      0   \n",
       "1      188530154.0                 3889111.0       0.734836  ...      0   \n",
       "2      188530154.0                 3889111.0       0.914956  ...      0   \n",
       "\n",
       "   11530  11545  11560  11590  11620  11650  11680  11710  11740  \n",
       "0      0      0      0      0      0      0      0      0      0  \n",
       "1      0      0      0      0      0      0      0      0      0  \n",
       "2      0      0      0      0      0      0      0      0      0  \n",
       "\n",
       "[3 rows x 87 columns]"
      ]
     },
     "execution_count": 18,
     "metadata": {},
     "output_type": "execute_result"
    }
   ],
   "source": [
    "# 더미변수화\n",
    "X_dum1 = pd.get_dummies(X.iloc[:,0:-1])  #district는 범주형으로 인식 안해서 따로 실시\n",
    "X_dum2 = pd.get_dummies(X.iloc[:,-1])\n",
    "X_dum = pd.concat([X_dum1, X_dum2],axis=1)\n",
    "X_dum.head(3)"
   ]
  },
  {
   "cell_type": "code",
   "execution_count": 53,
   "metadata": {},
   "outputs": [
    {
     "name": "stdout",
     "output_type": "stream",
     "text": [
      "                            OLS Regression Results                            \n",
      "==============================================================================\n",
      "Dep. Variable:            sales_total   R-squared:                       0.405\n",
      "Model:                            OLS   Adj. R-squared:                  0.405\n",
      "Method:                 Least Squares   F-statistic:                     725.3\n",
      "Date:                Thu, 20 Feb 2020   Prob (F-statistic):               0.00\n",
      "Time:                        19:13:06   Log-Likelihood:            -2.0306e+06\n",
      "No. Observations:               90612   AIC:                         4.061e+06\n",
      "Df Residuals:                   90526   BIC:                         4.062e+06\n",
      "Df Model:                          85                                         \n",
      "Covariance Type:            nonrobust                                         \n",
      "==============================================================================\n",
      "                 coef    std err          t      P>|t|      [0.025      0.975]\n",
      "------------------------------------------------------------------------------\n",
      "x1          5.418e+08   5.01e+06    108.138      0.000    5.32e+08    5.52e+08\n",
      "x2          2.929e+07   4.77e+06      6.142      0.000    1.99e+07    3.86e+07\n",
      "x3          5.491e+07   5.06e+06     10.850      0.000     4.5e+07    6.48e+07\n",
      "x4          1.969e+07   1.95e+06     10.100      0.000    1.59e+07    2.35e+07\n",
      "x5          2.182e+08   1.63e+07     13.359      0.000    1.86e+08     2.5e+08\n",
      "x6         -6.042e+07   1.68e+07     -3.594      0.000   -9.34e+07   -2.75e+07\n",
      "x7         -9.491e+06   5.86e+06     -1.619      0.105    -2.1e+07       2e+06\n",
      "x8          6.895e+07    5.8e+06     11.880      0.000    5.76e+07    8.03e+07\n",
      "x9          9.782e+07   8.06e+06     12.129      0.000     8.2e+07    1.14e+08\n",
      "x10        -1.049e+08   7.24e+06    -14.485      0.000   -1.19e+08   -9.07e+07\n",
      "x11         1.212e+07   8.76e+06      1.383      0.167   -5.05e+06    2.93e+07\n",
      "x12         2.708e+07    8.4e+06      3.224      0.001    1.06e+07    4.35e+07\n",
      "x13         2.432e+07   1.02e+07      2.381      0.017     4.3e+06    4.43e+07\n",
      "x14         1.747e+07   1.44e+07      1.213      0.225   -1.08e+07    4.57e+07\n",
      "x15         2.325e+07   1.56e+07      1.495      0.135   -7.23e+06    5.37e+07\n",
      "x16         4.516e+07   1.44e+07      3.147      0.002     1.7e+07    7.33e+07\n",
      "x17         6.501e+07   1.96e+07      3.310      0.001    2.65e+07    1.03e+08\n",
      "x18         7.885e+08   2.71e+07     29.146      0.000    7.35e+08    8.42e+08\n",
      "x19         1.455e+08   2.82e+07      5.154      0.000    9.02e+07    2.01e+08\n",
      "x20         1.723e+08   3.52e+07      4.891      0.000    1.03e+08    2.41e+08\n",
      "x21         3.151e+08   3.61e+07      8.726      0.000    2.44e+08    3.86e+08\n",
      "x22        -1.316e+08   2.45e+07     -5.378      0.000    -1.8e+08   -8.36e+07\n",
      "x23         2.088e+08   3.12e+07      6.692      0.000    1.48e+08     2.7e+08\n",
      "x24         1.779e+08   2.98e+07      5.970      0.000    1.19e+08    2.36e+08\n",
      "x25         3.562e+08   3.06e+07     11.627      0.000    2.96e+08    4.16e+08\n",
      "x26        -9.875e+07   2.48e+07     -3.980      0.000   -1.47e+08   -5.01e+07\n",
      "x27        -1.239e+08   3.14e+07     -3.946      0.000   -1.86e+08   -6.24e+07\n",
      "x28         3.224e+08   2.86e+07     11.259      0.000    2.66e+08    3.79e+08\n",
      "x29         3.031e+08   3.85e+07      7.873      0.000    2.28e+08    3.79e+08\n",
      "x30        -2.078e+08   2.67e+07     -7.777      0.000    -2.6e+08   -1.55e+08\n",
      "x31         8.447e+08   3.26e+07     25.906      0.000    7.81e+08    9.09e+08\n",
      "x32         3.183e+08   3.14e+07     10.121      0.000    2.57e+08     3.8e+08\n",
      "x33         1.119e+09   3.26e+07     34.292      0.000    1.05e+09    1.18e+09\n",
      "x34         7.284e+07   5.68e+07      1.283      0.199   -3.84e+07    1.84e+08\n",
      "x35        -1.358e+09   8.59e+07    -15.804      0.000   -1.53e+09   -1.19e+09\n",
      "x36         -1.45e+08   3.75e+07     -3.869      0.000   -2.19e+08   -7.16e+07\n",
      "x37        -2.733e+08   4.03e+07     -6.785      0.000   -3.52e+08   -1.94e+08\n",
      "x38         1.259e+08   4.56e+07      2.763      0.006    3.66e+07    2.15e+08\n",
      "x39        -1.623e+08   3.77e+07     -4.308      0.000   -2.36e+08   -8.84e+07\n",
      "x40         -2.24e+08   2.95e+07     -7.585      0.000   -2.82e+08   -1.66e+08\n",
      "x41         9.253e+07   3.52e+07      2.627      0.009    2.35e+07    1.62e+08\n",
      "x42         2.467e+08   2.97e+07      8.320      0.000    1.89e+08    3.05e+08\n",
      "x43         -8.31e+08    2.4e+07    -34.685      0.000   -8.78e+08   -7.84e+08\n",
      "x44        -2.068e+08   3.89e+07     -5.317      0.000   -2.83e+08   -1.31e+08\n",
      "x45        -2.571e+08    3.2e+07     -8.038      0.000    -3.2e+08   -1.94e+08\n",
      "x46         1.216e+09   2.35e+07     51.647      0.000    1.17e+09    1.26e+09\n",
      "x47         1.981e+09   2.57e+07     77.111      0.000    1.93e+09    2.03e+09\n",
      "x48         6.041e+07   5.48e+07      1.102      0.270    -4.7e+07    1.68e+08\n",
      "x49        -7.633e+07   3.65e+07     -2.090      0.037   -1.48e+08   -4.74e+06\n",
      "x50         1.824e+08   2.57e+07      7.094      0.000    1.32e+08    2.33e+08\n",
      "x51         1.829e+08   4.33e+07      4.224      0.000     9.8e+07    2.68e+08\n",
      "x52        -3.305e+08   2.65e+07    -12.489      0.000   -3.82e+08   -2.79e+08\n",
      "x53         8.105e+06   2.91e+07      0.279      0.781   -4.89e+07    6.51e+07\n",
      "x54         1.082e+09    2.7e+07     40.026      0.000    1.03e+09    1.14e+09\n",
      "x55         2.205e+08   3.23e+07      6.836      0.000    1.57e+08    2.84e+08\n",
      "x56        -4.117e+08   2.85e+07    -14.428      0.000   -4.68e+08   -3.56e+08\n",
      "x57         4.453e+08   4.13e+07     10.778      0.000    3.64e+08    5.26e+08\n",
      "x58        -6.289e+07   3.52e+07     -1.787      0.074   -1.32e+08    6.07e+06\n",
      "x59        -2.159e+08   3.09e+07     -6.990      0.000   -2.76e+08   -1.55e+08\n",
      "x60         1.111e+09   4.15e+07     26.739      0.000    1.03e+09    1.19e+09\n",
      "x61         -3.06e+08   2.71e+07    -11.309      0.000   -3.59e+08   -2.53e+08\n",
      "x62        -2.697e+08   4.43e+07     -6.089      0.000   -3.57e+08   -1.83e+08\n",
      "x63         3.586e+08   3.19e+07     11.257      0.000    2.96e+08    4.21e+08\n",
      "x64         9.605e+07   3.29e+07      2.915      0.004    3.15e+07    1.61e+08\n",
      "x65         2.226e+08   2.56e+07      8.708      0.000    1.73e+08    2.73e+08\n",
      "x66         1.619e+08   2.38e+07      6.794      0.000    1.15e+08    2.09e+08\n",
      "x67         2.486e+08   2.14e+07     11.620      0.000    2.07e+08     2.9e+08\n",
      "x68         2.368e+08    2.1e+07     11.252      0.000    1.96e+08    2.78e+08\n",
      "x69         2.136e+08   2.21e+07      9.678      0.000     1.7e+08    2.57e+08\n",
      "x70         2.358e+08   2.07e+07     11.406      0.000    1.95e+08    2.76e+08\n",
      "x71         2.115e+08   2.62e+07      8.083      0.000     1.6e+08    2.63e+08\n",
      "x72         3.084e+08    2.8e+07     11.011      0.000    2.53e+08    3.63e+08\n",
      "x73         3.108e+08   3.98e+07      7.818      0.000    2.33e+08    3.89e+08\n",
      "x74         2.858e+08   2.09e+07     13.655      0.000    2.45e+08    3.27e+08\n",
      "x75         3.318e+08   2.91e+07     11.401      0.000    2.75e+08    3.89e+08\n",
      "x76         2.851e+08   2.06e+07     13.818      0.000    2.45e+08    3.26e+08\n",
      "x77         2.426e+08   2.08e+07     11.684      0.000    2.02e+08    2.83e+08\n",
      "x78         3.137e+08   1.88e+07     16.676      0.000    2.77e+08    3.51e+08\n",
      "x79         3.429e+08   2.13e+07     16.124      0.000    3.01e+08    3.85e+08\n",
      "x80         2.808e+08    2.7e+07     10.381      0.000    2.28e+08    3.34e+08\n",
      "x81          1.79e+08   2.12e+07      8.460      0.000    1.38e+08     2.2e+08\n",
      "x82         2.521e+08   2.24e+07     11.243      0.000    2.08e+08    2.96e+08\n",
      "x83         2.573e+08   1.89e+07     13.637      0.000     2.2e+08    2.94e+08\n",
      "x84         2.513e+08    2.5e+07     10.053      0.000    2.02e+08       3e+08\n",
      "x85         2.927e+08   2.32e+07     12.629      0.000    2.47e+08    3.38e+08\n",
      "x86         3.362e+08   2.34e+07     14.364      0.000     2.9e+08    3.82e+08\n",
      "x87         1.506e+08   2.02e+07      7.459      0.000    1.11e+08     1.9e+08\n",
      "==============================================================================\n",
      "Omnibus:                   119326.852   Durbin-Watson:                   2.008\n",
      "Prob(Omnibus):                  0.000   Jarque-Bera (JB):         98042946.782\n",
      "Skew:                           6.913   Prob(JB):                         0.00\n",
      "Kurtosis:                     163.552   Cond. No.                     2.25e+15\n",
      "==============================================================================\n",
      "\n",
      "Warnings:\n",
      "[1] Standard Errors assume that the covariance matrix of the errors is correctly specified.\n",
      "[2] The smallest eigenvalue is 1.34e-25. This might indicate that there are\n",
      "strong multicollinearity problems or that the design matrix is singular.\n"
     ]
    }
   ],
   "source": [
    "#OLS summary를 보기위해 \n",
    "import statsmodels.api as sm\n",
    "from sklearn.model_selection import train_test_split\n",
    "from sklearn.preprocessing import RobustScaler\n",
    "# Train-test split\n",
    "X_train, X_test, y_train, y_test = train_test_split(X_dum, y, test_size=0.2, random_state=0) # y 값이 정의되지 않아 df.sales_total 으로 대체하겠습니다.\n",
    "# 로버스트 스케일링\n",
    "rb = RobustScaler()\n",
    "Xs_train = rb.fit_transform(X_train)\n",
    "Xs_test = rb.transform(X_test)\n",
    "\n",
    "model = sm.OLS(y_train, Xs_train)\n",
    "result = model.fit()\n",
    "print(result.summary())"
   ]
  },
  {
   "cell_type": "code",
   "execution_count": 20,
   "metadata": {},
   "outputs": [
    {
     "name": "stdout",
     "output_type": "stream",
     "text": [
      "1 번째 시도\n",
      "0.40101294886460426\n",
      "0.4246287073118932\n",
      "==================================================\n",
      "==================================================\n",
      "2 번째 시도\n",
      "0.40387559472256784\n",
      "0.4142720872316741\n",
      "==================================================\n",
      "==================================================\n",
      "3 번째 시도\n",
      "0.4009605327891068\n",
      "0.42279858858453434\n",
      "==================================================\n",
      "==================================================\n",
      "4 번째 시도\n",
      "0.41490993936264114\n",
      "0.3765957047833143\n",
      "==================================================\n",
      "==================================================\n",
      "5 번째 시도\n",
      "0.4120039061023595\n",
      "0.38211957042829525\n",
      "==================================================\n",
      "==================================================\n",
      "6 번째 시도\n",
      "0.41222954124161665\n",
      "0.3818497417394955\n",
      "==================================================\n",
      "==================================================\n",
      "7 번째 시도\n",
      "0.3981734032249744\n",
      "0.44034405926548686\n",
      "==================================================\n",
      "==================================================\n",
      "8 번째 시도\n",
      "0.4113814075660268\n",
      "0.3831707121552382\n",
      "==================================================\n",
      "==================================================\n",
      "9 번째 시도\n",
      "0.39652339589276875\n",
      "0.44112163543639\n",
      "==================================================\n",
      "==================================================\n",
      "10 번째 시도\n",
      "0.40886735641160277\n",
      "0.39457707533939446\n",
      "==================================================\n",
      "==================================================\n"
     ]
    }
   ],
   "source": [
    "R2_cgoongu = []\n",
    "MAE_cgoongu = []\n",
    "MSE_cgoongu = []\n",
    "RMSE_cgoongu = []\n",
    "for i in range(10):\n",
    "    # Train-test split\n",
    "    X_train, X_test, y_train, y_test = train_test_split(X_dum, y, test_size=0.2) \n",
    "\n",
    "    # 로버스트 스케일링\n",
    "    rb = RobustScaler()\n",
    "    Xs_train = rb.fit_transform(X_train)\n",
    "    Xs_test = rb.transform(X_test)\n",
    "\n",
    "    # 회귀분석\n",
    "    regressor = LinearRegression()\n",
    "    model = regressor.fit(Xs_train, y_train)\n",
    "\n",
    "    print(i+1,\"번째 시도\")\n",
    "    # 정확도 결과값\n",
    "    print(model.score(Xs_train, y_train))\n",
    "    print(model.score(Xs_test, y_test))\n",
    "\n",
    "    # 오차 결과값\n",
    "    y_pred = model.predict(Xs_test)\n",
    "    R2_cgoongu.append(r2_score(y_test , y_pred))\n",
    "    MAE_cgoongu.append(metrics.mean_absolute_error(y_test, y_pred))\n",
    "    MSE_cgoongu.append(metrics.mean_squared_error(y_test, y_pred))\n",
    "    RMSE_cgoongu.append(np.sqrt(metrics.mean_squared_error(y_test, y_pred)))\n",
    "    print('='*50)\n",
    "    print('='*50)"
   ]
  },
  {
   "cell_type": "code",
   "execution_count": 21,
   "metadata": {},
   "outputs": [
    {
     "name": "stdout",
     "output_type": "stream",
     "text": [
      "[0.4246287073118933, 0.4142720872316741, 0.42279858858453434, 0.3765957047833143, 0.38211957042829525, 0.3818497417394955, 0.4403440592654868, 0.38317071215523824, 0.44112163543639005, 0.39457707533939446]\n",
      "[628049169.359246, 632668749.8601952, 636877598.5640312, 645958415.2668079, 630451027.1724716, 638788512.969717, 624317006.7914625, 618851934.5385159, 633982518.8671257, 633873525.0161568]\n",
      "[1.66570200071061e+18, 1.5949846785149663e+18, 1.7695274067194458e+18, 2.1208731276893676e+18, 1.812318596794043e+18, 1.8304803614836134e+18, 1.454388182620031e+18, 1.7278271833336384e+18, 1.6316103373000412e+18, 1.8020150414890463e+18]\n",
      "[1290620781.140072, 1262927028.1829295, 1330235846.276684, 1456321780.270201, 1346223828.6384783, 1352952460.9104393, 1205980175.0526545, 1314468403.3226657, 1277345034.5541103, 1342391538.0726469]\n"
     ]
    }
   ],
   "source": [
    "print(R2_cgoongu) \n",
    "print(MAE_cgoongu) \n",
    "print(MSE_cgoongu) \n",
    "print(RMSE_cgoongu) "
   ]
  },
  {
   "cell_type": "code",
   "execution_count": 22,
   "metadata": {},
   "outputs": [],
   "source": [
    "import pickle\n",
    "with open('R2_cgoongu.pkl', 'wb') as f:\n",
    "    pickle.dump(R2_cgoongu, f) #피클파일 저장\n",
    "with open('MAE_cgoongu.pkl', 'wb') as f:\n",
    "    pickle.dump(MAE_lr, f) #피클파일 저장\n",
    "with open('MSE_cgoongu.pkl', 'wb') as f:\n",
    "    pickle.dump(MSE_cgoongu, f) #피클파일 저장\n",
    "\n",
    "with open('RMSE_cgoongu.pkl', 'wb') as f:\n",
    "    pickle.dump(RMSE_cgoongu, f) #피클파일 저장\n",
    "\n",
    "\n"
   ]
  },
  {
   "cell_type": "markdown",
   "metadata": {},
   "source": [
    "### Random Forest (상권코드 1010개)"
   ]
  },
  {
   "cell_type": "code",
   "execution_count": 23,
   "metadata": {},
   "outputs": [],
   "source": [
    "import pandas as pd \n",
    "df = pd.read_csv('../raw_data/df_grouped_rate.csv') #폴더 위치는 상이할 수 있음\n",
    "y=df.iloc[:,3:4]\n",
    "X= df.iloc[:,1:].drop(['sales_total'],axis=1)\n",
    "# 더미변수화\n",
    "X_dum1 = pd.get_dummies(X.iloc[:,0])  #district는 범주형으로 인식 안해서 따로 실시\n",
    "X_dum2 = pd.get_dummies(X.iloc[:,1:])\n",
    "X = pd.concat([X_dum1, X_dum2],axis=1)"
   ]
  },
  {
   "cell_type": "code",
   "execution_count": 24,
   "metadata": {},
   "outputs": [
    {
     "name": "stderr",
     "output_type": "stream",
     "text": [
      "C:\\ProgramData\\Anaconda3\\lib\\site-packages\\ipykernel_launcher.py:14: DataConversionWarning: A column-vector y was passed when a 1d array was expected. Please change the shape of y to (n_samples,), for example using ravel().\n",
      "  \n"
     ]
    },
    {
     "name": "stdout",
     "output_type": "stream",
     "text": [
      "1 번째 시도\n",
      "0.8855539537969531\n",
      "0.7123008661778889\n",
      "==================================================\n",
      "==================================================\n"
     ]
    },
    {
     "name": "stderr",
     "output_type": "stream",
     "text": [
      "C:\\ProgramData\\Anaconda3\\lib\\site-packages\\ipykernel_launcher.py:14: DataConversionWarning: A column-vector y was passed when a 1d array was expected. Please change the shape of y to (n_samples,), for example using ravel().\n",
      "  \n"
     ]
    },
    {
     "name": "stdout",
     "output_type": "stream",
     "text": [
      "2 번째 시도\n",
      "0.8877133339202862\n",
      "0.7000830569701366\n",
      "==================================================\n",
      "==================================================\n"
     ]
    },
    {
     "name": "stderr",
     "output_type": "stream",
     "text": [
      "C:\\ProgramData\\Anaconda3\\lib\\site-packages\\ipykernel_launcher.py:14: DataConversionWarning: A column-vector y was passed when a 1d array was expected. Please change the shape of y to (n_samples,), for example using ravel().\n",
      "  \n"
     ]
    },
    {
     "name": "stdout",
     "output_type": "stream",
     "text": [
      "3 번째 시도\n",
      "0.8813754523643749\n",
      "0.7292598113397541\n",
      "==================================================\n",
      "==================================================\n"
     ]
    },
    {
     "name": "stderr",
     "output_type": "stream",
     "text": [
      "C:\\ProgramData\\Anaconda3\\lib\\site-packages\\ipykernel_launcher.py:14: DataConversionWarning: A column-vector y was passed when a 1d array was expected. Please change the shape of y to (n_samples,), for example using ravel().\n",
      "  \n"
     ]
    },
    {
     "name": "stdout",
     "output_type": "stream",
     "text": [
      "4 번째 시도\n",
      "0.8852109722581207\n",
      "0.7191962331516705\n",
      "==================================================\n",
      "==================================================\n"
     ]
    },
    {
     "name": "stderr",
     "output_type": "stream",
     "text": [
      "C:\\ProgramData\\Anaconda3\\lib\\site-packages\\ipykernel_launcher.py:14: DataConversionWarning: A column-vector y was passed when a 1d array was expected. Please change the shape of y to (n_samples,), for example using ravel().\n",
      "  \n"
     ]
    },
    {
     "name": "stdout",
     "output_type": "stream",
     "text": [
      "5 번째 시도\n",
      "0.886348781258642\n",
      "0.692337388176013\n",
      "==================================================\n",
      "==================================================\n"
     ]
    },
    {
     "name": "stderr",
     "output_type": "stream",
     "text": [
      "C:\\ProgramData\\Anaconda3\\lib\\site-packages\\ipykernel_launcher.py:14: DataConversionWarning: A column-vector y was passed when a 1d array was expected. Please change the shape of y to (n_samples,), for example using ravel().\n",
      "  \n"
     ]
    },
    {
     "name": "stdout",
     "output_type": "stream",
     "text": [
      "6 번째 시도\n",
      "0.8832207843512278\n",
      "0.7107033500590044\n",
      "==================================================\n",
      "==================================================\n"
     ]
    },
    {
     "name": "stderr",
     "output_type": "stream",
     "text": [
      "C:\\ProgramData\\Anaconda3\\lib\\site-packages\\ipykernel_launcher.py:14: DataConversionWarning: A column-vector y was passed when a 1d array was expected. Please change the shape of y to (n_samples,), for example using ravel().\n",
      "  \n"
     ]
    },
    {
     "name": "stdout",
     "output_type": "stream",
     "text": [
      "7 번째 시도\n",
      "0.8841753739144583\n",
      "0.7135588304672187\n",
      "==================================================\n",
      "==================================================\n"
     ]
    },
    {
     "name": "stderr",
     "output_type": "stream",
     "text": [
      "C:\\ProgramData\\Anaconda3\\lib\\site-packages\\ipykernel_launcher.py:14: DataConversionWarning: A column-vector y was passed when a 1d array was expected. Please change the shape of y to (n_samples,), for example using ravel().\n",
      "  \n"
     ]
    },
    {
     "name": "stdout",
     "output_type": "stream",
     "text": [
      "8 번째 시도\n",
      "0.8800700554929304\n",
      "0.6994841394350301\n",
      "==================================================\n",
      "==================================================\n"
     ]
    },
    {
     "name": "stderr",
     "output_type": "stream",
     "text": [
      "C:\\ProgramData\\Anaconda3\\lib\\site-packages\\ipykernel_launcher.py:14: DataConversionWarning: A column-vector y was passed when a 1d array was expected. Please change the shape of y to (n_samples,), for example using ravel().\n",
      "  \n"
     ]
    },
    {
     "name": "stdout",
     "output_type": "stream",
     "text": [
      "9 번째 시도\n",
      "0.8871357493317835\n",
      "0.7142729852698322\n",
      "==================================================\n",
      "==================================================\n"
     ]
    },
    {
     "name": "stderr",
     "output_type": "stream",
     "text": [
      "C:\\ProgramData\\Anaconda3\\lib\\site-packages\\ipykernel_launcher.py:14: DataConversionWarning: A column-vector y was passed when a 1d array was expected. Please change the shape of y to (n_samples,), for example using ravel().\n",
      "  \n"
     ]
    },
    {
     "name": "stdout",
     "output_type": "stream",
     "text": [
      "10 번째 시도\n",
      "0.8884251082730303\n",
      "0.6934375074159209\n",
      "==================================================\n",
      "==================================================\n"
     ]
    }
   ],
   "source": [
    "from sklearn.ensemble import RandomForestRegressor\n",
    "from sklearn.metrics import r2_score\n",
    "R2_RF = []\n",
    "MAE_RF = []\n",
    "MSE_RF = []\n",
    "RMSE_RF = []\n",
    "for i in range(10):\n",
    "    # Train-test split\n",
    "    X_train, X_test, y_train, y_test = train_test_split(X, y, test_size=0.3)\n",
    "\n",
    "    Xs_train = X_train\n",
    "    Xs_test = X_test\n",
    "    regr = RandomForestRegressor(n_estimators=50,max_depth=20, n_jobs=-1)\n",
    "    model=regr.fit(Xs_train, y_train)\n",
    "    y_pred=model.predict(Xs_test)\n",
    "    \n",
    "    print(i+1,\"번째 시도\")\n",
    "    # 정확도 결과값\n",
    "    print(model.score(Xs_train, y_train))\n",
    "    print(model.score(Xs_test, y_test))\n",
    "\n",
    "    # 오차 결과값\n",
    "    R2_RF.append(r2_score(y_test , y_pred))\n",
    "    MAE_RF.append(metrics.mean_absolute_error(y_test, y_pred))\n",
    "    MSE_RF.append(metrics.mean_squared_error(y_test, y_pred))\n",
    "    RMSE_RF.append(np.sqrt(metrics.mean_squared_error(y_test, y_pred)))\n",
    "    print('='*50)\n",
    "    print('='*50)"
   ]
  },
  {
   "cell_type": "code",
   "execution_count": 25,
   "metadata": {},
   "outputs": [
    {
     "name": "stdout",
     "output_type": "stream",
     "text": [
      "[0.7123008661778889, 0.7000830569701366, 0.7292598113397541, 0.7191962331516705, 0.692337388176013, 0.7107033500590043, 0.7135588304672187, 0.6994841394350301, 0.7142729852698322, 0.6934375074159209]\n",
      "[449785112.6294148, 446212734.7671297, 447890754.86098444, 451625667.5133701, 445865890.12949145, 442355273.1377831, 446089670.0951218, 447415163.7190714, 445434133.4830528, 437294514.8725618]\n",
      "[8.265276739061085e+17, 8.120435978355119e+17, 8.2239566534996e+17, 8.091070983962254e+17, 8.547321165231905e+17, 8.261774271114982e+17, 8.443124401772238e+17, 9.201507632837652e+17, 8.038788677680585e+17, 8.06667925760289e+17]\n",
      "[909135674.0916663, 901134616.9332925, 906860333.9820085, 899503806.7713919, 924517234.302958, 908943027.4288363, 918864756.1949602, 959244892.2375168, 896592921.9930629, 898146939.9604326]\n"
     ]
    }
   ],
   "source": [
    "print(R2_RF) \n",
    "print(MAE_RF) \n",
    "print(MSE_RF) \n",
    "print(RMSE_RF) "
   ]
  },
  {
   "cell_type": "code",
   "execution_count": 26,
   "metadata": {},
   "outputs": [],
   "source": [
    "import pickle\n",
    "with open('pkl_files/R2_RF.pkl', 'wb') as f:\n",
    "    pickle.dump(R2_RF, f) #피클파일 저장\n",
    "with open('pkl_files/MAE_RF.pkl', 'wb') as f:\n",
    "    pickle.dump(MAE_lr, f) #피클파일 저장\n",
    "with open('pkl_files/MSE_RF.pkl', 'wb') as f:\n",
    "    pickle.dump(MSE_RF, f) #피클파일 저장\n",
    "\n",
    "with open('pkl_files/RMSE_RF.pkl', 'wb') as f:\n",
    "    pickle.dump(RMSE_RF, f) #피클파일 저장\n"
   ]
  },
  {
   "cell_type": "markdown",
   "metadata": {},
   "source": [
    "## Random Forest (시군구)"
   ]
  },
  {
   "cell_type": "code",
   "execution_count": 27,
   "metadata": {},
   "outputs": [],
   "source": [
    "import pandas as pd\n",
    "\n",
    "df = pd.read_csv(\"../raw_data/df_grouped_rate.csv\", encoding ='utf-8')\n",
    "cgoongu = pd.read_csv(\"../raw_data/cgoongoo1.csv\", encoding ='utf-8')\n",
    "df_merged = pd.merge(df, cgoongu, on=['district'])\n",
    "df_merged.drop(['district','year'], axis=1, inplace =True)"
   ]
  },
  {
   "cell_type": "code",
   "execution_count": 28,
   "metadata": {},
   "outputs": [],
   "source": [
    "from sklearn.model_selection import train_test_split\n",
    "from sklearn.preprocessing import RobustScaler\n",
    "y=df_merged.iloc[:,1:2]\n",
    "X= df_merged.drop(['sales_total'],axis=1)\n",
    "# X.columns\n",
    "# 더미변수화\n",
    "X_dum1 = pd.get_dummies(X.iloc[:,0:-1])  #district는 범주형으로 인식 안해서 따로 실시\n",
    "X_dum2 = pd.get_dummies(X.iloc[:,-1])\n",
    "X = pd.concat([X_dum1, X_dum2],axis=1)\n",
    "# X_dum.columns"
   ]
  },
  {
   "cell_type": "code",
   "execution_count": 29,
   "metadata": {},
   "outputs": [
    {
     "name": "stderr",
     "output_type": "stream",
     "text": [
      "C:\\ProgramData\\Anaconda3\\lib\\site-packages\\ipykernel_launcher.py:17: DataConversionWarning: A column-vector y was passed when a 1d array was expected. Please change the shape of y to (n_samples,), for example using ravel().\n"
     ]
    },
    {
     "name": "stdout",
     "output_type": "stream",
     "text": [
      "1 번째 시도\n",
      "0.8998467497578891\n",
      "0.6802226302816198\n",
      "==================================================\n",
      "==================================================\n"
     ]
    },
    {
     "name": "stderr",
     "output_type": "stream",
     "text": [
      "C:\\ProgramData\\Anaconda3\\lib\\site-packages\\ipykernel_launcher.py:17: DataConversionWarning: A column-vector y was passed when a 1d array was expected. Please change the shape of y to (n_samples,), for example using ravel().\n"
     ]
    },
    {
     "name": "stdout",
     "output_type": "stream",
     "text": [
      "2 번째 시도\n",
      "0.9020416064994576\n",
      "0.6683817661895358\n",
      "==================================================\n",
      "==================================================\n"
     ]
    },
    {
     "name": "stderr",
     "output_type": "stream",
     "text": [
      "C:\\ProgramData\\Anaconda3\\lib\\site-packages\\ipykernel_launcher.py:17: DataConversionWarning: A column-vector y was passed when a 1d array was expected. Please change the shape of y to (n_samples,), for example using ravel().\n"
     ]
    },
    {
     "name": "stdout",
     "output_type": "stream",
     "text": [
      "3 번째 시도\n",
      "0.9013659344519755\n",
      "0.6774419178919397\n",
      "==================================================\n",
      "==================================================\n"
     ]
    },
    {
     "name": "stderr",
     "output_type": "stream",
     "text": [
      "C:\\ProgramData\\Anaconda3\\lib\\site-packages\\ipykernel_launcher.py:17: DataConversionWarning: A column-vector y was passed when a 1d array was expected. Please change the shape of y to (n_samples,), for example using ravel().\n"
     ]
    },
    {
     "name": "stdout",
     "output_type": "stream",
     "text": [
      "4 번째 시도\n",
      "0.8997279576297758\n",
      "0.6622113532206795\n",
      "==================================================\n",
      "==================================================\n"
     ]
    },
    {
     "name": "stderr",
     "output_type": "stream",
     "text": [
      "C:\\ProgramData\\Anaconda3\\lib\\site-packages\\ipykernel_launcher.py:17: DataConversionWarning: A column-vector y was passed when a 1d array was expected. Please change the shape of y to (n_samples,), for example using ravel().\n"
     ]
    },
    {
     "name": "stdout",
     "output_type": "stream",
     "text": [
      "5 번째 시도\n",
      "0.903915255827739\n",
      "0.6523103043284098\n",
      "==================================================\n",
      "==================================================\n"
     ]
    },
    {
     "name": "stderr",
     "output_type": "stream",
     "text": [
      "C:\\ProgramData\\Anaconda3\\lib\\site-packages\\ipykernel_launcher.py:17: DataConversionWarning: A column-vector y was passed when a 1d array was expected. Please change the shape of y to (n_samples,), for example using ravel().\n"
     ]
    },
    {
     "name": "stdout",
     "output_type": "stream",
     "text": [
      "6 번째 시도\n",
      "0.8998290666922715\n",
      "0.6716634130220733\n",
      "==================================================\n",
      "==================================================\n"
     ]
    },
    {
     "name": "stderr",
     "output_type": "stream",
     "text": [
      "C:\\ProgramData\\Anaconda3\\lib\\site-packages\\ipykernel_launcher.py:17: DataConversionWarning: A column-vector y was passed when a 1d array was expected. Please change the shape of y to (n_samples,), for example using ravel().\n"
     ]
    },
    {
     "name": "stdout",
     "output_type": "stream",
     "text": [
      "7 번째 시도\n",
      "0.9041537187887163\n",
      "0.6578239046395441\n",
      "==================================================\n",
      "==================================================\n"
     ]
    },
    {
     "name": "stderr",
     "output_type": "stream",
     "text": [
      "C:\\ProgramData\\Anaconda3\\lib\\site-packages\\ipykernel_launcher.py:17: DataConversionWarning: A column-vector y was passed when a 1d array was expected. Please change the shape of y to (n_samples,), for example using ravel().\n"
     ]
    },
    {
     "name": "stdout",
     "output_type": "stream",
     "text": [
      "8 번째 시도\n",
      "0.8994470332253633\n",
      "0.6878557999495694\n",
      "==================================================\n",
      "==================================================\n"
     ]
    },
    {
     "name": "stderr",
     "output_type": "stream",
     "text": [
      "C:\\ProgramData\\Anaconda3\\lib\\site-packages\\ipykernel_launcher.py:17: DataConversionWarning: A column-vector y was passed when a 1d array was expected. Please change the shape of y to (n_samples,), for example using ravel().\n"
     ]
    },
    {
     "name": "stdout",
     "output_type": "stream",
     "text": [
      "9 번째 시도\n",
      "0.9051449096029229\n",
      "0.6593712829737952\n",
      "==================================================\n",
      "==================================================\n"
     ]
    },
    {
     "name": "stderr",
     "output_type": "stream",
     "text": [
      "C:\\ProgramData\\Anaconda3\\lib\\site-packages\\ipykernel_launcher.py:17: DataConversionWarning: A column-vector y was passed when a 1d array was expected. Please change the shape of y to (n_samples,), for example using ravel().\n"
     ]
    },
    {
     "name": "stdout",
     "output_type": "stream",
     "text": [
      "10 번째 시도\n",
      "0.9015410527355165\n",
      "0.6784010416389705\n",
      "==================================================\n",
      "==================================================\n"
     ]
    }
   ],
   "source": [
    "from sklearn.ensemble import RandomForestRegressor\n",
    "from sklearn import metrics\n",
    "from sklearn.metrics import r2_score\n",
    "import numpy as np \n",
    "\n",
    "R2_RF_c = []\n",
    "MAE_RF_c = []\n",
    "MSE_RF_c = []\n",
    "RMSE_RF_c = []\n",
    "for i in range(10):\n",
    "    # Train-test split\n",
    "    X_train, X_test, y_train, y_test = train_test_split(X, y, test_size=0.3)\n",
    "\n",
    "    Xs_train = X_train\n",
    "    Xs_test = X_test\n",
    "    regr = RandomForestRegressor(n_estimators=50,max_depth=20, n_jobs=-1)\n",
    "    model=regr.fit(Xs_train, y_train)\n",
    "    y_pred=model.predict(Xs_test)\n",
    "    \n",
    "    print(i+1,\"번째 시도\")\n",
    "    # 정확도 결과값\n",
    "    print(model.score(Xs_train, y_train))\n",
    "    print(model.score(Xs_test, y_test))\n",
    "\n",
    "    # 오차 결과값\n",
    "    R2_RF_c.append(r2_score(y_test , y_pred))\n",
    "    MAE_RF_c.append(metrics.mean_absolute_error(y_test, y_pred))\n",
    "    MSE_RF_c.append(metrics.mean_squared_error(y_test, y_pred))\n",
    "    RMSE_RF_c.append(np.sqrt(metrics.mean_squared_error(y_test, y_pred)))\n",
    "    print('='*50)\n",
    "    print('='*50)"
   ]
  },
  {
   "cell_type": "code",
   "execution_count": 30,
   "metadata": {},
   "outputs": [
    {
     "name": "stdout",
     "output_type": "stream",
     "text": [
      "[0.6802226302816198, 0.6683817661895358, 0.6774419178919397, 0.6622113532206795, 0.6523103043284098, 0.6716634130220733, 0.6578239046395441, 0.6878557999495694, 0.6593712829737952, 0.6784010416389705]\n",
      "[454503927.4785681, 455461946.7784578, 456022726.0518362, 459388121.43013835, 453582089.42480946, 457196495.6549004, 451462806.02449113, 457738810.23634917, 456390577.3145367, 464367556.78221273]\n",
      "[9.064740617367328e+17, 9.338313240838047e+17, 9.988792121759087e+17, 1.0294519119889932e+18, 9.961150129492637e+17, 8.98943692568813e+17, 9.280117372720316e+17, 9.124766364279164e+17, 8.606323753026831e+17, 9.081914697825079e+17]\n",
      "[952089313.9494492, 966349483.4084637, 999439448.9792309, 1014619096.9960072, 998055616.1603739, 948126411.7030034, 963333658.330296, 955236429.5963154, 927702740.8080043, 952990802.5697352]\n"
     ]
    }
   ],
   "source": [
    "print(R2_RF_c) \n",
    "print(MAE_RF_c) \n",
    "print(MSE_RF_c) \n",
    "print(RMSE_RF_c) "
   ]
  },
  {
   "cell_type": "code",
   "execution_count": 31,
   "metadata": {},
   "outputs": [],
   "source": [
    "import pickle\n",
    "with open('pkl_files/R2_RF_c.pkl', 'wb') as f:\n",
    "    pickle.dump(R2_RF_c, f) #피클파일 저장\n",
    "with open('pkl_files/MAE_RF_c.pkl', 'wb') as f:\n",
    "    pickle.dump(MAE_RF_c, f) #피클파일 저장\n",
    "with open('pkl_files/MSE_RF_c.pkl', 'wb') as f:\n",
    "    pickle.dump(MSE_RF_c, f) #피클파일 저장\n",
    "\n",
    "with open('pkl_files/MSE_RF_c.pkl', 'wb') as f:\n",
    "    pickle.dump(RMSE_RF_c, f) #피클파일 저장"
   ]
  },
  {
   "cell_type": "markdown",
   "metadata": {},
   "source": [
    "### Random Fores dummy 변수?"
   ]
  },
  {
   "cell_type": "markdown",
   "metadata": {},
   "source": [
    "## LightGBM (1010)"
   ]
  },
  {
   "cell_type": "code",
   "execution_count": 32,
   "metadata": {},
   "outputs": [],
   "source": [
    "import pandas as pd \n",
    "df = pd.read_csv('../raw_data/df_grouped_rate.csv') #폴더 위치는 상이할 수 있음\n",
    "y=df.iloc[:,3:4]\n",
    "X= df.iloc[:,1:].drop(['sales_total'],axis=1)\n",
    "# 더미변수화\n",
    "X_dum1 = pd.get_dummies(X.iloc[:,0])  #district는 범주형으로 인식 안해서 따로 실시\n",
    "X_dum2 = pd.get_dummies(X.iloc[:,1:])\n",
    "X = pd.concat([X_dum1, X_dum2],axis=1)"
   ]
  },
  {
   "cell_type": "code",
   "execution_count": 33,
   "metadata": {},
   "outputs": [
    {
     "name": "stdout",
     "output_type": "stream",
     "text": [
      "10 번째 시도\n",
      "0.9015410527355165\n",
      "0.6784010416389705\n",
      "==================================================\n",
      "==================================================\n",
      "10 번째 시도\n",
      "0.9015410527355165\n",
      "0.6784010416389705\n",
      "==================================================\n",
      "==================================================\n",
      "10 번째 시도\n",
      "0.9015410527355165\n",
      "0.6784010416389705\n",
      "==================================================\n",
      "==================================================\n",
      "10 번째 시도\n",
      "0.9015410527355165\n",
      "0.6784010416389705\n",
      "==================================================\n",
      "==================================================\n",
      "10 번째 시도\n",
      "0.9015410527355165\n",
      "0.6784010416389705\n",
      "==================================================\n",
      "==================================================\n",
      "10 번째 시도\n",
      "0.9015410527355165\n",
      "0.6784010416389705\n",
      "==================================================\n",
      "==================================================\n",
      "10 번째 시도\n",
      "0.9015410527355165\n",
      "0.6784010416389705\n",
      "==================================================\n",
      "==================================================\n",
      "10 번째 시도\n",
      "0.9015410527355165\n",
      "0.6784010416389705\n",
      "==================================================\n",
      "==================================================\n",
      "10 번째 시도\n",
      "0.9015410527355165\n",
      "0.6784010416389705\n",
      "==================================================\n",
      "==================================================\n",
      "10 번째 시도\n",
      "0.9015410527355165\n",
      "0.6784010416389705\n",
      "==================================================\n",
      "==================================================\n"
     ]
    }
   ],
   "source": [
    "import lightgbm as lgb\n",
    "from sklearn.metrics import mean_squared_error, r2_score\n",
    "import seaborn as sns\n",
    "from sklearn.model_selection import train_test_split\n",
    "R2_lgb_gbdt = []\n",
    "MAE_lgb_gbdt = []\n",
    "MSE_lgb_gbdt = []\n",
    "RMSE_lgb_gbdt = []\n",
    "for _ in range(10):\n",
    "    train_x, test_x, train_y, test_y = train_test_split(X, y, test_size=0.2, random_state=0)\n",
    "    train_ds = lgb.Dataset(train_x, label = train_y) \n",
    "    test_ds = lgb.Dataset(test_x, label = test_y) \n",
    "\n",
    "    params = {'learning_rate': 0.01, \n",
    "              'max_depth': 16, \n",
    "              'boosting': 'gbdt', \n",
    "              'objective': 'regression', \n",
    "              'metric': 'mse', \n",
    "              'is_training_metric': True, \n",
    "              'num_leaves': 144, \n",
    "              'feature_fraction': 0.9, \n",
    "              'bagging_fraction': 0.7, \n",
    "              'bagging_freq': 5, \n",
    "              'device': 'gpu'\n",
    "             }\n",
    "    print(i+1,\"번째 시도\")\n",
    "    # 정확도 결과값\n",
    "    print(model.score(Xs_train, y_train))\n",
    "    print(model.score(Xs_test, y_test))\n",
    "\n",
    "    # 오차 결과값\n",
    "    R2_lgb_gbdt.append(r2_score(y_test , y_pred))\n",
    "    MAE_lgb_gbdt.append(metrics.mean_absolute_error(y_test, y_pred))\n",
    "    MSE_lgb_gbdt.append(metrics.mean_squared_error(y_test, y_pred))\n",
    "    RMSE_lgb_gbdt.append(np.sqrt(metrics.mean_squared_error(y_test, y_pred)))\n",
    "    print('='*50)\n",
    "    print('='*50)\n"
   ]
  },
  {
   "cell_type": "code",
   "execution_count": 34,
   "metadata": {},
   "outputs": [
    {
     "name": "stdout",
     "output_type": "stream",
     "text": [
      "[0.6784010416389705, 0.6784010416389705, 0.6784010416389705, 0.6784010416389705, 0.6784010416389705, 0.6784010416389705, 0.6784010416389705, 0.6784010416389705, 0.6784010416389705, 0.6784010416389705]\n",
      "[464367556.78221273, 464367556.78221273, 464367556.78221273, 464367556.78221273, 464367556.78221273, 464367556.78221273, 464367556.78221273, 464367556.78221273, 464367556.78221273, 464367556.78221273]\n",
      "[9.081914697825079e+17, 9.081914697825079e+17, 9.081914697825079e+17, 9.081914697825079e+17, 9.081914697825079e+17, 9.081914697825079e+17, 9.081914697825079e+17, 9.081914697825079e+17, 9.081914697825079e+17, 9.081914697825079e+17]\n",
      "[952990802.5697352, 952990802.5697352, 952990802.5697352, 952990802.5697352, 952990802.5697352, 952990802.5697352, 952990802.5697352, 952990802.5697352, 952990802.5697352, 952990802.5697352]\n"
     ]
    }
   ],
   "source": [
    "print(R2_lgb_gbdt) \n",
    "print(MAE_lgb_gbdt) \n",
    "print(MSE_lgb_gbdt) \n",
    "print(RMSE_lgb_gbdt) "
   ]
  },
  {
   "cell_type": "code",
   "execution_count": 35,
   "metadata": {},
   "outputs": [],
   "source": [
    "import pickle\n",
    "with open('pkl_files/R2_lgb_gbdt.pkl', 'wb') as f:\n",
    "    pickle.dump(R2_lgb_gbdt, f) #피클파일 저장\n",
    "with open('pkl_files/MAE_lgb_gbdt.pkl', 'wb') as f:\n",
    "    pickle.dump(MAE_lgb_gbdt, f) #피클파일 저장\n",
    "with open('pkl_files/MSE_lgb_gbdt.pkl', 'wb') as f:\n",
    "    pickle.dump(MSE_lgb_gbdt, f) #피클파일 저장\n",
    "\n",
    "with open('pkl_files/RMSE_lgb_gbdt.pkl', 'wb') as f:\n",
    "    pickle.dump(RMSE_lgb_gbdt, f) #피클파일 저장"
   ]
  },
  {
   "cell_type": "markdown",
   "metadata": {},
   "source": [
    "## combine predictors using stacking\n",
    "y_pred, y_test\n",
    "\n",
    "https://scikit-learn.org/stable/auto_examples/ensemble/plot_stack_predictors.html#sphx-glr-auto-examples-ensemble-plot-stack-predictors-py"
   ]
  },
  {
   "cell_type": "code",
   "execution_count": null,
   "metadata": {},
   "outputs": [],
   "source": []
  }
 ],
 "metadata": {
  "kernelspec": {
   "display_name": "Python 3",
   "language": "python",
   "name": "python3"
  },
  "language_info": {
   "codemirror_mode": {
    "name": "ipython",
    "version": 3
   },
   "file_extension": ".py",
   "mimetype": "text/x-python",
   "name": "python",
   "nbconvert_exporter": "python",
   "pygments_lexer": "ipython3",
   "version": "3.7.4"
  }
 },
 "nbformat": 4,
 "nbformat_minor": 2
}
