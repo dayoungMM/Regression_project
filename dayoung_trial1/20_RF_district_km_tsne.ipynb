{
 "cells": [
  {
   "cell_type": "code",
   "execution_count": 0,
   "metadata": {
    "colab": {},
    "colab_type": "code",
    "id": "EYCfp6vmH573"
   },
   "outputs": [],
   "source": [
    "### 상권코드 1010 Random Forest"
   ]
  },
  {
   "cell_type": "code",
   "execution_count": 0,
   "metadata": {
    "colab": {},
    "colab_type": "code",
    "id": "uoNfZJH2mexn"
   },
   "outputs": [],
   "source": [
    "from google.colab import drive\n",
    "drive.mount('/content/drive')"
   ]
  },
  {
   "cell_type": "code",
   "execution_count": 0,
   "metadata": {
    "colab": {},
    "colab_type": "code",
    "id": "_uzjRB4NF_dn"
   },
   "outputs": [],
   "source": [
    "import pandas as pd \n",
    "df = pd.read_csv('/content/df_grouped_rate.csv') #폴더 위치는 상이할 수 있음\n",
    "\n",
    "\n",
    "y=df.iloc[:,3:4]\n",
    "X= df.iloc[:,1:].drop(['sales_total','code'],axis=1)\n",
    "X['district'] = X['district'].astype('object') "
   ]
  },
  {
   "cell_type": "code",
   "execution_count": 0,
   "metadata": {
    "colab": {
     "base_uri": "https://localhost:8080/",
     "height": 1000
    },
    "colab_type": "code",
    "id": "JWIIGQsiHAvi",
    "outputId": "559c754f-52c1-434b-fdd7-25ddb6dae99f"
   },
   "outputs": [
    {
     "name": "stderr",
     "output_type": "stream",
     "text": [
      "/usr/local/lib/python3.6/dist-packages/ipykernel_launcher.py:18: DataConversionWarning: A column-vector y was passed when a 1d array was expected. Please change the shape of y to (n_samples,), for example using ravel().\n"
     ]
    },
    {
     "name": "stdout",
     "output_type": "stream",
     "text": [
      "1 번째 시도\n",
      "0.9184645099018438\n",
      "0.5974721105777454\n",
      "==================================================\n",
      "==================================================\n"
     ]
    },
    {
     "name": "stderr",
     "output_type": "stream",
     "text": [
      "/usr/local/lib/python3.6/dist-packages/ipykernel_launcher.py:18: DataConversionWarning: A column-vector y was passed when a 1d array was expected. Please change the shape of y to (n_samples,), for example using ravel().\n"
     ]
    },
    {
     "name": "stdout",
     "output_type": "stream",
     "text": [
      "2 번째 시도\n",
      "0.9180298344958444\n",
      "0.6187487693209358\n",
      "==================================================\n",
      "==================================================\n"
     ]
    },
    {
     "name": "stderr",
     "output_type": "stream",
     "text": [
      "/usr/local/lib/python3.6/dist-packages/ipykernel_launcher.py:18: DataConversionWarning: A column-vector y was passed when a 1d array was expected. Please change the shape of y to (n_samples,), for example using ravel().\n"
     ]
    },
    {
     "name": "stdout",
     "output_type": "stream",
     "text": [
      "3 번째 시도\n",
      "0.9172786244957586\n",
      "0.6037565756055621\n",
      "==================================================\n",
      "==================================================\n"
     ]
    },
    {
     "name": "stderr",
     "output_type": "stream",
     "text": [
      "/usr/local/lib/python3.6/dist-packages/ipykernel_launcher.py:18: DataConversionWarning: A column-vector y was passed when a 1d array was expected. Please change the shape of y to (n_samples,), for example using ravel().\n"
     ]
    },
    {
     "name": "stdout",
     "output_type": "stream",
     "text": [
      "4 번째 시도\n",
      "0.9156245672388507\n",
      "0.6228196479296693\n",
      "==================================================\n",
      "==================================================\n"
     ]
    },
    {
     "name": "stderr",
     "output_type": "stream",
     "text": [
      "/usr/local/lib/python3.6/dist-packages/ipykernel_launcher.py:18: DataConversionWarning: A column-vector y was passed when a 1d array was expected. Please change the shape of y to (n_samples,), for example using ravel().\n"
     ]
    },
    {
     "name": "stdout",
     "output_type": "stream",
     "text": [
      "5 번째 시도\n",
      "0.91869255746678\n",
      "0.5679137231341259\n",
      "==================================================\n",
      "==================================================\n"
     ]
    },
    {
     "name": "stderr",
     "output_type": "stream",
     "text": [
      "/usr/local/lib/python3.6/dist-packages/ipykernel_launcher.py:18: DataConversionWarning: A column-vector y was passed when a 1d array was expected. Please change the shape of y to (n_samples,), for example using ravel().\n"
     ]
    },
    {
     "name": "stdout",
     "output_type": "stream",
     "text": [
      "6 번째 시도\n",
      "0.9193781373217085\n",
      "0.5961082546953389\n",
      "==================================================\n",
      "==================================================\n"
     ]
    },
    {
     "name": "stderr",
     "output_type": "stream",
     "text": [
      "/usr/local/lib/python3.6/dist-packages/ipykernel_launcher.py:18: DataConversionWarning: A column-vector y was passed when a 1d array was expected. Please change the shape of y to (n_samples,), for example using ravel().\n"
     ]
    },
    {
     "name": "stdout",
     "output_type": "stream",
     "text": [
      "7 번째 시도\n",
      "0.9166100266271244\n",
      "0.6077237594406129\n",
      "==================================================\n",
      "==================================================\n"
     ]
    },
    {
     "name": "stderr",
     "output_type": "stream",
     "text": [
      "/usr/local/lib/python3.6/dist-packages/ipykernel_launcher.py:18: DataConversionWarning: A column-vector y was passed when a 1d array was expected. Please change the shape of y to (n_samples,), for example using ravel().\n"
     ]
    },
    {
     "name": "stdout",
     "output_type": "stream",
     "text": [
      "8 번째 시도\n",
      "0.9185596420774322\n",
      "0.5786059341154282\n",
      "==================================================\n",
      "==================================================\n"
     ]
    },
    {
     "name": "stderr",
     "output_type": "stream",
     "text": [
      "/usr/local/lib/python3.6/dist-packages/ipykernel_launcher.py:18: DataConversionWarning: A column-vector y was passed when a 1d array was expected. Please change the shape of y to (n_samples,), for example using ravel().\n"
     ]
    },
    {
     "name": "stdout",
     "output_type": "stream",
     "text": [
      "9 번째 시도\n",
      "0.9143640477266191\n",
      "0.6052145558794688\n",
      "==================================================\n",
      "==================================================\n"
     ]
    },
    {
     "name": "stderr",
     "output_type": "stream",
     "text": [
      "/usr/local/lib/python3.6/dist-packages/ipykernel_launcher.py:18: DataConversionWarning: A column-vector y was passed when a 1d array was expected. Please change the shape of y to (n_samples,), for example using ravel().\n"
     ]
    },
    {
     "name": "stdout",
     "output_type": "stream",
     "text": [
      "10 번째 시도\n",
      "0.9179710706684721\n",
      "0.6101237762942235\n",
      "==================================================\n",
      "==================================================\n"
     ]
    }
   ],
   "source": [
    "from sklearn.model_selection import train_test_split\n",
    "from sklearn.preprocessing import RobustScaler\n",
    "from sklearn.linear_model import LinearRegression\n",
    "from sklearn.metrics import r2_score\n",
    "from sklearn import metrics\n",
    "import numpy as np\n",
    "R2_RF = []\n",
    "MAE_RF = []\n",
    "MSE_RF = []\n",
    "RMSE_RF = []\n",
    "for i in range(10):\n",
    "    # Train-test split\n",
    "    X_train, X_test, y_train, y_test = train_test_split(X, y, test_size=0.3)\n",
    "\n",
    "    Xs_train = X_train\n",
    "    Xs_test = X_test\n",
    "    regr = RandomForestRegressor(n_estimators=50,max_depth=20, n_jobs=-1)\n",
    "    model=regr.fit(Xs_train, y_train)\n",
    "    y_pred=model.predict(Xs_test)\n",
    "    \n",
    "    print(i+1,\"번째 시도\")\n",
    "    # 정확도 결과값\n",
    "    print(model.score(Xs_train, y_train))\n",
    "    print(model.score(Xs_test, y_test))\n",
    "\n",
    "    # 오차 결과값\n",
    "    R2_RF.append(r2_score(y_test , y_pred))\n",
    "    MAE_RF.append(metrics.mean_absolute_error(y_test, y_pred))\n",
    "    MSE_RF.append(metrics.mean_squared_error(y_test, y_pred))\n",
    "    RMSE_RF.append(np.sqrt(metrics.mean_squared_error(y_test, y_pred)))\n",
    "    print('='*50)\n",
    "    print('='*50)"
   ]
  },
  {
   "cell_type": "code",
   "execution_count": 0,
   "metadata": {
    "colab": {
     "base_uri": "https://localhost:8080/",
     "height": 112
    },
    "colab_type": "code",
    "id": "VAKWAqDlJxjc",
    "outputId": "dca86e03-d8f8-47a7-9a5a-bb97102090aa"
   },
   "outputs": [
    {
     "name": "stdout",
     "output_type": "stream",
     "text": [
      "[0.5974721105777454, 0.6187487693209358, 0.6037565756055621, 0.6228196479296693, 0.5679137231341259, 0.5961082546953389, 0.6077237594406129, 0.5786059341154282, 0.6052145558794688, 0.6101237762942235]\n",
      "[498548822.44257206, 506517561.20741504, 497024012.65831554, 502555602.16445655, 500686811.8668126, 500049319.0556409, 497458220.00889736, 505176520.52815926, 504055859.1933134, 502936764.4549244]\n",
      "[1.1336378372004146e+18, 1.0992409889980082e+18, 1.0641641569556064e+18, 1.023281144135779e+18, 1.1956566219076398e+18, 1.1757924267625426e+18, 1.119047797682586e+18, 1.2485754600117512e+18, 1.1648391867205071e+18, 1.0485357261509544e+18]\n",
      "[1064724301.0283998, 1048446941.4319488, 1031583325.2605464, 1011573597.9827563, 1093460846.0789256, 1084339627.0369089, 1057850555.4578992, 1117396733.488939, 1079277159.3619995, 1023980334.8458184]\n"
     ]
    }
   ],
   "source": [
    "print(R2_RF) \n",
    "print(MAE_RF) \n",
    "print(MSE_RF) \n",
    "print(RMSE_RF) "
   ]
  },
  {
   "cell_type": "code",
   "execution_count": 0,
   "metadata": {
    "colab": {},
    "colab_type": "code",
    "id": "Xdh6w-khHsdH"
   },
   "outputs": [],
   "source": [
    "import pickle\n",
    "with open('sample_data/R2_RF.pkl', 'wb') as f:\n",
    "    pickle.dump(R2_RF, f) #피클파일 저장\n",
    "with open('sample_data/MAE_RF.pkl', 'wb') as f:\n",
    "    pickle.dump(MAE_RF, f) #피클파일 저장\n",
    "    \n",
    "with open('sample_data/MSE_RF.pkl', 'wb') as f:\n",
    "    pickle.dump(MSE_RF, f) #피클파일 저장\n",
    "\n",
    "with open('sample_data/RMSE_RF.pkl', 'wb') as f:\n",
    "    pickle.dump(RMSE_RF, f) #피클파일 저장"
   ]
  },
  {
   "cell_type": "code",
   "execution_count": 0,
   "metadata": {
    "colab": {},
    "colab_type": "code",
    "id": "0gHLaRVDMU9C"
   },
   "outputs": [],
   "source": [
    "### light gbm(1010)"
   ]
  },
  {
   "cell_type": "code",
   "execution_count": 0,
   "metadata": {
    "colab": {},
    "colab_type": "code",
    "id": "bel1MDY2PDZD"
   },
   "outputs": [],
   "source": [
    "import pandas as pd \n",
    "df = pd.read_csv('df_grouped_rate.csv') #폴더 위치는 상이할 수 있음\n",
    "y=df.iloc[:,3:4]\n",
    "X= df.iloc[:,1:].drop(['sales_total','code'],axis=1)\n",
    "X['district'] = X['district'].astype('object')\n",
    "\n",
    "# # 더미변수화\n",
    "X = pd.get_dummies(X)  "
   ]
  },
  {
   "cell_type": "code",
   "execution_count": 0,
   "metadata": {
    "colab": {
     "base_uri": "https://localhost:8080/",
     "height": 1000
    },
    "colab_type": "code",
    "id": "eEKJaJbBPFG-",
    "outputId": "0d28b598-938f-4414-828d-bb327a981838"
   },
   "outputs": [
    {
     "name": "stdout",
     "output_type": "stream",
     "text": [
      "Training until validation scores don't improve for 800 rounds.\n",
      "[100]\tvalid_0's l2: 1.37572e+18\n",
      "[200]\tvalid_0's l2: 1.4112e+18\n",
      "[300]\tvalid_0's l2: 1.42773e+18\n",
      "[400]\tvalid_0's l2: 1.45571e+18\n",
      "[500]\tvalid_0's l2: 1.48132e+18\n",
      "[600]\tvalid_0's l2: 1.49929e+18\n",
      "[700]\tvalid_0's l2: 1.51495e+18\n",
      "[800]\tvalid_0's l2: 1.53302e+18\n",
      "Early stopping, best iteration is:\n",
      "[64]\tvalid_0's l2: 1.35253e+18\n",
      "1 번째 시도\n",
      "==================================================\n",
      "==================================================\n",
      "Training until validation scores don't improve for 800 rounds.\n",
      "[100]\tvalid_0's l2: 1.39757e+18\n",
      "[200]\tvalid_0's l2: 1.4459e+18\n",
      "[300]\tvalid_0's l2: 1.48282e+18\n",
      "[400]\tvalid_0's l2: 1.50385e+18\n",
      "[500]\tvalid_0's l2: 1.53421e+18\n",
      "[600]\tvalid_0's l2: 1.55234e+18\n",
      "[700]\tvalid_0's l2: 1.55885e+18\n",
      "[800]\tvalid_0's l2: 1.56268e+18\n",
      "Early stopping, best iteration is:\n",
      "[73]\tvalid_0's l2: 1.38572e+18\n",
      "2 번째 시도\n",
      "==================================================\n",
      "==================================================\n",
      "Training until validation scores don't improve for 800 rounds.\n",
      "[100]\tvalid_0's l2: 1.47819e+18\n",
      "[200]\tvalid_0's l2: 1.49873e+18\n",
      "[300]\tvalid_0's l2: 1.52075e+18\n",
      "[400]\tvalid_0's l2: 1.54711e+18\n",
      "[500]\tvalid_0's l2: 1.57111e+18\n",
      "[600]\tvalid_0's l2: 1.59788e+18\n",
      "[700]\tvalid_0's l2: 1.61092e+18\n",
      "[800]\tvalid_0's l2: 1.63008e+18\n",
      "Early stopping, best iteration is:\n",
      "[84]\tvalid_0's l2: 1.45434e+18\n",
      "3 번째 시도\n",
      "==================================================\n",
      "==================================================\n",
      "Training until validation scores don't improve for 800 rounds.\n",
      "[100]\tvalid_0's l2: 1.49551e+18\n",
      "[200]\tvalid_0's l2: 1.53604e+18\n",
      "[300]\tvalid_0's l2: 1.56663e+18\n",
      "[400]\tvalid_0's l2: 1.60617e+18\n",
      "[500]\tvalid_0's l2: 1.62047e+18\n",
      "[600]\tvalid_0's l2: 1.63796e+18\n",
      "[700]\tvalid_0's l2: 1.65883e+18\n",
      "[800]\tvalid_0's l2: 1.66741e+18\n",
      "Early stopping, best iteration is:\n",
      "[53]\tvalid_0's l2: 1.47435e+18\n",
      "4 번째 시도\n",
      "==================================================\n",
      "==================================================\n",
      "Training until validation scores don't improve for 800 rounds.\n",
      "[100]\tvalid_0's l2: 1.53813e+18\n",
      "[200]\tvalid_0's l2: 1.58214e+18\n",
      "[300]\tvalid_0's l2: 1.60701e+18\n",
      "[400]\tvalid_0's l2: 1.6317e+18\n",
      "[500]\tvalid_0's l2: 1.65539e+18\n",
      "[600]\tvalid_0's l2: 1.66854e+18\n",
      "[700]\tvalid_0's l2: 1.68516e+18\n",
      "[800]\tvalid_0's l2: 1.69754e+18\n",
      "Early stopping, best iteration is:\n",
      "[49]\tvalid_0's l2: 1.51831e+18\n",
      "5 번째 시도\n",
      "==================================================\n",
      "==================================================\n",
      "Training until validation scores don't improve for 800 rounds.\n",
      "[100]\tvalid_0's l2: 1.40962e+18\n",
      "[200]\tvalid_0's l2: 1.47949e+18\n",
      "[300]\tvalid_0's l2: 1.50791e+18\n",
      "[400]\tvalid_0's l2: 1.53611e+18\n",
      "[500]\tvalid_0's l2: 1.55586e+18\n",
      "[600]\tvalid_0's l2: 1.56934e+18\n",
      "[700]\tvalid_0's l2: 1.58646e+18\n",
      "[800]\tvalid_0's l2: 1.59856e+18\n",
      "Early stopping, best iteration is:\n",
      "[50]\tvalid_0's l2: 1.38726e+18\n",
      "6 번째 시도\n",
      "==================================================\n",
      "==================================================\n",
      "Training until validation scores don't improve for 800 rounds.\n",
      "[100]\tvalid_0's l2: 1.43819e+18\n",
      "[200]\tvalid_0's l2: 1.51301e+18\n",
      "[300]\tvalid_0's l2: 1.54237e+18\n",
      "[400]\tvalid_0's l2: 1.56702e+18\n",
      "[500]\tvalid_0's l2: 1.59961e+18\n",
      "[600]\tvalid_0's l2: 1.61765e+18\n",
      "[700]\tvalid_0's l2: 1.63498e+18\n",
      "[800]\tvalid_0's l2: 1.65177e+18\n",
      "Early stopping, best iteration is:\n",
      "[62]\tvalid_0's l2: 1.42897e+18\n",
      "7 번째 시도\n",
      "==================================================\n",
      "==================================================\n",
      "Training until validation scores don't improve for 800 rounds.\n",
      "[100]\tvalid_0's l2: 1.43841e+18\n",
      "[200]\tvalid_0's l2: 1.46503e+18\n",
      "[300]\tvalid_0's l2: 1.48098e+18\n",
      "[400]\tvalid_0's l2: 1.49486e+18\n",
      "[500]\tvalid_0's l2: 1.51929e+18\n",
      "[600]\tvalid_0's l2: 1.54306e+18\n",
      "[700]\tvalid_0's l2: 1.56043e+18\n",
      "[800]\tvalid_0's l2: 1.57868e+18\n",
      "Early stopping, best iteration is:\n",
      "[68]\tvalid_0's l2: 1.40169e+18\n",
      "8 번째 시도\n",
      "==================================================\n",
      "==================================================\n",
      "Training until validation scores don't improve for 800 rounds.\n",
      "[100]\tvalid_0's l2: 1.39241e+18\n",
      "[200]\tvalid_0's l2: 1.4542e+18\n",
      "[300]\tvalid_0's l2: 1.48225e+18\n",
      "[400]\tvalid_0's l2: 1.50317e+18\n",
      "[500]\tvalid_0's l2: 1.52981e+18\n",
      "[600]\tvalid_0's l2: 1.54809e+18\n",
      "[700]\tvalid_0's l2: 1.568e+18\n",
      "[800]\tvalid_0's l2: 1.58312e+18\n",
      "Early stopping, best iteration is:\n",
      "[42]\tvalid_0's l2: 1.37122e+18\n",
      "9 번째 시도\n",
      "==================================================\n",
      "==================================================\n",
      "Training until validation scores don't improve for 800 rounds.\n",
      "[100]\tvalid_0's l2: 1.45702e+18\n",
      "[200]\tvalid_0's l2: 1.50388e+18\n",
      "[300]\tvalid_0's l2: 1.52816e+18\n",
      "[400]\tvalid_0's l2: 1.54475e+18\n",
      "[500]\tvalid_0's l2: 1.5772e+18\n",
      "[600]\tvalid_0's l2: 1.59291e+18\n",
      "[700]\tvalid_0's l2: 1.61149e+18\n",
      "[800]\tvalid_0's l2: 1.6257e+18\n",
      "Early stopping, best iteration is:\n",
      "[30]\tvalid_0's l2: 1.41648e+18\n",
      "10 번째 시도\n",
      "==================================================\n",
      "==================================================\n"
     ]
    }
   ],
   "source": [
    "import lightgbm as lgb\n",
    "from sklearn.metrics import mean_squared_error, r2_score\n",
    "import seaborn as sns\n",
    "from sklearn.model_selection import train_test_split\n",
    "R2_lgb_gbdt = []\n",
    "MAE_lgb_gbdt = []\n",
    "MSE_lgb_gbdt = []\n",
    "RMSE_lgb_gbdt = []\n",
    "for i in range(10):\n",
    "    train_x, test_x, train_y, test_y = train_test_split(X, y, test_size=0.3)\n",
    "\n",
    "    train_ds = lgb.Dataset(train_x, label = train_y) \n",
    "    test_ds = lgb.Dataset(test_x, label = test_y) \n",
    "   \n",
    "  #파라미터 설정\n",
    "    params = {'learning_rate': 0.8, \n",
    "              'max_depth': 16, \n",
    "              'boosting': 'gbdt', \n",
    "              'objective': 'regression', \n",
    "              'metric': 'mse', \n",
    "              'is_training_metric': True, \n",
    "              'feature_fraction': 0.9, \n",
    "              'bagging_fraction': 0.7, \n",
    "              'bagging_freq': 5, \n",
    "              'device': 'cpu'\n",
    "             }\n",
    "    # 훈련\n",
    "    model = lgb.train(params, train_ds, 1000, test_ds, verbose_eval=100, early_stopping_rounds=800)\n",
    "#     predict_train = model.predict(train_x)\n",
    "    y_pred = model.predict(test_x)\n",
    "    print(i+1,\"번째 시도\")\n",
    "\n",
    "    # 오차 결과값\n",
    "    R2_lgb_gbdt.append(r2_score(test_y , y_pred))\n",
    "    MAE_lgb_gbdt.append(metrics.mean_absolute_error(test_y, y_pred))\n",
    "    MSE_lgb_gbdt.append(metrics.mean_squared_error(test_y, y_pred))\n",
    "    RMSE_lgb_gbdt.append(np.sqrt(metrics.mean_squared_error(test_y, y_pred)))\n",
    "    print('='*50)\n",
    "    print('='*50)\n"
   ]
  },
  {
   "cell_type": "code",
   "execution_count": 0,
   "metadata": {
    "colab": {
     "base_uri": "https://localhost:8080/",
     "height": 112
    },
    "colab_type": "code",
    "id": "F88562qePL26",
    "outputId": "583a9e88-3d24-4f05-ed22-2f898ce2c7c2"
   },
   "outputs": [
    {
     "name": "stdout",
     "output_type": "stream",
     "text": [
      "[0.55207323162995, 0.5443543981682002, 0.5808418738223338, 0.5936775424838103, 0.5425956408911803, 0.5919389891065372, 0.5177066820295695, 0.5401971024742807, 0.564612566390563, 0.5989189667859329]\n",
      "[517836759.33829075, 529519807.81118584, 522074512.3722828, 519513141.9287107, 525747028.77848274, 533395790.8735867, 531250755.28563124, 532866678.1023589, 531256487.8044458, 526361323.51833093]\n",
      "[1.0642139273381171e+18, 1.3261180006406198e+18, 1.1689914356191173e+18, 1.0501563194686783e+18, 1.2260745075719278e+18, 1.269823536600979e+18, 1.265469909795046e+18, 1.460478387084732e+18, 1.280518274566282e+18, 1.1570098288020037e+18]\n",
      "[1031607448.2758048, 1151571969.3708334, 1081199073.075406, 1024771349.8477006, 1107282487.7021797, 1126864471.2657237, 1124931068.9082446, 1208502539.1304448, 1131599873.880464, 1075643913.5708451]\n"
     ]
    }
   ],
   "source": [
    "print(R2_lgb_gbdt) \n",
    "print(MAE_lgb_gbdt) \n",
    "print(MSE_lgb_gbdt) \n",
    "print(RMSE_lgb_gbdt) "
   ]
  },
  {
   "cell_type": "code",
   "execution_count": 0,
   "metadata": {
    "colab": {
     "base_uri": "https://localhost:8080/",
     "height": 112
    },
    "colab_type": "code",
    "id": "hVz_YASQ5Vi-",
    "outputId": "be0d77c6-f85a-4088-d3d2-3eef3130ff17"
   },
   "outputs": [
    {
     "name": "stdout",
     "output_type": "stream",
     "text": [
      "[0.5008081721988569, 0.505574001526339, 0.5103612308130527, 0.5032057500970352, 0.4637778269311451, 0.5291294204606836, 0.5065399747899992, 0.5067814529918213, 0.5094877288903982, 0.5110107255572117]\n",
      "[590515664.1799839, 605577692.0793301, 628337361.704395, 607762174.6226231, 604066139.6588525, 598853746.872158, 617324117.0282323, 611808634.0750788, 601853357.1448094, 589609107.8753933]\n",
      "[1.352533605977499e+18, 1.3857187612648996e+18, 1.4543449593286152e+18, 1.4743503119191014e+18, 1.5183075044053012e+18, 1.387258605529223e+18, 1.428969157882564e+18, 1.401693253522478e+18, 1.371223948084791e+18, 1.4164813350516498e+18]\n",
      "[1162984783.20978, 1177165562.3848753, 1205962254.5206857, 1214228278.3394156, 1232196211.8125916, 1177819428.2355945, 1195394979.8633773, 1183931270.6075797, 1170992719.0571218, 1190160214.026519]\n"
     ]
    }
   ],
   "source": [
    "###  #파라미터 설정\n",
    "    # params = {'learning_rate': 0.8, \n",
    "    #           'max_depth': 16, \n",
    "    #           'boosting': 'gbdt', \n",
    "    #           'objective': 'regression', \n",
    "    #           'metric': 'mse', \n",
    "    #           'is_training_metric': True, \n",
    "    #           'feature_fraction': 0.9, \n",
    "    #           'bagging_fraction': 0.7, \n",
    "    #           'bagging_freq': 5, \n",
    "    #           'device': 'cpu'\n",
    "    #          }\n",
    "    # # 훈련\n",
    "    # model = lgb.train(params, train_ds, 1000, test_ds, verbose_eval=100, early_stopping_rounds=800)\n",
    "print(R2_lgb_gbdt) \n",
    "print(MAE_lgb_gbdt) \n",
    "print(MSE_lgb_gbdt) \n",
    "print(RMSE_lgb_gbdt) "
   ]
  },
  {
   "cell_type": "code",
   "execution_count": 0,
   "metadata": {
    "colab": {},
    "colab_type": "code",
    "id": "-d24W5JVR8sp"
   },
   "outputs": [],
   "source": [
    "import pickle\n",
    "with open('sample_data/R2_lgb_gbdt3.pkl', 'wb') as f:\n",
    "    pickle.dump(R2_lgb_gbdt, f) #피클파일 저장\n",
    "with open('sample_data/MAE_lgb_gbdt3.pkl', 'wb') as f:\n",
    "    pickle.dump(MAE_lgb_gbdt, f) #피클파일 저장\n",
    "with open('sample_data/MSE_lgb_gbdt3.pkl', 'wb') as f:\n",
    "    pickle.dump(MSE_lgb_gbdt, f) #피클파일 저장\n",
    "\n",
    "with open('sample_data/RMSE_lgb_gbdt3.pkl', 'wb') as f:\n",
    "    pickle.dump(RMSE_lgb_gbdt, f) #피클파일 저장"
   ]
  },
  {
   "cell_type": "code",
   "execution_count": 0,
   "metadata": {
    "colab": {},
    "colab_type": "code",
    "id": "WxDSzYDDR-bR"
   },
   "outputs": [],
   "source": [
    "### light gbm (시군구)"
   ]
  },
  {
   "cell_type": "code",
   "execution_count": 0,
   "metadata": {
    "colab": {},
    "colab_type": "code",
    "id": "e_WNZzhquwbM"
   },
   "outputs": [],
   "source": [
    "import pandas as pd \n",
    "df = pd.read_csv(\"df_grouped_rate.csv\", encoding ='utf-8')\n",
    "cgoongu = pd.read_csv(\"cgoongoo1.csv\", encoding ='utf-8')\n",
    "df_merged = pd.merge(df, cgoongu, on=['district'])\n",
    "df_merged.drop(['district','year'], axis=1, inplace =True)\n",
    "\n",
    "y=df_merged.iloc[:,1:2]\n",
    "X= df_merged.drop(['sales_total','code'],axis=1)\n",
    "\n",
    "X= X.iloc[:,1:]\n",
    "\n",
    "\n",
    "X['cgoongoo'] = X['cgoongoo'].astype('object')\n",
    "# # 더미변수화\n",
    "X = pd.get_dummies(X)  "
   ]
  },
  {
   "cell_type": "code",
   "execution_count": 0,
   "metadata": {
    "colab": {
     "base_uri": "https://localhost:8080/",
     "height": 1000
    },
    "colab_type": "code",
    "id": "bIjImsuzu0cx",
    "outputId": "bfea9712-9f6f-43af-fffa-614c1c43edbd"
   },
   "outputs": [
    {
     "name": "stdout",
     "output_type": "stream",
     "text": [
      "Training until validation scores don't improve for 500 rounds.\n",
      "[100]\tvalid_0's l2: 1.87608e+18\n",
      "[200]\tvalid_0's l2: 1.65832e+18\n",
      "[300]\tvalid_0's l2: 1.56145e+18\n",
      "[400]\tvalid_0's l2: 1.49985e+18\n",
      "[500]\tvalid_0's l2: 1.4522e+18\n",
      "[600]\tvalid_0's l2: 1.42083e+18\n",
      "[700]\tvalid_0's l2: 1.3999e+18\n",
      "[800]\tvalid_0's l2: 1.38123e+18\n",
      "[900]\tvalid_0's l2: 1.36781e+18\n",
      "[1000]\tvalid_0's l2: 1.35557e+18\n",
      "Did not meet early stopping. Best iteration is:\n",
      "[1000]\tvalid_0's l2: 1.35557e+18\n",
      "1 번째 시도\n",
      "==================================================\n",
      "==================================================\n",
      "Training until validation scores don't improve for 500 rounds.\n",
      "[100]\tvalid_0's l2: 1.94464e+18\n",
      "[200]\tvalid_0's l2: 1.70352e+18\n",
      "[300]\tvalid_0's l2: 1.59564e+18\n",
      "[400]\tvalid_0's l2: 1.5354e+18\n",
      "[500]\tvalid_0's l2: 1.4938e+18\n",
      "[600]\tvalid_0's l2: 1.46127e+18\n",
      "[700]\tvalid_0's l2: 1.43785e+18\n",
      "[800]\tvalid_0's l2: 1.42005e+18\n",
      "[900]\tvalid_0's l2: 1.40487e+18\n",
      "[1000]\tvalid_0's l2: 1.39127e+18\n",
      "Did not meet early stopping. Best iteration is:\n",
      "[1000]\tvalid_0's l2: 1.39127e+18\n",
      "2 번째 시도\n",
      "==================================================\n",
      "==================================================\n",
      "Training until validation scores don't improve for 500 rounds.\n",
      "[100]\tvalid_0's l2: 2.40076e+18\n",
      "[200]\tvalid_0's l2: 2.12131e+18\n",
      "[300]\tvalid_0's l2: 1.9877e+18\n",
      "[400]\tvalid_0's l2: 1.91008e+18\n",
      "[500]\tvalid_0's l2: 1.85466e+18\n",
      "[600]\tvalid_0's l2: 1.82011e+18\n",
      "[700]\tvalid_0's l2: 1.78935e+18\n",
      "[800]\tvalid_0's l2: 1.76745e+18\n",
      "[900]\tvalid_0's l2: 1.75121e+18\n",
      "[1000]\tvalid_0's l2: 1.73487e+18\n",
      "Did not meet early stopping. Best iteration is:\n",
      "[1000]\tvalid_0's l2: 1.73487e+18\n",
      "3 번째 시도\n",
      "==================================================\n",
      "==================================================\n",
      "Training until validation scores don't improve for 500 rounds.\n",
      "[100]\tvalid_0's l2: 1.7031e+18\n",
      "[200]\tvalid_0's l2: 1.53005e+18\n",
      "[300]\tvalid_0's l2: 1.45836e+18\n",
      "[400]\tvalid_0's l2: 1.40886e+18\n",
      "[500]\tvalid_0's l2: 1.3733e+18\n",
      "[600]\tvalid_0's l2: 1.34904e+18\n",
      "[700]\tvalid_0's l2: 1.32931e+18\n",
      "[800]\tvalid_0's l2: 1.31388e+18\n",
      "[900]\tvalid_0's l2: 1.29945e+18\n",
      "[1000]\tvalid_0's l2: 1.29003e+18\n",
      "Did not meet early stopping. Best iteration is:\n",
      "[1000]\tvalid_0's l2: 1.29003e+18\n",
      "4 번째 시도\n",
      "==================================================\n",
      "==================================================\n",
      "Training until validation scores don't improve for 500 rounds.\n",
      "[100]\tvalid_0's l2: 2.00887e+18\n",
      "[200]\tvalid_0's l2: 1.75824e+18\n",
      "[300]\tvalid_0's l2: 1.64536e+18\n",
      "[400]\tvalid_0's l2: 1.58631e+18\n",
      "[500]\tvalid_0's l2: 1.54282e+18\n",
      "[600]\tvalid_0's l2: 1.5089e+18\n",
      "[700]\tvalid_0's l2: 1.48517e+18\n",
      "[800]\tvalid_0's l2: 1.46612e+18\n",
      "[900]\tvalid_0's l2: 1.45086e+18\n",
      "[1000]\tvalid_0's l2: 1.43889e+18\n",
      "Did not meet early stopping. Best iteration is:\n",
      "[999]\tvalid_0's l2: 1.43888e+18\n",
      "5 번째 시도\n",
      "==================================================\n",
      "==================================================\n",
      "Training until validation scores don't improve for 500 rounds.\n",
      "[100]\tvalid_0's l2: 1.80683e+18\n",
      "[200]\tvalid_0's l2: 1.61597e+18\n",
      "[300]\tvalid_0's l2: 1.52695e+18\n",
      "[400]\tvalid_0's l2: 1.47997e+18\n",
      "[500]\tvalid_0's l2: 1.43965e+18\n",
      "[600]\tvalid_0's l2: 1.41191e+18\n",
      "[700]\tvalid_0's l2: 1.3927e+18\n",
      "[800]\tvalid_0's l2: 1.37671e+18\n",
      "[900]\tvalid_0's l2: 1.35862e+18\n",
      "[1000]\tvalid_0's l2: 1.34424e+18\n",
      "Did not meet early stopping. Best iteration is:\n",
      "[1000]\tvalid_0's l2: 1.34424e+18\n",
      "6 번째 시도\n",
      "==================================================\n",
      "==================================================\n",
      "Training until validation scores don't improve for 500 rounds.\n",
      "[100]\tvalid_0's l2: 2.01605e+18\n",
      "[200]\tvalid_0's l2: 1.77964e+18\n",
      "[300]\tvalid_0's l2: 1.67254e+18\n",
      "[400]\tvalid_0's l2: 1.60693e+18\n",
      "[500]\tvalid_0's l2: 1.55972e+18\n",
      "[600]\tvalid_0's l2: 1.53237e+18\n",
      "[700]\tvalid_0's l2: 1.50864e+18\n",
      "[800]\tvalid_0's l2: 1.49223e+18\n",
      "[900]\tvalid_0's l2: 1.47639e+18\n",
      "[1000]\tvalid_0's l2: 1.46342e+18\n",
      "Did not meet early stopping. Best iteration is:\n",
      "[1000]\tvalid_0's l2: 1.46342e+18\n",
      "7 번째 시도\n",
      "==================================================\n",
      "==================================================\n",
      "Training until validation scores don't improve for 500 rounds.\n",
      "[100]\tvalid_0's l2: 1.93107e+18\n",
      "[200]\tvalid_0's l2: 1.70022e+18\n",
      "[300]\tvalid_0's l2: 1.5981e+18\n",
      "[400]\tvalid_0's l2: 1.53589e+18\n",
      "[500]\tvalid_0's l2: 1.49326e+18\n",
      "[600]\tvalid_0's l2: 1.46069e+18\n",
      "[700]\tvalid_0's l2: 1.4431e+18\n",
      "[800]\tvalid_0's l2: 1.42519e+18\n",
      "[900]\tvalid_0's l2: 1.41175e+18\n",
      "[1000]\tvalid_0's l2: 1.401e+18\n",
      "Did not meet early stopping. Best iteration is:\n",
      "[1000]\tvalid_0's l2: 1.401e+18\n",
      "8 번째 시도\n",
      "==================================================\n",
      "==================================================\n",
      "Training until validation scores don't improve for 500 rounds.\n",
      "[100]\tvalid_0's l2: 1.95036e+18\n",
      "[200]\tvalid_0's l2: 1.69753e+18\n",
      "[300]\tvalid_0's l2: 1.5904e+18\n",
      "[400]\tvalid_0's l2: 1.52801e+18\n",
      "[500]\tvalid_0's l2: 1.48253e+18\n",
      "[600]\tvalid_0's l2: 1.45446e+18\n",
      "[700]\tvalid_0's l2: 1.43253e+18\n",
      "[800]\tvalid_0's l2: 1.41486e+18\n",
      "[900]\tvalid_0's l2: 1.40037e+18\n",
      "[1000]\tvalid_0's l2: 1.38926e+18\n",
      "Did not meet early stopping. Best iteration is:\n",
      "[1000]\tvalid_0's l2: 1.38926e+18\n",
      "9 번째 시도\n",
      "==================================================\n",
      "==================================================\n",
      "Training until validation scores don't improve for 500 rounds.\n",
      "[100]\tvalid_0's l2: 2.11485e+18\n",
      "[200]\tvalid_0's l2: 1.87087e+18\n",
      "[300]\tvalid_0's l2: 1.75539e+18\n",
      "[400]\tvalid_0's l2: 1.68887e+18\n",
      "[500]\tvalid_0's l2: 1.6402e+18\n",
      "[600]\tvalid_0's l2: 1.61011e+18\n",
      "[700]\tvalid_0's l2: 1.58477e+18\n",
      "[800]\tvalid_0's l2: 1.5646e+18\n",
      "[900]\tvalid_0's l2: 1.54996e+18\n",
      "[1000]\tvalid_0's l2: 1.53733e+18\n",
      "Did not meet early stopping. Best iteration is:\n",
      "[1000]\tvalid_0's l2: 1.53733e+18\n",
      "10 번째 시도\n",
      "==================================================\n",
      "==================================================\n"
     ]
    }
   ],
   "source": [
    "import lightgbm as lgb\n",
    "from sklearn.metrics import mean_squared_error, r2_score\n",
    "import seaborn as sns\n",
    "from sklearn.model_selection import train_test_split\n",
    "R2_lgb_gbdt_c = []\n",
    "MAE_lgb_gbdt_c = []\n",
    "MSE_lgb_gbdt_c = []\n",
    "RMSE_lgb_gbdt_c = []\n",
    "for i in range(10):\n",
    "    train_x, test_x, train_y, test_y = train_test_split(X, y, test_size=0.2)\n",
    "\n",
    "\n",
    "#     model = lgb.LGBMClassifier(n_estimators=100, max_depth=1, random_state=0)\n",
    "   # 데이터셋으로 변환\n",
    "    train_ds = lgb.Dataset(train_x, label = train_y) \n",
    "    test_ds = lgb.Dataset(test_x, label = test_y) \n",
    "   \n",
    "  #파라미터 설정\n",
    "    params = {'learning_rate': 0.01, \n",
    "              'max_depth': 16, \n",
    "              'boosting': 'gbdt', \n",
    "              'objective': 'regression', \n",
    "              'metric': 'mse', \n",
    "              'is_training_metric': True, \n",
    "              'feature_fraction': 0.9, \n",
    "              'bagging_fraction': 0.7, \n",
    "              'bagging_freq': 5, \n",
    "              'device': 'cpu'\n",
    "             }\n",
    "    # 훈련\n",
    "    model = lgb.train(params, train_ds, 1000, test_ds, verbose_eval=100, early_stopping_rounds=500)\n",
    "#     predict_train = model.predict(train_x)\n",
    "    y_pred = model.predict(test_x)\n",
    "    print(i+1,\"번째 시도\")\n",
    "\n",
    "    # 오차 결과값\n",
    "    R2_lgb_gbdt_c.append(r2_score(test_y , y_pred))\n",
    "    MAE_lgb_gbdt_c.append(metrics.mean_absolute_error(test_y, y_pred))\n",
    "    MSE_lgb_gbdt_c.append(metrics.mean_squared_error(test_y, y_pred))\n",
    "    RMSE_lgb_gbdt_c.append(np.sqrt(metrics.mean_squared_error(test_y, y_pred)))\n",
    "    print('='*50)\n",
    "    print('='*50)\n"
   ]
  },
  {
   "cell_type": "code",
   "execution_count": 0,
   "metadata": {
    "colab": {
     "base_uri": "https://localhost:8080/",
     "height": 112
    },
    "colab_type": "code",
    "id": "MK1nP6unvG1y",
    "outputId": "524c2539-fc5b-4d06-dd70-9b5748ea092a"
   },
   "outputs": [
    {
     "name": "stdout",
     "output_type": "stream",
     "text": [
      "[0.4869243682813107, 0.4969586939016368, 0.4717976446032055, 0.4483059047574688, 0.4935597933111723, 0.46686892511734157, 0.47956542569401184, 0.49730192582154087, 0.509469864478052, 0.4786290008843941]\n",
      "[578685890.4528376, 580480601.5095115, 585013336.5057452, 571079507.0456218, 580981599.8670824, 578590321.1315088, 568021931.0356071, 577652264.5576637, 573641985.5481981, 575364452.8384377]\n",
      "[1.3555716891182006e+18, 1.3912720364242404e+18, 1.7348700208126218e+18, 1.29002975880089e+18, 1.4388788228636772e+18, 1.3442439718859133e+18, 1.4634191404936694e+18, 1.4009976329149673e+18, 1.3892573984194092e+18, 1.5373346877343828e+18]\n",
      "[1164290208.2892394, 1179521952.4978077, 1317144646.88303, 1135794769.6661093, 1199532751.892868, 1159415357.7928462, 1209718620.3798258, 1183637458.3946586, 1178667636.961077, 1239893014.6324654]\n"
     ]
    }
   ],
   "source": [
    "print(R2_lgb_gbdt_c)\n",
    "print(MAE_lgb_gbdt_c)\n",
    "print(MSE_lgb_gbdt_c)\n",
    "print(RMSE_lgb_gbdt_c)"
   ]
  },
  {
   "cell_type": "code",
   "execution_count": 0,
   "metadata": {
    "colab": {},
    "colab_type": "code",
    "id": "jTyy5HxIv0Qz"
   },
   "outputs": [],
   "source": [
    "import pickle\n",
    "with open('sample_data/R2_lgb_gbdt_c.pkl', 'wb') as f:\n",
    "    pickle.dump(R2_lgb_gbdt_c, f) #피클파일 저장\n",
    "with open('sample_data/MAE_lgb_gbdt_c.pkl', 'wb') as f:\n",
    "    pickle.dump(MAE_lgb_gbdt_c, f) #피클파일 저장\n",
    "with open('sample_data/MSE_lgb_gbdt_c.pkl', 'wb') as f:\n",
    "    pickle.dump(MSE_lgb_gbdt_c, f) #피클파일 저장\n",
    "\n",
    "with open('sample_data/RMSE_lgb_gbdt_c.pkl', 'wb') as f:\n",
    "    pickle.dump(RMSE_lgb_gbdt_c, f) #피클파일 저장"
   ]
  },
  {
   "cell_type": "code",
   "execution_count": 0,
   "metadata": {
    "colab": {},
    "colab_type": "code",
    "id": "KiI3-yPXv-9u"
   },
   "outputs": [],
   "source": [
    "####  Agglomerative clustering"
   ]
  },
  {
   "cell_type": "code",
   "execution_count": 0,
   "metadata": {
    "colab": {},
    "colab_type": "code",
    "id": "x17H11sfMzWD"
   },
   "outputs": [],
   "source": [
    "import numpy as np\n",
    "import pandas as pd\n",
    "from sklearn.preprocessing import LabelEncoder, OneHotEncoder\n",
    "from sklearn.preprocessing import RobustScaler\n",
    "import seaborn as sns\n",
    "import statsmodels.api as sm\n",
    "from sklearn.model_selection import train_test_split\n",
    "\n",
    "from sklearn.cluster import AgglomerativeClustering\n",
    "\n",
    "from sklearn.linear_model import LinearRegression\n",
    "from sklearn import metrics\n",
    "\n",
    "import matplotlib.pyplot as plt"
   ]
  },
  {
   "cell_type": "code",
   "execution_count": 2,
   "metadata": {
    "colab": {
     "base_uri": "https://localhost:8080/",
     "height": 148
    },
    "colab_type": "code",
    "id": "BfS1dmZ4m2YA",
    "outputId": "d9ba9f47-92f4-4454-bb83-9a8eb45e73ae"
   },
   "outputs": [
    {
     "data": {
      "text/plain": [
       "Index(['year', 'district', 'code', 'sales_total', 's_store_no_of_store',\n",
       "       's_store_no_of_opening', 's_store_no_of_closing', 's_work_female',\n",
       "       's_float_male', 's_float_female', 'b_facil_total', 'b_apt_avg_price',\n",
       "       'b_income_avg_monthly_inc', 'sales_weekday', 'sales_female',\n",
       "       'sales_2030s', 'sales_06_11', 'sales_11_14', 'sales_14_17',\n",
       "       'sales_17_21', 'sales_21_24'],\n",
       "      dtype='object')"
      ]
     },
     "execution_count": 2,
     "metadata": {
      "tags": []
     },
     "output_type": "execute_result"
    }
   ],
   "source": [
    "\n",
    "import pandas as pd \n",
    "df = pd.read_csv(\"df_grouped_rate.csv\", encoding ='utf-8')\n",
    "df.columns"
   ]
  },
  {
   "cell_type": "code",
   "execution_count": 3,
   "metadata": {
    "colab": {
     "base_uri": "https://localhost:8080/",
     "height": 36
    },
    "colab_type": "code",
    "id": "mdEhqElKE2ud",
    "outputId": "b065a7dc-f4a1-42d2-c0da-06ba2918eab0"
   },
   "outputs": [
    {
     "data": {
      "text/plain": [
       "(113265, 21)"
      ]
     },
     "execution_count": 3,
     "metadata": {
      "tags": []
     },
     "output_type": "execute_result"
    }
   ],
   "source": [
    "df.shape"
   ]
  },
  {
   "cell_type": "code",
   "execution_count": 4,
   "metadata": {
    "colab": {
     "base_uri": "https://localhost:8080/",
     "height": 129
    },
    "colab_type": "code",
    "id": "VBO1VKkBM5YD",
    "outputId": "5cae8c8f-4420-4b43-9485-765a537ea5f2"
   },
   "outputs": [
    {
     "data": {
      "text/plain": [
       "Index(['s_store_no_of_store', 's_store_no_of_opening', 's_store_no_of_closing',\n",
       "       's_work_female', 's_float_male', 's_float_female', 'b_facil_total',\n",
       "       'b_apt_avg_price', 'b_income_avg_monthly_inc', 'sales_weekday',\n",
       "       'sales_female', 'sales_2030s', 'sales_06_11', 'sales_11_14',\n",
       "       'sales_14_17', 'sales_17_21', 'sales_21_24'],\n",
       "      dtype='object')"
      ]
     },
     "execution_count": 4,
     "metadata": {
      "tags": []
     },
     "output_type": "execute_result"
    }
   ],
   "source": [
    "\n",
    "\n",
    "df.drop(['year', 'district', 'code'], axis=1, inplace =True)\n",
    "\n",
    "np.random.seed(seed=100)\n",
    "idx= np.random.uniform(0, df.shape[0], size=50000 )\n",
    "\n",
    "y=df.iloc[idx,0:1]\n",
    "X= df.drop(['sales_total'],axis=1)\n",
    "X=X.iloc[idx]\n",
    "X.columns"
   ]
  },
  {
   "cell_type": "code",
   "execution_count": 5,
   "metadata": {
    "colab": {
     "base_uri": "https://localhost:8080/",
     "height": 73
    },
    "colab_type": "code",
    "id": "C1bWJg6INPBi",
    "outputId": "a6629dd4-f027-4c4b-f321-e8a87b7578a5"
   },
   "outputs": [
    {
     "data": {
      "text/plain": [
       "AgglomerativeClustering(affinity='euclidean', compute_full_tree='auto',\n",
       "                        connectivity=None, distance_threshold=None,\n",
       "                        linkage='ward', memory=None, n_clusters=8)"
      ]
     },
     "execution_count": 5,
     "metadata": {
      "tags": []
     },
     "output_type": "execute_result"
    }
   ],
   "source": [
    "aggcl = AgglomerativeClustering(n_clusters=8)\n",
    "aggcl.fit(X)"
   ]
  },
  {
   "cell_type": "code",
   "execution_count": 6,
   "metadata": {
    "colab": {
     "base_uri": "https://localhost:8080/",
     "height": 36
    },
    "colab_type": "code",
    "id": "b4F8l_ALNeTg",
    "outputId": "473a164b-00f5-4b30-e662-125a8dbfc843"
   },
   "outputs": [
    {
     "data": {
      "text/plain": [
       "(50000, 1)"
      ]
     },
     "execution_count": 6,
     "metadata": {
      "tags": []
     },
     "output_type": "execute_result"
    }
   ],
   "source": [
    "# 클러스터링 데이터로 라벨링하여 기존 상권코드 데이터와 교체\n",
    "y_pred = aggcl.labels_\n",
    "y_pred_df= pd.DataFrame(y_pred, columns=['labels'], dtype=str)\n",
    "y_pred_df.shape"
   ]
  },
  {
   "cell_type": "code",
   "execution_count": 0,
   "metadata": {
    "colab": {},
    "colab_type": "code",
    "id": "Pav-DMQPVx-z"
   },
   "outputs": [],
   "source": [
    "# X=X.drop('cgoongoo', axis=1)"
   ]
  },
  {
   "cell_type": "code",
   "execution_count": 8,
   "metadata": {
    "colab": {
     "base_uri": "https://localhost:8080/",
     "height": 36
    },
    "colab_type": "code",
    "id": "6eCgHggFZ-0N",
    "outputId": "c2049e96-6079-4aca-8ef0-ae3cdf83792d"
   },
   "outputs": [
    {
     "data": {
      "text/plain": [
       "((50000, 18), (50000, 1))"
      ]
     },
     "execution_count": 8,
     "metadata": {
      "tags": []
     },
     "output_type": "execute_result"
    }
   ],
   "source": [
    "X.reset_index().shape, y_pred_df.shape"
   ]
  },
  {
   "cell_type": "code",
   "execution_count": 9,
   "metadata": {
    "colab": {
     "base_uri": "https://localhost:8080/",
     "height": 435
    },
    "colab_type": "code",
    "id": "XJRrPD5PahtT",
    "outputId": "38a0fab2-1cea-44ba-8129-5b3fa2d8368a"
   },
   "outputs": [
    {
     "data": {
      "text/html": [
       "<div>\n",
       "<style scoped>\n",
       "    .dataframe tbody tr th:only-of-type {\n",
       "        vertical-align: middle;\n",
       "    }\n",
       "\n",
       "    .dataframe tbody tr th {\n",
       "        vertical-align: top;\n",
       "    }\n",
       "\n",
       "    .dataframe thead th {\n",
       "        text-align: right;\n",
       "    }\n",
       "</style>\n",
       "<table border=\"1\" class=\"dataframe\">\n",
       "  <thead>\n",
       "    <tr style=\"text-align: right;\">\n",
       "      <th></th>\n",
       "      <th>s_store_no_of_store</th>\n",
       "      <th>s_store_no_of_opening</th>\n",
       "      <th>s_store_no_of_closing</th>\n",
       "      <th>s_work_female</th>\n",
       "      <th>s_float_male</th>\n",
       "      <th>s_float_female</th>\n",
       "      <th>b_facil_total</th>\n",
       "      <th>b_apt_avg_price</th>\n",
       "      <th>b_income_avg_monthly_inc</th>\n",
       "      <th>sales_weekday</th>\n",
       "      <th>sales_female</th>\n",
       "      <th>sales_2030s</th>\n",
       "      <th>sales_06_11</th>\n",
       "      <th>sales_11_14</th>\n",
       "      <th>sales_14_17</th>\n",
       "      <th>sales_17_21</th>\n",
       "      <th>sales_21_24</th>\n",
       "    </tr>\n",
       "  </thead>\n",
       "  <tbody>\n",
       "    <tr>\n",
       "      <th>0</th>\n",
       "      <td>3.0</td>\n",
       "      <td>1</td>\n",
       "      <td>1</td>\n",
       "      <td>7135</td>\n",
       "      <td>688124</td>\n",
       "      <td>604535</td>\n",
       "      <td>117.0</td>\n",
       "      <td>312231361.0</td>\n",
       "      <td>4810298.0</td>\n",
       "      <td>0.739181</td>\n",
       "      <td>0.532247</td>\n",
       "      <td>0.274022</td>\n",
       "      <td>0.075964</td>\n",
       "      <td>0.167462</td>\n",
       "      <td>0.220359</td>\n",
       "      <td>0.456528</td>\n",
       "      <td>0.079461</td>\n",
       "    </tr>\n",
       "    <tr>\n",
       "      <th>1</th>\n",
       "      <td>1.0</td>\n",
       "      <td>0</td>\n",
       "      <td>0</td>\n",
       "      <td>669</td>\n",
       "      <td>244074</td>\n",
       "      <td>395683</td>\n",
       "      <td>36.0</td>\n",
       "      <td>96916214.0</td>\n",
       "      <td>3087663.0</td>\n",
       "      <td>0.598584</td>\n",
       "      <td>0.378398</td>\n",
       "      <td>0.330811</td>\n",
       "      <td>0.004404</td>\n",
       "      <td>0.344877</td>\n",
       "      <td>0.165652</td>\n",
       "      <td>0.418075</td>\n",
       "      <td>0.060234</td>\n",
       "    </tr>\n",
       "    <tr>\n",
       "      <th>2</th>\n",
       "      <td>1.0</td>\n",
       "      <td>0</td>\n",
       "      <td>0</td>\n",
       "      <td>2238</td>\n",
       "      <td>503634</td>\n",
       "      <td>502405</td>\n",
       "      <td>33.0</td>\n",
       "      <td>365619838.0</td>\n",
       "      <td>4300607.5</td>\n",
       "      <td>0.703480</td>\n",
       "      <td>0.281288</td>\n",
       "      <td>0.741517</td>\n",
       "      <td>0.017438</td>\n",
       "      <td>0.021386</td>\n",
       "      <td>0.091194</td>\n",
       "      <td>0.261061</td>\n",
       "      <td>0.330326</td>\n",
       "    </tr>\n",
       "    <tr>\n",
       "      <th>3</th>\n",
       "      <td>2.0</td>\n",
       "      <td>0</td>\n",
       "      <td>0</td>\n",
       "      <td>232</td>\n",
       "      <td>49559</td>\n",
       "      <td>47015</td>\n",
       "      <td>65.0</td>\n",
       "      <td>172956039.0</td>\n",
       "      <td>3144674.0</td>\n",
       "      <td>0.730095</td>\n",
       "      <td>0.290177</td>\n",
       "      <td>0.274086</td>\n",
       "      <td>0.000960</td>\n",
       "      <td>0.192594</td>\n",
       "      <td>0.049052</td>\n",
       "      <td>0.308740</td>\n",
       "      <td>0.310887</td>\n",
       "    </tr>\n",
       "    <tr>\n",
       "      <th>4</th>\n",
       "      <td>5.0</td>\n",
       "      <td>0</td>\n",
       "      <td>0</td>\n",
       "      <td>2505</td>\n",
       "      <td>864259</td>\n",
       "      <td>757026</td>\n",
       "      <td>81.0</td>\n",
       "      <td>187031693.0</td>\n",
       "      <td>3842065.0</td>\n",
       "      <td>0.732971</td>\n",
       "      <td>0.578173</td>\n",
       "      <td>0.368358</td>\n",
       "      <td>0.062943</td>\n",
       "      <td>0.166861</td>\n",
       "      <td>0.204464</td>\n",
       "      <td>0.382105</td>\n",
       "      <td>0.183034</td>\n",
       "    </tr>\n",
       "    <tr>\n",
       "      <th>...</th>\n",
       "      <td>...</td>\n",
       "      <td>...</td>\n",
       "      <td>...</td>\n",
       "      <td>...</td>\n",
       "      <td>...</td>\n",
       "      <td>...</td>\n",
       "      <td>...</td>\n",
       "      <td>...</td>\n",
       "      <td>...</td>\n",
       "      <td>...</td>\n",
       "      <td>...</td>\n",
       "      <td>...</td>\n",
       "      <td>...</td>\n",
       "      <td>...</td>\n",
       "      <td>...</td>\n",
       "      <td>...</td>\n",
       "      <td>...</td>\n",
       "    </tr>\n",
       "    <tr>\n",
       "      <th>49995</th>\n",
       "      <td>0.0</td>\n",
       "      <td>0</td>\n",
       "      <td>0</td>\n",
       "      <td>2368</td>\n",
       "      <td>456845</td>\n",
       "      <td>480017</td>\n",
       "      <td>127.5</td>\n",
       "      <td>135682545.0</td>\n",
       "      <td>3191073.0</td>\n",
       "      <td>0.941419</td>\n",
       "      <td>0.829897</td>\n",
       "      <td>0.543661</td>\n",
       "      <td>0.099198</td>\n",
       "      <td>0.257773</td>\n",
       "      <td>0.136528</td>\n",
       "      <td>0.478023</td>\n",
       "      <td>0.028478</td>\n",
       "    </tr>\n",
       "    <tr>\n",
       "      <th>49996</th>\n",
       "      <td>2.0</td>\n",
       "      <td>0</td>\n",
       "      <td>0</td>\n",
       "      <td>213</td>\n",
       "      <td>283924</td>\n",
       "      <td>241885</td>\n",
       "      <td>133.0</td>\n",
       "      <td>141714002.0</td>\n",
       "      <td>3261794.0</td>\n",
       "      <td>0.936081</td>\n",
       "      <td>0.446482</td>\n",
       "      <td>0.198954</td>\n",
       "      <td>0.087368</td>\n",
       "      <td>0.304780</td>\n",
       "      <td>0.510639</td>\n",
       "      <td>0.097213</td>\n",
       "      <td>0.000000</td>\n",
       "    </tr>\n",
       "    <tr>\n",
       "      <th>49997</th>\n",
       "      <td>4.0</td>\n",
       "      <td>0</td>\n",
       "      <td>0</td>\n",
       "      <td>4</td>\n",
       "      <td>232564</td>\n",
       "      <td>213015</td>\n",
       "      <td>81.0</td>\n",
       "      <td>132795528.0</td>\n",
       "      <td>3770782.0</td>\n",
       "      <td>0.000000</td>\n",
       "      <td>1.000000</td>\n",
       "      <td>1.000000</td>\n",
       "      <td>0.000000</td>\n",
       "      <td>0.000000</td>\n",
       "      <td>0.000000</td>\n",
       "      <td>1.000000</td>\n",
       "      <td>0.000000</td>\n",
       "    </tr>\n",
       "    <tr>\n",
       "      <th>49998</th>\n",
       "      <td>8.5</td>\n",
       "      <td>1</td>\n",
       "      <td>1</td>\n",
       "      <td>536</td>\n",
       "      <td>964558</td>\n",
       "      <td>972243</td>\n",
       "      <td>54.0</td>\n",
       "      <td>122299667.0</td>\n",
       "      <td>3798605.5</td>\n",
       "      <td>0.597400</td>\n",
       "      <td>0.676737</td>\n",
       "      <td>0.360465</td>\n",
       "      <td>0.019925</td>\n",
       "      <td>0.244515</td>\n",
       "      <td>0.321024</td>\n",
       "      <td>0.407531</td>\n",
       "      <td>0.007005</td>\n",
       "    </tr>\n",
       "    <tr>\n",
       "      <th>49999</th>\n",
       "      <td>1.0</td>\n",
       "      <td>0</td>\n",
       "      <td>0</td>\n",
       "      <td>115</td>\n",
       "      <td>36406</td>\n",
       "      <td>42991</td>\n",
       "      <td>38.0</td>\n",
       "      <td>114986915.0</td>\n",
       "      <td>2901115.0</td>\n",
       "      <td>0.791840</td>\n",
       "      <td>0.302664</td>\n",
       "      <td>0.006661</td>\n",
       "      <td>0.000000</td>\n",
       "      <td>0.135304</td>\n",
       "      <td>0.376978</td>\n",
       "      <td>0.300375</td>\n",
       "      <td>0.187344</td>\n",
       "    </tr>\n",
       "  </tbody>\n",
       "</table>\n",
       "<p>50000 rows × 17 columns</p>\n",
       "</div>"
      ],
      "text/plain": [
       "       s_store_no_of_store  s_store_no_of_opening  ...  sales_17_21  sales_21_24\n",
       "0                      3.0                      1  ...     0.456528     0.079461\n",
       "1                      1.0                      0  ...     0.418075     0.060234\n",
       "2                      1.0                      0  ...     0.261061     0.330326\n",
       "3                      2.0                      0  ...     0.308740     0.310887\n",
       "4                      5.0                      0  ...     0.382105     0.183034\n",
       "...                    ...                    ...  ...          ...          ...\n",
       "49995                  0.0                      0  ...     0.478023     0.028478\n",
       "49996                  2.0                      0  ...     0.097213     0.000000\n",
       "49997                  4.0                      0  ...     1.000000     0.000000\n",
       "49998                  8.5                      1  ...     0.407531     0.007005\n",
       "49999                  1.0                      0  ...     0.300375     0.187344\n",
       "\n",
       "[50000 rows x 17 columns]"
      ]
     },
     "execution_count": 9,
     "metadata": {
      "tags": []
     },
     "output_type": "execute_result"
    }
   ],
   "source": [
    "X.reset_index(drop=True)"
   ]
  },
  {
   "cell_type": "code",
   "execution_count": 10,
   "metadata": {
    "colab": {
     "base_uri": "https://localhost:8080/",
     "height": 36
    },
    "colab_type": "code",
    "id": "pfSLqf5HTfD0",
    "outputId": "d4acbee1-b9e5-4f04-c073-c41e164d2d6b"
   },
   "outputs": [
    {
     "data": {
      "text/plain": [
       "(50000, 18)"
      ]
     },
     "execution_count": 10,
     "metadata": {
      "tags": []
     },
     "output_type": "execute_result"
    }
   ],
   "source": [
    "\n",
    "X = pd.concat([y_pred_df, X.reset_index(drop=True)],axis=1) # Sales_total 속성은 맞추고자 하는 속성이므로 X에 포함되어서는 안됩니다.\n",
    "X.shape"
   ]
  },
  {
   "cell_type": "code",
   "execution_count": 11,
   "metadata": {
    "colab": {
     "base_uri": "https://localhost:8080/",
     "height": 222
    },
    "colab_type": "code",
    "id": "CdgL5yeiNpi9",
    "outputId": "9bccdd95-df01-49fa-9857-5fa9aed5b0a3"
   },
   "outputs": [
    {
     "data": {
      "text/html": [
       "<div>\n",
       "<style scoped>\n",
       "    .dataframe tbody tr th:only-of-type {\n",
       "        vertical-align: middle;\n",
       "    }\n",
       "\n",
       "    .dataframe tbody tr th {\n",
       "        vertical-align: top;\n",
       "    }\n",
       "\n",
       "    .dataframe thead th {\n",
       "        text-align: right;\n",
       "    }\n",
       "</style>\n",
       "<table border=\"1\" class=\"dataframe\">\n",
       "  <thead>\n",
       "    <tr style=\"text-align: right;\">\n",
       "      <th></th>\n",
       "      <th>s_store_no_of_store</th>\n",
       "      <th>s_store_no_of_opening</th>\n",
       "      <th>s_store_no_of_closing</th>\n",
       "      <th>s_work_female</th>\n",
       "      <th>s_float_male</th>\n",
       "      <th>s_float_female</th>\n",
       "      <th>b_facil_total</th>\n",
       "      <th>b_apt_avg_price</th>\n",
       "      <th>b_income_avg_monthly_inc</th>\n",
       "      <th>sales_weekday</th>\n",
       "      <th>sales_female</th>\n",
       "      <th>sales_2030s</th>\n",
       "      <th>sales_06_11</th>\n",
       "      <th>sales_11_14</th>\n",
       "      <th>sales_14_17</th>\n",
       "      <th>sales_17_21</th>\n",
       "      <th>sales_21_24</th>\n",
       "      <th>labels_0</th>\n",
       "      <th>labels_1</th>\n",
       "      <th>labels_2</th>\n",
       "      <th>labels_3</th>\n",
       "      <th>labels_4</th>\n",
       "      <th>labels_5</th>\n",
       "      <th>labels_6</th>\n",
       "      <th>labels_7</th>\n",
       "    </tr>\n",
       "  </thead>\n",
       "  <tbody>\n",
       "    <tr>\n",
       "      <th>49995</th>\n",
       "      <td>0.0</td>\n",
       "      <td>0</td>\n",
       "      <td>0</td>\n",
       "      <td>2368</td>\n",
       "      <td>456845</td>\n",
       "      <td>480017</td>\n",
       "      <td>127.5</td>\n",
       "      <td>135682545.0</td>\n",
       "      <td>3191073.0</td>\n",
       "      <td>0.941419</td>\n",
       "      <td>0.829897</td>\n",
       "      <td>0.543661</td>\n",
       "      <td>0.099198</td>\n",
       "      <td>0.257773</td>\n",
       "      <td>0.136528</td>\n",
       "      <td>0.478023</td>\n",
       "      <td>0.028478</td>\n",
       "      <td>0</td>\n",
       "      <td>1</td>\n",
       "      <td>0</td>\n",
       "      <td>0</td>\n",
       "      <td>0</td>\n",
       "      <td>0</td>\n",
       "      <td>0</td>\n",
       "      <td>0</td>\n",
       "    </tr>\n",
       "    <tr>\n",
       "      <th>49996</th>\n",
       "      <td>2.0</td>\n",
       "      <td>0</td>\n",
       "      <td>0</td>\n",
       "      <td>213</td>\n",
       "      <td>283924</td>\n",
       "      <td>241885</td>\n",
       "      <td>133.0</td>\n",
       "      <td>141714002.0</td>\n",
       "      <td>3261794.0</td>\n",
       "      <td>0.936081</td>\n",
       "      <td>0.446482</td>\n",
       "      <td>0.198954</td>\n",
       "      <td>0.087368</td>\n",
       "      <td>0.304780</td>\n",
       "      <td>0.510639</td>\n",
       "      <td>0.097213</td>\n",
       "      <td>0.000000</td>\n",
       "      <td>0</td>\n",
       "      <td>1</td>\n",
       "      <td>0</td>\n",
       "      <td>0</td>\n",
       "      <td>0</td>\n",
       "      <td>0</td>\n",
       "      <td>0</td>\n",
       "      <td>0</td>\n",
       "    </tr>\n",
       "    <tr>\n",
       "      <th>49997</th>\n",
       "      <td>4.0</td>\n",
       "      <td>0</td>\n",
       "      <td>0</td>\n",
       "      <td>4</td>\n",
       "      <td>232564</td>\n",
       "      <td>213015</td>\n",
       "      <td>81.0</td>\n",
       "      <td>132795528.0</td>\n",
       "      <td>3770782.0</td>\n",
       "      <td>0.000000</td>\n",
       "      <td>1.000000</td>\n",
       "      <td>1.000000</td>\n",
       "      <td>0.000000</td>\n",
       "      <td>0.000000</td>\n",
       "      <td>0.000000</td>\n",
       "      <td>1.000000</td>\n",
       "      <td>0.000000</td>\n",
       "      <td>0</td>\n",
       "      <td>1</td>\n",
       "      <td>0</td>\n",
       "      <td>0</td>\n",
       "      <td>0</td>\n",
       "      <td>0</td>\n",
       "      <td>0</td>\n",
       "      <td>0</td>\n",
       "    </tr>\n",
       "    <tr>\n",
       "      <th>49998</th>\n",
       "      <td>8.5</td>\n",
       "      <td>1</td>\n",
       "      <td>1</td>\n",
       "      <td>536</td>\n",
       "      <td>964558</td>\n",
       "      <td>972243</td>\n",
       "      <td>54.0</td>\n",
       "      <td>122299667.0</td>\n",
       "      <td>3798605.5</td>\n",
       "      <td>0.597400</td>\n",
       "      <td>0.676737</td>\n",
       "      <td>0.360465</td>\n",
       "      <td>0.019925</td>\n",
       "      <td>0.244515</td>\n",
       "      <td>0.321024</td>\n",
       "      <td>0.407531</td>\n",
       "      <td>0.007005</td>\n",
       "      <td>0</td>\n",
       "      <td>1</td>\n",
       "      <td>0</td>\n",
       "      <td>0</td>\n",
       "      <td>0</td>\n",
       "      <td>0</td>\n",
       "      <td>0</td>\n",
       "      <td>0</td>\n",
       "    </tr>\n",
       "    <tr>\n",
       "      <th>49999</th>\n",
       "      <td>1.0</td>\n",
       "      <td>0</td>\n",
       "      <td>0</td>\n",
       "      <td>115</td>\n",
       "      <td>36406</td>\n",
       "      <td>42991</td>\n",
       "      <td>38.0</td>\n",
       "      <td>114986915.0</td>\n",
       "      <td>2901115.0</td>\n",
       "      <td>0.791840</td>\n",
       "      <td>0.302664</td>\n",
       "      <td>0.006661</td>\n",
       "      <td>0.000000</td>\n",
       "      <td>0.135304</td>\n",
       "      <td>0.376978</td>\n",
       "      <td>0.300375</td>\n",
       "      <td>0.187344</td>\n",
       "      <td>0</td>\n",
       "      <td>1</td>\n",
       "      <td>0</td>\n",
       "      <td>0</td>\n",
       "      <td>0</td>\n",
       "      <td>0</td>\n",
       "      <td>0</td>\n",
       "      <td>0</td>\n",
       "    </tr>\n",
       "  </tbody>\n",
       "</table>\n",
       "</div>"
      ],
      "text/plain": [
       "       s_store_no_of_store  s_store_no_of_opening  ...  labels_6  labels_7\n",
       "49995                  0.0                      0  ...         0         0\n",
       "49996                  2.0                      0  ...         0         0\n",
       "49997                  4.0                      0  ...         0         0\n",
       "49998                  8.5                      1  ...         0         0\n",
       "49999                  1.0                      0  ...         0         0\n",
       "\n",
       "[5 rows x 25 columns]"
      ]
     },
     "execution_count": 11,
     "metadata": {
      "tags": []
     },
     "output_type": "execute_result"
    }
   ],
   "source": [
    "# 더미변수화\n",
    "X['labels']=X['labels'].astype('object')\n",
    "X_dum = pd.get_dummies(X)\n",
    "X_dum.tail()"
   ]
  },
  {
   "cell_type": "code",
   "execution_count": 12,
   "metadata": {
    "colab": {
     "base_uri": "https://localhost:8080/",
     "height": 36
    },
    "colab_type": "code",
    "id": "tf-TQQEiXkWE",
    "outputId": "62e66147-8ccd-4380-ca2c-0074375b0084"
   },
   "outputs": [
    {
     "data": {
      "text/plain": [
       "((50000, 1), (50000, 25))"
      ]
     },
     "execution_count": 12,
     "metadata": {
      "tags": []
     },
     "output_type": "execute_result"
    }
   ],
   "source": [
    "y=df.iloc[idx,0:1]\n",
    "y.shape, X_dum.shape"
   ]
  },
  {
   "cell_type": "code",
   "execution_count": 13,
   "metadata": {
    "colab": {
     "base_uri": "https://localhost:8080/",
     "height": 951
    },
    "colab_type": "code",
    "id": "iPNJgWzGWxXh",
    "outputId": "0657c29c-6a5f-4a67-987a-2eb5ada128bb"
   },
   "outputs": [
    {
     "name": "stdout",
     "output_type": "stream",
     "text": [
      "1 번째 시도\n",
      "0.323007124969502\n",
      "0.25204576027436754\n",
      "==================================================\n",
      "==================================================\n",
      "2 번째 시도\n",
      "0.2867025328578\n",
      "0.3376497618886476\n",
      "==================================================\n",
      "==================================================\n",
      "3 번째 시도\n",
      "0.30565281400940025\n",
      "0.2964995692575333\n",
      "==================================================\n",
      "==================================================\n",
      "4 번째 시도\n",
      "0.2966025168669594\n",
      "0.31580085583787687\n",
      "==================================================\n",
      "==================================================\n",
      "5 번째 시도\n",
      "0.3040172348385909\n",
      "0.29911226813458325\n",
      "==================================================\n",
      "==================================================\n",
      "6 번째 시도\n",
      "0.3206602900621224\n",
      "0.2582768202313487\n",
      "==================================================\n",
      "==================================================\n",
      "7 번째 시도\n",
      "0.2955982324581572\n",
      "0.3207469581503172\n",
      "==================================================\n",
      "==================================================\n",
      "8 번째 시도\n",
      "0.28062263558127476\n",
      "0.3484285981855445\n",
      "==================================================\n",
      "==================================================\n",
      "9 번째 시도\n",
      "0.29992981594296764\n",
      "0.309005702365704\n",
      "==================================================\n",
      "==================================================\n",
      "10 번째 시도\n",
      "0.29862593679335514\n",
      "0.3127619962139787\n",
      "==================================================\n",
      "==================================================\n"
     ]
    }
   ],
   "source": [
    "from sklearn.model_selection import train_test_split\n",
    "from sklearn.preprocessing import RobustScaler\n",
    "from sklearn.linear_model import LinearRegression\n",
    "from sklearn.metrics import r2_score\n",
    "from sklearn import metrics\n",
    "\n",
    "R2_HC = []\n",
    "MAE_HC = []\n",
    "MSE_HC = []\n",
    "RMSE_HC = []\n",
    "for i in range(10):\n",
    "    # Train-test split\n",
    "    X_train, X_test, y_train, y_test = train_test_split(X_dum, y, test_size=0.3) \n",
    "\n",
    "    # 로버스트 스케일링\n",
    "    rb = RobustScaler()\n",
    "    Xs_train = rb.fit_transform(X_train)\n",
    "    Xs_test = rb.transform(X_test)\n",
    "\n",
    "    # 회귀분석\n",
    "    regressor = LinearRegression()\n",
    "    model = regressor.fit(Xs_train, y_train)\n",
    "\n",
    "    print(i+1,\"번째 시도\")\n",
    "    # 정확도 결과값\n",
    "    print(model.score(Xs_train, y_train))\n",
    "    print(model.score(Xs_test, y_test))\n",
    "\n",
    "    # 오차 결과값\n",
    "    y_pred = model.predict(Xs_test)\n",
    "    R2_HC.append(r2_score(y_test , y_pred))\n",
    "    MAE_HC.append(metrics.mean_absolute_error(y_test, y_pred))\n",
    "    MSE_HC.append(metrics.mean_squared_error(y_test, y_pred))\n",
    "    RMSE_HC.append(np.sqrt(metrics.mean_squared_error(y_test, y_pred)))\n",
    "    print('='*50)\n",
    "    print('='*50)"
   ]
  },
  {
   "cell_type": "code",
   "execution_count": 21,
   "metadata": {
    "colab": {
     "base_uri": "https://localhost:8080/",
     "height": 112
    },
    "colab_type": "code",
    "id": "Twj9oLMsXQ0x",
    "outputId": "1e11fa89-b2e3-4119-c035-1d89d5ab8882"
   },
   "outputs": [
    {
     "name": "stdout",
     "output_type": "stream",
     "text": [
      "[0.25798977811918067, 0.352452964487061, 0.3305713606767253, 0.297513081970494, 0.2958962472132356, 0.27450903309230146, 0.31341872455555575, 0.3429376374353582, 0.27605284449319134, 0.2760593656410705]\n",
      "[716299898.1210108, 718205802.2779, 715002468.9355466, 724773707.714573, 707134437.3215705, 723374998.3537961, 702952698.9422565, 706096262.3582556, 715340536.583619, 703555629.2758973]\n",
      "[2.0884843588668047e+18, 1.953613288852407e+18, 2.1889021977741752e+18, 2.1461062292053706e+18, 1.8113774160741755e+18, 1.9167866203840018e+18, 1.8436866331339356e+18, 1.9490626890754383e+18, 1.8681032815108273e+18, 1.9393646431678694e+18]\n",
      "[1445158938.9637406, 1397717170.5507545, 1479493899.2014043, 1464959463.3317916, 1345874220.0050402, 1384480632.0003188, 1357824227.6281328, 1396088352.8901165, 1366785748.2103138, 1392610729.2304873]\n"
     ]
    }
   ],
   "source": [
    "print(R2_HC)\n",
    "print(MAE_HC)\n",
    "print(MSE_HC)\n",
    "print(RMSE_HC)"
   ]
  },
  {
   "cell_type": "code",
   "execution_count": 14,
   "metadata": {
    "colab": {
     "base_uri": "https://localhost:8080/",
     "height": 112
    },
    "colab_type": "code",
    "id": "cCfS4k9NJrxO",
    "outputId": "b0b4ae34-440c-448b-a2c2-2895beb0e3f5"
   },
   "outputs": [
    {
     "name": "stdout",
     "output_type": "stream",
     "text": [
      "R2_HC =  [0.25204576027436754, 0.3376497618886476, 0.2964995692575333, 0.31580085583787687, 0.29911226813458325, 0.2582768202313487, 0.3207469581503172, 0.3484285981855445, 0.309005702365704, 0.3127619962139787]\n",
      "MAE_HC =  [715942628.7236068, 718937969.3814905, 711504793.090621, 713199414.7997699, 701560943.1892731, 719338974.3948172, 703157977.2303172, 700927242.0475196, 713709185.7305886, 707012904.6517286]\n",
      "MSE_HC =  [2.0655224519629084e+18, 1.9322496510574927e+18, 2.078709910987473e+18, 2.0300141051895027e+18, 1.7495099580024696e+18, 2.035489102262512e+18, 1.8329512940050363e+18, 1.932092855752019e+18, 1.9907376572320236e+18, 1.8880304658444675e+18]\n",
      "RMSE_HC =  [1437192559.1106114, 1390053830.2733073, 1441773182.9200711, 1424785634.8200254, 1322690424.0987267, 1426705681.7236385, 1353865316.0506907, 1389997430.12425, 1410935029.4156084, 1374056209.1284575]\n"
     ]
    }
   ],
   "source": [
    "print('R2_HC = ',R2_HC)\n",
    "print('MAE_HC = ',MAE_HC)\n",
    "print('MSE_HC = ',MSE_HC)\n",
    "print('RMSE_HC = ',RMSE_HC)"
   ]
  },
  {
   "cell_type": "code",
   "execution_count": 0,
   "metadata": {
    "colab": {},
    "colab_type": "code",
    "id": "dxhYf75wbV17"
   },
   "outputs": [],
   "source": [
    "import pickle\n",
    "with open('R2_HC2.pkl', 'wb') as f:\n",
    "    pickle.dump(R2_HC, f) #피클파일 저장\n",
    "with open('MAE_HC2.pkl', 'wb') as f:\n",
    "    pickle.dump(MAE_HC, f) #피클파일 저장\n",
    "with open('MSE_HC2.pkl', 'wb') as f:\n",
    "    pickle.dump(MSE_HC, f) #피클파일 저장\n",
    "\n",
    "with open('RMSE_HC2.pkl', 'wb') as f:\n",
    "    pickle.dump(RMSE_HC, f) #피클파일 저장"
   ]
  },
  {
   "cell_type": "code",
   "execution_count": 0,
   "metadata": {
    "colab": {},
    "colab_type": "code",
    "id": "9UsI6jPdbrA_"
   },
   "outputs": [],
   "source": [
    "## tsne"
   ]
  },
  {
   "cell_type": "code",
   "execution_count": 0,
   "metadata": {
    "colab": {},
    "colab_type": "code",
    "id": "cqWaEmJvfCkp"
   },
   "outputs": [],
   "source": [
    "\n",
    "import pandas as pd \n",
    "df = pd.read_csv(\"sample_data/clustering.csv\", encoding ='utf-8')\n"
   ]
  },
  {
   "cell_type": "code",
   "execution_count": 0,
   "metadata": {
    "colab": {
     "base_uri": "https://localhost:8080/",
     "height": 36
    },
    "colab_type": "code",
    "id": "NGSyPrYCgM9-",
    "outputId": "49ab591e-bd5d-491c-b8f9-f42c7033e131"
   },
   "outputs": [
    {
     "data": {
      "text/plain": [
       "(35229, 35277)"
      ]
     },
     "execution_count": 82,
     "metadata": {
      "tags": []
     },
     "output_type": "execute_result"
    }
   ],
   "source": [
    "df.columns\n",
    "df.drop(['district','year','code','labels'], axis=1, inplace =True)\n",
    "len(np.unique(df['x_tsne'])), len(np.unique(df['y_tsne']))"
   ]
  },
  {
   "cell_type": "code",
   "execution_count": 0,
   "metadata": {
    "colab": {
     "base_uri": "https://localhost:8080/",
     "height": 36
    },
    "colab_type": "code",
    "id": "fuMg5m_fgsz-",
    "outputId": "873d3559-267f-4755-c968-36cccc5ef6fd"
   },
   "outputs": [
    {
     "data": {
      "text/plain": [
       "41966"
      ]
     },
     "execution_count": 88,
     "metadata": {
      "tags": []
     },
     "output_type": "execute_result"
    }
   ],
   "source": [
    "df.groupby(['x_tsne','y_tsne']).mean().index"
   ]
  },
  {
   "cell_type": "code",
   "execution_count": 0,
   "metadata": {
    "colab": {},
    "colab_type": "code",
    "id": "KnXI2PW_fIL_"
   },
   "outputs": [],
   "source": [
    "\n",
    "df.drop(['district','year','code','labels','y_tsne'], axis=1, inplace =True)\n",
    "\n",
    "np.random.seed(seed=100)\n",
    "idx= np.random.uniform(0, df.shape[0], size=50000 )\n",
    "\n",
    "y=df_merged.iloc[idx,1:2]\n",
    "X= df_merged.drop(['sales_total'],axis=1)\n",
    "\n",
    "X= X.iloc[idx,1:]\n",
    "\n",
    "\n",
    "X['cgoongoo'] = X['cgoongoo'].astype('object')\n",
    "# # # 더미변수화\n",
    "\n",
    "# X = pd.get_dummies(X)  "
   ]
  },
  {
   "cell_type": "code",
   "execution_count": 0,
   "metadata": {
    "colab": {},
    "colab_type": "code",
    "id": "C18dSYeovWv3"
   },
   "outputs": [],
   "source": [
    "## kmeans\n",
    "import numpy as np\n",
    "import pandas as pd\n",
    "from sklearn.preprocessing import LabelEncoder, OneHotEncoder\n",
    "from sklearn.preprocessing import RobustScaler\n",
    "import seaborn as sns\n",
    "import statsmodels.api as sm\n",
    "from sklearn.model_selection import train_test_split\n",
    "\n",
    "from sklearn.cluster import KMeans\n",
    "\n",
    "from sklearn.linear_model import LinearRegression\n",
    "from sklearn import metrics\n",
    "\n",
    "import matplotlib.pyplot as plt"
   ]
  },
  {
   "cell_type": "code",
   "execution_count": 0,
   "metadata": {
    "colab": {},
    "colab_type": "code",
    "id": "-G_H0bX9wWCx"
   },
   "outputs": [],
   "source": [
    "\n",
    "import pandas as pd \n",
    "df = pd.read_csv(\"df_grouped_rate.csv\", encoding ='utf-8')\n",
    "## 불러온 dataframe에서 상권코드, 연도 제거하기 / 독립 종속 변수 분리하기\n",
    "y = df[['sales_total']]\n",
    "X = df.drop(['sales_total', 'district', 'year', 'code'], axis=1)"
   ]
  },
  {
   "cell_type": "code",
   "execution_count": 69,
   "metadata": {
    "colab": {
     "base_uri": "https://localhost:8080/",
     "height": 951
    },
    "colab_type": "code",
    "id": "DYXGHPHayC69",
    "outputId": "f298bbf8-2eb2-4c72-eed0-9057dc298a76"
   },
   "outputs": [
    {
     "name": "stdout",
     "output_type": "stream",
     "text": [
      "1 번째 시도\n",
      "0.2935856961765033\n",
      "0.3010486841388068\n",
      "==================================================\n",
      "==================================================\n",
      "2 번째 시도\n",
      "0.3094309697421702\n",
      "0.2573063586482355\n",
      "==================================================\n",
      "==================================================\n",
      "3 번째 시도\n",
      "0.30779434079623225\n",
      "0.26738912276864624\n",
      "==================================================\n",
      "==================================================\n",
      "4 번째 시도\n",
      "0.2951069736950327\n",
      "0.2977569096536117\n",
      "==================================================\n",
      "==================================================\n",
      "5 번째 시도\n",
      "0.2970685081326292\n",
      "0.2926221466864226\n",
      "==================================================\n",
      "==================================================\n",
      "6 번째 시도\n",
      "0.308128857322161\n",
      "0.26730441368083646\n",
      "==================================================\n",
      "==================================================\n",
      "7 번째 시도\n",
      "0.29757388539375895\n",
      "0.291606128120118\n",
      "==================================================\n",
      "==================================================\n",
      "8 번째 시도\n",
      "0.2938034142643976\n",
      "0.2998210344687421\n",
      "==================================================\n",
      "==================================================\n",
      "9 번째 시도\n",
      "0.29335158454344534\n",
      "0.3016117642648646\n",
      "==================================================\n",
      "==================================================\n",
      "10 번째 시도\n",
      "0.2885416379259449\n",
      "0.31131440507747987\n",
      "==================================================\n",
      "==================================================\n"
     ]
    }
   ],
   "source": [
    "from sklearn.model_selection import train_test_split\n",
    "from sklearn.preprocessing import RobustScaler\n",
    "from sklearn.linear_model import LinearRegression\n",
    "from sklearn.metrics import r2_score\n",
    "from sklearn import metrics\n",
    "\n",
    "R2_k = []\n",
    "MAE_k = []\n",
    "MSE_k = []\n",
    "RMSE_k = []\n",
    "for i in range(10):\n",
    "    # Train-test split\n",
    "    X_train, X_test, y_train, y_test = train_test_split(X, y, test_size=0.3) \n",
    "    kmeans = KMeans(n_clusters=25)\n",
    "    kmeans.fit(X_train)\n",
    "    train_labels = kmeans.labels_\n",
    "    train_lb_df= pd.DataFrame(train_labels, columns=['labels'], dtype=str)\n",
    "    test_labels = kmeans.predict(X_test)\n",
    "    test_lb_df= pd.DataFrame(test_labels, columns=['labels'],  dtype=str)\n",
    "    # 로버스트 스케일링\n",
    "    rb = RobustScaler()\n",
    "    Xs_train = pd.DataFrame(rb.fit_transform(X_train)) #연속형 데이터만 스케일링\n",
    "    Xs_test = pd.DataFrame(rb.transform(X_test))\n",
    "\n",
    "    X_train = pd.get_dummies(pd.concat([train_lb_df,Xs_train], axis=1))\n",
    "    X_test = pd.get_dummies(pd.concat([test_lb_df,Xs_test], axis=1))\n",
    "\n",
    "    # 회귀분석\n",
    "    regressor = LinearRegression()\n",
    "    model = regressor.fit(Xs_train, y_train)\n",
    "\n",
    "    print(i+1,\"번째 시도\")\n",
    "    # 정확도 결과값\n",
    "    print(model.score(Xs_train, y_train))\n",
    "    print(model.score(Xs_test, y_test))\n",
    "\n",
    "    # 오차 결과값\n",
    "    y_pred = model.predict(Xs_test)\n",
    "    R2_k.append(r2_score(y_test , y_pred))\n",
    "    MAE_k.append(metrics.mean_absolute_error(y_test, y_pred))\n",
    "    MSE_k.append(metrics.mean_squared_error(y_test, y_pred))\n",
    "    RMSE_k.append(np.sqrt(metrics.mean_squared_error(y_test, y_pred)))\n",
    "    print('='*50)\n",
    "    print('='*50)"
   ]
  },
  {
   "cell_type": "code",
   "execution_count": 59,
   "metadata": {
    "colab": {
     "base_uri": "https://localhost:8080/",
     "height": 112
    },
    "colab_type": "code",
    "id": "ZqYWU2SBxoDz",
    "outputId": "3b1909ee-1218-4468-bec8-caf1bfc17f0d"
   },
   "outputs": [
    {
     "name": "stdout",
     "output_type": "stream",
     "text": [
      "R2_k =  [0.31255928377833375, 0.2971250410296289, 0.29478497656679736, 0.291590414793378, 0.2924683581661238, 0.33065285566079694, 0.30241445188620786, 0.30232248493982594, 0.2951358075265059, 0.28611273023679495]\n",
      "MAE_k =  [707087705.7908667, 709112189.7103499, 712451298.3872124, 710745998.1728693, 714190199.3445269, 709086989.4788822, 716418611.7617978, 707521024.1373088, 707630329.7215142, 712880013.16879]\n",
      "MSE_k =  [1.9740106990015567e+18, 2.137019248682748e+18, 2.1876332102300608e+18, 2.1274391784164838e+18, 2.0575914347158226e+18, 2.024831946302379e+18, 2.0340736393441695e+18, 2.0752039833093468e+18, 1.9688041537890916e+18, 2.0246084314308316e+18]\n",
      "RMSE_k =  [1404994910.667493, 1461854728.9942143, 1479064978.3664207, 1458574365.0621603, 1434430700.5623598, 1422965897.8002174, 1426209535.5676773, 1440556830.989096, 1403140817.519429, 1422887357.2531424]\n"
     ]
    }
   ],
   "source": [
    "## random_state=0, test_size 0.2로 했을때\n",
    "print('R2_k = ',R2_k )\n",
    "print('MAE_k = ',MAE_k)\n",
    "print('MSE_k = ',MSE_k )\n",
    "print('RMSE_k = ',RMSE_k )"
   ]
  },
  {
   "cell_type": "code",
   "execution_count": 63,
   "metadata": {
    "colab": {
     "base_uri": "https://localhost:8080/",
     "height": 112
    },
    "colab_type": "code",
    "id": "MlmSCN4B_oV6",
    "outputId": "d7727582-d130-4861-c7a7-87910098b610"
   },
   "outputs": [
    {
     "name": "stdout",
     "output_type": "stream",
     "text": [
      "R2_k =  [0.2904265940965547, 0.29331557932973495, 0.2985512044734624, 0.2833698678677453, 0.2949701669527365, 0.29431002729895916, 0.3137599405087371, 0.2960022323371474, 0.2759265920661307, 0.3060033120494092]\n",
      "MAE_k =  [709266169.4285029, 708212184.6093025, 713800772.7607647, 707158092.8236735, 711888505.0397893, 717566426.1995456, 708033413.4268979, 709727120.9869791, 709690081.5120404, 710653142.8014563]\n",
      "MSE_k =  [1.8838628607820204e+18, 1.9414494758692495e+18, 2.025777028531088e+18, 1.9475224460006996e+18, 2.0889482783974676e+18, 2.1333824990806884e+18, 2.061358339650907e+18, 2.033310151189388e+18, 1.922362441804847e+18, 2.041103117753051e+18]\n",
      "RMSE_k =  [1372538837.6224625, 1393359062.075978, 1423297940.8862672, 1395536615.7864506, 1445319438.185714, 1460610317.3265238, 1435743131.5005157, 1425941847.0573714, 1386492856.744977, 1428671801.9730952]\n"
     ]
    }
   ],
   "source": [
    "#test size 0.3으로 했을때\n",
    "print('R2_k = ',R2_k )\n",
    "print('MAE_k = ',MAE_k)\n",
    "print('MSE_k = ',MSE_k )\n",
    "print('RMSE_k = ',RMSE_k )"
   ]
  },
  {
   "cell_type": "code",
   "execution_count": 67,
   "metadata": {
    "colab": {
     "base_uri": "https://localhost:8080/",
     "height": 112
    },
    "colab_type": "code",
    "id": "oWxtdqGz-KZP",
    "outputId": "287b72c8-d42c-4fff-d381-02e09c370de9"
   },
   "outputs": [
    {
     "name": "stdout",
     "output_type": "stream",
     "text": [
      "R2_k =  [0.27778064148175263, 0.29476118860325706, 0.2961622456301988, 0.30220235205495416, 0.29886714440868956, 0.297875256706459, 0.28167729321681556, 0.2977983977160813, 0.29369035290863077, 0.28980966351509463]\n",
      "MAE_k =  [707891722.6710085, 716839581.9685225, 704883340.3361814, 719084479.3814055, 705790916.2377223, 711193115.8968338, 712473121.9006685, 706373013.3471123, 713779557.9925734, 703978434.2926112]\n",
      "MSE_k =  [2.1298130239180035e+18, 2.1597635696542572e+18, 1.975931063134809e+18, 2.1694159927593188e+18, 1.8898523010603077e+18, 1.972141075329487e+18, 1.9991234194034148e+18, 1.9867996626056023e+18, 2.125302438484359e+18, 1.944784070528727e+18]\n",
      "RMSE_k =  [1459387893.5766199, 1469613408.2316537, 1405678150.6215458, 1472893747.9530962, 1374718989.8522198, 1404329404.1390314, 1413903610.3650825, 1409538812.0252674, 1457841705.564894, 1394555151.483342]\n"
     ]
    }
   ],
   "source": [
    "#random_state 없이 test size 0.3으로 했을때, 클러스터갯수 18\n",
    "print('R2_k = ',R2_k )\n",
    "print('MAE_k = ',MAE_k)\n",
    "print('MSE_k = ',MSE_k )\n",
    "print('RMSE_k = ',RMSE_k )"
   ]
  },
  {
   "cell_type": "code",
   "execution_count": 70,
   "metadata": {
    "colab": {
     "base_uri": "https://localhost:8080/",
     "height": 112
    },
    "colab_type": "code",
    "id": "tSKMJUs3A0Ji",
    "outputId": "679bf0f3-35ea-444a-92c4-3a0ab0c49974"
   },
   "outputs": [
    {
     "name": "stdout",
     "output_type": "stream",
     "text": [
      "R2_k =  [0.3010486841388068, 0.2573063586482355, 0.26738912276864624, 0.2977569096536117, 0.2926221466864226, 0.26730441368083646, 0.291606128120118, 0.2998210344687421, 0.3016117642648646, 0.31131440507747987]\n",
      "MAE_k =  [699625494.5392678, 707935314.0150232, 712652201.9400593, 701338241.9598005, 714425111.4063109, 711162482.080123, 708605847.6798493, 709222229.124304, 706597004.9721053, 709682717.3362817]\n",
      "MSE_k =  [1.9462141858846446e+18, 1.9238838633603566e+18, 2.0519092883403553e+18, 1.8607943366000018e+18, 1.9987669135101965e+18, 2.1134141208493327e+18, 1.998376265991056e+18, 2.03291415357376e+18, 1.899194803848009e+18, 2.058265767786249e+18]\n",
      "RMSE_k =  [1395067806.9128556, 1387041406.505356, 1432448703.5633616, 1364109356.5400107, 1413777533.2456646, 1453758618.4952896, 1413639369.143013, 1425802985.5396433, 1378112768.9155228, 1434665733.816156]\n"
     ]
    }
   ],
   "source": [
    "#random_state 없이 test size 0.3으로 했을때, 클러스터갯수 25\n",
    "print('R2_k = ',R2_k )\n",
    "print('MAE_k = ',MAE_k)\n",
    "print('MSE_k = ',MSE_k )\n",
    "print('RMSE_k = ',RMSE_k )"
   ]
  },
  {
   "cell_type": "code",
   "execution_count": 0,
   "metadata": {
    "colab": {},
    "colab_type": "code",
    "id": "FUjX32cHCLx9"
   },
   "outputs": [],
   "source": [
    "print(\"R2_RF_k = \", R2_RF_k)\n",
    "print(\"MAE_RF_k = \", MAE_RF_k)\n",
    "print(\"MSE_RF_k = \", MSE_RF_k)\n",
    "print(\"RMSE_RF_k = \", RMSE_RF_k)\n"
   ]
  }
 ],
 "metadata": {
  "colab": {
   "collapsed_sections": [],
   "machine_shape": "hm",
   "name": "20_RF_district.ipynb",
   "provenance": []
  },
  "kernelspec": {
   "display_name": "Python 3",
   "language": "python",
   "name": "python3"
  },
  "language_info": {
   "codemirror_mode": {
    "name": "ipython",
    "version": 3
   },
   "file_extension": ".py",
   "mimetype": "text/x-python",
   "name": "python",
   "nbconvert_exporter": "python",
   "pygments_lexer": "ipython3",
   "version": "3.7.4"
  }
 },
 "nbformat": 4,
 "nbformat_minor": 1
}
