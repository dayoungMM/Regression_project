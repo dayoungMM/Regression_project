{
 "cells": [
  {
   "cell_type": "markdown",
   "metadata": {},
   "source": [
    "## 이 파일에는 발표할 내용을 적어주세요\n",
    "- 전처리 내용은 markdown으로 간단히 적고, 질문이 들어올 경우 01_EDA 파일을 보여주는 방식!\n",
    "- read_csv부터 시작\n",
    "- 연구배경, 선행연구, 문제정의, 분석방법, 분석결과, 결론 및 앞으로 보완할 점도 들어가는 발표 자료파일 입니다!\n",
    "- 여기에는 발표할때 보여줄 수있는 가장 깔끔한 형태의 코드만 올려주세요 ㅠㅠ 코딩하는 과정에서 확인하기 위해 하는 과정이나, 발표하기에 부적합한 내용은 다른 파일 또는 폴더를 만들어서 해주세요!\n",
    "- 다른사람이 작성한 내용은 되도록 수정하거나 삭제하지 말아주세요! 충돌이 일어나요"
   ]
  },
  {
   "cell_type": "code",
   "execution_count": null,
   "metadata": {},
   "outputs": [],
   "source": [
    "## 1. 연구배경\n",
    "- 우리나라 소상공인은 2016년 기준 전체 사업체 수의 85.3%를 차지하며 국가 경제에서 높은 비중을 차지하고 있다.\n",
    "- 이에따라 정부와 지자체는 소상공인이 안정적으로 창업활동을 지속할 수 있도록 다양한 지원정책을 펼치고 있으나 개별 소상공니을 대상으로 단순한 지원을 할 뿐 상권 자체에 관한 정책은 논의되지 못하였다(양갑모, 2006)\n",
    "- 상권정보시스템은 상권의 현황정보 제공에만 중점을 두고있어 상권을 파악하는데 어려움이 있다.\n",
    "- 소상공인 컨설팅 서비스는 유료로 서비스를 이용해야하고, 영향력의 정도를 정확히 알려주지 않는다는 한계가 있다."
   ]
  }
 ],
 "metadata": {
  "kernelspec": {
   "display_name": "Python 3",
   "language": "python",
   "name": "python3"
  },
  "language_info": {
   "codemirror_mode": {
    "name": "ipython",
    "version": 3
   },
   "file_extension": ".py",
   "mimetype": "text/x-python",
   "name": "python",
   "nbconvert_exporter": "python",
   "pygments_lexer": "ipython3",
   "version": "3.7.4"
  }
 },
 "nbformat": 4,
 "nbformat_minor": 2
}
