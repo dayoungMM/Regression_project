{
 "cells": [
  {
   "cell_type": "code",
   "execution_count": 1,
   "metadata": {},
   "outputs": [],
   "source": [
    "import pandas as pd\n",
    "import scipy as sp\n",
    "import scipy.stats\n",
    "import matplotlib as mpl\n",
    "import matplotlib.pyplot as plt\n",
    "import seaborn as sns\n",
    "import statsmodels.api as sm\n",
    "import sklearn as sk\n",
    "import requests\n",
    "import time\n",
    "from sklearn.model_selection import train_test_split\n",
    "from sklearn import linear_model \n",
    "from sklearn.tree import DecisionTreeClassifier \n",
    "from sklearn.metrics import accuracy_score\n",
    "from sklearn import preprocessing\n",
    "from sklearn.ensemble import RandomForestRegressor\n",
    "from sklearn.preprocessing import RobustScaler"
   ]
  },
  {
   "cell_type": "code",
   "execution_count": 2,
   "metadata": {},
   "outputs": [
    {
     "data": {
      "text/html": [
       "<div>\n",
       "<style scoped>\n",
       "    .dataframe tbody tr th:only-of-type {\n",
       "        vertical-align: middle;\n",
       "    }\n",
       "\n",
       "    .dataframe tbody tr th {\n",
       "        vertical-align: top;\n",
       "    }\n",
       "\n",
       "    .dataframe thead th {\n",
       "        text-align: right;\n",
       "    }\n",
       "</style>\n",
       "<table border=\"1\" class=\"dataframe\">\n",
       "  <thead>\n",
       "    <tr style=\"text-align: right;\">\n",
       "      <th></th>\n",
       "      <th>year</th>\n",
       "      <th>quarter</th>\n",
       "      <th>district</th>\n",
       "      <th>code</th>\n",
       "      <th>workpop</th>\n",
       "      <th>floatpop</th>\n",
       "      <th>prop_2030s</th>\n",
       "      <th>prop_06_11</th>\n",
       "      <th>prop_11_14</th>\n",
       "      <th>prop_14_17</th>\n",
       "      <th>...</th>\n",
       "      <th>no_of_store</th>\n",
       "      <th>no_of_franch_store</th>\n",
       "      <th>no_of_bank</th>\n",
       "      <th>no_of_pharm</th>\n",
       "      <th>no_of_theartre</th>\n",
       "      <th>no_of_accom</th>\n",
       "      <th>no_of_STA</th>\n",
       "      <th>sales</th>\n",
       "      <th>sales_female_ratio</th>\n",
       "      <th>sales_weekday_ratio</th>\n",
       "    </tr>\n",
       "  </thead>\n",
       "  <tbody>\n",
       "    <tr>\n",
       "      <td>0</td>\n",
       "      <td>2018</td>\n",
       "      <td>1</td>\n",
       "      <td>1000001</td>\n",
       "      <td>CS100001</td>\n",
       "      <td>831.0</td>\n",
       "      <td>188508.0</td>\n",
       "      <td>0.409338</td>\n",
       "      <td>0.011467</td>\n",
       "      <td>0.407748</td>\n",
       "      <td>0.151499</td>\n",
       "      <td>...</td>\n",
       "      <td>15.0</td>\n",
       "      <td>0.0</td>\n",
       "      <td>0.0</td>\n",
       "      <td>0.0</td>\n",
       "      <td>16.0</td>\n",
       "      <td>38.0</td>\n",
       "      <td>0.0</td>\n",
       "      <td>922621269.0</td>\n",
       "      <td>0.351752</td>\n",
       "      <td>0.70405</td>\n",
       "    </tr>\n",
       "  </tbody>\n",
       "</table>\n",
       "<p>1 rows × 27 columns</p>\n",
       "</div>"
      ],
      "text/plain": [
       "   year  quarter  district      code  workpop  floatpop  prop_2030s  \\\n",
       "0  2018        1   1000001  CS100001    831.0  188508.0    0.409338   \n",
       "\n",
       "   prop_06_11  prop_11_14  prop_14_17  ...  no_of_store  no_of_franch_store  \\\n",
       "0    0.011467    0.407748    0.151499  ...         15.0                 0.0   \n",
       "\n",
       "   no_of_bank  no_of_pharm  no_of_theartre  no_of_accom  no_of_STA  \\\n",
       "0         0.0          0.0            16.0         38.0        0.0   \n",
       "\n",
       "         sales  sales_female_ratio  sales_weekday_ratio  \n",
       "0  922621269.0            0.351752              0.70405  \n",
       "\n",
       "[1 rows x 27 columns]"
      ]
     },
     "execution_count": 2,
     "metadata": {},
     "output_type": "execute_result"
    }
   ],
   "source": [
    "# 정제된 데이터가져오기\n",
    "df = pd.read_csv(\"df1_16.csv\", encoding='utf-8')\n",
    "df.head(1)\n"
   ]
  },
  {
   "cell_type": "code",
   "execution_count": 3,
   "metadata": {},
   "outputs": [
    {
     "data": {
      "text/html": [
       "<div>\n",
       "<style scoped>\n",
       "    .dataframe tbody tr th:only-of-type {\n",
       "        vertical-align: middle;\n",
       "    }\n",
       "\n",
       "    .dataframe tbody tr th {\n",
       "        vertical-align: top;\n",
       "    }\n",
       "\n",
       "    .dataframe thead th {\n",
       "        text-align: right;\n",
       "    }\n",
       "</style>\n",
       "<table border=\"1\" class=\"dataframe\">\n",
       "  <thead>\n",
       "    <tr style=\"text-align: right;\">\n",
       "      <th></th>\n",
       "      <th>district</th>\n",
       "      <th>cgoongoo</th>\n",
       "    </tr>\n",
       "  </thead>\n",
       "  <tbody>\n",
       "    <tr>\n",
       "      <td>0</td>\n",
       "      <td>1001453</td>\n",
       "      <td>11620</td>\n",
       "    </tr>\n",
       "  </tbody>\n",
       "</table>\n",
       "</div>"
      ],
      "text/plain": [
       "   district  cgoongoo\n",
       "0   1001453     11620"
      ]
     },
     "execution_count": 3,
     "metadata": {},
     "output_type": "execute_result"
    }
   ],
   "source": [
    "# 시군구 데이터 가져오기\n",
    "cgoongoo=pd.read_csv(\"cgoongoo1.csv\", encoding='utf-8')\n",
    "cgoongoo.head(1)"
   ]
  },
  {
   "cell_type": "code",
   "execution_count": 4,
   "metadata": {
    "scrolled": true
   },
   "outputs": [
    {
     "data": {
      "text/html": [
       "<div>\n",
       "<style scoped>\n",
       "    .dataframe tbody tr th:only-of-type {\n",
       "        vertical-align: middle;\n",
       "    }\n",
       "\n",
       "    .dataframe tbody tr th {\n",
       "        vertical-align: top;\n",
       "    }\n",
       "\n",
       "    .dataframe thead th {\n",
       "        text-align: right;\n",
       "    }\n",
       "</style>\n",
       "<table border=\"1\" class=\"dataframe\">\n",
       "  <thead>\n",
       "    <tr style=\"text-align: right;\">\n",
       "      <th></th>\n",
       "      <th>year</th>\n",
       "      <th>quarter</th>\n",
       "      <th>district</th>\n",
       "      <th>code</th>\n",
       "      <th>workpop</th>\n",
       "      <th>floatpop</th>\n",
       "      <th>prop_2030s</th>\n",
       "      <th>prop_06_11</th>\n",
       "      <th>prop_11_14</th>\n",
       "      <th>prop_14_17</th>\n",
       "      <th>...</th>\n",
       "      <th>no_of_franch_store</th>\n",
       "      <th>no_of_bank</th>\n",
       "      <th>no_of_pharm</th>\n",
       "      <th>no_of_theartre</th>\n",
       "      <th>no_of_accom</th>\n",
       "      <th>no_of_STA</th>\n",
       "      <th>sales</th>\n",
       "      <th>sales_female_ratio</th>\n",
       "      <th>sales_weekday_ratio</th>\n",
       "      <th>cgoongoo</th>\n",
       "    </tr>\n",
       "  </thead>\n",
       "  <tbody>\n",
       "    <tr>\n",
       "      <td>0</td>\n",
       "      <td>2018</td>\n",
       "      <td>1</td>\n",
       "      <td>1000001</td>\n",
       "      <td>CS100001</td>\n",
       "      <td>831.0</td>\n",
       "      <td>188508.0</td>\n",
       "      <td>0.409338</td>\n",
       "      <td>0.011467</td>\n",
       "      <td>0.407748</td>\n",
       "      <td>0.151499</td>\n",
       "      <td>...</td>\n",
       "      <td>0.0</td>\n",
       "      <td>0.0</td>\n",
       "      <td>0.0</td>\n",
       "      <td>16.0</td>\n",
       "      <td>38.0</td>\n",
       "      <td>0.0</td>\n",
       "      <td>922621269.0</td>\n",
       "      <td>0.351752</td>\n",
       "      <td>0.704050</td>\n",
       "      <td>11110</td>\n",
       "    </tr>\n",
       "    <tr>\n",
       "      <td>1</td>\n",
       "      <td>2018</td>\n",
       "      <td>1</td>\n",
       "      <td>1000001</td>\n",
       "      <td>CS100002</td>\n",
       "      <td>831.0</td>\n",
       "      <td>188508.0</td>\n",
       "      <td>0.473122</td>\n",
       "      <td>0.004000</td>\n",
       "      <td>0.504362</td>\n",
       "      <td>0.157013</td>\n",
       "      <td>...</td>\n",
       "      <td>1.0</td>\n",
       "      <td>0.0</td>\n",
       "      <td>0.0</td>\n",
       "      <td>16.0</td>\n",
       "      <td>38.0</td>\n",
       "      <td>0.0</td>\n",
       "      <td>176034744.0</td>\n",
       "      <td>0.324470</td>\n",
       "      <td>0.769975</td>\n",
       "      <td>11110</td>\n",
       "    </tr>\n",
       "    <tr>\n",
       "      <td>2</td>\n",
       "      <td>2018</td>\n",
       "      <td>1</td>\n",
       "      <td>1000001</td>\n",
       "      <td>CS100003</td>\n",
       "      <td>831.0</td>\n",
       "      <td>188508.0</td>\n",
       "      <td>0.440999</td>\n",
       "      <td>0.000000</td>\n",
       "      <td>0.653076</td>\n",
       "      <td>0.120070</td>\n",
       "      <td>...</td>\n",
       "      <td>0.0</td>\n",
       "      <td>0.0</td>\n",
       "      <td>0.0</td>\n",
       "      <td>16.0</td>\n",
       "      <td>38.0</td>\n",
       "      <td>0.0</td>\n",
       "      <td>45454124.0</td>\n",
       "      <td>0.358348</td>\n",
       "      <td>0.848584</td>\n",
       "      <td>11110</td>\n",
       "    </tr>\n",
       "    <tr>\n",
       "      <td>3</td>\n",
       "      <td>2018</td>\n",
       "      <td>1</td>\n",
       "      <td>1000001</td>\n",
       "      <td>CS100004</td>\n",
       "      <td>831.0</td>\n",
       "      <td>188508.0</td>\n",
       "      <td>0.575315</td>\n",
       "      <td>0.000597</td>\n",
       "      <td>0.325943</td>\n",
       "      <td>0.269932</td>\n",
       "      <td>...</td>\n",
       "      <td>0.0</td>\n",
       "      <td>0.0</td>\n",
       "      <td>0.0</td>\n",
       "      <td>16.0</td>\n",
       "      <td>38.0</td>\n",
       "      <td>0.0</td>\n",
       "      <td>351079289.0</td>\n",
       "      <td>0.494218</td>\n",
       "      <td>0.548148</td>\n",
       "      <td>11110</td>\n",
       "    </tr>\n",
       "    <tr>\n",
       "      <td>4</td>\n",
       "      <td>2018</td>\n",
       "      <td>1</td>\n",
       "      <td>1000001</td>\n",
       "      <td>CS100005</td>\n",
       "      <td>831.0</td>\n",
       "      <td>188508.0</td>\n",
       "      <td>0.503582</td>\n",
       "      <td>0.000282</td>\n",
       "      <td>0.612311</td>\n",
       "      <td>0.163809</td>\n",
       "      <td>...</td>\n",
       "      <td>1.0</td>\n",
       "      <td>0.0</td>\n",
       "      <td>0.0</td>\n",
       "      <td>16.0</td>\n",
       "      <td>38.0</td>\n",
       "      <td>0.0</td>\n",
       "      <td>163624875.0</td>\n",
       "      <td>0.490051</td>\n",
       "      <td>0.845680</td>\n",
       "      <td>11110</td>\n",
       "    </tr>\n",
       "  </tbody>\n",
       "</table>\n",
       "<p>5 rows × 28 columns</p>\n",
       "</div>"
      ],
      "text/plain": [
       "   year  quarter  district      code  workpop  floatpop  prop_2030s  \\\n",
       "0  2018        1   1000001  CS100001    831.0  188508.0    0.409338   \n",
       "1  2018        1   1000001  CS100002    831.0  188508.0    0.473122   \n",
       "2  2018        1   1000001  CS100003    831.0  188508.0    0.440999   \n",
       "3  2018        1   1000001  CS100004    831.0  188508.0    0.575315   \n",
       "4  2018        1   1000001  CS100005    831.0  188508.0    0.503582   \n",
       "\n",
       "   prop_06_11  prop_11_14  prop_14_17  ...  no_of_franch_store  no_of_bank  \\\n",
       "0    0.011467    0.407748    0.151499  ...                 0.0         0.0   \n",
       "1    0.004000    0.504362    0.157013  ...                 1.0         0.0   \n",
       "2    0.000000    0.653076    0.120070  ...                 0.0         0.0   \n",
       "3    0.000597    0.325943    0.269932  ...                 0.0         0.0   \n",
       "4    0.000282    0.612311    0.163809  ...                 1.0         0.0   \n",
       "\n",
       "   no_of_pharm  no_of_theartre  no_of_accom  no_of_STA        sales  \\\n",
       "0          0.0            16.0         38.0        0.0  922621269.0   \n",
       "1          0.0            16.0         38.0        0.0  176034744.0   \n",
       "2          0.0            16.0         38.0        0.0   45454124.0   \n",
       "3          0.0            16.0         38.0        0.0  351079289.0   \n",
       "4          0.0            16.0         38.0        0.0  163624875.0   \n",
       "\n",
       "   sales_female_ratio  sales_weekday_ratio  cgoongoo  \n",
       "0            0.351752             0.704050     11110  \n",
       "1            0.324470             0.769975     11110  \n",
       "2            0.358348             0.848584     11110  \n",
       "3            0.494218             0.548148     11110  \n",
       "4            0.490051             0.845680     11110  \n",
       "\n",
       "[5 rows x 28 columns]"
      ]
     },
     "execution_count": 4,
     "metadata": {},
     "output_type": "execute_result"
    }
   ],
   "source": [
    "# 시군구와 정제된 데이터 머지\n",
    "df1=pd.merge(df, cgoongoo, on=['district'])\n",
    "df1.head()"
   ]
  },
  {
   "cell_type": "code",
   "execution_count": 5,
   "metadata": {
    "scrolled": true
   },
   "outputs": [
    {
     "data": {
      "text/plain": [
       "Index(['year', 'quarter', 'district', 'code', 'workpop', 'floatpop',\n",
       "       'prop_2030s', 'prop_06_11', 'prop_11_14', 'prop_14_17', 'prop_17_21',\n",
       "       'prop_21_24', 'apt_no_of_cmplx', 'apt_avg_space', 'apt_avg_price',\n",
       "       'inc_monthly_avg', 'expnd_total', 'no_of_store', 'no_of_franch_store',\n",
       "       'no_of_bank', 'no_of_pharm', 'no_of_theartre', 'no_of_accom',\n",
       "       'no_of_STA', 'sales', 'sales_female_ratio', 'sales_weekday_ratio',\n",
       "       'cgoongoo'],\n",
       "      dtype='object')"
      ]
     },
     "execution_count": 5,
     "metadata": {},
     "output_type": "execute_result"
    }
   ],
   "source": [
    "df1.columns"
   ]
  },
  {
   "cell_type": "code",
   "execution_count": 6,
   "metadata": {},
   "outputs": [],
   "source": [
    "df1.drop(['year','quarter','district'],axis=1,inplace=True)\n"
   ]
  },
  {
   "cell_type": "code",
   "execution_count": 8,
   "metadata": {},
   "outputs": [
    {
     "name": "stderr",
     "output_type": "stream",
     "text": [
      "C:\\ProgramData\\Anaconda3\\lib\\site-packages\\ipykernel_launcher.py:7: SettingWithCopyWarning: \n",
      "A value is trying to be set on a copy of a slice from a DataFrame.\n",
      "Try using .loc[row_indexer,col_indexer] = value instead\n",
      "\n",
      "See the caveats in the documentation: http://pandas.pydata.org/pandas-docs/stable/user_guide/indexing.html#returning-a-view-versus-a-copy\n",
      "  import sys\n",
      "C:\\ProgramData\\Anaconda3\\lib\\site-packages\\ipykernel_launcher.py:8: SettingWithCopyWarning: \n",
      "A value is trying to be set on a copy of a slice from a DataFrame.\n",
      "Try using .loc[row_indexer,col_indexer] = value instead\n",
      "\n",
      "See the caveats in the documentation: http://pandas.pydata.org/pandas-docs/stable/user_guide/indexing.html#returning-a-view-versus-a-copy\n",
      "  \n",
      "C:\\ProgramData\\Anaconda3\\lib\\site-packages\\ipykernel_launcher.py:9: SettingWithCopyWarning: \n",
      "A value is trying to be set on a copy of a slice from a DataFrame.\n",
      "Try using .loc[row_indexer,col_indexer] = value instead\n",
      "\n",
      "See the caveats in the documentation: http://pandas.pydata.org/pandas-docs/stable/user_guide/indexing.html#returning-a-view-versus-a-copy\n",
      "  if __name__ == '__main__':\n",
      "C:\\ProgramData\\Anaconda3\\lib\\site-packages\\ipykernel_launcher.py:10: SettingWithCopyWarning: \n",
      "A value is trying to be set on a copy of a slice from a DataFrame.\n",
      "Try using .loc[row_indexer,col_indexer] = value instead\n",
      "\n",
      "See the caveats in the documentation: http://pandas.pydata.org/pandas-docs/stable/user_guide/indexing.html#returning-a-view-versus-a-copy\n",
      "  # Remove the CWD from sys.path while we load stuff.\n",
      "C:\\ProgramData\\Anaconda3\\lib\\site-packages\\ipykernel_launcher.py:11: SettingWithCopyWarning: \n",
      "A value is trying to be set on a copy of a slice from a DataFrame.\n",
      "Try using .loc[row_indexer,col_indexer] = value instead\n",
      "\n",
      "See the caveats in the documentation: http://pandas.pydata.org/pandas-docs/stable/user_guide/indexing.html#returning-a-view-versus-a-copy\n",
      "  # This is added back by InteractiveShellApp.init_path()\n",
      "C:\\ProgramData\\Anaconda3\\lib\\site-packages\\ipykernel_launcher.py:12: SettingWithCopyWarning: \n",
      "A value is trying to be set on a copy of a slice from a DataFrame.\n",
      "Try using .loc[row_indexer,col_indexer] = value instead\n",
      "\n",
      "See the caveats in the documentation: http://pandas.pydata.org/pandas-docs/stable/user_guide/indexing.html#returning-a-view-versus-a-copy\n",
      "  if sys.path[0] == '':\n",
      "C:\\ProgramData\\Anaconda3\\lib\\site-packages\\ipykernel_launcher.py:13: SettingWithCopyWarning: \n",
      "A value is trying to be set on a copy of a slice from a DataFrame.\n",
      "Try using .loc[row_indexer,col_indexer] = value instead\n",
      "\n",
      "See the caveats in the documentation: http://pandas.pydata.org/pandas-docs/stable/user_guide/indexing.html#returning-a-view-versus-a-copy\n",
      "  del sys.path[0]\n",
      "C:\\ProgramData\\Anaconda3\\lib\\site-packages\\ipykernel_launcher.py:14: SettingWithCopyWarning: \n",
      "A value is trying to be set on a copy of a slice from a DataFrame.\n",
      "Try using .loc[row_indexer,col_indexer] = value instead\n",
      "\n",
      "See the caveats in the documentation: http://pandas.pydata.org/pandas-docs/stable/user_guide/indexing.html#returning-a-view-versus-a-copy\n",
      "  \n"
     ]
    },
    {
     "data": {
      "text/html": [
       "<div>\n",
       "<style scoped>\n",
       "    .dataframe tbody tr th:only-of-type {\n",
       "        vertical-align: middle;\n",
       "    }\n",
       "\n",
       "    .dataframe tbody tr th {\n",
       "        vertical-align: top;\n",
       "    }\n",
       "\n",
       "    .dataframe thead th {\n",
       "        text-align: right;\n",
       "    }\n",
       "</style>\n",
       "<table border=\"1\" class=\"dataframe\">\n",
       "  <thead>\n",
       "    <tr style=\"text-align: right;\">\n",
       "      <th></th>\n",
       "      <th>prop_2030s</th>\n",
       "      <th>prop_06_11</th>\n",
       "      <th>prop_11_14</th>\n",
       "      <th>prop_14_17</th>\n",
       "      <th>prop_17_21</th>\n",
       "      <th>prop_21_24</th>\n",
       "      <th>sales_female_ratio</th>\n",
       "      <th>sales_weekday_ratio</th>\n",
       "      <th>s_2030s</th>\n",
       "      <th>s_06_11</th>\n",
       "      <th>s_11_14</th>\n",
       "      <th>s_14_17</th>\n",
       "      <th>s_17_21</th>\n",
       "      <th>s_21_24</th>\n",
       "      <th>sales_female</th>\n",
       "      <th>sales_weekday</th>\n",
       "    </tr>\n",
       "  </thead>\n",
       "  <tbody>\n",
       "    <tr>\n",
       "      <td>0</td>\n",
       "      <td>0.409338</td>\n",
       "      <td>0.011467</td>\n",
       "      <td>0.407748</td>\n",
       "      <td>0.151499</td>\n",
       "      <td>0.346293</td>\n",
       "      <td>0.082993</td>\n",
       "      <td>0.351752</td>\n",
       "      <td>0.70405</td>\n",
       "      <td>3.776641e+08</td>\n",
       "      <td>1.057984e+07</td>\n",
       "      <td>3.761972e+08</td>\n",
       "      <td>1.397762e+08</td>\n",
       "      <td>3.194972e+08</td>\n",
       "      <td>7.657082e+07</td>\n",
       "      <td>324533489.0</td>\n",
       "      <td>649571088.0</td>\n",
       "    </tr>\n",
       "  </tbody>\n",
       "</table>\n",
       "</div>"
      ],
      "text/plain": [
       "   prop_2030s  prop_06_11  prop_11_14  prop_14_17  prop_17_21  prop_21_24  \\\n",
       "0    0.409338    0.011467    0.407748    0.151499    0.346293    0.082993   \n",
       "\n",
       "   sales_female_ratio  sales_weekday_ratio       s_2030s       s_06_11  \\\n",
       "0            0.351752              0.70405  3.776641e+08  1.057984e+07   \n",
       "\n",
       "        s_11_14       s_14_17       s_17_21       s_21_24  sales_female  \\\n",
       "0  3.761972e+08  1.397762e+08  3.194972e+08  7.657082e+07   324533489.0   \n",
       "\n",
       "   sales_weekday  \n",
       "0    649571088.0  "
      ]
     },
     "execution_count": 8,
     "metadata": {},
     "output_type": "execute_result"
    }
   ],
   "source": [
    "# 비율을 값으로 바꾸기\n",
    "df2=df1.copy()\n",
    "df2.drop(['prop_2030s','prop_06_11','prop_11_14','prop_14_17', 'prop_17_21', 'prop_21_24','sales_female_ratio',\n",
    "       'sales_weekday_ratio'],axis=1,inplace=True)\n",
    "df3= df1[['prop_2030s','prop_06_11','prop_11_14','prop_14_17', 'prop_17_21', 'prop_21_24','sales_female_ratio',\n",
    "       'sales_weekday_ratio']]\n",
    "df3['s_2030s'] = df3['prop_2030s']*df1['sales']\n",
    "df3['s_06_11'] = df3['prop_06_11']*df1['sales']\n",
    "df3['s_11_14'] = df3['prop_11_14']*df1['sales']\n",
    "df3['s_14_17'] = df3['prop_14_17']*df1['sales']\n",
    "df3['s_17_21'] = df3['prop_17_21']*df1['sales']\n",
    "df3['s_21_24'] = df3['prop_21_24']*df1['sales']\n",
    "df3['sales_female'] = df3['sales_female_ratio']*df1['sales']\n",
    "df3['sales_weekday'] = df3['sales_weekday_ratio']*df1['sales']\n",
    "df3.head(1)"
   ]
  },
  {
   "cell_type": "code",
   "execution_count": 10,
   "metadata": {},
   "outputs": [
    {
     "data": {
      "text/plain": [
       "Index(['code', 'workpop', 'floatpop', 'apt_no_of_cmplx', 'apt_avg_space',\n",
       "       'apt_avg_price', 'inc_monthly_avg', 'expnd_total', 'no_of_store',\n",
       "       'no_of_franch_store', 'no_of_bank', 'no_of_pharm', 'no_of_theartre',\n",
       "       'no_of_accom', 'no_of_STA', 'sales', 'cgoongoo', 'prop_2030s',\n",
       "       'prop_06_11', 'prop_11_14', 'prop_14_17', 'prop_17_21', 'prop_21_24',\n",
       "       'sales_female_ratio', 'sales_weekday_ratio', 's_2030s', 's_06_11',\n",
       "       's_11_14', 's_14_17', 's_17_21', 's_21_24', 'sales_female',\n",
       "       'sales_weekday'],\n",
       "      dtype='object')"
      ]
     },
     "execution_count": 10,
     "metadata": {},
     "output_type": "execute_result"
    }
   ],
   "source": [
    "#데이터 콘캣\n",
    "df4= pd.concat([df2,df3], axis=1)\n",
    "df4.columns"
   ]
  },
  {
   "cell_type": "code",
   "execution_count": 11,
   "metadata": {},
   "outputs": [],
   "source": [
    "# 같은 시군구 코드와 서비스코드 특성 합치기\n",
    "df5=df4.groupby(['cgoongoo', 'code']).sum()"
   ]
  },
  {
   "cell_type": "code",
   "execution_count": 12,
   "metadata": {
    "scrolled": true
   },
   "outputs": [],
   "source": [
    "df5.reset_index(inplace=True)\n"
   ]
  },
  {
   "cell_type": "code",
   "execution_count": 16,
   "metadata": {},
   "outputs": [],
   "source": [
    "df5.drop(['prop_2030s','','prop_11_14','prop_14_17', 'prop_17_21', 'prop_21_24','sales_female_ratio',\n",
    "       'sales_weekday_ratio'],axis=1,inplace=True)"
   ]
  },
  {
   "cell_type": "code",
   "execution_count": 17,
   "metadata": {},
   "outputs": [
    {
     "data": {
      "text/plain": [
       "Index(['cgoongoo', 'code', 'workpop', 'floatpop', 'apt_no_of_cmplx',\n",
       "       'apt_avg_space', 'apt_avg_price', 'inc_monthly_avg', 'expnd_total',\n",
       "       'no_of_store', 'no_of_franch_store', 'no_of_bank', 'no_of_pharm',\n",
       "       'no_of_theartre', 'no_of_accom', 'no_of_STA', 'sales', 's_2030s',\n",
       "       's_06_11', 's_11_14', 's_14_17', 's_17_21', 's_21_24', 'sales_female',\n",
       "       'sales_weekday'],\n",
       "      dtype='object')"
      ]
     },
     "execution_count": 17,
     "metadata": {},
     "output_type": "execute_result"
    }
   ],
   "source": [
    "df5.columns"
   ]
  },
  {
   "cell_type": "code",
   "execution_count": 21,
   "metadata": {},
   "outputs": [],
   "source": [
    "df5['prop_2030s'] = df5['s_2030s'] / df5['sales']\n",
    "df5['prop_06_11'] = df5['s_06_11'] / df5['sales']\n",
    "df5['prop_14_17'] = df5['s_11_14'] / df5['sales']\n",
    "df5['prop_17_21'] = df5['s_14_17'] / df5['sales']\n",
    "df5['prop_21_24'] = df5['s_21_24'] / df5['sales']\n",
    "df5['sales_female_ratio'] = df5['sales_female'] / df5['sales']\n",
    "df5['sales_weekday_ratio'] = df5['sales_weekday'] / df5['sales']"
   ]
  },
  {
   "cell_type": "code",
   "execution_count": 38,
   "metadata": {},
   "outputs": [],
   "source": [
    "df5.drop(columns=['s_2030s', 's_06_11', 's_11_14', 's_14_17', 's_17_21', 's_21_24', 'sales_female', 'sales_weekday'], inplace=True)"
   ]
  },
  {
   "cell_type": "code",
   "execution_count": 63,
   "metadata": {},
   "outputs": [],
   "source": [
    "df5.columns=['cgoongoo', 'code', 'drop', 'sales', 'workpop', 'floatpop',\n",
    "       'apt_no_of_cmplx', 'apt_avg_space', 'apt_avg_price', 'inc_monthly_avg',\n",
    "       'expnd_total', 'no_of_store', 'no_of_franch_store', 'no_of_bank',\n",
    "       'no_of_pharm', 'no_of_theartre', 'no_of_accom', 'no_of_STA', 's_total',\n",
    "       'prop_2030s', 'prop_06_11', 'prop_14_17', 'prop_17_21', 'prop_21_24',\n",
    "       'sales_female_ratio', 'sales_weekday_ratio']"
   ]
  },
  {
   "cell_type": "code",
   "execution_count": 65,
   "metadata": {},
   "outputs": [],
   "source": [
    "df5.drop(columns=['drop'], inplace=True)"
   ]
  },
  {
   "cell_type": "code",
   "execution_count": 100,
   "metadata": {},
   "outputs": [],
   "source": [
    "df5.drop(columns=['s_total'], inplace =True)"
   ]
  },
  {
   "cell_type": "code",
   "execution_count": 102,
   "metadata": {},
   "outputs": [
    {
     "data": {
      "text/plain": [
       "Index(['cgoongoo', 'code', 'sales', 'workpop', 'floatpop', 'apt_no_of_cmplx',\n",
       "       'apt_avg_space', 'apt_avg_price', 'inc_monthly_avg', 'expnd_total',\n",
       "       'no_of_store', 'no_of_franch_store', 'no_of_bank', 'no_of_pharm',\n",
       "       'no_of_theartre', 'no_of_accom', 'no_of_STA', 'prop_2030s',\n",
       "       'prop_06_11', 'prop_14_17', 'prop_17_21', 'prop_21_24',\n",
       "       'sales_female_ratio', 'sales_weekday_ratio'],\n",
       "      dtype='object')"
      ]
     },
     "execution_count": 102,
     "metadata": {},
     "output_type": "execute_result"
    }
   ],
   "source": [
    "df5.columns"
   ]
  },
  {
   "cell_type": "code",
   "execution_count": 103,
   "metadata": {},
   "outputs": [
    {
     "data": {
      "text/plain": [
       "Index(['sales', 'workpop', 'floatpop', 'apt_no_of_cmplx', 'apt_avg_space',\n",
       "       'apt_avg_price', 'inc_monthly_avg', 'expnd_total', 'no_of_store',\n",
       "       'no_of_franch_store', 'no_of_bank', 'no_of_pharm', 'no_of_theartre',\n",
       "       'no_of_accom', 'no_of_STA', 'prop_2030s', 'prop_06_11', 'prop_14_17',\n",
       "       'prop_17_21', 'prop_21_24', 'sales_female_ratio',\n",
       "       'sales_weekday_ratio'],\n",
       "      dtype='object')"
      ]
     },
     "execution_count": 103,
     "metadata": {},
     "output_type": "execute_result"
    }
   ],
   "source": [
    "df6=df5[df5.columns[2:]]\n",
    "df6.columns"
   ]
  },
  {
   "cell_type": "code",
   "execution_count": 104,
   "metadata": {
    "scrolled": true
   },
   "outputs": [
    {
     "data": {
      "text/html": [
       "<div>\n",
       "<style scoped>\n",
       "    .dataframe tbody tr th:only-of-type {\n",
       "        vertical-align: middle;\n",
       "    }\n",
       "\n",
       "    .dataframe tbody tr th {\n",
       "        vertical-align: top;\n",
       "    }\n",
       "\n",
       "    .dataframe thead th {\n",
       "        text-align: right;\n",
       "    }\n",
       "</style>\n",
       "<table border=\"1\" class=\"dataframe\">\n",
       "  <thead>\n",
       "    <tr style=\"text-align: right;\">\n",
       "      <th></th>\n",
       "      <th>sales</th>\n",
       "      <th>workpop</th>\n",
       "      <th>floatpop</th>\n",
       "      <th>apt_no_of_cmplx</th>\n",
       "      <th>apt_avg_space</th>\n",
       "      <th>apt_avg_price</th>\n",
       "      <th>inc_monthly_avg</th>\n",
       "      <th>expnd_total</th>\n",
       "      <th>no_of_store</th>\n",
       "      <th>no_of_franch_store</th>\n",
       "      <th>...</th>\n",
       "      <th>no_of_theartre</th>\n",
       "      <th>no_of_accom</th>\n",
       "      <th>no_of_STA</th>\n",
       "      <th>prop_2030s</th>\n",
       "      <th>prop_06_11</th>\n",
       "      <th>prop_14_17</th>\n",
       "      <th>prop_17_21</th>\n",
       "      <th>prop_21_24</th>\n",
       "      <th>sales_female_ratio</th>\n",
       "      <th>sales_weekday_ratio</th>\n",
       "    </tr>\n",
       "  </thead>\n",
       "  <tbody>\n",
       "    <tr>\n",
       "      <td>0</td>\n",
       "      <td>4.562540</td>\n",
       "      <td>0.071498</td>\n",
       "      <td>-0.184217</td>\n",
       "      <td>-0.068866</td>\n",
       "      <td>0.553904</td>\n",
       "      <td>0.586335</td>\n",
       "      <td>0.373904</td>\n",
       "      <td>-0.261041</td>\n",
       "      <td>2.925197</td>\n",
       "      <td>2.407407</td>\n",
       "      <td>...</td>\n",
       "      <td>45.00</td>\n",
       "      <td>3.408333</td>\n",
       "      <td>-0.75</td>\n",
       "      <td>0.007292</td>\n",
       "      <td>-0.468971</td>\n",
       "      <td>0.938993</td>\n",
       "      <td>-0.748406</td>\n",
       "      <td>0.310107</td>\n",
       "      <td>-0.491142</td>\n",
       "      <td>-0.273380</td>\n",
       "    </tr>\n",
       "    <tr>\n",
       "      <td>1</td>\n",
       "      <td>-0.115083</td>\n",
       "      <td>-0.225809</td>\n",
       "      <td>-0.581797</td>\n",
       "      <td>-0.449608</td>\n",
       "      <td>-0.207124</td>\n",
       "      <td>-0.122076</td>\n",
       "      <td>-0.338366</td>\n",
       "      <td>-0.616451</td>\n",
       "      <td>-0.221785</td>\n",
       "      <td>0.222222</td>\n",
       "      <td>...</td>\n",
       "      <td>29.00</td>\n",
       "      <td>2.091667</td>\n",
       "      <td>-0.75</td>\n",
       "      <td>0.271092</td>\n",
       "      <td>-0.511038</td>\n",
       "      <td>1.350022</td>\n",
       "      <td>-0.772824</td>\n",
       "      <td>-0.084227</td>\n",
       "      <td>-0.638090</td>\n",
       "      <td>-0.238458</td>\n",
       "    </tr>\n",
       "    <tr>\n",
       "      <td>2</td>\n",
       "      <td>-0.130547</td>\n",
       "      <td>-0.326097</td>\n",
       "      <td>-0.615906</td>\n",
       "      <td>-0.462346</td>\n",
       "      <td>-0.390658</td>\n",
       "      <td>-0.327032</td>\n",
       "      <td>-0.457941</td>\n",
       "      <td>-0.660578</td>\n",
       "      <td>-0.240157</td>\n",
       "      <td>0.111111</td>\n",
       "      <td>...</td>\n",
       "      <td>27.75</td>\n",
       "      <td>1.841667</td>\n",
       "      <td>-0.75</td>\n",
       "      <td>0.309526</td>\n",
       "      <td>-0.555052</td>\n",
       "      <td>0.908014</td>\n",
       "      <td>-0.973378</td>\n",
       "      <td>0.588512</td>\n",
       "      <td>-0.444216</td>\n",
       "      <td>-0.051880</td>\n",
       "    </tr>\n",
       "    <tr>\n",
       "      <td>3</td>\n",
       "      <td>1.109929</td>\n",
       "      <td>-0.110195</td>\n",
       "      <td>-0.487068</td>\n",
       "      <td>-0.336246</td>\n",
       "      <td>0.222458</td>\n",
       "      <td>0.329624</td>\n",
       "      <td>-0.001957</td>\n",
       "      <td>-0.522991</td>\n",
       "      <td>0.494751</td>\n",
       "      <td>0.407407</td>\n",
       "      <td>...</td>\n",
       "      <td>43.00</td>\n",
       "      <td>2.833333</td>\n",
       "      <td>-0.75</td>\n",
       "      <td>0.403596</td>\n",
       "      <td>-0.436909</td>\n",
       "      <td>0.284950</td>\n",
       "      <td>-0.410603</td>\n",
       "      <td>0.604377</td>\n",
       "      <td>-0.186349</td>\n",
       "      <td>-0.682820</td>\n",
       "    </tr>\n",
       "    <tr>\n",
       "      <td>4</td>\n",
       "      <td>0.296972</td>\n",
       "      <td>-0.251873</td>\n",
       "      <td>-0.371809</td>\n",
       "      <td>-0.274185</td>\n",
       "      <td>-0.003067</td>\n",
       "      <td>0.058262</td>\n",
       "      <td>-0.096010</td>\n",
       "      <td>-0.459763</td>\n",
       "      <td>0.662730</td>\n",
       "      <td>2.111111</td>\n",
       "      <td>...</td>\n",
       "      <td>37.25</td>\n",
       "      <td>2.966667</td>\n",
       "      <td>-0.75</td>\n",
       "      <td>0.703176</td>\n",
       "      <td>-0.284749</td>\n",
       "      <td>0.759947</td>\n",
       "      <td>-0.308204</td>\n",
       "      <td>0.038003</td>\n",
       "      <td>0.091196</td>\n",
       "      <td>-0.557647</td>\n",
       "    </tr>\n",
       "  </tbody>\n",
       "</table>\n",
       "<p>5 rows × 22 columns</p>\n",
       "</div>"
      ],
      "text/plain": [
       "      sales   workpop  floatpop  apt_no_of_cmplx  apt_avg_space  \\\n",
       "0  4.562540  0.071498 -0.184217        -0.068866       0.553904   \n",
       "1 -0.115083 -0.225809 -0.581797        -0.449608      -0.207124   \n",
       "2 -0.130547 -0.326097 -0.615906        -0.462346      -0.390658   \n",
       "3  1.109929 -0.110195 -0.487068        -0.336246       0.222458   \n",
       "4  0.296972 -0.251873 -0.371809        -0.274185      -0.003067   \n",
       "\n",
       "   apt_avg_price  inc_monthly_avg  expnd_total  no_of_store  \\\n",
       "0       0.586335         0.373904    -0.261041     2.925197   \n",
       "1      -0.122076        -0.338366    -0.616451    -0.221785   \n",
       "2      -0.327032        -0.457941    -0.660578    -0.240157   \n",
       "3       0.329624        -0.001957    -0.522991     0.494751   \n",
       "4       0.058262        -0.096010    -0.459763     0.662730   \n",
       "\n",
       "   no_of_franch_store  ...  no_of_theartre  no_of_accom  no_of_STA  \\\n",
       "0            2.407407  ...           45.00     3.408333      -0.75   \n",
       "1            0.222222  ...           29.00     2.091667      -0.75   \n",
       "2            0.111111  ...           27.75     1.841667      -0.75   \n",
       "3            0.407407  ...           43.00     2.833333      -0.75   \n",
       "4            2.111111  ...           37.25     2.966667      -0.75   \n",
       "\n",
       "   prop_2030s  prop_06_11  prop_14_17  prop_17_21  prop_21_24  \\\n",
       "0    0.007292   -0.468971    0.938993   -0.748406    0.310107   \n",
       "1    0.271092   -0.511038    1.350022   -0.772824   -0.084227   \n",
       "2    0.309526   -0.555052    0.908014   -0.973378    0.588512   \n",
       "3    0.403596   -0.436909    0.284950   -0.410603    0.604377   \n",
       "4    0.703176   -0.284749    0.759947   -0.308204    0.038003   \n",
       "\n",
       "   sales_female_ratio  sales_weekday_ratio  \n",
       "0           -0.491142            -0.273380  \n",
       "1           -0.638090            -0.238458  \n",
       "2           -0.444216            -0.051880  \n",
       "3           -0.186349            -0.682820  \n",
       "4            0.091196            -0.557647  \n",
       "\n",
       "[5 rows x 22 columns]"
      ]
     },
     "execution_count": 104,
     "metadata": {},
     "output_type": "execute_result"
    }
   ],
   "source": [
    "# RobustScaling\n",
    "rb = RobustScaler()\n",
    "rb.fit(df6)\n",
    "X_robust_scaled = rb.transform(df6)\n",
    "dfX=pd.DataFrame(X_robust_scaled, columns= df6.columns)\n",
    "dfX.head()"
   ]
  },
  {
   "cell_type": "code",
   "execution_count": 105,
   "metadata": {
    "scrolled": false
   },
   "outputs": [
    {
     "data": {
      "text/plain": [
       "Index(['sales', 'workpop', 'floatpop', 'apt_no_of_cmplx', 'apt_avg_space',\n",
       "       'apt_avg_price', 'inc_monthly_avg', 'expnd_total', 'no_of_store',\n",
       "       'no_of_franch_store', 'no_of_bank', 'no_of_pharm', 'no_of_theartre',\n",
       "       'no_of_accom', 'no_of_STA', 'prop_2030s', 'prop_06_11', 'prop_14_17',\n",
       "       'prop_17_21', 'prop_21_24', 'sales_female_ratio',\n",
       "       'sales_weekday_ratio'],\n",
       "      dtype='object')"
      ]
     },
     "execution_count": 105,
     "metadata": {},
     "output_type": "execute_result"
    }
   ],
   "source": [
    "dfX.columns"
   ]
  },
  {
   "cell_type": "code",
   "execution_count": null,
   "metadata": {},
   "outputs": [],
   "source": []
  },
  {
   "cell_type": "code",
   "execution_count": 106,
   "metadata": {
    "scrolled": false
   },
   "outputs": [
    {
     "data": {
      "text/plain": [
       "Index(['workpop', 'floatpop', 'apt_no_of_cmplx', 'apt_avg_space',\n",
       "       'apt_avg_price', 'inc_monthly_avg', 'expnd_total', 'no_of_store',\n",
       "       'no_of_franch_store', 'no_of_bank', 'no_of_pharm', 'no_of_theartre',\n",
       "       'no_of_accom', 'no_of_STA', 'prop_2030s', 'prop_06_11', 'prop_14_17',\n",
       "       'prop_17_21', 'prop_21_24', 'sales_female_ratio',\n",
       "       'sales_weekday_ratio'],\n",
       "      dtype='object')"
      ]
     },
     "execution_count": 106,
     "metadata": {},
     "output_type": "execute_result"
    }
   ],
   "source": [
    "dfX2=dfX.copy()\n",
    "dfX2.drop(['sales'],axis=1,inplace=True)\n",
    "dfX2.columns\n"
   ]
  },
  {
   "cell_type": "code",
   "execution_count": 107,
   "metadata": {
    "scrolled": false
   },
   "outputs": [
    {
     "data": {
      "text/html": [
       "<div>\n",
       "<style scoped>\n",
       "    .dataframe tbody tr th:only-of-type {\n",
       "        vertical-align: middle;\n",
       "    }\n",
       "\n",
       "    .dataframe tbody tr th {\n",
       "        vertical-align: top;\n",
       "    }\n",
       "\n",
       "    .dataframe thead th {\n",
       "        text-align: right;\n",
       "    }\n",
       "</style>\n",
       "<table border=\"1\" class=\"dataframe\">\n",
       "  <thead>\n",
       "    <tr style=\"text-align: right;\">\n",
       "      <th></th>\n",
       "      <th>cgoongoo</th>\n",
       "      <th>code</th>\n",
       "      <th>sales</th>\n",
       "      <th>workpop</th>\n",
       "      <th>floatpop</th>\n",
       "      <th>apt_no_of_cmplx</th>\n",
       "      <th>apt_avg_space</th>\n",
       "      <th>apt_avg_price</th>\n",
       "      <th>inc_monthly_avg</th>\n",
       "      <th>expnd_total</th>\n",
       "      <th>...</th>\n",
       "      <th>no_of_theartre</th>\n",
       "      <th>no_of_accom</th>\n",
       "      <th>no_of_STA</th>\n",
       "      <th>prop_2030s</th>\n",
       "      <th>prop_06_11</th>\n",
       "      <th>prop_14_17</th>\n",
       "      <th>prop_17_21</th>\n",
       "      <th>prop_21_24</th>\n",
       "      <th>sales_female_ratio</th>\n",
       "      <th>sales_weekday_ratio</th>\n",
       "    </tr>\n",
       "  </thead>\n",
       "  <tbody>\n",
       "    <tr>\n",
       "      <td>0</td>\n",
       "      <td>11110</td>\n",
       "      <td>CS100001</td>\n",
       "      <td>4.562540</td>\n",
       "      <td>0.071498</td>\n",
       "      <td>-0.184217</td>\n",
       "      <td>-0.068866</td>\n",
       "      <td>0.553904</td>\n",
       "      <td>0.586335</td>\n",
       "      <td>0.373904</td>\n",
       "      <td>-0.261041</td>\n",
       "      <td>...</td>\n",
       "      <td>45.00</td>\n",
       "      <td>3.408333</td>\n",
       "      <td>-0.75</td>\n",
       "      <td>0.007292</td>\n",
       "      <td>-0.468971</td>\n",
       "      <td>0.938993</td>\n",
       "      <td>-0.748406</td>\n",
       "      <td>0.310107</td>\n",
       "      <td>-0.491142</td>\n",
       "      <td>-0.273380</td>\n",
       "    </tr>\n",
       "    <tr>\n",
       "      <td>1</td>\n",
       "      <td>11110</td>\n",
       "      <td>CS100002</td>\n",
       "      <td>-0.115083</td>\n",
       "      <td>-0.225809</td>\n",
       "      <td>-0.581797</td>\n",
       "      <td>-0.449608</td>\n",
       "      <td>-0.207124</td>\n",
       "      <td>-0.122076</td>\n",
       "      <td>-0.338366</td>\n",
       "      <td>-0.616451</td>\n",
       "      <td>...</td>\n",
       "      <td>29.00</td>\n",
       "      <td>2.091667</td>\n",
       "      <td>-0.75</td>\n",
       "      <td>0.271092</td>\n",
       "      <td>-0.511038</td>\n",
       "      <td>1.350022</td>\n",
       "      <td>-0.772824</td>\n",
       "      <td>-0.084227</td>\n",
       "      <td>-0.638090</td>\n",
       "      <td>-0.238458</td>\n",
       "    </tr>\n",
       "    <tr>\n",
       "      <td>2</td>\n",
       "      <td>11110</td>\n",
       "      <td>CS100003</td>\n",
       "      <td>-0.130547</td>\n",
       "      <td>-0.326097</td>\n",
       "      <td>-0.615906</td>\n",
       "      <td>-0.462346</td>\n",
       "      <td>-0.390658</td>\n",
       "      <td>-0.327032</td>\n",
       "      <td>-0.457941</td>\n",
       "      <td>-0.660578</td>\n",
       "      <td>...</td>\n",
       "      <td>27.75</td>\n",
       "      <td>1.841667</td>\n",
       "      <td>-0.75</td>\n",
       "      <td>0.309526</td>\n",
       "      <td>-0.555052</td>\n",
       "      <td>0.908014</td>\n",
       "      <td>-0.973378</td>\n",
       "      <td>0.588512</td>\n",
       "      <td>-0.444216</td>\n",
       "      <td>-0.051880</td>\n",
       "    </tr>\n",
       "    <tr>\n",
       "      <td>3</td>\n",
       "      <td>11110</td>\n",
       "      <td>CS100004</td>\n",
       "      <td>1.109929</td>\n",
       "      <td>-0.110195</td>\n",
       "      <td>-0.487068</td>\n",
       "      <td>-0.336246</td>\n",
       "      <td>0.222458</td>\n",
       "      <td>0.329624</td>\n",
       "      <td>-0.001957</td>\n",
       "      <td>-0.522991</td>\n",
       "      <td>...</td>\n",
       "      <td>43.00</td>\n",
       "      <td>2.833333</td>\n",
       "      <td>-0.75</td>\n",
       "      <td>0.403596</td>\n",
       "      <td>-0.436909</td>\n",
       "      <td>0.284950</td>\n",
       "      <td>-0.410603</td>\n",
       "      <td>0.604377</td>\n",
       "      <td>-0.186349</td>\n",
       "      <td>-0.682820</td>\n",
       "    </tr>\n",
       "    <tr>\n",
       "      <td>4</td>\n",
       "      <td>11110</td>\n",
       "      <td>CS100005</td>\n",
       "      <td>0.296972</td>\n",
       "      <td>-0.251873</td>\n",
       "      <td>-0.371809</td>\n",
       "      <td>-0.274185</td>\n",
       "      <td>-0.003067</td>\n",
       "      <td>0.058262</td>\n",
       "      <td>-0.096010</td>\n",
       "      <td>-0.459763</td>\n",
       "      <td>...</td>\n",
       "      <td>37.25</td>\n",
       "      <td>2.966667</td>\n",
       "      <td>-0.75</td>\n",
       "      <td>0.703176</td>\n",
       "      <td>-0.284749</td>\n",
       "      <td>0.759947</td>\n",
       "      <td>-0.308204</td>\n",
       "      <td>0.038003</td>\n",
       "      <td>0.091196</td>\n",
       "      <td>-0.557647</td>\n",
       "    </tr>\n",
       "    <tr>\n",
       "      <td>...</td>\n",
       "      <td>...</td>\n",
       "      <td>...</td>\n",
       "      <td>...</td>\n",
       "      <td>...</td>\n",
       "      <td>...</td>\n",
       "      <td>...</td>\n",
       "      <td>...</td>\n",
       "      <td>...</td>\n",
       "      <td>...</td>\n",
       "      <td>...</td>\n",
       "      <td>...</td>\n",
       "      <td>...</td>\n",
       "      <td>...</td>\n",
       "      <td>...</td>\n",
       "      <td>...</td>\n",
       "      <td>...</td>\n",
       "      <td>...</td>\n",
       "      <td>...</td>\n",
       "      <td>...</td>\n",
       "      <td>...</td>\n",
       "      <td>...</td>\n",
       "    </tr>\n",
       "    <tr>\n",
       "      <td>1117</td>\n",
       "      <td>11740</td>\n",
       "      <td>CS300013</td>\n",
       "      <td>-0.229237</td>\n",
       "      <td>0.273095</td>\n",
       "      <td>0.330542</td>\n",
       "      <td>0.254759</td>\n",
       "      <td>-0.066525</td>\n",
       "      <td>0.022188</td>\n",
       "      <td>-0.040647</td>\n",
       "      <td>0.311628</td>\n",
       "      <td>...</td>\n",
       "      <td>0.00</td>\n",
       "      <td>0.075000</td>\n",
       "      <td>0.50</td>\n",
       "      <td>-0.962714</td>\n",
       "      <td>-0.061351</td>\n",
       "      <td>0.218016</td>\n",
       "      <td>0.454717</td>\n",
       "      <td>-0.254019</td>\n",
       "      <td>0.610654</td>\n",
       "      <td>0.164461</td>\n",
       "    </tr>\n",
       "    <tr>\n",
       "      <td>1118</td>\n",
       "      <td>11740</td>\n",
       "      <td>CS300014</td>\n",
       "      <td>-0.095525</td>\n",
       "      <td>0.567337</td>\n",
       "      <td>0.679152</td>\n",
       "      <td>0.388885</td>\n",
       "      <td>0.201934</td>\n",
       "      <td>0.272252</td>\n",
       "      <td>0.230404</td>\n",
       "      <td>0.525392</td>\n",
       "      <td>...</td>\n",
       "      <td>1.00</td>\n",
       "      <td>0.275000</td>\n",
       "      <td>1.25</td>\n",
       "      <td>0.042701</td>\n",
       "      <td>-0.018425</td>\n",
       "      <td>0.135178</td>\n",
       "      <td>0.338318</td>\n",
       "      <td>-0.272143</td>\n",
       "      <td>0.572835</td>\n",
       "      <td>-0.420481</td>\n",
       "    </tr>\n",
       "    <tr>\n",
       "      <td>1119</td>\n",
       "      <td>11740</td>\n",
       "      <td>CS300015</td>\n",
       "      <td>0.292860</td>\n",
       "      <td>-0.283876</td>\n",
       "      <td>-0.264466</td>\n",
       "      <td>-0.206657</td>\n",
       "      <td>-0.537627</td>\n",
       "      <td>-0.429481</td>\n",
       "      <td>-0.505989</td>\n",
       "      <td>-0.261446</td>\n",
       "      <td>...</td>\n",
       "      <td>0.00</td>\n",
       "      <td>-0.333333</td>\n",
       "      <td>0.00</td>\n",
       "      <td>-0.806175</td>\n",
       "      <td>-0.042115</td>\n",
       "      <td>0.026722</td>\n",
       "      <td>0.550350</td>\n",
       "      <td>-0.346827</td>\n",
       "      <td>0.139231</td>\n",
       "      <td>-0.689319</td>\n",
       "    </tr>\n",
       "    <tr>\n",
       "      <td>1120</td>\n",
       "      <td>11740</td>\n",
       "      <td>CS300016</td>\n",
       "      <td>0.689789</td>\n",
       "      <td>0.613186</td>\n",
       "      <td>1.295242</td>\n",
       "      <td>1.071556</td>\n",
       "      <td>0.837698</td>\n",
       "      <td>0.881018</td>\n",
       "      <td>0.860798</td>\n",
       "      <td>1.359438</td>\n",
       "      <td>...</td>\n",
       "      <td>0.00</td>\n",
       "      <td>0.475000</td>\n",
       "      <td>1.25</td>\n",
       "      <td>-0.547720</td>\n",
       "      <td>2.255145</td>\n",
       "      <td>0.179702</td>\n",
       "      <td>0.029975</td>\n",
       "      <td>-0.360063</td>\n",
       "      <td>-0.827797</td>\n",
       "      <td>0.675336</td>\n",
       "    </tr>\n",
       "    <tr>\n",
       "      <td>1121</td>\n",
       "      <td>11740</td>\n",
       "      <td>CS300017</td>\n",
       "      <td>-0.300365</td>\n",
       "      <td>-0.052987</td>\n",
       "      <td>-0.131241</td>\n",
       "      <td>-0.169490</td>\n",
       "      <td>-0.474876</td>\n",
       "      <td>-0.398102</td>\n",
       "      <td>-0.442022</td>\n",
       "      <td>-0.164623</td>\n",
       "      <td>...</td>\n",
       "      <td>0.00</td>\n",
       "      <td>-0.316667</td>\n",
       "      <td>0.00</td>\n",
       "      <td>-0.679925</td>\n",
       "      <td>0.539118</td>\n",
       "      <td>1.003478</td>\n",
       "      <td>0.363851</td>\n",
       "      <td>-0.399492</td>\n",
       "      <td>-0.266893</td>\n",
       "      <td>-1.436966</td>\n",
       "    </tr>\n",
       "  </tbody>\n",
       "</table>\n",
       "<p>1122 rows × 24 columns</p>\n",
       "</div>"
      ],
      "text/plain": [
       "      cgoongoo      code     sales   workpop  floatpop  apt_no_of_cmplx  \\\n",
       "0        11110  CS100001  4.562540  0.071498 -0.184217        -0.068866   \n",
       "1        11110  CS100002 -0.115083 -0.225809 -0.581797        -0.449608   \n",
       "2        11110  CS100003 -0.130547 -0.326097 -0.615906        -0.462346   \n",
       "3        11110  CS100004  1.109929 -0.110195 -0.487068        -0.336246   \n",
       "4        11110  CS100005  0.296972 -0.251873 -0.371809        -0.274185   \n",
       "...        ...       ...       ...       ...       ...              ...   \n",
       "1117     11740  CS300013 -0.229237  0.273095  0.330542         0.254759   \n",
       "1118     11740  CS300014 -0.095525  0.567337  0.679152         0.388885   \n",
       "1119     11740  CS300015  0.292860 -0.283876 -0.264466        -0.206657   \n",
       "1120     11740  CS300016  0.689789  0.613186  1.295242         1.071556   \n",
       "1121     11740  CS300017 -0.300365 -0.052987 -0.131241        -0.169490   \n",
       "\n",
       "      apt_avg_space  apt_avg_price  inc_monthly_avg  expnd_total  ...  \\\n",
       "0          0.553904       0.586335         0.373904    -0.261041  ...   \n",
       "1         -0.207124      -0.122076        -0.338366    -0.616451  ...   \n",
       "2         -0.390658      -0.327032        -0.457941    -0.660578  ...   \n",
       "3          0.222458       0.329624        -0.001957    -0.522991  ...   \n",
       "4         -0.003067       0.058262        -0.096010    -0.459763  ...   \n",
       "...             ...            ...              ...          ...  ...   \n",
       "1117      -0.066525       0.022188        -0.040647     0.311628  ...   \n",
       "1118       0.201934       0.272252         0.230404     0.525392  ...   \n",
       "1119      -0.537627      -0.429481        -0.505989    -0.261446  ...   \n",
       "1120       0.837698       0.881018         0.860798     1.359438  ...   \n",
       "1121      -0.474876      -0.398102        -0.442022    -0.164623  ...   \n",
       "\n",
       "      no_of_theartre  no_of_accom  no_of_STA  prop_2030s  prop_06_11  \\\n",
       "0              45.00     3.408333      -0.75    0.007292   -0.468971   \n",
       "1              29.00     2.091667      -0.75    0.271092   -0.511038   \n",
       "2              27.75     1.841667      -0.75    0.309526   -0.555052   \n",
       "3              43.00     2.833333      -0.75    0.403596   -0.436909   \n",
       "4              37.25     2.966667      -0.75    0.703176   -0.284749   \n",
       "...              ...          ...        ...         ...         ...   \n",
       "1117            0.00     0.075000       0.50   -0.962714   -0.061351   \n",
       "1118            1.00     0.275000       1.25    0.042701   -0.018425   \n",
       "1119            0.00    -0.333333       0.00   -0.806175   -0.042115   \n",
       "1120            0.00     0.475000       1.25   -0.547720    2.255145   \n",
       "1121            0.00    -0.316667       0.00   -0.679925    0.539118   \n",
       "\n",
       "      prop_14_17  prop_17_21  prop_21_24  sales_female_ratio  \\\n",
       "0       0.938993   -0.748406    0.310107           -0.491142   \n",
       "1       1.350022   -0.772824   -0.084227           -0.638090   \n",
       "2       0.908014   -0.973378    0.588512           -0.444216   \n",
       "3       0.284950   -0.410603    0.604377           -0.186349   \n",
       "4       0.759947   -0.308204    0.038003            0.091196   \n",
       "...          ...         ...         ...                 ...   \n",
       "1117    0.218016    0.454717   -0.254019            0.610654   \n",
       "1118    0.135178    0.338318   -0.272143            0.572835   \n",
       "1119    0.026722    0.550350   -0.346827            0.139231   \n",
       "1120    0.179702    0.029975   -0.360063           -0.827797   \n",
       "1121    1.003478    0.363851   -0.399492           -0.266893   \n",
       "\n",
       "      sales_weekday_ratio  \n",
       "0               -0.273380  \n",
       "1               -0.238458  \n",
       "2               -0.051880  \n",
       "3               -0.682820  \n",
       "4               -0.557647  \n",
       "...                   ...  \n",
       "1117             0.164461  \n",
       "1118            -0.420481  \n",
       "1119            -0.689319  \n",
       "1120             0.675336  \n",
       "1121            -1.436966  \n",
       "\n",
       "[1122 rows x 24 columns]"
      ]
     },
     "execution_count": 107,
     "metadata": {},
     "output_type": "execute_result"
    }
   ],
   "source": [
    "# 서비스 코드 , 상권코드 콘캣\n",
    "result=pd.concat([df5[['cgoongoo','code']],dfX], axis=1)\n",
    "result"
   ]
  },
  {
   "cell_type": "code",
   "execution_count": 108,
   "metadata": {},
   "outputs": [
    {
     "data": {
      "text/plain": [
       "Index(['cgoongoo', 'sales', 'workpop', 'floatpop', 'apt_no_of_cmplx',\n",
       "       'apt_avg_space', 'apt_avg_price', 'inc_monthly_avg', 'expnd_total',\n",
       "       'no_of_store', 'no_of_franch_store', 'no_of_bank', 'no_of_pharm',\n",
       "       'no_of_theartre', 'no_of_accom', 'no_of_STA', 'prop_2030s',\n",
       "       'prop_06_11', 'prop_14_17', 'prop_17_21', 'prop_21_24',\n",
       "       'sales_female_ratio', 'sales_weekday_ratio', 'code_CS100001',\n",
       "       'code_CS100002', 'code_CS100003', 'code_CS100004', 'code_CS100005',\n",
       "       'code_CS100006', 'code_CS100007', 'code_CS100008', 'code_CS100009',\n",
       "       'code_CS100010', 'code_CS200001', 'code_CS200002', 'code_CS200003',\n",
       "       'code_CS200004', 'code_CS200005', 'code_CS200006', 'code_CS200007',\n",
       "       'code_CS200008', 'code_CS200009', 'code_CS200010', 'code_CS200011',\n",
       "       'code_CS200012', 'code_CS200013', 'code_CS200014', 'code_CS200015',\n",
       "       'code_CS200016', 'code_CS200017', 'code_CS200018', 'code_CS300001',\n",
       "       'code_CS300002', 'code_CS300003', 'code_CS300004', 'code_CS300005',\n",
       "       'code_CS300006', 'code_CS300007', 'code_CS300008', 'code_CS300009',\n",
       "       'code_CS300010', 'code_CS300011', 'code_CS300012', 'code_CS300013',\n",
       "       'code_CS300014', 'code_CS300015', 'code_CS300016', 'code_CS300017'],\n",
       "      dtype='object')"
      ]
     },
     "execution_count": 108,
     "metadata": {},
     "output_type": "execute_result"
    }
   ],
   "source": [
    "#서비스코드 더미화\n",
    "result2 = pd.get_dummies(result)\n",
    "result2.columns"
   ]
  },
  {
   "cell_type": "code",
   "execution_count": 130,
   "metadata": {},
   "outputs": [
    {
     "data": {
      "text/plain": [
       "25"
      ]
     },
     "execution_count": 130,
     "metadata": {},
     "output_type": "execute_result"
    }
   ],
   "source": [
    "result3 = pd.get_dummies(result2['cgoongoo'], prefix='d')\n",
    "len(result3.columns)"
   ]
  },
  {
   "cell_type": "code",
   "execution_count": 110,
   "metadata": {},
   "outputs": [
    {
     "data": {
      "text/plain": [
       "Index(['workpop', 'floatpop', 'apt_no_of_cmplx', 'apt_avg_space',\n",
       "       'apt_avg_price', 'inc_monthly_avg', 'expnd_total', 'no_of_store',\n",
       "       'no_of_franch_store', 'no_of_bank', 'no_of_pharm', 'no_of_theartre',\n",
       "       'no_of_accom', 'no_of_STA', 'prop_2030s', 'prop_06_11', 'prop_14_17',\n",
       "       'prop_17_21', 'prop_21_24', 'sales_female_ratio', 'sales_weekday_ratio',\n",
       "       'code_CS100001', 'code_CS100002', 'code_CS100003', 'code_CS100004',\n",
       "       'code_CS100005', 'code_CS100006', 'code_CS100007', 'code_CS100008',\n",
       "       'code_CS100009', 'code_CS100010', 'code_CS200001', 'code_CS200002',\n",
       "       'code_CS200003', 'code_CS200004', 'code_CS200005', 'code_CS200006',\n",
       "       'code_CS200007', 'code_CS200008', 'code_CS200009', 'code_CS200010',\n",
       "       'code_CS200011', 'code_CS200012', 'code_CS200013', 'code_CS200014',\n",
       "       'code_CS200015', 'code_CS200016', 'code_CS200017', 'code_CS200018',\n",
       "       'code_CS300001', 'code_CS300002', 'code_CS300003', 'code_CS300004',\n",
       "       'code_CS300005', 'code_CS300006', 'code_CS300007', 'code_CS300008',\n",
       "       'code_CS300009', 'code_CS300010', 'code_CS300011', 'code_CS300012',\n",
       "       'code_CS300013', 'code_CS300014', 'code_CS300015', 'code_CS300016',\n",
       "       'code_CS300017', 'd_11110', 'd_11140', 'd_11170', 'd_11200', 'd_11215',\n",
       "       'd_11230', 'd_11260', 'd_11290', 'd_11305', 'd_11320', 'd_11350',\n",
       "       'd_11380', 'd_11410', 'd_11440', 'd_11470', 'd_11500', 'd_11530',\n",
       "       'd_11545', 'd_11560', 'd_11590', 'd_11620', 'd_11650', 'd_11680',\n",
       "       'd_11710', 'd_11740'],\n",
       "      dtype='object')"
      ]
     },
     "execution_count": 110,
     "metadata": {},
     "output_type": "execute_result"
    }
   ],
   "source": [
    "result4 = pd.concat([result2,result3] ,axis=1)\n",
    "result4.head()\n",
    "result4.drop(['cgoongoo','sales'],axis=1,inplace=True )\n",
    "result4.columns"
   ]
  },
  {
   "cell_type": "code",
   "execution_count": 111,
   "metadata": {
    "scrolled": true
   },
   "outputs": [
    {
     "data": {
      "text/plain": [
       "0       25.243436\n",
       "1       22.730452\n",
       "2       22.692236\n",
       "3       24.109282\n",
       "4       23.423148\n",
       "          ...    \n",
       "1117    22.406401\n",
       "1118    22.776783\n",
       "1119    23.418148\n",
       "1120    23.812783\n",
       "1121    22.133978\n",
       "Name: sales, Length: 1122, dtype: float64"
      ]
     },
     "execution_count": 111,
     "metadata": {},
     "output_type": "execute_result"
    }
   ],
   "source": [
    "import numpy as np\n",
    "np.log(df5['sales'])"
   ]
  },
  {
   "cell_type": "code",
   "execution_count": null,
   "metadata": {},
   "outputs": [],
   "source": []
  },
  {
   "cell_type": "code",
   "execution_count": 112,
   "metadata": {
    "scrolled": true
   },
   "outputs": [
    {
     "name": "stdout",
     "output_type": "stream",
     "text": [
      "                            OLS Regression Results                            \n",
      "==============================================================================\n",
      "Dep. Variable:                  sales   R-squared:                       0.835\n",
      "Model:                            OLS   Adj. R-squared:                  0.813\n",
      "Method:                 Least Squares   F-statistic:                     39.41\n",
      "Date:                Tue, 17 Dec 2019   Prob (F-statistic):          1.28e-217\n",
      "Time:                        12:24:45   Log-Likelihood:                -800.77\n",
      "No. Observations:                 785   AIC:                             1782.\n",
      "Df Residuals:                     695   BIC:                             2201.\n",
      "Df Model:                          89                                         \n",
      "Covariance Type:            nonrobust                                         \n",
      "=======================================================================================\n",
      "                          coef    std err          t      P>|t|      [0.025      0.975]\n",
      "---------------------------------------------------------------------------------------\n",
      "Intercept              21.1509      0.067    315.579      0.000      21.019      21.282\n",
      "workpop                -0.1699      0.110     -1.546      0.122      -0.386       0.046\n",
      "floatpop                0.2267      0.247      0.917      0.360      -0.259       0.712\n",
      "apt_no_of_cmplx         0.5167      0.201      2.568      0.010       0.122       0.912\n",
      "apt_avg_space           3.2432      0.667      4.864      0.000       1.934       4.552\n",
      "apt_avg_price          -0.9433      0.282     -3.345      0.001      -1.497      -0.390\n",
      "inc_monthly_avg        -0.9557      0.732     -1.306      0.192      -2.393       0.481\n",
      "expnd_total            -2.0303      0.443     -4.581      0.000      -2.900      -1.160\n",
      "no_of_store             0.2758      0.070      3.921      0.000       0.138       0.414\n",
      "no_of_franch_store     -0.0431      0.028     -1.557      0.120      -0.098       0.011\n",
      "no_of_bank              0.3973      0.127      3.139      0.002       0.149       0.646\n",
      "no_of_pharm             0.4176      0.194      2.156      0.031       0.037       0.798\n",
      "no_of_theartre          0.0150      0.012      1.249      0.212      -0.009       0.038\n",
      "no_of_accom             0.1487      0.091      1.643      0.101      -0.029       0.326\n",
      "no_of_STA              -0.0669      0.058     -1.144      0.253      -0.182       0.048\n",
      "prop_2030s              0.2329      0.063      3.709      0.000       0.110       0.356\n",
      "prop_06_11             -0.0551      0.057     -0.964      0.335      -0.167       0.057\n",
      "prop_14_17              0.7538      0.086      8.756      0.000       0.585       0.923\n",
      "prop_17_21              0.2658      0.095      2.801      0.005       0.080       0.452\n",
      "prop_21_24              0.8774      0.149      5.900      0.000       0.585       1.169\n",
      "sales_female_ratio     -0.1736      0.083     -2.080      0.038      -0.337      -0.010\n",
      "sales_weekday_ratio    -0.3694      0.055     -6.760      0.000      -0.477      -0.262\n",
      "code_CS100001           0.4900      0.417      1.176      0.240      -0.328       1.308\n",
      "code_CS100002          -0.1223      0.204     -0.599      0.549      -0.523       0.278\n",
      "code_CS100003          -0.1119      0.234     -0.478      0.633      -0.572       0.348\n",
      "code_CS100004          -0.1560      0.195     -0.800      0.424      -0.539       0.227\n",
      "code_CS100005           0.0988      0.193      0.511      0.610      -0.281       0.478\n",
      "code_CS100006           0.2786      0.191      1.461      0.144      -0.096       0.653\n",
      "code_CS100007           0.2608      0.327      0.799      0.425      -0.380       0.902\n",
      "code_CS100008           1.1589      0.204      5.692      0.000       0.759       1.559\n",
      "code_CS100009           0.0731      0.213      0.343      0.732      -0.345       0.492\n",
      "code_CS100010          -0.1251      0.349     -0.358      0.720      -0.811       0.561\n",
      "code_CS200001           1.9422      0.219      8.854      0.000       1.512       2.373\n",
      "code_CS200002           1.6475      0.210      7.843      0.000       1.235       2.060\n",
      "code_CS200003           1.1490      0.198      5.815      0.000       0.761       1.537\n",
      "code_CS200004           1.9129      0.219      8.738      0.000       1.483       2.343\n",
      "code_CS200005           0.8394      0.216      3.884      0.000       0.415       1.264\n",
      "code_CS200006           2.2924      0.231      9.940      0.000       1.840       2.745\n",
      "code_CS200007          -0.6930      0.217     -3.189      0.001      -1.120      -0.266\n",
      "code_CS200008          -1.0743      0.228     -4.718      0.000      -1.521      -0.627\n",
      "code_CS200009          -0.4062      0.215     -1.891      0.059      -0.828       0.016\n",
      "code_CS200010          -0.6446      0.303     -2.129      0.034      -1.239      -0.050\n",
      "code_CS200011           0.5194      0.250      2.079      0.038       0.029       1.010\n",
      "code_CS200012          -2.1700      0.282     -7.707      0.000      -2.723      -1.617\n",
      "code_CS200013          -0.0770      0.184     -0.420      0.675      -0.437       0.283\n",
      "code_CS200014           0.4201      0.192      2.186      0.029       0.043       0.798\n",
      "code_CS200015           1.4524      0.209      6.944      0.000       1.042       1.863\n",
      "code_CS200016          -0.1872      0.245     -0.765      0.445      -0.668       0.293\n",
      "code_CS200017          -0.6077      0.216     -2.812      0.005      -1.032      -0.183\n",
      "code_CS200018          -0.3806      0.234     -1.628      0.104      -0.840       0.078\n",
      "code_CS300001           1.7985      0.204      8.796      0.000       1.397       2.200\n",
      "code_CS300002           2.4826      0.451      5.504      0.000       1.597       3.368\n",
      "code_CS300003          -0.5390      0.226     -2.390      0.017      -0.982      -0.096\n",
      "code_CS300004           0.2571      0.205      1.254      0.210      -0.145       0.660\n",
      "code_CS300005           1.8068      0.207      8.720      0.000       1.400       2.214\n",
      "code_CS300006           0.6450      0.198      3.260      0.001       0.257       1.033\n",
      "code_CS300007           0.9415      0.217      4.341      0.000       0.516       1.367\n",
      "code_CS300008           0.6290      0.175      3.604      0.000       0.286       0.972\n",
      "code_CS300009           2.3398      0.239      9.808      0.000       1.871       2.808\n",
      "code_CS300010           0.5523      0.185      2.977      0.003       0.188       0.916\n",
      "code_CS300011           0.6729      0.207      3.252      0.001       0.267       1.079\n",
      "code_CS300012           0.1759      0.217      0.810      0.418      -0.250       0.602\n",
      "code_CS300013           0.0217      0.195      0.111      0.912      -0.362       0.405\n",
      "code_CS300014          -0.0259      0.175     -0.148      0.883      -0.370       0.318\n",
      "code_CS300015           1.4171      0.214      6.636      0.000       0.998       1.836\n",
      "code_CS300016           0.7973      0.221      3.601      0.000       0.363       1.232\n",
      "code_CS300017          -0.6013      0.224     -2.685      0.007      -1.041      -0.162\n",
      "d_11110                -0.4481      0.203     -2.210      0.027      -0.846      -0.050\n",
      "d_11140                 0.4458      0.149      2.999      0.003       0.154       0.738\n",
      "d_11170                 0.6978      0.165      4.218      0.000       0.373       1.023\n",
      "d_11200                 1.3385      0.171      7.812      0.000       1.002       1.675\n",
      "d_11215                 1.2462      0.159      7.845      0.000       0.934       1.558\n",
      "d_11230                 0.8335      0.179      4.657      0.000       0.482       1.185\n",
      "d_11260                 0.9350      0.144      6.511      0.000       0.653       1.217\n",
      "d_11290                 0.3975      0.186      2.142      0.033       0.033       0.762\n",
      "d_11305                 0.3808      0.146      2.612      0.009       0.095       0.667\n",
      "d_11320                 0.6094      0.145      4.210      0.000       0.325       0.894\n",
      "d_11350                 0.8398      0.164      5.116      0.000       0.517       1.162\n",
      "d_11380                 0.4941      0.246      2.011      0.045       0.012       0.976\n",
      "d_11410                 0.4774      0.150      3.176      0.002       0.182       0.773\n",
      "d_11440                 1.3521      0.206      6.573      0.000       0.948       1.756\n",
      "d_11470                 0.6825      0.174      3.932      0.000       0.342       1.023\n",
      "d_11500                 1.3329      0.205      6.509      0.000       0.931       1.735\n",
      "d_11530                 0.5623      0.177      3.177      0.002       0.215       0.910\n",
      "d_11545                 0.1642      0.164      1.004      0.316      -0.157       0.485\n",
      "d_11560                 0.4250      0.173      2.464      0.014       0.086       0.764\n",
      "d_11590                 1.4028      0.187      7.515      0.000       1.036       1.769\n",
      "d_11620                 0.8401      0.224      3.750      0.000       0.400       1.280\n",
      "d_11650                 1.2710      0.227      5.608      0.000       0.826       1.716\n",
      "d_11680                 2.0619      0.242      8.527      0.000       1.587       2.537\n",
      "d_11710                 1.3359      0.251      5.319      0.000       0.843       1.829\n",
      "d_11740                 1.4725      0.184      7.991      0.000       1.111       1.834\n",
      "==============================================================================\n",
      "Omnibus:                      301.183   Durbin-Watson:                   2.015\n",
      "Prob(Omnibus):                  0.000   Jarque-Bera (JB):             7678.361\n",
      "Skew:                          -1.147   Prob(JB):                         0.00\n",
      "Kurtosis:                      18.149   Cond. No.                     5.23e+16\n",
      "==============================================================================\n",
      "\n",
      "Warnings:\n",
      "[1] Standard Errors assume that the covariance matrix of the errors is correctly specified.\n",
      "[2] The smallest eigenvalue is 7.09e-30. This might indicate that there are\n",
      "strong multicollinearity problems or that the design matrix is singular.\n"
     ]
    }
   ],
   "source": [
    "# OLS\n",
    "import statsmodels.api as sm\n",
    "\n",
    "X= result4\n",
    "y= np.log(df5['sales'])\n",
    "\n",
    "X_train, X_test, y_train, y_test = train_test_split(X, y, test_size=0.3, random_state=0)\n",
    "\n",
    "df_train=pd.concat([y_train, X_train], axis=1)\n",
    "\n",
    "model= sm.OLS.from_formula(\"sales ~ \"+\" + \".join(df_train.columns[1:]), data=df_train)\n",
    "result =  model.fit()\n",
    "print(result.summary())"
   ]
  },
  {
   "cell_type": "code",
   "execution_count": 113,
   "metadata": {},
   "outputs": [
    {
     "name": "stdout",
     "output_type": "stream",
     "text": [
      "정확도 :  79.92%\n"
     ]
    }
   ],
   "source": [
    "# 모델 생성\n",
    "lm = linear_model.LinearRegression()\n",
    "\n",
    "# 학습\n",
    "lm.fit(X_train, y_train)\n",
    "\n",
    "# 예측\n",
    "pred_y = lm.predict(X_train)\n",
    "\n",
    "print(\"정확도 : \", str(round(lm.score(X_test, y_test), 4) * 100) + \"%\")"
   ]
  },
  {
   "cell_type": "code",
   "execution_count": 114,
   "metadata": {},
   "outputs": [],
   "source": [
    "# LASSO 모형\n",
    "#importing libraries\n",
    "import seaborn as sns\n",
    "import statsmodels.api as sm\n",
    "%matplotlib inline\n",
    "from sklearn.model_selection import train_test_split\n",
    "from sklearn.linear_model import LinearRegression\n",
    "from sklearn.feature_selection import RFE\n",
    "from sklearn.linear_model import RidgeCV, LassoCV, Ridge, Lasso"
   ]
  },
  {
   "cell_type": "code",
   "execution_count": 115,
   "metadata": {},
   "outputs": [
    {
     "name": "stderr",
     "output_type": "stream",
     "text": [
      "C:\\ProgramData\\Anaconda3\\lib\\site-packages\\sklearn\\model_selection\\_split.py:1978: FutureWarning: The default value of cv will change from 3 to 5 in version 0.22. Specify it explicitly to silence this warning.\n",
      "  warnings.warn(CV_WARNING, FutureWarning)\n"
     ]
    },
    {
     "name": "stdout",
     "output_type": "stream",
     "text": [
      "Best alpha using built-in LassoCV: 0.002100\n",
      "Best score using built-in LassoCV: 0.820429\n"
     ]
    }
   ],
   "source": [
    "reg = LassoCV()\n",
    "reg.fit(X, y)\n",
    "print(\"Best alpha using built-in LassoCV: %f\" % reg.alpha_)\n",
    "print(\"Best score using built-in LassoCV: %f\" %reg.score(X,y))\n",
    "coef = pd.Series(reg.coef_, index = X.columns)"
   ]
  },
  {
   "cell_type": "code",
   "execution_count": 116,
   "metadata": {},
   "outputs": [
    {
     "name": "stdout",
     "output_type": "stream",
     "text": [
      "Lasso picked 72 variables and eliminated the other 19 variables\n"
     ]
    }
   ],
   "source": [
    "print(\"Lasso picked \" + str(sum(coef != 0)) + \" variables and eliminated the other \" +  str(sum(coef == 0)) + \" variables\")"
   ]
  },
  {
   "cell_type": "code",
   "execution_count": 117,
   "metadata": {},
   "outputs": [
    {
     "data": {
      "text/plain": [
       "Text(0.5, 1.0, 'Feature importance using Lasso Model')"
      ]
     },
     "execution_count": 117,
     "metadata": {},
     "output_type": "execute_result"
    },
    {
     "data": {
      "image/png": "[encoded data removed]",
      "text/plain": [
       "<Figure size 576x720 with 1 Axes>"
      ]
     },
     "metadata": {
      "image/png": {
       "height": 590,
       "width": 576
      },
      "needs_background": "light"
     },
     "output_type": "display_data"
    }
   ],
   "source": [
    "imp_coef = coef.sort_values()\n",
    "import matplotlib\n",
    "matplotlib.rcParams['figure.figsize'] = (8.0, 10.0)\n",
    "imp_coef.plot(kind = \"barh\")\n",
    "plt.title(\"Feature importance using Lasso Model\")"
   ]
  },
  {
   "cell_type": "code",
   "execution_count": 118,
   "metadata": {},
   "outputs": [],
   "source": [
    "drop_columns=imp_coef[imp_coef.values==0].index"
   ]
  },
  {
   "cell_type": "code",
   "execution_count": 119,
   "metadata": {},
   "outputs": [],
   "source": [
    "result4.drop(columns=drop_columns,inplace=True )\n"
   ]
  },
  {
   "cell_type": "code",
   "execution_count": 120,
   "metadata": {},
   "outputs": [
    {
     "data": {
      "text/plain": [
       "Index(['workpop', 'floatpop', 'apt_no_of_cmplx', 'apt_avg_space',\n",
       "       'apt_avg_price', 'expnd_total', 'no_of_store', 'no_of_franch_store',\n",
       "       'no_of_bank', 'no_of_pharm', 'no_of_theartre', 'prop_2030s',\n",
       "       'prop_14_17', 'prop_17_21', 'prop_21_24', 'sales_female_ratio',\n",
       "       'sales_weekday_ratio', 'code_CS100001', 'code_CS100002',\n",
       "       'code_CS100004', 'code_CS100005', 'code_CS100008', 'code_CS100009',\n",
       "       'code_CS100010', 'code_CS200001', 'code_CS200002', 'code_CS200003',\n",
       "       'code_CS200004', 'code_CS200005', 'code_CS200006', 'code_CS200007',\n",
       "       'code_CS200008', 'code_CS200009', 'code_CS200010', 'code_CS200011',\n",
       "       'code_CS200012', 'code_CS200013', 'code_CS200015', 'code_CS200016',\n",
       "       'code_CS200017', 'code_CS200018', 'code_CS300001', 'code_CS300002',\n",
       "       'code_CS300003', 'code_CS300004', 'code_CS300005', 'code_CS300006',\n",
       "       'code_CS300007', 'code_CS300009', 'code_CS300010', 'code_CS300013',\n",
       "       'code_CS300014', 'code_CS300015', 'code_CS300017', 'd_11110', 'd_11140',\n",
       "       'd_11200', 'd_11230', 'd_11290', 'd_11305', 'd_11380', 'd_11410',\n",
       "       'd_11440', 'd_11470', 'd_11530', 'd_11545', 'd_11560', 'd_11590',\n",
       "       'd_11620', 'd_11650', 'd_11680', 'd_11710'],\n",
       "      dtype='object')"
      ]
     },
     "execution_count": 120,
     "metadata": {},
     "output_type": "execute_result"
    }
   ],
   "source": [
    "result4.columns"
   ]
  },
  {
   "cell_type": "code",
   "execution_count": 138,
   "metadata": {},
   "outputs": [
    {
     "data": {
      "text/plain": [
       "(37, 55, 18, 666)"
      ]
     },
     "execution_count": 138,
     "metadata": {},
     "output_type": "execute_result"
    }
   ],
   "source": [
    "ls=['code_CS100001', 'code_CS100002',\\\n",
    "       'code_CS100004', 'code_CS100005', 'code_CS100008', 'code_CS100009',\\\n",
    "       'code_CS100010', 'code_CS200001', 'code_CS200002', 'code_CS200003',\\\n",
    "       'code_CS200004', 'code_CS200005', 'code_CS200006', 'code_CS200007',\\\n",
    "       'code_CS200008', 'code_CS200009', 'code_CS200010', 'code_CS200011',\\\n",
    "       'code_CS200012', 'code_CS200013', 'code_CS200015', 'code_CS200016',\\\n",
    "       'code_CS200017', 'code_CS200018', 'code_CS300001', 'code_CS300002',\\\n",
    "       'code_CS300003', 'code_CS300004', 'code_CS300005', 'code_CS300006',\\\n",
    "       'code_CS300007', 'code_CS300009', 'code_CS300010', 'code_CS300013',\\\n",
    "       'code_CS300014', 'code_CS300015', 'code_CS300017']\n",
    "len(ls), len(result4.columns)-17, 55-37, 37*18\n",
    "#서비스코드 37, 더미변수 55개, 상권 18개"
   ]
  },
  {
   "cell_type": "code",
   "execution_count": null,
   "metadata": {},
   "outputs": [],
   "source": []
  },
  {
   "cell_type": "code",
   "execution_count": 121,
   "metadata": {},
   "outputs": [
    {
     "name": "stdout",
     "output_type": "stream",
     "text": [
      "                            OLS Regression Results                            \n",
      "==============================================================================\n",
      "Dep. Variable:                  sales   R-squared:                       0.828\n",
      "Model:                            OLS   Adj. R-squared:                  0.811\n",
      "Method:                 Least Squares   F-statistic:                     47.67\n",
      "Date:                Tue, 17 Dec 2019   Prob (F-statistic):          6.82e-226\n",
      "Time:                        12:25:06   Log-Likelihood:                -815.70\n",
      "No. Observations:                 785   AIC:                             1777.\n",
      "Df Residuals:                     712   BIC:                             2118.\n",
      "Df Model:                          72                                         \n",
      "Covariance Type:            nonrobust                                         \n",
      "=======================================================================================\n",
      "                          coef    std err          t      P>|t|      [0.025      0.975]\n",
      "---------------------------------------------------------------------------------------\n",
      "Intercept              22.5245      0.099    227.502      0.000      22.330      22.719\n",
      "workpop                -0.1503      0.106     -1.425      0.155      -0.358       0.057\n",
      "floatpop                0.3275      0.194      1.689      0.092      -0.053       0.708\n",
      "apt_no_of_cmplx         0.3438      0.166      2.070      0.039       0.018       0.670\n",
      "apt_avg_space           1.8412      0.359      5.127      0.000       1.136       2.546\n",
      "apt_avg_price          -0.8150      0.237     -3.442      0.001      -1.280      -0.350\n",
      "expnd_total            -1.3525      0.322     -4.195      0.000      -1.985      -0.720\n",
      "no_of_store             0.2594      0.065      3.977      0.000       0.131       0.387\n",
      "no_of_franch_store     -0.0520      0.022     -2.400      0.017      -0.095      -0.009\n",
      "no_of_bank              0.3261      0.117      2.791      0.005       0.097       0.556\n",
      "no_of_pharm             0.5018      0.171      2.937      0.003       0.166       0.837\n",
      "no_of_theartre          0.0375      0.009      4.001      0.000       0.019       0.056\n",
      "prop_2030s              0.1967      0.059      3.317      0.001       0.080       0.313\n",
      "prop_14_17              0.7406      0.078      9.438      0.000       0.587       0.895\n",
      "prop_17_21              0.3032      0.083      3.642      0.000       0.140       0.467\n",
      "prop_21_24              0.8057      0.102      7.878      0.000       0.605       1.006\n",
      "sales_female_ratio     -0.1102      0.070     -1.566      0.118      -0.248       0.028\n",
      "sales_weekday_ratio    -0.3502      0.051     -6.905      0.000      -0.450      -0.251\n",
      "code_CS100001           0.1735      0.410      0.423      0.672      -0.631       0.978\n",
      "code_CS100002          -0.4781      0.200     -2.390      0.017      -0.871      -0.085\n",
      "code_CS100004          -0.3704      0.195     -1.903      0.057      -0.752       0.012\n",
      "code_CS100005          -0.3643      0.198     -1.843      0.066      -0.752       0.024\n",
      "code_CS100008           0.6675      0.208      3.209      0.001       0.259       1.076\n",
      "code_CS100009          -0.4400      0.213     -2.062      0.040      -0.859      -0.021\n",
      "code_CS100010          -0.3150      0.262     -1.204      0.229      -0.829       0.199\n",
      "code_CS200001           1.4371      0.230      6.242      0.000       0.985       1.889\n",
      "code_CS200002           1.2051      0.219      5.506      0.000       0.775       1.635\n",
      "code_CS200003           0.5260      0.206      2.554      0.011       0.122       0.930\n",
      "code_CS200004           1.2994      0.218      5.964      0.000       0.872       1.727\n",
      "code_CS200005           0.2242      0.212      1.056      0.291      -0.193       0.641\n",
      "code_CS200006           1.6259      0.214      7.604      0.000       1.206       2.046\n",
      "code_CS200007          -1.1215      0.206     -5.450      0.000      -1.526      -0.717\n",
      "code_CS200008          -1.4321      0.219     -6.531      0.000      -1.863      -1.002\n",
      "code_CS200009          -0.5620      0.201     -2.802      0.005      -0.956      -0.168\n",
      "code_CS200010          -0.8625      0.244     -3.534      0.000      -1.342      -0.383\n",
      "code_CS200011           0.3813      0.232      1.647      0.100      -0.073       0.836\n",
      "code_CS200012          -2.3051      0.224    -10.302      0.000      -2.744      -1.866\n",
      "code_CS200013          -0.6237      0.195     -3.203      0.001      -1.006      -0.241\n",
      "code_CS200015           0.9563      0.207      4.612      0.000       0.549       1.363\n",
      "code_CS200016          -0.7847      0.240     -3.267      0.001      -1.256      -0.313\n",
      "code_CS200017          -1.1212      0.215     -5.209      0.000      -1.544      -0.699\n",
      "code_CS200018          -0.9590      0.240     -4.003      0.000      -1.429      -0.489\n",
      "code_CS300001           1.2578      0.208      6.034      0.000       0.849       1.667\n",
      "code_CS300002           2.1132      0.343      6.152      0.000       1.439       2.788\n",
      "code_CS300003          -0.8908      0.221     -4.033      0.000      -1.324      -0.457\n",
      "code_CS300004          -0.1786      0.209     -0.857      0.392      -0.588       0.231\n",
      "code_CS300005           1.1465      0.207      5.526      0.000       0.739       1.554\n",
      "code_CS300006           0.1506      0.192      0.783      0.434      -0.227       0.528\n",
      "code_CS300007           0.3074      0.210      1.466      0.143      -0.104       0.719\n",
      "code_CS300009           1.6081      0.233      6.894      0.000       1.150       2.066\n",
      "code_CS300010           0.0975      0.192      0.509      0.611      -0.279       0.474\n",
      "code_CS300013          -0.4642      0.196     -2.365      0.018      -0.850      -0.079\n",
      "code_CS300014          -0.4708      0.184     -2.557      0.011      -0.832      -0.109\n",
      "code_CS300015           1.0139      0.207      4.899      0.000       0.608       1.420\n",
      "code_CS300017          -0.9243      0.217     -4.254      0.000      -1.351      -0.498\n",
      "d_11110                -1.1934      0.202     -5.907      0.000      -1.590      -0.797\n",
      "d_11140                -0.2534      0.149     -1.704      0.089      -0.545       0.039\n",
      "d_11200                 0.2520      0.154      1.633      0.103      -0.051       0.555\n",
      "d_11230                -0.0822      0.188     -0.436      0.663      -0.452       0.288\n",
      "d_11290                -0.4870      0.184     -2.640      0.008      -0.849      -0.125\n",
      "d_11305                -0.4755      0.147     -3.244      0.001      -0.763      -0.188\n",
      "d_11380                -0.4652      0.233     -1.996      0.046      -0.923      -0.008\n",
      "d_11410                -0.4145      0.154     -2.687      0.007      -0.717      -0.112\n",
      "d_11440                 0.2982      0.187      1.591      0.112      -0.070       0.666\n",
      "d_11470                -0.3036      0.154     -1.973      0.049      -0.606      -0.001\n",
      "d_11530                -0.2638      0.183     -1.444      0.149      -0.623       0.095\n",
      "d_11545                -0.5241      0.162     -3.230      0.001      -0.843      -0.206\n",
      "d_11560                -0.5242      0.179     -2.930      0.004      -0.875      -0.173\n",
      "d_11590                 0.4427      0.159      2.791      0.005       0.131       0.754\n",
      "d_11620                -0.2682      0.181     -1.481      0.139      -0.624       0.087\n",
      "d_11650                 0.5483      0.219      2.504      0.012       0.118       0.978\n",
      "d_11680                 1.0079      0.235      4.291      0.000       0.547       1.469\n",
      "d_11710                 0.1975      0.216      0.912      0.362      -0.227       0.623\n",
      "==============================================================================\n",
      "Omnibus:                      315.359   Durbin-Watson:                   2.031\n",
      "Prob(Omnibus):                  0.000   Jarque-Bera (JB):             6955.030\n",
      "Skew:                          -1.276   Prob(JB):                         0.00\n",
      "Kurtosis:                      17.357   Cond. No.                         104.\n",
      "==============================================================================\n",
      "\n",
      "Warnings:\n",
      "[1] Standard Errors assume that the covariance matrix of the errors is correctly specified.\n"
     ]
    }
   ],
   "source": [
    "# OLS\n",
    "import statsmodels.api as sm\n",
    "\n",
    "X= result4\n",
    "y= np.log(df5['sales'])\n",
    "\n",
    "X_train, X_test, y_train, y_test = train_test_split(X, y, test_size=0.3, random_state=0)\n",
    "\n",
    "df_train=pd.concat([y_train, X_train], axis=1)\n",
    "\n",
    "model= sm.OLS.from_formula(\"sales ~ \"+\" + \".join(df_train.columns[1:]), data=df_train)\n",
    "result =  model.fit()\n",
    "print(result.summary())"
   ]
  },
  {
   "cell_type": "code",
   "execution_count": 122,
   "metadata": {},
   "outputs": [
    {
     "data": {
      "text/plain": [
       "(0.21253600257928645, 0.7027197904682004)"
      ]
     },
     "execution_count": 122,
     "metadata": {},
     "output_type": "execute_result"
    }
   ],
   "source": [
    "#오차합 구하기\n",
    "y_pred = result .predict(X_test)\n",
    "resid=y_test-y_pred\n",
    "rss=np.sum(resid**2)\n",
    "MSE=rss/(result.nobs-2)\n",
    "\n",
    "#RMSE 구하기\n",
    "from statsmodels.tools.eval_measures import rmse\n",
    "\n",
    "rmse = rmse(y_test, y_pred)\n",
    "MSE, rmse"
   ]
  },
  {
   "cell_type": "code",
   "execution_count": 123,
   "metadata": {},
   "outputs": [
    {
     "data": {
      "image/png": "[encoded data removed]",
      "text/plain": [
       "<Figure size 576x720 with 1 Axes>"
      ]
     },
     "metadata": {
      "image/png": {
       "height": 574,
       "width": 490
      },
      "needs_background": "light"
     },
     "output_type": "display_data"
    }
   ],
   "source": [
    "y_pred = result .predict(X_test)\n",
    "sns.kdeplot(y_pred)\n",
    "sns.kdeplot(y_test)\n",
    "# plt.title(\"\")\n",
    "plt.show()\n"
   ]
  },
  {
   "cell_type": "code",
   "execution_count": 124,
   "metadata": {},
   "outputs": [],
   "source": [
    "# 파랑색: 모델링으로 예측한 y_pred 값\n",
    "# 오렌지: 원래 sales 값"
   ]
  },
  {
   "cell_type": "markdown",
   "metadata": {},
   "source": [
    "#### 1. 과최적화 일어났는지 K-fold 교차검증"
   ]
  },
  {
   "cell_type": "code",
   "execution_count": 125,
   "metadata": {},
   "outputs": [
    {
     "name": "stdout",
     "output_type": "stream",
     "text": [
      "                            OLS Regression Results                            \n",
      "==============================================================================\n",
      "Dep. Variable:                  sales   R-squared:                       0.828\n",
      "Model:                            OLS   Adj. R-squared:                  0.811\n",
      "Method:                 Least Squares   F-statistic:                     47.67\n",
      "Date:                Tue, 17 Dec 2019   Prob (F-statistic):          6.82e-226\n",
      "Time:                        12:25:16   Log-Likelihood:                -815.70\n",
      "No. Observations:                 785   AIC:                             1777.\n",
      "Df Residuals:                     712   BIC:                             2118.\n",
      "Df Model:                          72                                         \n",
      "Covariance Type:            nonrobust                                         \n",
      "=======================================================================================\n",
      "                          coef    std err          t      P>|t|      [0.025      0.975]\n",
      "---------------------------------------------------------------------------------------\n",
      "Intercept              22.5245      0.099    227.502      0.000      22.330      22.719\n",
      "workpop                -0.1503      0.106     -1.425      0.155      -0.358       0.057\n",
      "floatpop                0.3275      0.194      1.689      0.092      -0.053       0.708\n",
      "apt_no_of_cmplx         0.3438      0.166      2.070      0.039       0.018       0.670\n",
      "apt_avg_space           1.8412      0.359      5.127      0.000       1.136       2.546\n",
      "apt_avg_price          -0.8150      0.237     -3.442      0.001      -1.280      -0.350\n",
      "expnd_total            -1.3525      0.322     -4.195      0.000      -1.985      -0.720\n",
      "no_of_store             0.2594      0.065      3.977      0.000       0.131       0.387\n",
      "no_of_franch_store     -0.0520      0.022     -2.400      0.017      -0.095      -0.009\n",
      "no_of_bank              0.3261      0.117      2.791      0.005       0.097       0.556\n",
      "no_of_pharm             0.5018      0.171      2.937      0.003       0.166       0.837\n",
      "no_of_theartre          0.0375      0.009      4.001      0.000       0.019       0.056\n",
      "prop_2030s              0.1967      0.059      3.317      0.001       0.080       0.313\n",
      "prop_14_17              0.7406      0.078      9.438      0.000       0.587       0.895\n",
      "prop_17_21              0.3032      0.083      3.642      0.000       0.140       0.467\n",
      "prop_21_24              0.8057      0.102      7.878      0.000       0.605       1.006\n",
      "sales_female_ratio     -0.1102      0.070     -1.566      0.118      -0.248       0.028\n",
      "sales_weekday_ratio    -0.3502      0.051     -6.905      0.000      -0.450      -0.251\n",
      "code_CS100001           0.1735      0.410      0.423      0.672      -0.631       0.978\n",
      "code_CS100002          -0.4781      0.200     -2.390      0.017      -0.871      -0.085\n",
      "code_CS100004          -0.3704      0.195     -1.903      0.057      -0.752       0.012\n",
      "code_CS100005          -0.3643      0.198     -1.843      0.066      -0.752       0.024\n",
      "code_CS100008           0.6675      0.208      3.209      0.001       0.259       1.076\n",
      "code_CS100009          -0.4400      0.213     -2.062      0.040      -0.859      -0.021\n",
      "code_CS100010          -0.3150      0.262     -1.204      0.229      -0.829       0.199\n",
      "code_CS200001           1.4371      0.230      6.242      0.000       0.985       1.889\n",
      "code_CS200002           1.2051      0.219      5.506      0.000       0.775       1.635\n",
      "code_CS200003           0.5260      0.206      2.554      0.011       0.122       0.930\n",
      "code_CS200004           1.2994      0.218      5.964      0.000       0.872       1.727\n",
      "code_CS200005           0.2242      0.212      1.056      0.291      -0.193       0.641\n",
      "code_CS200006           1.6259      0.214      7.604      0.000       1.206       2.046\n",
      "code_CS200007          -1.1215      0.206     -5.450      0.000      -1.526      -0.717\n",
      "code_CS200008          -1.4321      0.219     -6.531      0.000      -1.863      -1.002\n",
      "code_CS200009          -0.5620      0.201     -2.802      0.005      -0.956      -0.168\n",
      "code_CS200010          -0.8625      0.244     -3.534      0.000      -1.342      -0.383\n",
      "code_CS200011           0.3813      0.232      1.647      0.100      -0.073       0.836\n",
      "code_CS200012          -2.3051      0.224    -10.302      0.000      -2.744      -1.866\n",
      "code_CS200013          -0.6237      0.195     -3.203      0.001      -1.006      -0.241\n",
      "code_CS200015           0.9563      0.207      4.612      0.000       0.549       1.363\n",
      "code_CS200016          -0.7847      0.240     -3.267      0.001      -1.256      -0.313\n",
      "code_CS200017          -1.1212      0.215     -5.209      0.000      -1.544      -0.699\n",
      "code_CS200018          -0.9590      0.240     -4.003      0.000      -1.429      -0.489\n",
      "code_CS300001           1.2578      0.208      6.034      0.000       0.849       1.667\n",
      "code_CS300002           2.1132      0.343      6.152      0.000       1.439       2.788\n",
      "code_CS300003          -0.8908      0.221     -4.033      0.000      -1.324      -0.457\n",
      "code_CS300004          -0.1786      0.209     -0.857      0.392      -0.588       0.231\n",
      "code_CS300005           1.1465      0.207      5.526      0.000       0.739       1.554\n",
      "code_CS300006           0.1506      0.192      0.783      0.434      -0.227       0.528\n",
      "code_CS300007           0.3074      0.210      1.466      0.143      -0.104       0.719\n",
      "code_CS300009           1.6081      0.233      6.894      0.000       1.150       2.066\n",
      "code_CS300010           0.0975      0.192      0.509      0.611      -0.279       0.474\n",
      "code_CS300013          -0.4642      0.196     -2.365      0.018      -0.850      -0.079\n",
      "code_CS300014          -0.4708      0.184     -2.557      0.011      -0.832      -0.109\n",
      "code_CS300015           1.0139      0.207      4.899      0.000       0.608       1.420\n",
      "code_CS300017          -0.9243      0.217     -4.254      0.000      -1.351      -0.498\n",
      "d_11110                -1.1934      0.202     -5.907      0.000      -1.590      -0.797\n",
      "d_11140                -0.2534      0.149     -1.704      0.089      -0.545       0.039\n",
      "d_11200                 0.2520      0.154      1.633      0.103      -0.051       0.555\n",
      "d_11230                -0.0822      0.188     -0.436      0.663      -0.452       0.288\n",
      "d_11290                -0.4870      0.184     -2.640      0.008      -0.849      -0.125\n",
      "d_11305                -0.4755      0.147     -3.244      0.001      -0.763      -0.188\n",
      "d_11380                -0.4652      0.233     -1.996      0.046      -0.923      -0.008\n",
      "d_11410                -0.4145      0.154     -2.687      0.007      -0.717      -0.112\n",
      "d_11440                 0.2982      0.187      1.591      0.112      -0.070       0.666\n",
      "d_11470                -0.3036      0.154     -1.973      0.049      -0.606      -0.001\n",
      "d_11530                -0.2638      0.183     -1.444      0.149      -0.623       0.095\n",
      "d_11545                -0.5241      0.162     -3.230      0.001      -0.843      -0.206\n",
      "d_11560                -0.5242      0.179     -2.930      0.004      -0.875      -0.173\n",
      "d_11590                 0.4427      0.159      2.791      0.005       0.131       0.754\n",
      "d_11620                -0.2682      0.181     -1.481      0.139      -0.624       0.087\n",
      "d_11650                 0.5483      0.219      2.504      0.012       0.118       0.978\n",
      "d_11680                 1.0079      0.235      4.291      0.000       0.547       1.469\n",
      "d_11710                 0.1975      0.216      0.912      0.362      -0.227       0.623\n",
      "==============================================================================\n",
      "Omnibus:                      315.359   Durbin-Watson:                   2.031\n",
      "Prob(Omnibus):                  0.000   Jarque-Bera (JB):             6955.030\n",
      "Skew:                          -1.276   Prob(JB):                         0.00\n",
      "Kurtosis:                      17.357   Cond. No.                         104.\n",
      "==============================================================================\n",
      "\n",
      "Warnings:\n",
      "[1] Standard Errors assume that the covariance matrix of the errors is correctly specified.\n"
     ]
    }
   ],
   "source": [
    "# OLS\n",
    "import statsmodels.api as sm\n",
    "\n",
    "X= result4\n",
    "y= np.log(df5['sales'])\n",
    "\n",
    "X_train, X_test, y_train, y_test = train_test_split(X, y, test_size=0.3, random_state=0)\n",
    "\n",
    "df_train=pd.concat([y_train, X_train], axis=1)\n",
    "\n",
    "model= sm.OLS.from_formula(\"sales ~ \"+\" + \".join(df_train.columns[1:]), data=df_train)\n",
    "result =  model.fit()\n",
    "print(result.summary())"
   ]
  },
  {
   "cell_type": "code",
   "execution_count": 127,
   "metadata": {},
   "outputs": [
    {
     "name": "stdout",
     "output_type": "stream",
     "text": [
      "학습 R2 = 0.82910271, 검증 R2 = 0.97117948\n",
      "학습 R2 = 0.82910271, 검증 R2 = 0.97944158\n",
      "학습 R2 = 0.82910271, 검증 R2 = 0.97916312\n",
      "학습 R2 = 0.82910271, 검증 R2 = 0.95301043\n",
      "학습 R2 = 0.82910271, 검증 R2 = 0.94630810\n"
     ]
    }
   ],
   "source": [
    "from sklearn.model_selection import KFold\n",
    "\n",
    "df_kfold=pd.concat([y,X], axis=1)\n",
    "train_r2=[]\n",
    "test_r2 =[]\n",
    "scores = np.zeros(5)\n",
    "cv = KFold(5, shuffle=True)\n",
    "for i, (idx_train, idx_test) in enumerate(cv.split( df_kfold)):\n",
    "    df_train =  df_kfold.iloc[idx_train]\n",
    "    df_test =  df_kfold.iloc[idx_test]\n",
    "    \n",
    "    model = sm.OLS.from_formula(\"sales ~\"+\"+\".join(df_kfold.columns[1:]), data= df_kfold)\n",
    "    result = model.fit()\n",
    "    \n",
    "    pred = result.predict(df_test)\n",
    "    rss = (( df_kfold.sales - pred) ** 2).sum()\n",
    "    tss = (( df_kfold.sales -  df_kfold.sales.mean())** 2).sum()\n",
    "    rsquared = 1 - rss / tss\n",
    "    \n",
    "    scores[i] = rsquared\n",
    "    print(\"학습 R2 = {:.8f}, 검증 R2 = {:.8f}\".format(result.rsquared, rsquared))\n",
    "    train_r2.append(result.rsquared)\n",
    "    test_r2.append(rsquared)\n",
    "    \n"
   ]
  },
  {
   "cell_type": "code",
   "execution_count": 128,
   "metadata": {},
   "outputs": [
    {
     "data": {
      "text/plain": [
       "(0.5, 1.2)"
      ]
     },
     "execution_count": 128,
     "metadata": {},
     "output_type": "execute_result"
    },
    {
     "data": {
      "image/png": "[encoded data removed]",
      "text/plain": [
       "<Figure size 576x720 with 1 Axes>"
      ]
     },
     "metadata": {
      "image/png": {
       "height": 591,
       "width": 497
      },
      "needs_background": "light"
     },
     "output_type": "display_data"
    }
   ],
   "source": [
    "\n",
    "plt.plot(test_r2, 'ro', label=\"test R2\")\n",
    "plt.hlines(train_r2, 0, 4, label=\"train R2\")\n",
    "plt.legend()\n",
    "plt.xlabel(\"seed\")\n",
    "plt.ylabel(\"R-quare\")\n",
    "\n",
    "plt.ylim(0.5, 1.2)"
   ]
  },
  {
   "cell_type": "code",
   "execution_count": 131,
   "metadata": {},
   "outputs": [
    {
     "data": {
      "text/plain": [
       "30"
      ]
     },
     "execution_count": 131,
     "metadata": {},
     "output_type": "execute_result"
    }
   ],
   "source": [
    "55-25\n"
   ]
  },
  {
   "cell_type": "code",
   "execution_count": null,
   "metadata": {},
   "outputs": [],
   "source": []
  }
 ],
 "metadata": {
  "kernelspec": {
   "display_name": "Python 3",
   "language": "python",
   "name": "python3"
  },
  "language_info": {
   "codemirror_mode": {
    "name": "ipython",
    "version": 3
   },
   "file_extension": ".py",
   "mimetype": "text/x-python",
   "name": "python",
   "nbconvert_exporter": "python",
   "pygments_lexer": "ipython3",
   "version": "3.7.4"
  }
 },
 "nbformat": 4,
 "nbformat_minor": 2
}
