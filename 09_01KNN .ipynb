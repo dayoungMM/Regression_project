{
 "cells": [
  {
   "cell_type": "code",
   "execution_count": 8,
   "metadata": {},
   "outputs": [],
   "source": [
    "df1 = pd.read_csv('df1.csv', encoding='euc-kr')\n",
    "df2 = pd.read_csv('df2.csv', encoding='euc-kr' )\n",
    "dfX2= pd.read_csv('dfX2.csv', encoding='euc-kr' )\n",
    "df1_scale=df1.copy()"
   ]
  },
  {
   "cell_type": "code",
   "execution_count": 6,
   "metadata": {},
   "outputs": [
    {
     "data": {
      "text/html": [
       "<div>\n",
       "<style scoped>\n",
       "    .dataframe tbody tr th:only-of-type {\n",
       "        vertical-align: middle;\n",
       "    }\n",
       "\n",
       "    .dataframe tbody tr th {\n",
       "        vertical-align: top;\n",
       "    }\n",
       "\n",
       "    .dataframe thead th {\n",
       "        text-align: right;\n",
       "    }\n",
       "</style>\n",
       "<table border=\"1\" class=\"dataframe\">\n",
       "  <thead>\n",
       "    <tr style=\"text-align: right;\">\n",
       "      <th></th>\n",
       "      <th>SalesPerStore</th>\n",
       "      <th>Code</th>\n",
       "      <th>ServiceCode</th>\n",
       "    </tr>\n",
       "  </thead>\n",
       "  <tbody>\n",
       "    <tr>\n",
       "      <td>49412</td>\n",
       "      <td>1.284095e+08</td>\n",
       "      <td>1001010</td>\n",
       "      <td>CS300002</td>\n",
       "    </tr>\n",
       "    <tr>\n",
       "      <td>49413</td>\n",
       "      <td>1.666019e+07</td>\n",
       "      <td>1001010</td>\n",
       "      <td>CS300005</td>\n",
       "    </tr>\n",
       "    <tr>\n",
       "      <td>49414</td>\n",
       "      <td>2.319462e+06</td>\n",
       "      <td>1001010</td>\n",
       "      <td>CS300016</td>\n",
       "    </tr>\n",
       "  </tbody>\n",
       "</table>\n",
       "</div>"
      ],
      "text/plain": [
       "       SalesPerStore     Code ServiceCode\n",
       "49412   1.284095e+08  1001010    CS300002\n",
       "49413   1.666019e+07  1001010    CS300005\n",
       "49414   2.319462e+06  1001010    CS300016"
      ]
     },
     "execution_count": 6,
     "metadata": {},
     "output_type": "execute_result"
    }
   ],
   "source": [
    "# OLS회귀분석을 통해 예측할 y값: SalesPerStore\n",
    "# KNN클러스터링을 하고싶은 더미변수(OLS시 X에 들어갈 변수): Code, ServiceCode\n",
    "df2.tail(3)"
   ]
  },
  {
   "cell_type": "code",
   "execution_count": 4,
   "metadata": {
    "collapsed": true
   },
   "outputs": [
    {
     "data": {
      "text/html": [
       "<div>\n",
       "<style scoped>\n",
       "    .dataframe tbody tr th:only-of-type {\n",
       "        vertical-align: middle;\n",
       "    }\n",
       "\n",
       "    .dataframe tbody tr th {\n",
       "        vertical-align: top;\n",
       "    }\n",
       "\n",
       "    .dataframe thead th {\n",
       "        text-align: right;\n",
       "    }\n",
       "</style>\n",
       "<table border=\"1\" class=\"dataframe\">\n",
       "  <thead>\n",
       "    <tr style=\"text-align: right;\">\n",
       "      <th></th>\n",
       "      <th>log_DayWeekend</th>\n",
       "      <th>log_FemaleMaleend</th>\n",
       "      <th>Twenty_30</th>\n",
       "      <th>Six_11</th>\n",
       "      <th>Eleven14</th>\n",
       "      <th>log_Fourteen17</th>\n",
       "      <th>Seventeen21</th>\n",
       "      <th>Twentyone24</th>\n",
       "      <th>AptNum</th>\n",
       "      <th>AptArea</th>\n",
       "      <th>AptPrice</th>\n",
       "      <th>MonthlyIncome</th>\n",
       "      <th>Consume</th>\n",
       "      <th>ServiceSale</th>\n",
       "      <th>StoreNum</th>\n",
       "    </tr>\n",
       "  </thead>\n",
       "  <tbody>\n",
       "    <tr>\n",
       "      <td>49412</td>\n",
       "      <td>-0.015023</td>\n",
       "      <td>-0.745555</td>\n",
       "      <td>0.196687</td>\n",
       "      <td>1.186380</td>\n",
       "      <td>-0.589404</td>\n",
       "      <td>-0.560791</td>\n",
       "      <td>-0.492501</td>\n",
       "      <td>0.631402</td>\n",
       "      <td>0.917722</td>\n",
       "      <td>-0.6</td>\n",
       "      <td>-0.092682</td>\n",
       "      <td>-0.018514</td>\n",
       "      <td>1.082662</td>\n",
       "      <td>1.603892</td>\n",
       "      <td>-0.2</td>\n",
       "    </tr>\n",
       "    <tr>\n",
       "      <td>49413</td>\n",
       "      <td>0.543757</td>\n",
       "      <td>0.720642</td>\n",
       "      <td>-1.572804</td>\n",
       "      <td>0.119229</td>\n",
       "      <td>-0.280983</td>\n",
       "      <td>0.528788</td>\n",
       "      <td>0.421652</td>\n",
       "      <td>-0.204323</td>\n",
       "      <td>0.917722</td>\n",
       "      <td>-0.6</td>\n",
       "      <td>-0.092682</td>\n",
       "      <td>-0.018514</td>\n",
       "      <td>1.082662</td>\n",
       "      <td>0.092910</td>\n",
       "      <td>0.4</td>\n",
       "    </tr>\n",
       "    <tr>\n",
       "      <td>49414</td>\n",
       "      <td>-0.443124</td>\n",
       "      <td>-0.381838</td>\n",
       "      <td>-0.961705</td>\n",
       "      <td>0.947063</td>\n",
       "      <td>1.455827</td>\n",
       "      <td>-0.110810</td>\n",
       "      <td>-0.650427</td>\n",
       "      <td>-0.466276</td>\n",
       "      <td>0.917722</td>\n",
       "      <td>-0.6</td>\n",
       "      <td>-0.092682</td>\n",
       "      <td>-0.018514</td>\n",
       "      <td>1.082662</td>\n",
       "      <td>-0.399699</td>\n",
       "      <td>-0.2</td>\n",
       "    </tr>\n",
       "  </tbody>\n",
       "</table>\n",
       "</div>"
      ],
      "text/plain": [
       "       log_DayWeekend  log_FemaleMaleend  Twenty_30    Six_11  Eleven14  \\\n",
       "49412       -0.015023          -0.745555   0.196687  1.186380 -0.589404   \n",
       "49413        0.543757           0.720642  -1.572804  0.119229 -0.280983   \n",
       "49414       -0.443124          -0.381838  -0.961705  0.947063  1.455827   \n",
       "\n",
       "       log_Fourteen17  Seventeen21  Twentyone24    AptNum  AptArea  AptPrice  \\\n",
       "49412       -0.560791    -0.492501     0.631402  0.917722     -0.6 -0.092682   \n",
       "49413        0.528788     0.421652    -0.204323  0.917722     -0.6 -0.092682   \n",
       "49414       -0.110810    -0.650427    -0.466276  0.917722     -0.6 -0.092682   \n",
       "\n",
       "       MonthlyIncome   Consume  ServiceSale  StoreNum  \n",
       "49412      -0.018514  1.082662     1.603892      -0.2  \n",
       "49413      -0.018514  1.082662     0.092910       0.4  \n",
       "49414      -0.018514  1.082662    -0.399699      -0.2  "
      ]
     },
     "execution_count": 4,
     "metadata": {},
     "output_type": "execute_result"
    }
   ],
   "source": [
    "# OLS회귀분석때 사용할 나머지 X값들\n",
    "# Robust Scaling을 하고난 값\n",
    "dfX2.tail(3)\n"
   ]
  },
  {
   "cell_type": "code",
   "execution_count": 25,
   "metadata": {},
   "outputs": [
    {
     "name": "stderr",
     "output_type": "stream",
     "text": [
      "C:\\ProgramData\\Anaconda3\\lib\\site-packages\\pandas\\core\\series.py:853: RuntimeWarning: invalid value encountered in log\n",
      "  result = getattr(ufunc, method)(*inputs, **kwargs)\n"
     ]
    }
   ],
   "source": [
    "# 로그 취하기\n",
    "df1_scale['log_DayWeekend']=np.log(df1['DayWeekend'])\n",
    "df1_scale['log_FemaleMaleend']=np.log(df1['FemaleMale'])\n",
    "df1_scale['log_Fourteen17']=np.log(df1['Fourteen17'])\n",
    "df1_scale=df1_scale[['log_DayWeekend', 'log_FemaleMaleend', 'Twenty_30', 'Six_11',\n",
    "       'Eleven14',  'log_Fourteen17', 'Seventeen21', 'Twentyone24', 'AptNum',\n",
    "       'AptArea', 'AptPrice', 'MonthlyIncome', 'Consume', 'ServiceSale',\n",
    "       'StoreNum']]"
   ]
  },
  {
   "cell_type": "code",
   "execution_count": 46,
   "metadata": {},
   "outputs": [],
   "source": [
    "# 다음과 같이 회귀분석햇으나 상권코드(Code)의 갯수가 너무 많아서 다중공선성 문제 발생\n",
    "from sklearn.preprocessing import RobustScaler\n",
    "from sklearn.preprocessing import StandardScaler\n",
    "\n",
    "dfX=df1_scale\n",
    "rb = RobustScaler()\n",
    "# rb = StandardScaler()\n",
    "rb.fit(dfX)\n",
    "X_robust_scaled = rb.transform(dfX)\n",
    "dfX2=pd.DataFrame(X_robust_scaled, columns= df1_scale.columns)\n",
    "df1_robust_scaled = pd.concat([df2, dfX2], axis=1)\n",
    "\n",
    "# model = sm.OLS.from_formula(\"SalesPerStore  ~ C(Code) +\"+\"+\".join(df1_robust_scaled[df1_robust_scaled.columns[3:]]), data=df1_robust_scaled)\n",
    "# result = model.fit()\n",
    "# # print(result.summary())"
   ]
  },
  {
   "cell_type": "code",
   "execution_count": 98,
   "metadata": {},
   "outputs": [],
   "source": [
    "#우선 처음에는 상권 코드만 클러스터링 하고자함\n",
    "# KNN 클러스터링을 하고자 하는데, 데이터가 너무 많아 우선 50개만 가지고 코딩을 해보고자 함\n",
    "from sklearn.preprocessing import RobustScaler\n",
    "# from sklearn.preprocessing import StandardScaler\n",
    "from sklearn.model_selection import train_test_split\n",
    "from sklearn.pipeline import Pipeline\n",
    "from sklearn.neighbors import (NeighborhoodComponentsAnalysis,KNeighborsClassifier)\n",
    "\n",
    "dfX=df1_scale\n",
    "rb = RobustScaler()\n",
    "# rb = StandardScaler()\n",
    "rb.fit(dfX)\n",
    "X_robust_scaled = rb.transform(dfX)\n",
    "dfX2=pd.DataFrame(X_robust_scaled, columns= df1_scale.columns)\n",
    "df1_robust_scaled = pd.concat([df2, dfX2], axis=1)\n",
    "\n",
    "X= df1_robust_scaled[df1_robust_scaled.columns[4:]].loc[:100]\n",
    "y= df1_robust_scaled['Code'].loc[:100]\n",
    "\n",
    "X_train, X_test, y_train, y_test = train_test_split(X, y, stratify=y, test_size=0.7, random_state=42)\n",
    "nca = NeighborhoodComponentsAnalysis(random_state=42)\n",
    "knn = KNeighborsClassifier(n_neighbors=10)\n",
    "nca_pipe = Pipeline([('nca', nca), ('knn', knn)])\n",
    "nca_pipe.fit(X_train, y_train)\n",
    "\n",
    "y_pred = nca_pipe.predict(X_test)\n",
    "\n",
    "# model = sm.OLS.from_formula(\"SalesPerStore  ~ C(Code) +\"+\"+\".join(df1_robust_scaled[df1_robust_scaled.columns[3:]]), data=df1_robust_scaled)\n",
    "\n",
    "# result = model.fit()\n",
    "# print(result.summary())"
   ]
  },
  {
   "cell_type": "code",
   "execution_count": 99,
   "metadata": {
    "scrolled": true
   },
   "outputs": [
    {
     "data": {
      "text/html": [
       "<div>\n",
       "<style scoped>\n",
       "    .dataframe tbody tr th:only-of-type {\n",
       "        vertical-align: middle;\n",
       "    }\n",
       "\n",
       "    .dataframe tbody tr th {\n",
       "        vertical-align: top;\n",
       "    }\n",
       "\n",
       "    .dataframe thead th {\n",
       "        text-align: right;\n",
       "    }\n",
       "</style>\n",
       "<table border=\"1\" class=\"dataframe\">\n",
       "  <thead>\n",
       "    <tr style=\"text-align: right;\">\n",
       "      <th></th>\n",
       "      <th>log_FemaleMaleend</th>\n",
       "      <th>Twenty_30</th>\n",
       "      <th>Six_11</th>\n",
       "      <th>Eleven14</th>\n",
       "      <th>log_Fourteen17</th>\n",
       "      <th>Seventeen21</th>\n",
       "      <th>Twentyone24</th>\n",
       "      <th>AptNum</th>\n",
       "      <th>AptArea</th>\n",
       "      <th>AptPrice</th>\n",
       "      <th>MonthlyIncome</th>\n",
       "      <th>Consume</th>\n",
       "      <th>ServiceSale</th>\n",
       "      <th>StoreNum</th>\n",
       "    </tr>\n",
       "  </thead>\n",
       "  <tbody>\n",
       "    <tr>\n",
       "      <td>56</td>\n",
       "      <td>-0.503334</td>\n",
       "      <td>0.075507</td>\n",
       "      <td>-0.507303</td>\n",
       "      <td>0.426874</td>\n",
       "      <td>-0.317158</td>\n",
       "      <td>0.103634</td>\n",
       "      <td>0.573069</td>\n",
       "      <td>-0.778481</td>\n",
       "      <td>3.5</td>\n",
       "      <td>2.075276</td>\n",
       "      <td>0.591749</td>\n",
       "      <td>-1.488331</td>\n",
       "      <td>4.820679</td>\n",
       "      <td>0.4</td>\n",
       "    </tr>\n",
       "    <tr>\n",
       "      <td>50</td>\n",
       "      <td>-0.017835</td>\n",
       "      <td>0.111117</td>\n",
       "      <td>-0.508250</td>\n",
       "      <td>0.383878</td>\n",
       "      <td>-0.110712</td>\n",
       "      <td>-0.071053</td>\n",
       "      <td>0.719189</td>\n",
       "      <td>-0.525316</td>\n",
       "      <td>3.8</td>\n",
       "      <td>1.103848</td>\n",
       "      <td>1.095741</td>\n",
       "      <td>-1.397459</td>\n",
       "      <td>3.145282</td>\n",
       "      <td>1.0</td>\n",
       "    </tr>\n",
       "    <tr>\n",
       "      <td>87</td>\n",
       "      <td>0.890040</td>\n",
       "      <td>1.126483</td>\n",
       "      <td>-0.507337</td>\n",
       "      <td>-0.397001</td>\n",
       "      <td>0.629269</td>\n",
       "      <td>0.907215</td>\n",
       "      <td>-0.323087</td>\n",
       "      <td>-0.968354</td>\n",
       "      <td>8.7</td>\n",
       "      <td>5.026186</td>\n",
       "      <td>0.936025</td>\n",
       "      <td>-1.739383</td>\n",
       "      <td>0.525723</td>\n",
       "      <td>-0.4</td>\n",
       "    </tr>\n",
       "    <tr>\n",
       "      <td>31</td>\n",
       "      <td>-0.698264</td>\n",
       "      <td>-0.810923</td>\n",
       "      <td>-0.157639</td>\n",
       "      <td>-0.103453</td>\n",
       "      <td>0.646509</td>\n",
       "      <td>-0.134481</td>\n",
       "      <td>0.125172</td>\n",
       "      <td>-1.025316</td>\n",
       "      <td>-0.1</td>\n",
       "      <td>-0.132313</td>\n",
       "      <td>-0.394015</td>\n",
       "      <td>-1.436692</td>\n",
       "      <td>-0.360718</td>\n",
       "      <td>0.8</td>\n",
       "    </tr>\n",
       "    <tr>\n",
       "      <td>64</td>\n",
       "      <td>0.291444</td>\n",
       "      <td>0.693618</td>\n",
       "      <td>-0.470905</td>\n",
       "      <td>0.967335</td>\n",
       "      <td>0.426359</td>\n",
       "      <td>-0.100007</td>\n",
       "      <td>-0.316731</td>\n",
       "      <td>-0.962025</td>\n",
       "      <td>6.5</td>\n",
       "      <td>4.055414</td>\n",
       "      <td>0.606685</td>\n",
       "      <td>-1.682912</td>\n",
       "      <td>0.885987</td>\n",
       "      <td>3.4</td>\n",
       "    </tr>\n",
       "  </tbody>\n",
       "</table>\n",
       "</div>"
      ],
      "text/plain": [
       "    log_FemaleMaleend  Twenty_30    Six_11  Eleven14  log_Fourteen17  \\\n",
       "56          -0.503334   0.075507 -0.507303  0.426874       -0.317158   \n",
       "50          -0.017835   0.111117 -0.508250  0.383878       -0.110712   \n",
       "87           0.890040   1.126483 -0.507337 -0.397001        0.629269   \n",
       "31          -0.698264  -0.810923 -0.157639 -0.103453        0.646509   \n",
       "64           0.291444   0.693618 -0.470905  0.967335        0.426359   \n",
       "\n",
       "    Seventeen21  Twentyone24    AptNum  AptArea  AptPrice  MonthlyIncome  \\\n",
       "56     0.103634     0.573069 -0.778481      3.5  2.075276       0.591749   \n",
       "50    -0.071053     0.719189 -0.525316      3.8  1.103848       1.095741   \n",
       "87     0.907215    -0.323087 -0.968354      8.7  5.026186       0.936025   \n",
       "31    -0.134481     0.125172 -1.025316     -0.1 -0.132313      -0.394015   \n",
       "64    -0.100007    -0.316731 -0.962025      6.5  4.055414       0.606685   \n",
       "\n",
       "     Consume  ServiceSale  StoreNum  \n",
       "56 -1.488331     4.820679       0.4  \n",
       "50 -1.397459     3.145282       1.0  \n",
       "87 -1.739383     0.525723      -0.4  \n",
       "31 -1.436692    -0.360718       0.8  \n",
       "64 -1.682912     0.885987       3.4  "
      ]
     },
     "execution_count": 99,
     "metadata": {},
     "output_type": "execute_result"
    }
   ],
   "source": [
    "X_test.tail()"
   ]
  },
  {
   "cell_type": "code",
   "execution_count": 100,
   "metadata": {},
   "outputs": [
    {
     "data": {
      "text/plain": [
       "array([1000003, 1000001, 1000007, 1000001, 1000007, 1000001, 1000004,\n",
       "       1000001, 1000003, 1000007, 1000007, 1000001, 1000001, 1000001,\n",
       "       1000007, 1000003, 1000007, 1000010, 1000001, 1000003, 1000010,\n",
       "       1000003, 1000001, 1000003, 1000003, 1000010, 1000003, 1000001,\n",
       "       1000001, 1000003, 1000003, 1000007, 1000001, 1000010, 1000010,\n",
       "       1000001, 1000004, 1000007, 1000007, 1000003, 1000004, 1000001,\n",
       "       1000001, 1000007, 1000007, 1000010, 1000001, 1000007, 1000007,\n",
       "       1000007, 1000003, 1000001, 1000003, 1000001, 1000007, 1000007,\n",
       "       1000003, 1000001, 1000001, 1000003, 1000001, 1000007, 1000010,\n",
       "       1000010, 1000010, 1000001, 1000001, 1000001, 1000007, 1000003,\n",
       "       1000007], dtype=int64)"
      ]
     },
     "execution_count": 100,
     "metadata": {},
     "output_type": "execute_result"
    }
   ],
   "source": [
    "y_pred"
   ]
  },
  {
   "cell_type": "code",
   "execution_count": 101,
   "metadata": {},
   "outputs": [
    {
     "data": {
      "text/plain": [
       "array([1000001, 1000003, 1000004, 1000007, 1000010], dtype=int64)"
      ]
     },
     "execution_count": 101,
     "metadata": {},
     "output_type": "execute_result"
    }
   ],
   "source": [
    "np.unique(y_pred)"
   ]
  },
  {
   "cell_type": "code",
   "execution_count": 102,
   "metadata": {},
   "outputs": [
    {
     "data": {
      "text/plain": [
       "array([1000001, 1000002, 1000003, 1000004, 1000005, 1000006, 1000007,\n",
       "       1000008, 1000009, 1000010], dtype=int64)"
      ]
     },
     "execution_count": 102,
     "metadata": {},
     "output_type": "execute_result"
    }
   ],
   "source": [
    "np.unique(np.array(y_test))"
   ]
  },
  {
   "cell_type": "markdown",
   "metadata": {},
   "source": [
    "#### 100개 KNN 실시한 결론\n",
    "- n_neighbors값을 크게할수록 y_pred의 종류가 작아진다\n",
    "- 즉 군집화가 되는것 같다."
   ]
  },
  {
   "cell_type": "markdown",
   "metadata": {},
   "source": [
    "### n_neighbors를 크게하고 모든 데이터를 넣어서 KNN해보기"
   ]
  },
  {
   "cell_type": "code",
   "execution_count": null,
   "metadata": {},
   "outputs": [],
   "source": [
    "#우선 처음에는 상권 코드만 클러스터링 하고자함\n",
    "# KNN 클러스터링을 하고자 하는데, 데이터가 너무 많아 부분적으로 시도해보고자함\n",
    "from sklearn.preprocessing import RobustScaler\n",
    "# from sklearn.preprocessing import StandardScaler\n",
    "from sklearn.model_selection import train_test_split\n",
    "from sklearn.pipeline import Pipeline\n",
    "from sklearn.neighbors import (NeighborhoodComponentsAnalysis,KNeighborsClassifier)\n",
    "\n",
    "dfX=df1_scale\n",
    "rb = RobustScaler()\n",
    "# rb = StandardScaler()\n",
    "rb.fit(dfX)\n",
    "X_robust_scaled = rb.transform(dfX)\n",
    "dfX2=pd.DataFrame(X_robust_scaled, columns= df1_scale.columns)\n",
    "df1_robust_scaled = pd.concat([df2, dfX2], axis=1)\n",
    "\n",
    "start_num = 20000\n",
    "end_num = 50000\n",
    "X= df1_robust_scaled[df1_robust_scaled.columns[4:]].loc[start_num:end_num]\n",
    "y= df1_robust_scaled['Code'].loc[start_num:end_num]\n",
    "\n",
    "X_train, X_test, y_train, y_test = train_test_split(X, y, test_size=0.7, random_state=42)\n",
    "nca = NeighborhoodComponentsAnalysis(random_state=42)\n",
    "knn = KNeighborsClassifier(n_neighbors=500)\n",
    "nca_pipe = Pipeline([('nca', nca), ('knn', knn)])\n",
    "nca_pipe.fit(X_train, y_train)\n",
    "\n",
    "y_pred = nca_pipe.predict(X_test)\n",
    "\n",
    "# model = sm.OLS.from_formula(\"SalesPerStore  ~ C(Code) +\"+\"+\".join(df1_robust_scaled[df1_robust_scaled.columns[3:]]), data=df1_robust_scaled)\n",
    "\n",
    "# result = model.fit()\n",
    "# print(result.summary())"
   ]
  },
  {
   "cell_type": "code",
   "execution_count": 145,
   "metadata": {},
   "outputs": [
    {
     "data": {
      "text/plain": [
       "29415"
      ]
     },
     "execution_count": 145,
     "metadata": {},
     "output_type": "execute_result"
    }
   ],
   "source": [
    "len(y)"
   ]
  },
  {
   "cell_type": "code",
   "execution_count": 139,
   "metadata": {},
   "outputs": [
    {
     "data": {
      "text/plain": [
       "array([1000032, 1000051, 1000064, 1000073, 1000077, 1000079, 1000104,\n",
       "       1000107, 1000118, 1000119, 1000123, 1000124, 1000128, 1000134,\n",
       "       1000137, 1000154, 1000159, 1000161, 1000163, 1000165, 1000166,\n",
       "       1000184, 1000200, 1000207, 1000220, 1000229, 1000866, 1000871,\n",
       "       1000917, 1000930, 1000941, 1000950, 1000951, 1000954, 1000966,\n",
       "       1000968, 1000981, 1000993, 1000998], dtype=int64)"
      ]
     },
     "execution_count": 139,
     "metadata": {},
     "output_type": "execute_result"
    }
   ],
   "source": [
    "np.unique(y_pred)"
   ]
  },
  {
   "cell_type": "code",
   "execution_count": 140,
   "metadata": {},
   "outputs": [
    {
     "data": {
      "text/plain": [
       "array([1000001, 1000002, 1000003, 1000004, 1000005, 1000006, 1000007,\n",
       "       1000008, 1000009, 1000010, 1000011, 1000012, 1000013, 1000014,\n",
       "       1000015, 1000016, 1000017, 1000018, 1000019, 1000020, 1000021,\n",
       "       1000022, 1000023, 1000024, 1000025, 1000026, 1000027, 1000028,\n",
       "       1000029, 1000030, 1000031, 1000032, 1000033, 1000034, 1000035,\n",
       "       1000036, 1000037, 1000038, 1000040, 1000041, 1000042, 1000043,\n",
       "       1000044, 1000045, 1000046, 1000047, 1000048, 1000049, 1000050,\n",
       "       1000051, 1000052, 1000053, 1000054, 1000055, 1000056, 1000057,\n",
       "       1000058, 1000059, 1000060, 1000061, 1000062, 1000063, 1000064,\n",
       "       1000065, 1000066, 1000067, 1000068, 1000069, 1000070, 1000071,\n",
       "       1000072, 1000073, 1000074, 1000075, 1000076, 1000077, 1000078,\n",
       "       1000079, 1000080, 1000081, 1000082, 1000083, 1000084, 1000085,\n",
       "       1000086, 1000087, 1000088, 1000089, 1000090, 1000091, 1000092,\n",
       "       1000093, 1000094, 1000095, 1000096, 1000097, 1000098, 1000099,\n",
       "       1000100, 1000101, 1000102, 1000103, 1000104, 1000105, 1000106,\n",
       "       1000107, 1000108, 1000109, 1000110, 1000111, 1000112, 1000113,\n",
       "       1000114, 1000115, 1000116, 1000117, 1000118, 1000119, 1000120,\n",
       "       1000121, 1000122, 1000123, 1000124, 1000125, 1000126, 1000127,\n",
       "       1000128, 1000129, 1000130, 1000131, 1000132, 1000133, 1000134,\n",
       "       1000135, 1000136, 1000137, 1000138, 1000139, 1000140, 1000141,\n",
       "       1000142, 1000143, 1000144, 1000145, 1000146, 1000147, 1000148,\n",
       "       1000149, 1000150, 1000151, 1000152, 1000153, 1000154, 1000155,\n",
       "       1000156, 1000157, 1000158, 1000159, 1000160, 1000161, 1000162,\n",
       "       1000163, 1000164, 1000165, 1000166, 1000167, 1000168, 1000169,\n",
       "       1000170, 1000171, 1000172, 1000173, 1000174, 1000175, 1000176,\n",
       "       1000177, 1000178, 1000179, 1000180, 1000181, 1000182, 1000183,\n",
       "       1000184, 1000185, 1000186, 1000187, 1000188, 1000189, 1000190,\n",
       "       1000191, 1000192, 1000193, 1000194, 1000195, 1000196, 1000197,\n",
       "       1000198, 1000199, 1000200, 1000201, 1000202, 1000203, 1000204,\n",
       "       1000205, 1000206, 1000207, 1000208, 1000209, 1000210, 1000212,\n",
       "       1000213, 1000214, 1000215, 1000216, 1000217, 1000218, 1000219,\n",
       "       1000220, 1000221, 1000222, 1000223, 1000224, 1000225, 1000226,\n",
       "       1000227, 1000228, 1000229, 1000230, 1000231, 1000232, 1000233,\n",
       "       1000234, 1000235, 1000236, 1000237, 1000238, 1000855, 1000856,\n",
       "       1000857, 1000858, 1000859, 1000860, 1000861, 1000862, 1000863,\n",
       "       1000864, 1000865, 1000866, 1000867, 1000868, 1000869, 1000870,\n",
       "       1000871, 1000872, 1000873, 1000874, 1000875, 1000876, 1000877,\n",
       "       1000878, 1000879, 1000880, 1000881, 1000882, 1000883, 1000884,\n",
       "       1000885, 1000886, 1000887, 1000888, 1000889, 1000890, 1000891,\n",
       "       1000892, 1000893, 1000894, 1000895, 1000896, 1000897, 1000898,\n",
       "       1000899, 1000900, 1000901, 1000902, 1000903, 1000904, 1000905,\n",
       "       1000906, 1000907, 1000908, 1000909, 1000910, 1000911, 1000912,\n",
       "       1000913, 1000914, 1000915, 1000916, 1000917, 1000918, 1000919,\n",
       "       1000920, 1000921, 1000922, 1000923, 1000924, 1000925, 1000926,\n",
       "       1000927, 1000928, 1000929, 1000930, 1000931, 1000932, 1000933,\n",
       "       1000934, 1000935, 1000936, 1000937, 1000938, 1000939, 1000940,\n",
       "       1000941, 1000942, 1000943, 1000944, 1000945, 1000946, 1000947,\n",
       "       1000948, 1000949, 1000950, 1000951, 1000952, 1000953, 1000954,\n",
       "       1000955, 1000956, 1000957, 1000958, 1000959, 1000960, 1000961,\n",
       "       1000962, 1000963, 1000964, 1000965, 1000966, 1000967, 1000968,\n",
       "       1000969, 1000970, 1000971, 1000972, 1000973, 1000974, 1000975,\n",
       "       1000976, 1000977, 1000978, 1000979, 1000980, 1000981, 1000982,\n",
       "       1000983, 1000984, 1000985, 1000986, 1000987, 1000988, 1000989,\n",
       "       1000990, 1000991, 1000992, 1000993, 1000994, 1000995, 1000996,\n",
       "       1000997, 1000998, 1000999, 1001000, 1001001, 1001002, 1001003,\n",
       "       1001004, 1001005, 1001006, 1001007, 1001008, 1001009, 1001010],\n",
       "      dtype=int64)"
      ]
     },
     "execution_count": 140,
     "metadata": {},
     "output_type": "execute_result"
    }
   ],
   "source": [
    "np.unique(np.array(y_test))"
   ]
  },
  {
   "cell_type": "markdown",
   "metadata": {},
   "source": [
    "### 소결론\n",
    "- 에러가 뜬다\n",
    "\n",
    "```\n",
    "input contains NaN, infinity or a value too large for dtype('float64').\n",
    "\n",
    "```\n",
    "또는\n",
    "```\n",
    "The least populated class in y has only 1 member, which is too few. The minimum number of groups for any class cannot be less than 2.\n",
    "```\n",
    "- 부분적으로 실행하면 에러가 나지 않는다\n",
    "\n",
    "```\n",
    "X= df1_robust_scaled[df1_robust_scaled.columns[4:]].loc[StartNum:EndNum]\n",
    "y= df1_robust_scaled['Code'].loc[StartNum:EndNum]\n",
    "```\n",
    "상기의 식에서 (StartNum, EndNum)을 \n",
    "- (100:500) =>성공\n",
    "- (500:1000) => 성공\n",
    "- (100:5000) =>성공 (n:100)\n",
    "- (5000: 10000) =>성공\n",
    "- (10000: 15000) =>성공\n",
    "- (20000: 50000) =>실패(n:100, 500) \n",
    "\n",
    "\n",
    "- 모든 데이터를 KNN하는 법을 찾아야 한다\n",
    "\n"
   ]
  },
  {
   "cell_type": "markdown",
   "metadata": {},
   "source": [
    "## 참고 모델 저장하는법(모델링에 실패해서 지금 저장하지는 않음)\n",
    "#1. 변수에 저장하고 확인하기\n",
    "```\n",
    "import pickle\n",
    "from sklearn.externals import joblib\n",
    "X,y =iris.data, iris.target\n",
    "clf = LogisticRegression(random_state=0)\n",
    "clf.fit(X,y)\n",
    "\n",
    "saved_model = pickle.dumps(clf)\n",
    "\n",
    "```\n",
    "#모델 불러와서 예측하기\n",
    "```\n",
    "#load\n",
    "clf_from_pickle = pickle.loads(saved_model)\n",
    "\n",
    "#use model\n",
    "clf_from_pickle.predict(X)\n",
    "\n",
    "```\n",
    "\n",
    "#모델을 파일로 저장하기\n",
    "```\n",
    "joblib.dump(clf,'filename.pkl')\n",
    "\n",
    "```\n",
    "\n",
    "#저장한 파일 불러와서 예측하기\n",
    "```\n",
    "clf_from_joblib = joblib.load('filename.pkl')\n",
    "clf_from_joblib.predict(X)\n",
    "```\n",
    "\n",
    "\n"
   ]
  },
  {
   "cell_type": "code",
   "execution_count": null,
   "metadata": {},
   "outputs": [],
   "source": []
  },
  {
   "cell_type": "markdown",
   "metadata": {},
   "source": [
    "### 평소대로 OLS 회귀분석하듯이 하고, 중간에 KNN넣어보기\n",
    "- 에러가 발생했다\n",
    "```\n",
    "The least populated class in y has only 1 member, which is too few. The minimum number of groups for any class cannot be less than 2.\n",
    "```\n",
    "- 아무래도 이 방법은 아닌듯 하다\n",
    "- 매출액이 군집화 되는 방법은 우리가 원하는 방법이 아닌것 같기 때문"
   ]
  },
  {
   "cell_type": "code",
   "execution_count": 103,
   "metadata": {},
   "outputs": [
    {
     "ename": "ValueError",
     "evalue": "The least populated class in y has only 1 member, which is too few. The minimum number of groups for any class cannot be less than 2.",
     "output_type": "error",
     "traceback": [
      "\u001b[1;31m---------------------------------------------------------------------------\u001b[0m",
      "\u001b[1;31mValueError\u001b[0m                                Traceback (most recent call last)",
      "\u001b[1;32m<ipython-input-103-852f8e9f6c31>\u001b[0m in \u001b[0;36m<module>\u001b[1;34m\u001b[0m\n\u001b[0;32m     18\u001b[0m \u001b[0my\u001b[0m\u001b[1;33m=\u001b[0m \u001b[0mdf1_robust_scaled\u001b[0m\u001b[1;33m[\u001b[0m\u001b[1;33m[\u001b[0m\u001b[1;34m'SalesPerStore'\u001b[0m\u001b[1;33m]\u001b[0m\u001b[1;33m]\u001b[0m\u001b[1;33m.\u001b[0m\u001b[0mloc\u001b[0m\u001b[1;33m[\u001b[0m\u001b[1;33m:\u001b[0m\u001b[1;36m100\u001b[0m\u001b[1;33m]\u001b[0m\u001b[1;33m\u001b[0m\u001b[1;33m\u001b[0m\u001b[0m\n\u001b[0;32m     19\u001b[0m \u001b[1;33m\u001b[0m\u001b[0m\n\u001b[1;32m---> 20\u001b[1;33m \u001b[0mX_train\u001b[0m\u001b[1;33m,\u001b[0m \u001b[0mX_test\u001b[0m\u001b[1;33m,\u001b[0m \u001b[0my_train\u001b[0m\u001b[1;33m,\u001b[0m \u001b[0my_test\u001b[0m \u001b[1;33m=\u001b[0m \u001b[0mtrain_test_split\u001b[0m\u001b[1;33m(\u001b[0m\u001b[0mX\u001b[0m\u001b[1;33m,\u001b[0m \u001b[0my\u001b[0m\u001b[1;33m,\u001b[0m \u001b[0mstratify\u001b[0m\u001b[1;33m=\u001b[0m\u001b[0my\u001b[0m\u001b[1;33m,\u001b[0m \u001b[0mtest_size\u001b[0m\u001b[1;33m=\u001b[0m\u001b[1;36m0.7\u001b[0m\u001b[1;33m,\u001b[0m \u001b[0mrandom_state\u001b[0m\u001b[1;33m=\u001b[0m\u001b[1;36m42\u001b[0m\u001b[1;33m)\u001b[0m\u001b[1;33m\u001b[0m\u001b[1;33m\u001b[0m\u001b[0m\n\u001b[0m\u001b[0;32m     21\u001b[0m \u001b[0mnca\u001b[0m \u001b[1;33m=\u001b[0m \u001b[0mNeighborhoodComponentsAnalysis\u001b[0m\u001b[1;33m(\u001b[0m\u001b[0mrandom_state\u001b[0m\u001b[1;33m=\u001b[0m\u001b[1;36m42\u001b[0m\u001b[1;33m)\u001b[0m\u001b[1;33m\u001b[0m\u001b[1;33m\u001b[0m\u001b[0m\n\u001b[0;32m     22\u001b[0m \u001b[0mknn\u001b[0m \u001b[1;33m=\u001b[0m \u001b[0mKNeighborsClassifier\u001b[0m\u001b[1;33m(\u001b[0m\u001b[0mn_neighbors\u001b[0m\u001b[1;33m=\u001b[0m\u001b[1;36m3\u001b[0m\u001b[1;33m)\u001b[0m\u001b[1;33m\u001b[0m\u001b[1;33m\u001b[0m\u001b[0m\n",
      "\u001b[1;32mC:\\ProgramData\\Anaconda3\\lib\\site-packages\\sklearn\\model_selection\\_split.py\u001b[0m in \u001b[0;36mtrain_test_split\u001b[1;34m(*arrays, **options)\u001b[0m\n\u001b[0;32m   2119\u001b[0m                      random_state=random_state)\n\u001b[0;32m   2120\u001b[0m \u001b[1;33m\u001b[0m\u001b[0m\n\u001b[1;32m-> 2121\u001b[1;33m         \u001b[0mtrain\u001b[0m\u001b[1;33m,\u001b[0m \u001b[0mtest\u001b[0m \u001b[1;33m=\u001b[0m \u001b[0mnext\u001b[0m\u001b[1;33m(\u001b[0m\u001b[0mcv\u001b[0m\u001b[1;33m.\u001b[0m\u001b[0msplit\u001b[0m\u001b[1;33m(\u001b[0m\u001b[0mX\u001b[0m\u001b[1;33m=\u001b[0m\u001b[0marrays\u001b[0m\u001b[1;33m[\u001b[0m\u001b[1;36m0\u001b[0m\u001b[1;33m]\u001b[0m\u001b[1;33m,\u001b[0m \u001b[0my\u001b[0m\u001b[1;33m=\u001b[0m\u001b[0mstratify\u001b[0m\u001b[1;33m)\u001b[0m\u001b[1;33m)\u001b[0m\u001b[1;33m\u001b[0m\u001b[1;33m\u001b[0m\u001b[0m\n\u001b[0m\u001b[0;32m   2122\u001b[0m \u001b[1;33m\u001b[0m\u001b[0m\n\u001b[0;32m   2123\u001b[0m     return list(chain.from_iterable((safe_indexing(a, train),\n",
      "\u001b[1;32mC:\\ProgramData\\Anaconda3\\lib\\site-packages\\sklearn\\model_selection\\_split.py\u001b[0m in \u001b[0;36msplit\u001b[1;34m(self, X, y, groups)\u001b[0m\n\u001b[0;32m   1321\u001b[0m         \"\"\"\n\u001b[0;32m   1322\u001b[0m         \u001b[0mX\u001b[0m\u001b[1;33m,\u001b[0m \u001b[0my\u001b[0m\u001b[1;33m,\u001b[0m \u001b[0mgroups\u001b[0m \u001b[1;33m=\u001b[0m \u001b[0mindexable\u001b[0m\u001b[1;33m(\u001b[0m\u001b[0mX\u001b[0m\u001b[1;33m,\u001b[0m \u001b[0my\u001b[0m\u001b[1;33m,\u001b[0m \u001b[0mgroups\u001b[0m\u001b[1;33m)\u001b[0m\u001b[1;33m\u001b[0m\u001b[1;33m\u001b[0m\u001b[0m\n\u001b[1;32m-> 1323\u001b[1;33m         \u001b[1;32mfor\u001b[0m \u001b[0mtrain\u001b[0m\u001b[1;33m,\u001b[0m \u001b[0mtest\u001b[0m \u001b[1;32min\u001b[0m \u001b[0mself\u001b[0m\u001b[1;33m.\u001b[0m\u001b[0m_iter_indices\u001b[0m\u001b[1;33m(\u001b[0m\u001b[0mX\u001b[0m\u001b[1;33m,\u001b[0m \u001b[0my\u001b[0m\u001b[1;33m,\u001b[0m \u001b[0mgroups\u001b[0m\u001b[1;33m)\u001b[0m\u001b[1;33m:\u001b[0m\u001b[1;33m\u001b[0m\u001b[1;33m\u001b[0m\u001b[0m\n\u001b[0m\u001b[0;32m   1324\u001b[0m             \u001b[1;32myield\u001b[0m \u001b[0mtrain\u001b[0m\u001b[1;33m,\u001b[0m \u001b[0mtest\u001b[0m\u001b[1;33m\u001b[0m\u001b[1;33m\u001b[0m\u001b[0m\n\u001b[0;32m   1325\u001b[0m \u001b[1;33m\u001b[0m\u001b[0m\n",
      "\u001b[1;32mC:\\ProgramData\\Anaconda3\\lib\\site-packages\\sklearn\\model_selection\\_split.py\u001b[0m in \u001b[0;36m_iter_indices\u001b[1;34m(self, X, y, groups)\u001b[0m\n\u001b[0;32m   1634\u001b[0m         \u001b[0mclass_counts\u001b[0m \u001b[1;33m=\u001b[0m \u001b[0mnp\u001b[0m\u001b[1;33m.\u001b[0m\u001b[0mbincount\u001b[0m\u001b[1;33m(\u001b[0m\u001b[0my_indices\u001b[0m\u001b[1;33m)\u001b[0m\u001b[1;33m\u001b[0m\u001b[1;33m\u001b[0m\u001b[0m\n\u001b[0;32m   1635\u001b[0m         \u001b[1;32mif\u001b[0m \u001b[0mnp\u001b[0m\u001b[1;33m.\u001b[0m\u001b[0mmin\u001b[0m\u001b[1;33m(\u001b[0m\u001b[0mclass_counts\u001b[0m\u001b[1;33m)\u001b[0m \u001b[1;33m<\u001b[0m \u001b[1;36m2\u001b[0m\u001b[1;33m:\u001b[0m\u001b[1;33m\u001b[0m\u001b[1;33m\u001b[0m\u001b[0m\n\u001b[1;32m-> 1636\u001b[1;33m             raise ValueError(\"The least populated class in y has only 1\"\n\u001b[0m\u001b[0;32m   1637\u001b[0m                              \u001b[1;34m\" member, which is too few. The minimum\"\u001b[0m\u001b[1;33m\u001b[0m\u001b[1;33m\u001b[0m\u001b[0m\n\u001b[0;32m   1638\u001b[0m                              \u001b[1;34m\" number of groups for any class cannot\"\u001b[0m\u001b[1;33m\u001b[0m\u001b[1;33m\u001b[0m\u001b[0m\n",
      "\u001b[1;31mValueError\u001b[0m: The least populated class in y has only 1 member, which is too few. The minimum number of groups for any class cannot be less than 2."
     ]
    }
   ],
   "source": [
    "\n",
    "# # from sklearn.preprocessing import StandardScaler\n",
    "# from sklearn.model_selection import train_test_split\n",
    "# from sklearn.pipeline import Pipeline\n",
    "# from sklearn.neighbors import (NeighborhoodComponentsAnalysis,KNeighborsClassifier)\n",
    "\n",
    "# dfX=df1_scale\n",
    "# rb = RobustScaler()\n",
    "# # rb = StandardScaler()\n",
    "# rb.fit(dfX)\n",
    "# X_robust_scaled = rb.transform(dfX)\n",
    "# dfX2=pd.DataFrame(X_robust_scaled, columns= df1_scale.columns)\n",
    "# df1_robust_scaled = pd.concat([df2, dfX2], axis=1)\n",
    "\n",
    "# X= df1_robust_scaled[['Code', 'log_DayWeekend', 'log_FemaleMaleend',\n",
    "#        'Twenty_30', 'Six_11', 'Eleven14', 'log_Fourteen17', 'Seventeen21',\n",
    "#        'Twentyone24', 'AptNum', 'AptArea', 'AptPrice', 'MonthlyIncome',\n",
    "#        'Consume', 'ServiceSale', 'StoreNum']].loc[:100]\n",
    "# y= df1_robust_scaled[['SalesPerStore']].loc[:100]\n",
    "\n",
    "# X_train, X_test, y_train, y_test = train_test_split(X, y, stratify=y, test_size=0.7, random_state=42)\n",
    "# nca = NeighborhoodComponentsAnalysis(random_state=42)\n",
    "# knn = KNeighborsClassifier(n_neighbors=3)\n",
    "# nca_pipe = Pipeline([('nca', nca), ('knn', knn)])\n",
    "# nca_pipe.fit(X_train, y_train)\n",
    "\n",
    "# y_pred = nca_pipe.predict(X_test)\n",
    "\n",
    "# # model = sm.OLS.from_formula(\"SalesPerStore  ~ C(Code) +\"+\"+\".join(df1_robust_scaled[df1_robust_scaled.columns[3:]]), data=df1_robust_scaled)\n",
    "\n",
    "# # result = model.fit()\n",
    "# # print(result.summary())"
   ]
  },
  {
   "cell_type": "code",
   "execution_count": null,
   "metadata": {},
   "outputs": [],
   "source": []
  },
  {
   "cell_type": "code",
   "execution_count": 104,
   "metadata": {},
   "outputs": [],
   "source": [
    "# from sklearn.preprocessing import RobustScaler\n",
    "# from sklearn.preprocessing import StandardScaler\n",
    "\n",
    "# df1_robust_scaled = pd.concat([df2, dfX2], axis=1)\n",
    "\n",
    "# model = sm.OLS.from_formula(\"SalesPerStore  ~ C(Code) +\"+\"+\".join(df1_robust_scaled[df1_robust_scaled.columns[3:]]), data=df1_robust_scaled)\n",
    "# result = model.fit()\n",
    "# print(result.summary())"
   ]
  },
  {
   "cell_type": "code",
   "execution_count": null,
   "metadata": {},
   "outputs": [],
   "source": []
  }
 ],
 "metadata": {
  "kernelspec": {
   "display_name": "Python 3",
   "language": "python",
   "name": "python3"
  },
  "language_info": {
   "codemirror_mode": {
    "name": "ipython",
    "version": 3
   },
   "file_extension": ".py",
   "mimetype": "text/x-python",
   "name": "python",
   "nbconvert_exporter": "python",
   "pygments_lexer": "ipython3",
   "version": "3.7.4"
  }
 },
 "nbformat": 4,
 "nbformat_minor": 2
}
