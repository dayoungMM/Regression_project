{
 "cells": [
  {
   "cell_type": "code",
   "execution_count": 17,
   "metadata": {},
   "outputs": [],
   "source": [
    "#데이터 로드\n",
    "sales = pd.read_csv(\"sales_rate.csv\", encoding='euc-kr' )\n",
    "sales_ori = pd.read_csv(\"sales_2018.csv\", encoding='euc-kr' )\n",
    "df_merged = pd.read_csv(\"df_sejin.csv\", encoding='euc-kr')"
   ]
  },
  {
   "cell_type": "markdown",
   "metadata": {},
   "source": [
    "#### 주중매출액/ 총매출액 컬럼 만들기(dayrate)"
   ]
  },
  {
   "cell_type": "code",
   "execution_count": 2,
   "metadata": {},
   "outputs": [
    {
     "data": {
      "text/html": [
       "<div>\n",
       "<style scoped>\n",
       "    .dataframe tbody tr th:only-of-type {\n",
       "        vertical-align: middle;\n",
       "    }\n",
       "\n",
       "    .dataframe tbody tr th {\n",
       "        vertical-align: top;\n",
       "    }\n",
       "\n",
       "    .dataframe thead th {\n",
       "        text-align: right;\n",
       "    }\n",
       "</style>\n",
       "<table border=\"1\" class=\"dataframe\">\n",
       "  <thead>\n",
       "    <tr style=\"text-align: right;\">\n",
       "      <th></th>\n",
       "      <th>기준_년_코드</th>\n",
       "      <th>기준_분기_코드</th>\n",
       "      <th>상권_코드</th>\n",
       "      <th>서비스_업종_코드</th>\n",
       "      <th>당월_매출_금액</th>\n",
       "      <th>day_sales</th>\n",
       "      <th>weekend_sale</th>\n",
       "      <th>female/male</th>\n",
       "      <th>Age_2040</th>\n",
       "      <th>Age_total</th>\n",
       "      <th>06~11rate</th>\n",
       "      <th>11~14rate</th>\n",
       "      <th>14~17rate</th>\n",
       "      <th>17~21rate</th>\n",
       "      <th>21~24rate</th>\n",
       "    </tr>\n",
       "  </thead>\n",
       "  <tbody>\n",
       "    <tr>\n",
       "      <td>140649</td>\n",
       "      <td>2018</td>\n",
       "      <td>4</td>\n",
       "      <td>1001496</td>\n",
       "      <td>CS300017</td>\n",
       "      <td>188774483.0</td>\n",
       "      <td>136759824</td>\n",
       "      <td>52014659</td>\n",
       "      <td>0.449413369</td>\n",
       "      <td>102869145</td>\n",
       "      <td>188774483</td>\n",
       "      <td>0.289167</td>\n",
       "      <td>0.289616</td>\n",
       "      <td>0.266074</td>\n",
       "      <td>0.048821</td>\n",
       "      <td>0.03449</td>\n",
       "    </tr>\n",
       "  </tbody>\n",
       "</table>\n",
       "</div>"
      ],
      "text/plain": [
       "        기준_년_코드  기준_분기_코드    상권_코드 서비스_업종_코드     당월_매출_금액  day_sales  \\\n",
       "140649     2018         4  1001496  CS300017  188774483.0  136759824   \n",
       "\n",
       "        weekend_sale  female/male   Age_2040  Age_total  06~11rate  11~14rate  \\\n",
       "140649      52014659  0.449413369  102869145  188774483   0.289167   0.289616   \n",
       "\n",
       "        14~17rate  17~21rate  21~24rate  \n",
       "140649   0.266074   0.048821    0.03449  "
      ]
     },
     "execution_count": 2,
     "metadata": {},
     "output_type": "execute_result"
    }
   ],
   "source": [
    "sales.tail(1)"
   ]
  },
  {
   "cell_type": "code",
   "execution_count": 3,
   "metadata": {},
   "outputs": [
    {
     "data": {
      "text/plain": [
       "Index(['기준_년_코드', '기준_분기_코드', '상권_코드', '서비스_업종_코드', '당월_매출_금액', 'day_sales',\n",
       "       'weekend_sale', 'female/male', 'Age_2040', 'Age_total', '06~11rate',\n",
       "       '11~14rate', '14~17rate', '17~21rate', '21~24rate'],\n",
       "      dtype='object')"
      ]
     },
     "execution_count": 3,
     "metadata": {},
     "output_type": "execute_result"
    }
   ],
   "source": [
    "sales.columns"
   ]
  },
  {
   "cell_type": "code",
   "execution_count": 4,
   "metadata": {},
   "outputs": [],
   "source": [
    "sales['DW_total']= sales['day_sales']+sales['weekend_sale']\n"
   ]
  },
  {
   "cell_type": "code",
   "execution_count": 5,
   "metadata": {},
   "outputs": [],
   "source": [
    "sales['day_rate']=sales['day_sales']/sales['DW_total']"
   ]
  },
  {
   "cell_type": "code",
   "execution_count": 6,
   "metadata": {},
   "outputs": [],
   "source": [
    "# 주중 매출/ 총매출 컬럼있는 df 만들기\n",
    "df_dayrate=sales[['기준_년_코드', '기준_분기_코드', '상권_코드', '서비스_업종_코드', '당월_매출_금액', 'day_rate']]\n",
    "df_dayrate.columns=['year', 'quarter', 'district','code','sales','day_rate']"
   ]
  },
  {
   "cell_type": "markdown",
   "metadata": {},
   "source": [
    "#### 여성매출/총매출 컬럼있는 df 만들기"
   ]
  },
  {
   "cell_type": "code",
   "execution_count": 7,
   "metadata": {},
   "outputs": [
    {
     "data": {
      "text/plain": [
       "Index(['기준_년_코드', '기준_분기_코드', '상권_구분_코드', '상권_코드', '서비스_업종_코드', '당월_매출_금액',\n",
       "       '주중_매출_금액', '주말_매출_금액', '월요일_매출_금액', '화요일_매출_금액', '수요일_매출_금액',\n",
       "       '목요일_매출_금액', '금요일_매출_금액', '토요일_매출_금액', '일요일_매출_금액', '시간대_00~06_매출_금액',\n",
       "       '시간대_06~11_매출_금액', '시간대_11~14_매출_금액', '시간대_14~17_매출_금액',\n",
       "       '시간대_17~21_매출_금액', '시간대_21~24_매출_금액', '남성_매출_금액', '여성_매출_금액',\n",
       "       '연령대_10_매출_금액', '연령대_20_매출_금액', '연령대_30_매출_금액', '연령대_40_매출_금액',\n",
       "       '연령대_50_매출_금액', '연령대_60_이상_매출_금액', '점포수'],\n",
       "      dtype='object')"
      ]
     },
     "execution_count": 7,
     "metadata": {},
     "output_type": "execute_result"
    }
   ],
   "source": [
    "sales_ori.columns"
   ]
  },
  {
   "cell_type": "markdown",
   "metadata": {},
   "source": [
    " 'prop_2030s',\n",
    "       'prop_06_11', 'prop_11_14', 'prop_14_17', 'prop_17_21', 'prop_21_24',"
   ]
  },
  {
   "cell_type": "code",
   "execution_count": 8,
   "metadata": {},
   "outputs": [],
   "source": [
    "sales_ori['time_total']= sales_ori['시간대_00~06_매출_금액']+sales_ori['시간대_06~11_매출_금액']+sales_ori['시간대_11~14_매출_금액']\\\n",
    "                    +sales_ori['시간대_14~17_매출_금액']+ sales_ori['시간대_17~21_매출_금액']+sales_ori['시간대_21~24_매출_금액']\n"
   ]
  },
  {
   "cell_type": "code",
   "execution_count": 9,
   "metadata": {},
   "outputs": [],
   "source": [
    "sales_ori['prop_06_11']= sales_ori['시간대_00~06_매출_금액']/sales_ori['time_total']\n",
    "sales_ori['prop_11_14']= sales_ori['시간대_11~14_매출_금액']/sales_ori['time_total']\n",
    "sales_ori['prop_14_17']= sales_ori['시간대_14~17_매출_금액']/sales_ori['time_total']\n",
    "sales_ori['prop_17_21']= sales_ori['시간대_17~21_매출_금액']/sales_ori['time_total']\n",
    "sales_ori['prop_21_24']= sales_ori['시간대_21~24_매출_금액']/sales_ori['time_total']\n",
    "\n",
    "\n",
    "\n"
   ]
  },
  {
   "cell_type": "code",
   "execution_count": 10,
   "metadata": {},
   "outputs": [],
   "source": [
    "sales_ori['gender_sale']= sales_ori['남성_매출_금액']+sales_ori['여성_매출_금액']"
   ]
  },
  {
   "cell_type": "code",
   "execution_count": 11,
   "metadata": {},
   "outputs": [],
   "source": [
    "sales_ori['female_rate']= sales_ori['여성_매출_금액']/sales_ori['gender_sale']"
   ]
  },
  {
   "cell_type": "code",
   "execution_count": 13,
   "metadata": {},
   "outputs": [
    {
     "data": {
      "text/plain": [
       "Index(['기준_년_코드', '기준_분기_코드', '상권_구분_코드', '상권_코드', '서비스_업종_코드', '당월_매출_금액',\n",
       "       '주중_매출_금액', '주말_매출_금액', '월요일_매출_금액', '화요일_매출_금액', '수요일_매출_금액',\n",
       "       '목요일_매출_금액', '금요일_매출_금액', '토요일_매출_금액', '일요일_매출_금액', '시간대_00~06_매출_금액',\n",
       "       '시간대_06~11_매출_금액', '시간대_11~14_매출_금액', '시간대_14~17_매출_금액',\n",
       "       '시간대_17~21_매출_금액', '시간대_21~24_매출_금액', '남성_매출_금액', '여성_매출_금액',\n",
       "       '연령대_10_매출_금액', '연령대_20_매출_금액', '연령대_30_매출_금액', '연령대_40_매출_금액',\n",
       "       '연령대_50_매출_금액', '연령대_60_이상_매출_금액', '점포수', 'time_total', 'prop_06_11',\n",
       "       'prop_11_14', 'prop_14_17', 'prop_17_21', 'prop_21_24', 'gender_sale',\n",
       "       'female_rate'],\n",
       "      dtype='object')"
      ]
     },
     "execution_count": 13,
     "metadata": {},
     "output_type": "execute_result"
    }
   ],
   "source": [
    "sales_ori.columns"
   ]
  },
  {
   "cell_type": "code",
   "execution_count": 14,
   "metadata": {},
   "outputs": [],
   "source": [
    "df_female_rate=sales_ori[['기준_년_코드', '기준_분기_코드', '상권_코드','서비스_업종_코드','당월_매출_금액', 'female_rate' ,'prop_06_11',\n",
    "       'prop_11_14', 'prop_14_17', 'prop_17_21', 'prop_21_24']]\n",
    "df_female_rate.columns = ['year', 'quarter', 'district','code','sales', 'female_rate','prop_06_11',\n",
    "       'prop_11_14', 'prop_14_17', 'prop_17_21', 'prop_21_24' ]"
   ]
  },
  {
   "cell_type": "markdown",
   "metadata": {},
   "source": [
    "### 다른 변수들이 있는 df랑 merge 하기"
   ]
  },
  {
   "cell_type": "code",
   "execution_count": 18,
   "metadata": {},
   "outputs": [
    {
     "data": {
      "text/html": [
       "<div>\n",
       "<style scoped>\n",
       "    .dataframe tbody tr th:only-of-type {\n",
       "        vertical-align: middle;\n",
       "    }\n",
       "\n",
       "    .dataframe tbody tr th {\n",
       "        vertical-align: top;\n",
       "    }\n",
       "\n",
       "    .dataframe thead th {\n",
       "        text-align: right;\n",
       "    }\n",
       "</style>\n",
       "<table border=\"1\" class=\"dataframe\">\n",
       "  <thead>\n",
       "    <tr style=\"text-align: right;\">\n",
       "      <th></th>\n",
       "      <th>year</th>\n",
       "      <th>quarter</th>\n",
       "      <th>district</th>\n",
       "      <th>code</th>\n",
       "      <th>workpop</th>\n",
       "      <th>floatpop</th>\n",
       "      <th>apt_no_of_cmplx</th>\n",
       "      <th>apt_avg_space</th>\n",
       "      <th>apt_avg_price</th>\n",
       "      <th>inc_monthly_avg</th>\n",
       "      <th>...</th>\n",
       "      <th>no_of_gov_office</th>\n",
       "      <th>no_of_bank</th>\n",
       "      <th>no_of_pharm</th>\n",
       "      <th>no_of_dept_store</th>\n",
       "      <th>no_of_theartre</th>\n",
       "      <th>no_of_accom</th>\n",
       "      <th>no_of_STA</th>\n",
       "      <th>no_of_BUS</th>\n",
       "      <th>sales_per_store.1</th>\n",
       "      <th>sales</th>\n",
       "    </tr>\n",
       "  </thead>\n",
       "  <tbody>\n",
       "    <tr>\n",
       "      <td>89015</td>\n",
       "      <td>2018</td>\n",
       "      <td>4</td>\n",
       "      <td>1001010</td>\n",
       "      <td>CS300009</td>\n",
       "      <td>40</td>\n",
       "      <td>127636</td>\n",
       "      <td>313</td>\n",
       "      <td>51</td>\n",
       "      <td>154040746</td>\n",
       "      <td>3589923</td>\n",
       "      <td>...</td>\n",
       "      <td>1</td>\n",
       "      <td>0</td>\n",
       "      <td>3</td>\n",
       "      <td>0</td>\n",
       "      <td>0</td>\n",
       "      <td>0</td>\n",
       "      <td>0</td>\n",
       "      <td>0</td>\n",
       "      <td>5.010954e+08</td>\n",
       "      <td>1503286282</td>\n",
       "    </tr>\n",
       "    <tr>\n",
       "      <td>89016</td>\n",
       "      <td>2018</td>\n",
       "      <td>4</td>\n",
       "      <td>1001010</td>\n",
       "      <td>CS300011</td>\n",
       "      <td>40</td>\n",
       "      <td>127636</td>\n",
       "      <td>313</td>\n",
       "      <td>51</td>\n",
       "      <td>154040746</td>\n",
       "      <td>3589923</td>\n",
       "      <td>...</td>\n",
       "      <td>1</td>\n",
       "      <td>0</td>\n",
       "      <td>3</td>\n",
       "      <td>0</td>\n",
       "      <td>0</td>\n",
       "      <td>0</td>\n",
       "      <td>0</td>\n",
       "      <td>0</td>\n",
       "      <td>5.222272e+06</td>\n",
       "      <td>10444544</td>\n",
       "    </tr>\n",
       "    <tr>\n",
       "      <td>89017</td>\n",
       "      <td>2018</td>\n",
       "      <td>4</td>\n",
       "      <td>1001010</td>\n",
       "      <td>CS300014</td>\n",
       "      <td>40</td>\n",
       "      <td>127636</td>\n",
       "      <td>313</td>\n",
       "      <td>51</td>\n",
       "      <td>154040746</td>\n",
       "      <td>3589923</td>\n",
       "      <td>...</td>\n",
       "      <td>1</td>\n",
       "      <td>0</td>\n",
       "      <td>3</td>\n",
       "      <td>0</td>\n",
       "      <td>0</td>\n",
       "      <td>0</td>\n",
       "      <td>0</td>\n",
       "      <td>0</td>\n",
       "      <td>1.611965e+07</td>\n",
       "      <td>16119654</td>\n",
       "    </tr>\n",
       "    <tr>\n",
       "      <td>89018</td>\n",
       "      <td>2018</td>\n",
       "      <td>4</td>\n",
       "      <td>1001010</td>\n",
       "      <td>CS300016</td>\n",
       "      <td>40</td>\n",
       "      <td>127636</td>\n",
       "      <td>313</td>\n",
       "      <td>51</td>\n",
       "      <td>154040746</td>\n",
       "      <td>3589923</td>\n",
       "      <td>...</td>\n",
       "      <td>1</td>\n",
       "      <td>0</td>\n",
       "      <td>3</td>\n",
       "      <td>0</td>\n",
       "      <td>0</td>\n",
       "      <td>0</td>\n",
       "      <td>0</td>\n",
       "      <td>0</td>\n",
       "      <td>2.319462e+06</td>\n",
       "      <td>6958385</td>\n",
       "    </tr>\n",
       "    <tr>\n",
       "      <td>89019</td>\n",
       "      <td>2018</td>\n",
       "      <td>4</td>\n",
       "      <td>1001010</td>\n",
       "      <td>CS300017</td>\n",
       "      <td>40</td>\n",
       "      <td>127636</td>\n",
       "      <td>313</td>\n",
       "      <td>51</td>\n",
       "      <td>154040746</td>\n",
       "      <td>3589923</td>\n",
       "      <td>...</td>\n",
       "      <td>1</td>\n",
       "      <td>0</td>\n",
       "      <td>3</td>\n",
       "      <td>0</td>\n",
       "      <td>0</td>\n",
       "      <td>0</td>\n",
       "      <td>0</td>\n",
       "      <td>0</td>\n",
       "      <td>4.789273e+05</td>\n",
       "      <td>2873564</td>\n",
       "    </tr>\n",
       "  </tbody>\n",
       "</table>\n",
       "<p>5 rows × 26 columns</p>\n",
       "</div>"
      ],
      "text/plain": [
       "       year  quarter  district      code  workpop  floatpop  apt_no_of_cmplx  \\\n",
       "89015  2018        4   1001010  CS300009       40    127636              313   \n",
       "89016  2018        4   1001010  CS300011       40    127636              313   \n",
       "89017  2018        4   1001010  CS300014       40    127636              313   \n",
       "89018  2018        4   1001010  CS300016       40    127636              313   \n",
       "89019  2018        4   1001010  CS300017       40    127636              313   \n",
       "\n",
       "       apt_avg_space  apt_avg_price  inc_monthly_avg  ...  no_of_gov_office  \\\n",
       "89015             51      154040746          3589923  ...                 1   \n",
       "89016             51      154040746          3589923  ...                 1   \n",
       "89017             51      154040746          3589923  ...                 1   \n",
       "89018             51      154040746          3589923  ...                 1   \n",
       "89019             51      154040746          3589923  ...                 1   \n",
       "\n",
       "       no_of_bank  no_of_pharm  no_of_dept_store  no_of_theartre  no_of_accom  \\\n",
       "89015           0            3                 0               0            0   \n",
       "89016           0            3                 0               0            0   \n",
       "89017           0            3                 0               0            0   \n",
       "89018           0            3                 0               0            0   \n",
       "89019           0            3                 0               0            0   \n",
       "\n",
       "       no_of_STA  no_of_BUS  sales_per_store.1       sales  \n",
       "89015          0          0       5.010954e+08  1503286282  \n",
       "89016          0          0       5.222272e+06    10444544  \n",
       "89017          0          0       1.611965e+07    16119654  \n",
       "89018          0          0       2.319462e+06     6958385  \n",
       "89019          0          0       4.789273e+05     2873564  \n",
       "\n",
       "[5 rows x 26 columns]"
      ]
     },
     "execution_count": 18,
     "metadata": {},
     "output_type": "execute_result"
    }
   ],
   "source": [
    "df_merged.tail()"
   ]
  },
  {
   "cell_type": "code",
   "execution_count": 19,
   "metadata": {},
   "outputs": [
    {
     "data": {
      "text/html": [
       "<div>\n",
       "<style scoped>\n",
       "    .dataframe tbody tr th:only-of-type {\n",
       "        vertical-align: middle;\n",
       "    }\n",
       "\n",
       "    .dataframe tbody tr th {\n",
       "        vertical-align: top;\n",
       "    }\n",
       "\n",
       "    .dataframe thead th {\n",
       "        text-align: right;\n",
       "    }\n",
       "</style>\n",
       "<table border=\"1\" class=\"dataframe\">\n",
       "  <thead>\n",
       "    <tr style=\"text-align: right;\">\n",
       "      <th></th>\n",
       "      <th>year</th>\n",
       "      <th>quarter</th>\n",
       "      <th>district</th>\n",
       "      <th>code</th>\n",
       "      <th>workpop</th>\n",
       "      <th>floatpop</th>\n",
       "      <th>apt_no_of_cmplx</th>\n",
       "      <th>apt_avg_space</th>\n",
       "      <th>apt_avg_price</th>\n",
       "      <th>inc_monthly_avg</th>\n",
       "      <th>...</th>\n",
       "      <th>no_of_bank</th>\n",
       "      <th>no_of_pharm</th>\n",
       "      <th>no_of_dept_store</th>\n",
       "      <th>no_of_theartre</th>\n",
       "      <th>no_of_accom</th>\n",
       "      <th>no_of_STA</th>\n",
       "      <th>no_of_BUS</th>\n",
       "      <th>sales_per_store.1</th>\n",
       "      <th>sales</th>\n",
       "      <th>day_rate</th>\n",
       "    </tr>\n",
       "  </thead>\n",
       "  <tbody>\n",
       "  </tbody>\n",
       "</table>\n",
       "<p>0 rows × 27 columns</p>\n",
       "</div>"
      ],
      "text/plain": [
       "Empty DataFrame\n",
       "Columns: [year, quarter, district, code, workpop, floatpop, apt_no_of_cmplx, apt_avg_space, apt_avg_price, inc_monthly_avg, expnd_total, sales_per_store, no_of_store, opening_rate, closing_rate, no_of_franch_store, no_of_gov_office, no_of_bank, no_of_pharm, no_of_dept_store, no_of_theartre, no_of_accom, no_of_STA, no_of_BUS, sales_per_store.1, sales, day_rate]\n",
       "Index: []\n",
       "\n",
       "[0 rows x 27 columns]"
      ]
     },
     "execution_count": 19,
     "metadata": {},
     "output_type": "execute_result"
    }
   ],
   "source": [
    "df_result=pd.merge(df_merged,df_dayrate, on=['year', 'quarter', 'district', 'code', 'sales'])\n",
    "df_result[df_result['sales'].isnull()] # sales가 없는(잘못 merge된) 행이 있는지 확인"
   ]
  },
  {
   "cell_type": "code",
   "execution_count": 20,
   "metadata": {},
   "outputs": [
    {
     "data": {
      "text/html": [
       "<div>\n",
       "<style scoped>\n",
       "    .dataframe tbody tr th:only-of-type {\n",
       "        vertical-align: middle;\n",
       "    }\n",
       "\n",
       "    .dataframe tbody tr th {\n",
       "        vertical-align: top;\n",
       "    }\n",
       "\n",
       "    .dataframe thead th {\n",
       "        text-align: right;\n",
       "    }\n",
       "</style>\n",
       "<table border=\"1\" class=\"dataframe\">\n",
       "  <thead>\n",
       "    <tr style=\"text-align: right;\">\n",
       "      <th></th>\n",
       "      <th>year</th>\n",
       "      <th>quarter</th>\n",
       "      <th>district</th>\n",
       "      <th>code</th>\n",
       "      <th>workpop</th>\n",
       "      <th>floatpop</th>\n",
       "      <th>apt_no_of_cmplx</th>\n",
       "      <th>apt_avg_space</th>\n",
       "      <th>apt_avg_price</th>\n",
       "      <th>inc_monthly_avg</th>\n",
       "      <th>...</th>\n",
       "      <th>no_of_BUS</th>\n",
       "      <th>sales_per_store.1</th>\n",
       "      <th>sales</th>\n",
       "      <th>day_rate</th>\n",
       "      <th>female_rate</th>\n",
       "      <th>prop_06_11</th>\n",
       "      <th>prop_11_14</th>\n",
       "      <th>prop_14_17</th>\n",
       "      <th>prop_17_21</th>\n",
       "      <th>prop_21_24</th>\n",
       "    </tr>\n",
       "  </thead>\n",
       "  <tbody>\n",
       "  </tbody>\n",
       "</table>\n",
       "<p>0 rows × 33 columns</p>\n",
       "</div>"
      ],
      "text/plain": [
       "Empty DataFrame\n",
       "Columns: [year, quarter, district, code, workpop, floatpop, apt_no_of_cmplx, apt_avg_space, apt_avg_price, inc_monthly_avg, expnd_total, sales_per_store, no_of_store, opening_rate, closing_rate, no_of_franch_store, no_of_gov_office, no_of_bank, no_of_pharm, no_of_dept_store, no_of_theartre, no_of_accom, no_of_STA, no_of_BUS, sales_per_store.1, sales, day_rate, female_rate, prop_06_11, prop_11_14, prop_14_17, prop_17_21, prop_21_24]\n",
       "Index: []\n",
       "\n",
       "[0 rows x 33 columns]"
      ]
     },
     "execution_count": 20,
     "metadata": {},
     "output_type": "execute_result"
    }
   ],
   "source": [
    "df_result=pd.merge(df_result,df_female_rate, on=['year', 'quarter', 'district', 'code', 'sales'])\n",
    "df_result[df_result['sales'].isnull()] # sales가 없는(잘못 merge된) 행이 있는지 확인"
   ]
  },
  {
   "cell_type": "code",
   "execution_count": 28,
   "metadata": {},
   "outputs": [],
   "source": [
    "df_result = df_result.drop(columns=['sales_per_store.1']) #중복된 칼럼 제거"
   ]
  },
  {
   "cell_type": "code",
   "execution_count": 29,
   "metadata": {},
   "outputs": [
    {
     "data": {
      "text/plain": [
       "Index(['year', 'quarter', 'district', 'code', 'workpop', 'floatpop',\n",
       "       'apt_no_of_cmplx', 'apt_avg_space', 'apt_avg_price', 'inc_monthly_avg',\n",
       "       'expnd_total', 'sales_per_store', 'no_of_store', 'opening_rate',\n",
       "       'closing_rate', 'no_of_franch_store', 'no_of_gov_office', 'no_of_bank',\n",
       "       'no_of_pharm', 'no_of_dept_store', 'no_of_theartre', 'no_of_accom',\n",
       "       'no_of_STA', 'no_of_BUS', 'sales', 'day_rate', 'female_rate',\n",
       "       'prop_06_11', 'prop_11_14', 'prop_14_17', 'prop_17_21', 'prop_21_24'],\n",
       "      dtype='object')"
      ]
     },
     "execution_count": 29,
     "metadata": {},
     "output_type": "execute_result"
    }
   ],
   "source": [
    "df_result.columns"
   ]
  },
  {
   "cell_type": "code",
   "execution_count": 30,
   "metadata": {},
   "outputs": [],
   "source": [
    "#저장\n",
    "df_result.to_csv(\"df_result.csv\", sep=\",\", encoding = 'euc-kr', index=False)"
   ]
  },
  {
   "cell_type": "code",
   "execution_count": null,
   "metadata": {},
   "outputs": [],
   "source": []
  }
 ],
 "metadata": {
  "kernelspec": {
   "display_name": "Python 3",
   "language": "python",
   "name": "python3"
  },
  "language_info": {
   "codemirror_mode": {
    "name": "ipython",
    "version": 3
   },
   "file_extension": ".py",
   "mimetype": "text/x-python",
   "name": "python",
   "nbconvert_exporter": "python",
   "pygments_lexer": "ipython3",
   "version": "3.7.4"
  }
 },
 "nbformat": 4,
 "nbformat_minor": 2
}
