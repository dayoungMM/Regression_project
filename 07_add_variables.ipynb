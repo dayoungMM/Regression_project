{
 "cells": [
  {
   "cell_type": "code",
   "execution_count": 1,
   "metadata": {},
   "outputs": [],
   "source": [
    "#데이터 로드\n",
    "b_df = pd.read_csv(\"baehu_result.csv\", encoding='euc-kr' )\n",
    "b_apt = pd.read_csv(\"b_apt.csv\", encoding='utf-8' )\n",
    "sales = pd.read_csv(\"sales_rate.csv\", encoding='euc-kr' )"
   ]
  },
  {
   "cell_type": "markdown",
   "metadata": {},
   "source": [
    "#### 1. 매출 데이터 rate변수들 생성"
   ]
  },
  {
   "cell_type": "code",
   "execution_count": 2,
   "metadata": {},
   "outputs": [
    {
     "data": {
      "text/html": [
       "<div>\n",
       "<style scoped>\n",
       "    .dataframe tbody tr th:only-of-type {\n",
       "        vertical-align: middle;\n",
       "    }\n",
       "\n",
       "    .dataframe tbody tr th {\n",
       "        vertical-align: top;\n",
       "    }\n",
       "\n",
       "    .dataframe thead th {\n",
       "        text-align: right;\n",
       "    }\n",
       "</style>\n",
       "<table border=\"1\" class=\"dataframe\">\n",
       "  <thead>\n",
       "    <tr style=\"text-align: right;\">\n",
       "      <th></th>\n",
       "      <th>기준_년_코드</th>\n",
       "      <th>기준_분기_코드</th>\n",
       "      <th>상권_코드</th>\n",
       "      <th>서비스_업종_코드</th>\n",
       "      <th>당월_매출_금액</th>\n",
       "      <th>day_sales</th>\n",
       "      <th>weekend_sale</th>\n",
       "      <th>남성_매출_금액</th>\n",
       "      <th>여성_매출_금액</th>\n",
       "      <th>Age_2040</th>\n",
       "      <th>Age_total</th>\n",
       "    </tr>\n",
       "  </thead>\n",
       "  <tbody>\n",
       "    <tr>\n",
       "      <th>140649</th>\n",
       "      <td>2018</td>\n",
       "      <td>4</td>\n",
       "      <td>1001496</td>\n",
       "      <td>CS300017</td>\n",
       "      <td>188774483.0</td>\n",
       "      <td>136759824</td>\n",
       "      <td>52014659</td>\n",
       "      <td>130241991</td>\n",
       "      <td>58532492</td>\n",
       "      <td>102869145</td>\n",
       "      <td>188774483</td>\n",
       "    </tr>\n",
       "  </tbody>\n",
       "</table>\n",
       "</div>"
      ],
      "text/plain": [
       "        기준_년_코드  기준_분기_코드    상권_코드 서비스_업종_코드     당월_매출_금액  day_sales  \\\n",
       "140649     2018         4  1001496  CS300017  188774483.0  136759824   \n",
       "\n",
       "        weekend_sale   남성_매출_금액  여성_매출_금액   Age_2040  Age_total  \n",
       "140649      52014659  130241991  58532492  102869145  188774483  "
      ]
     },
     "execution_count": 2,
     "metadata": {},
     "output_type": "execute_result"
    }
   ],
   "source": [
    "sales.tail(1)"
   ]
  },
  {
   "cell_type": "code",
   "execution_count": 3,
   "metadata": {},
   "outputs": [
    {
     "data": {
      "text/plain": [
       "Index(['기준_년_코드', '기준_분기_코드', '상권_코드', '서비스_업종_코드', '당월_매출_금액', 'day_sales',\n",
       "       'weekend_sale', '남성_매출_금액', '여성_매출_금액', 'Age_2040', 'Age_total'],\n",
       "      dtype='object')"
      ]
     },
     "execution_count": 3,
     "metadata": {},
     "output_type": "execute_result"
    }
   ],
   "source": [
    "sales.columns"
   ]
  },
  {
   "cell_type": "code",
   "execution_count": 4,
   "metadata": {},
   "outputs": [
    {
     "data": {
      "text/html": [
       "<div>\n",
       "<style scoped>\n",
       "    .dataframe tbody tr th:only-of-type {\n",
       "        vertical-align: middle;\n",
       "    }\n",
       "\n",
       "    .dataframe tbody tr th {\n",
       "        vertical-align: top;\n",
       "    }\n",
       "\n",
       "    .dataframe thead th {\n",
       "        text-align: right;\n",
       "    }\n",
       "</style>\n",
       "<table border=\"1\" class=\"dataframe\">\n",
       "  <thead>\n",
       "    <tr style=\"text-align: right;\">\n",
       "      <th></th>\n",
       "      <th>기준_년_코드</th>\n",
       "      <th>상권_코드</th>\n",
       "      <th>서비스_업종_코드</th>\n",
       "      <th>당월_매출_금액</th>\n",
       "      <th>day/weekend</th>\n",
       "      <th>female/male</th>\n",
       "      <th>2030_rate</th>\n",
       "    </tr>\n",
       "  </thead>\n",
       "  <tbody>\n",
       "    <tr>\n",
       "      <th>140648</th>\n",
       "      <td>2018</td>\n",
       "      <td>1001496</td>\n",
       "      <td>CS300016</td>\n",
       "      <td>2.291867e+09</td>\n",
       "      <td>1.644081</td>\n",
       "      <td>2.244353</td>\n",
       "      <td>0.473024</td>\n",
       "    </tr>\n",
       "    <tr>\n",
       "      <th>140649</th>\n",
       "      <td>2018</td>\n",
       "      <td>1001496</td>\n",
       "      <td>CS300017</td>\n",
       "      <td>1.887745e+08</td>\n",
       "      <td>2.629255</td>\n",
       "      <td>0.449413</td>\n",
       "      <td>0.544931</td>\n",
       "    </tr>\n",
       "  </tbody>\n",
       "</table>\n",
       "</div>"
      ],
      "text/plain": [
       "        기준_년_코드    상권_코드 서비스_업종_코드      당월_매출_금액  day/weekend  female/male  \\\n",
       "140648     2018  1001496  CS300016  2.291867e+09     1.644081     2.244353   \n",
       "140649     2018  1001496  CS300017  1.887745e+08     2.629255     0.449413   \n",
       "\n",
       "        2030_rate  \n",
       "140648   0.473024  \n",
       "140649   0.544931  "
      ]
     },
     "execution_count": 4,
     "metadata": {},
     "output_type": "execute_result"
    }
   ],
   "source": [
    "sales['day/weekend'] = sales['day_sales']/sales[\"weekend_sale\"]\n",
    "sales['female/male'] = sales['여성_매출_금액']/ sales['남성_매출_금액']\n",
    "sales['2030_rate'] = sales['Age_2040']/sales['Age_total']\n",
    "sales[['기준_년_코드', '상권_코드', '서비스_업종_코드', '당월_매출_금액','day/weekend','female/male','2030_rate']].tail(2)\n",
    "# sales[sales.duplicated(['기준_년_코드', '기준_분기_코드','상권_코드','서비스_업종_코드'])]   #중복 있는지 확인"
   ]
  },
  {
   "cell_type": "markdown",
   "metadata": {},
   "source": [
    "#### 2. 아파트 데이터 가져오기"
   ]
  },
  {
   "cell_type": "code",
   "execution_count": 6,
   "metadata": {},
   "outputs": [
    {
     "data": {
      "text/plain": [
       "Index(['기준_년_코드', '기준_분기_코드', '상권_코드', '아파트_단지_수', '아파트_평균_면적', '아파트_평균_시가'], dtype='object')"
      ]
     },
     "execution_count": 6,
     "metadata": {},
     "output_type": "execute_result"
    }
   ],
   "source": [
    "b_apt.columns"
   ]
  },
  {
   "cell_type": "code",
   "execution_count": 8,
   "metadata": {},
   "outputs": [
    {
     "data": {
      "text/html": [
       "<div>\n",
       "<style scoped>\n",
       "    .dataframe tbody tr th:only-of-type {\n",
       "        vertical-align: middle;\n",
       "    }\n",
       "\n",
       "    .dataframe tbody tr th {\n",
       "        vertical-align: top;\n",
       "    }\n",
       "\n",
       "    .dataframe thead th {\n",
       "        text-align: right;\n",
       "    }\n",
       "</style>\n",
       "<table border=\"1\" class=\"dataframe\">\n",
       "  <thead>\n",
       "    <tr style=\"text-align: right;\">\n",
       "      <th></th>\n",
       "      <th>기준_년_코드</th>\n",
       "      <th>기준_분기_코드</th>\n",
       "      <th>상권_코드</th>\n",
       "      <th>아파트_단지_수</th>\n",
       "      <th>아파트_평균_면적</th>\n",
       "      <th>아파트_평균_시가</th>\n",
       "      <th>APT평균시가/단지수</th>\n",
       "      <th>APT평균시가/평균평수</th>\n",
       "    </tr>\n",
       "  </thead>\n",
       "  <tbody>\n",
       "    <tr>\n",
       "      <th>4033</th>\n",
       "      <td>2018</td>\n",
       "      <td>1</td>\n",
       "      <td>1000239</td>\n",
       "      <td>133</td>\n",
       "      <td>57</td>\n",
       "      <td>120515441</td>\n",
       "      <td>9.061311e+05</td>\n",
       "      <td>6.977210e+06</td>\n",
       "    </tr>\n",
       "    <tr>\n",
       "      <th>4034</th>\n",
       "      <td>2018</td>\n",
       "      <td>1</td>\n",
       "      <td>1000240</td>\n",
       "      <td>59</td>\n",
       "      <td>65</td>\n",
       "      <td>169612642</td>\n",
       "      <td>2.874791e+06</td>\n",
       "      <td>8.611103e+06</td>\n",
       "    </tr>\n",
       "    <tr>\n",
       "      <th>4035</th>\n",
       "      <td>2018</td>\n",
       "      <td>1</td>\n",
       "      <td>1000241</td>\n",
       "      <td>140</td>\n",
       "      <td>58</td>\n",
       "      <td>152445482</td>\n",
       "      <td>1.088896e+06</td>\n",
       "      <td>8.673622e+06</td>\n",
       "    </tr>\n",
       "  </tbody>\n",
       "</table>\n",
       "</div>"
      ],
      "text/plain": [
       "      기준_년_코드  기준_분기_코드    상권_코드  아파트_단지_수  아파트_평균_면적  아파트_평균_시가  \\\n",
       "4033     2018         1  1000239       133         57  120515441   \n",
       "4034     2018         1  1000240        59         65  169612642   \n",
       "4035     2018         1  1000241       140         58  152445482   \n",
       "\n",
       "       APT평균시가/단지수  APT평균시가/평균평수  \n",
       "4033  9.061311e+05  6.977210e+06  \n",
       "4034  2.874791e+06  8.611103e+06  \n",
       "4035  1.088896e+06  8.673622e+06  "
      ]
     },
     "execution_count": 8,
     "metadata": {},
     "output_type": "execute_result"
    }
   ],
   "source": [
    "b_apt['APT평균시가/단지수'] = b_apt['아파트_평균_시가']/ b_apt['아파트_단지_수']\n",
    "b_apt['APT평균시가/평균평수'] = b_apt['아파트_평균_시가']/ (b_apt['아파트_평균_면적']/3.3)\n",
    "b_apt.tail(3)"
   ]
  },
  {
   "cell_type": "code",
   "execution_count": null,
   "metadata": {},
   "outputs": [],
   "source": [
    "#매출 데이터 또는 이미 merge된 데이터와 merge\n",
    "df=pd.merge(df, store_merge.name, on=['기준_년_코드', '기준_분기_코드', '상권_코드','서비스_업종_코드'])"
   ]
  },
  {
   "cell_type": "code",
   "execution_count": null,
   "metadata": {},
   "outputs": [],
   "source": [
    "df.tail()"
   ]
  },
  {
   "cell_type": "code",
   "execution_count": null,
   "metadata": {},
   "outputs": [],
   "source": [
    "#저장\n",
    "df.to_csv(\"sang_df.csv\", sep=\",\", encoding = 'euc-kr', index=False)"
   ]
  },
  {
   "cell_type": "markdown",
   "metadata": {},
   "source": [
    "#### merge 결과"
   ]
  },
  {
   "cell_type": "code",
   "execution_count": null,
   "metadata": {},
   "outputs": [],
   "source": [
    "#read\n",
    "b_df = pd.read_csv(\"baehu_df.csv\", encoding='euc-kr' )\n",
    "b_df.tail()"
   ]
  },
  {
   "cell_type": "code",
   "execution_count": null,
   "metadata": {},
   "outputs": [],
   "source": []
  }
 ],
 "metadata": {
  "kernelspec": {
   "display_name": "Python 3",
   "language": "python",
   "name": "python3"
  },
  "language_info": {
   "codemirror_mode": {
    "name": "ipython",
    "version": 3
   },
   "file_extension": ".py",
   "mimetype": "text/x-python",
   "name": "python",
   "nbconvert_exporter": "python",
   "pygments_lexer": "ipython3",
   "version": "3.7.3"
  }
 },
 "nbformat": 4,
 "nbformat_minor": 2
}
